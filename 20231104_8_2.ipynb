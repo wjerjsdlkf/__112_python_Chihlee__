{
 "cells": [
  {
   "cell_type": "code",
   "execution_count": null,
   "metadata": {},
   "outputs": [],
   "source": [
    "# 安裝  pip install requests\n",
    "# 建檔  requirements.txt --> 用來記錄安裝了那些套件\n",
    "#一次安裝全部的套件  pip install -r requirements.txt\n",
    "#說明書 https://requests.readthedocs.io/en/latest/api/\n",
    "import requests"
   ]
  }
 ],
 "metadata": {
  "language_info": {
   "name": "python"
  }
 },
 "nbformat": 4,
 "nbformat_minor": 2
}
