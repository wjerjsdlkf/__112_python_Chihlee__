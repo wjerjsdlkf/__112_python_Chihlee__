{
 "cells": [
  {
   "cell_type": "code",
   "execution_count": 2,
   "metadata": {},
   "outputs": [
    {
     "name": "stdout",
     "output_type": "stream",
     "text": [
      "\n",
      "<!DOCTYPE html>\n",
      "\n",
      "<html lang=\"zh_TW\">\n",
      "  <head>\n",
      "    <meta charset=\"utf-8\" />\n",
      "    <meta name=\"viewport\" content=\"width=device-width, initial-scale=1.0\" /><meta name=\"generator\" content=\"Docutils 0.17.1: http://docutils.sourceforge.net/\" />\n",
      "<meta property=\"og:title\" content=\"å§å»ºå½å¼\" />\n",
      "<meta property=\"og:type\" content=\"website\" />\n",
      "<meta property=\"og:url\" content=\"https://docs.python.org/3/library/functions.html\" />\n",
      "<meta property=\"og:site_name\" content=\"Python documentation\" />\n",
      "<meta property=\"og:description\" content=\"Python ç´è­¯å¨æå§å»ºå¤åå¯é¨æä½¿ç¨çå½å¼ååå¥ãä»¥ä¸æç§è±æå­æ¯æåºååºã,,,, å§å»ºå½å¼,,, A, abs(), aiter(), all(), anext(), any(), ascii(),, B, bin(), bool(), breakpoint(), bytearray(), bytes(),, C, callable(), chr(), classmethod(), ...\" />\n",
      "<meta property=\"og:image\" content=\"https://docs.python.org/3/_static/og-image.png\" />\n",
      "<meta property=\"og:image:alt\" content=\"Python documentation\" />\n",
      "<meta name=\"description\" content=\"Python ç´è­¯å¨æå§å»ºå¤åå¯é¨æä½¿ç¨çå½å¼ååå¥ãä»¥ä¸æç§è±æå­æ¯æåºååºã,,,, å§å»ºå½å¼,,, A, abs(), aiter(), all(), anext(), any(), ascii(),, B, bin(), bool(), breakpoint(), bytearray(), bytes(),, C, callable(), chr(), classmethod(), ...\" />\n",
      "<meta property=\"og:image:width\" content=\"200\" />\n",
      "<meta property=\"og:image:height\" content=\"200\" />\n",
      "<meta name=\"theme-color\" content=\"#3776ab\" />\n",
      "\n",
      "    <title>å§å»ºå½å¼ &#8212; Python 3.12.0 èªªææä»¶</title><meta name=\"viewport\" content=\"width=device-width, initial-scale=1.0\">\n",
      "    \n",
      "    <link rel=\"stylesheet\" type=\"text/css\" href=\"../_static/pygments.css\" />\n",
      "    <link rel=\"stylesheet\" type=\"text/css\" href=\"../_static/pydoctheme.css?digest=b37c26da2f7529d09fe70b41c4b2133fe4931a90\" />\n",
      "    <link id=\"pygments_dark_css\" media=\"(prefers-color-scheme: dark)\" rel=\"stylesheet\" type=\"text/css\" href=\"../_static/pygments_dark.css\" />\n",
      "    \n",
      "    <script data-url_root=\"../\" id=\"documentation_options\" src=\"../_static/documentation_options.js\"></script>\n",
      "    <script src=\"../_static/jquery.js\"></script>\n",
      "    <script src=\"../_static/underscore.js\"></script>\n",
      "    <script src=\"../_static/doctools.js\"></script>\n",
      "    <script src=\"../_static/translations.js\"></script>\n",
      "    \n",
      "    <script src=\"../_static/sidebar.js\"></script>\n",
      "    \n",
      "    <link rel=\"search\" type=\"application/opensearchdescription+xml\"\n",
      "          title=\"å¨ Python 3.12.0 èªªææä»¶ ä¸­æå°\"\n",
      "          href=\"../_static/opensearch.xml\"/>\n",
      "    <link rel=\"author\" title=\"éæ¼éäºæä»¶\" href=\"../about.html\" />\n",
      "    <link rel=\"index\" title=\"ç´¢å¼\" href=\"../genindex.html\" />\n",
      "    <link rel=\"search\" title=\"æå°\" href=\"../search.html\" />\n",
      "    <link rel=\"copyright\" title=\"çæ¬\" href=\"../copyright.html\" />\n",
      "    <link rel=\"next\" title=\"å§å»ºå¸¸æ¸\" href=\"constants.html\" />\n",
      "    <link rel=\"prev\" title=\"ç°¡ä»\" href=\"intro.html\" />\n",
      "    <link rel=\"canonical\" href=\"https://docs.python.org/3/library/functions.html\" />\n",
      "    \n",
      "      \n",
      "    \n",
      "\n",
      "    \n",
      "    <style>\n",
      "      @media only screen {\n",
      "        table.full-width-table {\n",
      "            width: 100%;\n",
      "        }\n",
      "      }\n",
      "    </style>\n",
      "<link rel=\"stylesheet\" href=\"../_static/pydoctheme_dark.css\" media=\"(prefers-color-scheme: dark)\" id=\"pydoctheme_dark_css\">\n",
      "    <link rel=\"shortcut icon\" type=\"image/png\" href=\"../_static/py.svg\" />\n",
      "            <script type=\"text/javascript\" src=\"../_static/copybutton.js\"></script>\n",
      "            <script type=\"text/javascript\" src=\"../_static/menu.js\"></script>\n",
      "            <script type=\"text/javascript\" src=\"../_static/search-focus.js\"></script>\n",
      "            <script type=\"text/javascript\" src=\"../_static/themetoggle.js\"></script> \n",
      "\n",
      "  </head>\n",
      "<body>\n",
      "<div class=\"mobile-nav\">\n",
      "    <input type=\"checkbox\" id=\"menuToggler\" class=\"toggler__input\" aria-controls=\"navigation\"\n",
      "           aria-pressed=\"false\" aria-expanded=\"false\" role=\"button\" aria-label=\"Menu\" />\n",
      "    <nav class=\"nav-content\" role=\"navigation\">\n",
      "        <label for=\"menuToggler\" class=\"toggler__label\">\n",
      "            <span></span>\n",
      "        </label>\n",
      "        <span class=\"nav-items-wrapper\">\n",
      "            <a href=\"https://www.python.org/\" class=\"nav-logo\">\n",
      "                <img src=\"../_static/py.svg\" alt=\"Logo\"/>\n",
      "            </a>\n",
      "            <span class=\"version_switcher_placeholder\"></span>\n",
      "            <form role=\"search\" class=\"search\" action=\"../search.html\" method=\"get\">\n",
      "                <svg xmlns=\"http://www.w3.org/2000/svg\" width=\"20\" height=\"20\" viewBox=\"0 0 24 24\" class=\"search-icon\">\n",
      "                    <path fill-rule=\"nonzero\" fill=\"currentColor\" d=\"M15.5 14h-.79l-.28-.27a6.5 6.5 0 001.48-5.34c-.47-2.78-2.79-5-5.59-5.34a6.505 6.505 0 00-7.27 7.27c.34 2.8 2.56 5.12 5.34 5.59a6.5 6.5 0 005.34-1.48l.27.28v.79l4.25 4.25c.41.41 1.08.41 1.49 0 .41-.41.41-1.08 0-1.49L15.5 14zm-6 0C7.01 14 5 11.99 5 9.5S7.01 5 9.5 5 14 7.01 14 9.5 11.99 14 9.5 14z\"></path>\n",
      "                </svg>\n",
      "                <input placeholder=\"å¿«éæå°\" aria-label=\"å¿«éæå°\" type=\"search\" name=\"q\" />\n",
      "                <input type=\"submit\" value=\"åå¾\"/>\n",
      "            </form>\n",
      "        </span>\n",
      "    </nav>\n",
      "    <div class=\"menu-wrapper\">\n",
      "        <nav class=\"menu\" role=\"navigation\" aria-label=\"main navigation\">\n",
      "            <div class=\"language_switcher_placeholder\"></div>\n",
      "            \n",
      "<label class=\"theme-selector-label\">\n",
      "    Theme\n",
      "    <select class=\"theme-selector\" oninput=\"activateTheme(this.value)\">\n",
      "        <option value=\"auto\" selected>Auto</option>\n",
      "        <option value=\"light\">Light</option>\n",
      "        <option value=\"dark\">Dark</option>\n",
      "    </select>\n",
      "</label>\n",
      "  <div>\n",
      "    <h4>ä¸åä¸»é¡</h4>\n",
      "    <p class=\"topless\"><a href=\"intro.html\"\n",
      "                          title=\"ä¸ä¸ç« \">ç°¡ä»</a></p>\n",
      "  </div>\n",
      "  <div>\n",
      "    <h4>ä¸åä¸»é¡</h4>\n",
      "    <p class=\"topless\"><a href=\"constants.html\"\n",
      "                          title=\"ä¸ä¸ç« \">å§å»ºå¸¸æ¸</a></p>\n",
      "  </div>\n",
      "  <div role=\"note\" aria-label=\"source link\">\n",
      "    <h3>æ­¤é é¢</h3>\n",
      "    <ul class=\"this-page-menu\">\n",
      "      <li><a href=\"../bugs.html\">åå ±é¯èª¤</a></li>\n",
      "      <li>\n",
      "        <a href=\"https://github.com/python/cpython/blob/main/Doc/library/functions.rst\"\n",
      "            rel=\"nofollow\">é¡¯ç¤ºåå§ç¢¼\n",
      "        </a>\n",
      "      </li>\n",
      "    </ul>\n",
      "  </div>\n",
      "        </nav>\n",
      "    </div>\n",
      "</div>\n",
      "\n",
      "  \n",
      "    <div class=\"related\" role=\"navigation\" aria-label=\"related navigation\">\n",
      "      <h3>çè¦½</h3>\n",
      "      <ul>\n",
      "        <li class=\"right\" style=\"margin-right: 10px\">\n",
      "          <a href=\"../genindex.html\" title=\"ç¸½ç´¢å¼\"\n",
      "             accesskey=\"I\">ç´¢å¼</a></li>\n",
      "        <li class=\"right\" >\n",
      "          <a href=\"../py-modindex.html\" title=\"Python æ¨¡çµç´¢å¼\"\n",
      "             >æ¨¡çµ</a> |</li>\n",
      "        <li class=\"right\" >\n",
      "          <a href=\"constants.html\" title=\"å§å»ºå¸¸æ¸\"\n",
      "             accesskey=\"N\">ä¸ä¸é </a> |</li>\n",
      "        <li class=\"right\" >\n",
      "          <a href=\"intro.html\" title=\"ç°¡ä»\"\n",
      "             accesskey=\"P\">ä¸ä¸é </a> |</li>\n",
      "\n",
      "          <li><img src=\"../_static/py.svg\" alt=\"python logo\" style=\"vertical-align: middle; margin-top: -1px\"/></li>\n",
      "          <li><a href=\"https://www.python.org/\">Python</a> &#187;</li>\n",
      "          <li class=\"switchers\">\n",
      "            <div class=\"language_switcher_placeholder\"></div>\n",
      "            <div class=\"version_switcher_placeholder\"></div>\n",
      "          </li>\n",
      "          <li>\n",
      "              \n",
      "          </li>\n",
      "    <li id=\"cpython-language-and-version\">\n",
      "      <a href=\"../index.html\">3.12.0 Documentation</a> &#187;\n",
      "    </li>\n",
      "\n",
      "          <li class=\"nav-item nav-item-1\"><a href=\"index.html\" accesskey=\"U\">Python æ¨æºå½å¼åº« (Standard Library)</a> &#187;</li>\n",
      "        <li class=\"nav-item nav-item-this\"><a href=\"\">å§å»ºå½å¼</a></li>\n",
      "                <li class=\"right\">\n",
      "                    \n",
      "\n",
      "    <div class=\"inline-search\" role=\"search\">\n",
      "        <form class=\"inline-search\" action=\"../search.html\" method=\"get\">\n",
      "          <input placeholder=\"å¿«éæå°\" aria-label=\"å¿«éæå°\" type=\"search\" name=\"q\" id=\"search-box\" />\n",
      "          <input type=\"submit\" value=\"åå¾\" />\n",
      "        </form>\n",
      "    </div>\n",
      "                     |\n",
      "                </li>\n",
      "            <li class=\"right\">\n",
      "<label class=\"theme-selector-label\">\n",
      "    Theme\n",
      "    <select class=\"theme-selector\" oninput=\"activateTheme(this.value)\">\n",
      "        <option value=\"auto\" selected>Auto</option>\n",
      "        <option value=\"light\">Light</option>\n",
      "        <option value=\"dark\">Dark</option>\n",
      "    </select>\n",
      "</label> |</li>\n",
      "            \n",
      "      </ul>\n",
      "    </div>    \n",
      "\n",
      "    <div class=\"document\">\n",
      "      <div class=\"documentwrapper\">\n",
      "        <div class=\"bodywrapper\">\n",
      "          <div class=\"body\" role=\"main\">\n",
      "            \n",
      "  <section id=\"built-in-functions\">\n",
      "<span id=\"built-in-funcs\"></span><h1>å§å»ºå½å¼<a class=\"headerlink\" href=\"#built-in-functions\" title=\"æ¬æ¨é¡çæ°¸ä¹é£çµ\">Â¶</a></h1>\n",
      "<p>Python ç´è­¯å¨æå§å»ºå¤åå¯é¨æä½¿ç¨çå½å¼ååå¥ãä»¥ä¸æç§è±æå­æ¯æåºååºã</p>\n",
      "<table class=\"docutils align-default\">\n",
      "<colgroup>\n",
      "<col style=\"width: 26%\" />\n",
      "<col style=\"width: 24%\" />\n",
      "<col style=\"width: 24%\" />\n",
      "<col style=\"width: 26%\" />\n",
      "</colgroup>\n",
      "<thead>\n",
      "<tr class=\"row-odd\"><th class=\"head\" colspan=\"4\"><p>å§å»ºå½å¼</p></th>\n",
      "</tr>\n",
      "</thead>\n",
      "<tbody>\n",
      "<tr class=\"row-even\"><td><div class=\"line-block\">\n",
      "<div class=\"line\"><strong>A</strong></div>\n",
      "<div class=\"line\"><a class=\"reference internal\" href=\"#abs\" title=\"abs\"><code class=\"xref py py-func docutils literal notranslate\"><span class=\"pre\">abs()</span></code></a></div>\n",
      "<div class=\"line\"><a class=\"reference internal\" href=\"#aiter\" title=\"aiter\"><code class=\"xref py py-func docutils literal notranslate\"><span class=\"pre\">aiter()</span></code></a></div>\n",
      "<div class=\"line\"><a class=\"reference internal\" href=\"#all\" title=\"all\"><code class=\"xref py py-func docutils literal notranslate\"><span class=\"pre\">all()</span></code></a></div>\n",
      "<div class=\"line\"><a class=\"reference internal\" href=\"#anext\" title=\"anext\"><code class=\"xref py py-func docutils literal notranslate\"><span class=\"pre\">anext()</span></code></a></div>\n",
      "<div class=\"line\"><a class=\"reference internal\" href=\"#any\" title=\"any\"><code class=\"xref py py-func docutils literal notranslate\"><span class=\"pre\">any()</span></code></a></div>\n",
      "<div class=\"line\"><a class=\"reference internal\" href=\"#ascii\" title=\"ascii\"><code class=\"xref py py-func docutils literal notranslate\"><span class=\"pre\">ascii()</span></code></a></div>\n",
      "<div class=\"line\"><br /></div>\n",
      "<div class=\"line\"><strong>B</strong></div>\n",
      "<div class=\"line\"><a class=\"reference internal\" href=\"#bin\" title=\"bin\"><code class=\"xref py py-func docutils literal notranslate\"><span class=\"pre\">bin()</span></code></a></div>\n",
      "<div class=\"line\"><a class=\"reference internal\" href=\"#bool\" title=\"bool\"><code class=\"xref py py-func docutils literal notranslate\"><span class=\"pre\">bool()</span></code></a></div>\n",
      "<div class=\"line\"><a class=\"reference internal\" href=\"#breakpoint\" title=\"breakpoint\"><code class=\"xref py py-func docutils literal notranslate\"><span class=\"pre\">breakpoint()</span></code></a></div>\n",
      "<div class=\"line\"><a class=\"reference internal\" href=\"#func-bytearray\"><code class=\"docutils literal notranslate\"><span class=\"pre\">bytearray()</span></code></a></div>\n",
      "<div class=\"line\"><a class=\"reference internal\" href=\"#func-bytes\"><code class=\"docutils literal notranslate\"><span class=\"pre\">bytes()</span></code></a></div>\n",
      "<div class=\"line\"><br /></div>\n",
      "<div class=\"line\"><strong>C</strong></div>\n",
      "<div class=\"line\"><a class=\"reference internal\" href=\"#callable\" title=\"callable\"><code class=\"xref py py-func docutils literal notranslate\"><span class=\"pre\">callable()</span></code></a></div>\n",
      "<div class=\"line\"><a class=\"reference internal\" href=\"#chr\" title=\"chr\"><code class=\"xref py py-func docutils literal notranslate\"><span class=\"pre\">chr()</span></code></a></div>\n",
      "<div class=\"line\"><a class=\"reference internal\" href=\"#classmethod\" title=\"classmethod\"><code class=\"xref py py-func docutils literal notranslate\"><span class=\"pre\">classmethod()</span></code></a></div>\n",
      "<div class=\"line\"><a class=\"reference internal\" href=\"#compile\" title=\"compile\"><code class=\"xref py py-func docutils literal notranslate\"><span class=\"pre\">compile()</span></code></a></div>\n",
      "<div class=\"line\"><a class=\"reference internal\" href=\"#complex\" title=\"complex\"><code class=\"xref py py-func docutils literal notranslate\"><span class=\"pre\">complex()</span></code></a></div>\n",
      "<div class=\"line\"><br /></div>\n",
      "<div class=\"line\"><strong>D</strong></div>\n",
      "<div class=\"line\"><a class=\"reference internal\" href=\"#delattr\" title=\"delattr\"><code class=\"xref py py-func docutils literal notranslate\"><span class=\"pre\">delattr()</span></code></a></div>\n",
      "<div class=\"line\"><a class=\"reference internal\" href=\"#func-dict\"><code class=\"docutils literal notranslate\"><span class=\"pre\">dict()</span></code></a></div>\n",
      "<div class=\"line\"><a class=\"reference internal\" href=\"#dir\" title=\"dir\"><code class=\"xref py py-func docutils literal notranslate\"><span class=\"pre\">dir()</span></code></a></div>\n",
      "<div class=\"line\"><a class=\"reference internal\" href=\"#divmod\" title=\"divmod\"><code class=\"xref py py-func docutils literal notranslate\"><span class=\"pre\">divmod()</span></code></a></div>\n",
      "<div class=\"line\"><br /></div>\n",
      "</div>\n",
      "</td>\n",
      "<td><div class=\"line-block\">\n",
      "<div class=\"line\"><strong>E</strong></div>\n",
      "<div class=\"line\"><a class=\"reference internal\" href=\"#enumerate\" title=\"enumerate\"><code class=\"xref py py-func docutils literal notranslate\"><span class=\"pre\">enumerate()</span></code></a></div>\n",
      "<div class=\"line\"><a class=\"reference internal\" href=\"#eval\" title=\"eval\"><code class=\"xref py py-func docutils literal notranslate\"><span class=\"pre\">eval()</span></code></a></div>\n",
      "<div class=\"line\"><a class=\"reference internal\" href=\"#exec\" title=\"exec\"><code class=\"xref py py-func docutils literal notranslate\"><span class=\"pre\">exec()</span></code></a></div>\n",
      "<div class=\"line\"><br /></div>\n",
      "<div class=\"line\"><strong>F</strong></div>\n",
      "<div class=\"line\"><a class=\"reference internal\" href=\"#filter\" title=\"filter\"><code class=\"xref py py-func docutils literal notranslate\"><span class=\"pre\">filter()</span></code></a></div>\n",
      "<div class=\"line\"><a class=\"reference internal\" href=\"#float\" title=\"float\"><code class=\"xref py py-func docutils literal notranslate\"><span class=\"pre\">float()</span></code></a></div>\n",
      "<div class=\"line\"><a class=\"reference internal\" href=\"#format\" title=\"format\"><code class=\"xref py py-func docutils literal notranslate\"><span class=\"pre\">format()</span></code></a></div>\n",
      "<div class=\"line\"><a class=\"reference internal\" href=\"#func-frozenset\"><code class=\"docutils literal notranslate\"><span class=\"pre\">frozenset()</span></code></a></div>\n",
      "<div class=\"line\"><br /></div>\n",
      "<div class=\"line\"><strong>G</strong></div>\n",
      "<div class=\"line\"><a class=\"reference internal\" href=\"#getattr\" title=\"getattr\"><code class=\"xref py py-func docutils literal notranslate\"><span class=\"pre\">getattr()</span></code></a></div>\n",
      "<div class=\"line\"><a class=\"reference internal\" href=\"#globals\" title=\"globals\"><code class=\"xref py py-func docutils literal notranslate\"><span class=\"pre\">globals()</span></code></a></div>\n",
      "<div class=\"line\"><br /></div>\n",
      "<div class=\"line\"><strong>H</strong></div>\n",
      "<div class=\"line\"><a class=\"reference internal\" href=\"#hasattr\" title=\"hasattr\"><code class=\"xref py py-func docutils literal notranslate\"><span class=\"pre\">hasattr()</span></code></a></div>\n",
      "<div class=\"line\"><a class=\"reference internal\" href=\"#hash\" title=\"hash\"><code class=\"xref py py-func docutils literal notranslate\"><span class=\"pre\">hash()</span></code></a></div>\n",
      "<div class=\"line\"><a class=\"reference internal\" href=\"#help\" title=\"help\"><code class=\"xref py py-func docutils literal notranslate\"><span class=\"pre\">help()</span></code></a></div>\n",
      "<div class=\"line\"><a class=\"reference internal\" href=\"#hex\" title=\"hex\"><code class=\"xref py py-func docutils literal notranslate\"><span class=\"pre\">hex()</span></code></a></div>\n",
      "<div class=\"line\"><br /></div>\n",
      "<div class=\"line\"><strong>I</strong></div>\n",
      "<div class=\"line\"><a class=\"reference internal\" href=\"#id\" title=\"id\"><code class=\"xref py py-func docutils literal notranslate\"><span class=\"pre\">id()</span></code></a></div>\n",
      "<div class=\"line\"><a class=\"reference internal\" href=\"#input\" title=\"input\"><code class=\"xref py py-func docutils literal notranslate\"><span class=\"pre\">input()</span></code></a></div>\n",
      "<div class=\"line\"><a class=\"reference internal\" href=\"#int\" title=\"int\"><code class=\"xref py py-func docutils literal notranslate\"><span class=\"pre\">int()</span></code></a></div>\n",
      "<div class=\"line\"><a class=\"reference internal\" href=\"#isinstance\" title=\"isinstance\"><code class=\"xref py py-func docutils literal notranslate\"><span class=\"pre\">isinstance()</span></code></a></div>\n",
      "<div class=\"line\"><a class=\"reference internal\" href=\"#issubclass\" title=\"issubclass\"><code class=\"xref py py-func docutils literal notranslate\"><span class=\"pre\">issubclass()</span></code></a></div>\n",
      "<div class=\"line\"><a class=\"reference internal\" href=\"#iter\" title=\"iter\"><code class=\"xref py py-func docutils literal notranslate\"><span class=\"pre\">iter()</span></code></a></div>\n",
      "</div>\n",
      "</td>\n",
      "<td><div class=\"line-block\">\n",
      "<div class=\"line\"><strong>L</strong></div>\n",
      "<div class=\"line\"><a class=\"reference internal\" href=\"#len\" title=\"len\"><code class=\"xref py py-func docutils literal notranslate\"><span class=\"pre\">len()</span></code></a></div>\n",
      "<div class=\"line\"><a class=\"reference internal\" href=\"#func-list\"><code class=\"docutils literal notranslate\"><span class=\"pre\">list()</span></code></a></div>\n",
      "<div class=\"line\"><a class=\"reference internal\" href=\"#locals\" title=\"locals\"><code class=\"xref py py-func docutils literal notranslate\"><span class=\"pre\">locals()</span></code></a></div>\n",
      "<div class=\"line\"><br /></div>\n",
      "<div class=\"line\"><strong>M</strong></div>\n",
      "<div class=\"line\"><a class=\"reference internal\" href=\"#map\" title=\"map\"><code class=\"xref py py-func docutils literal notranslate\"><span class=\"pre\">map()</span></code></a></div>\n",
      "<div class=\"line\"><a class=\"reference internal\" href=\"#max\" title=\"max\"><code class=\"xref py py-func docutils literal notranslate\"><span class=\"pre\">max()</span></code></a></div>\n",
      "<div class=\"line\"><a class=\"reference internal\" href=\"#func-memoryview\"><code class=\"docutils literal notranslate\"><span class=\"pre\">memoryview()</span></code></a></div>\n",
      "<div class=\"line\"><a class=\"reference internal\" href=\"#min\" title=\"min\"><code class=\"xref py py-func docutils literal notranslate\"><span class=\"pre\">min()</span></code></a></div>\n",
      "<div class=\"line\"><br /></div>\n",
      "<div class=\"line\"><strong>N</strong></div>\n",
      "<div class=\"line\"><a class=\"reference internal\" href=\"#next\" title=\"next\"><code class=\"xref py py-func docutils literal notranslate\"><span class=\"pre\">next()</span></code></a></div>\n",
      "<div class=\"line\"><br /></div>\n",
      "<div class=\"line\"><strong>O</strong></div>\n",
      "<div class=\"line\"><a class=\"reference internal\" href=\"#object\" title=\"object\"><code class=\"xref py py-func docutils literal notranslate\"><span class=\"pre\">object()</span></code></a></div>\n",
      "<div class=\"line\"><a class=\"reference internal\" href=\"#oct\" title=\"oct\"><code class=\"xref py py-func docutils literal notranslate\"><span class=\"pre\">oct()</span></code></a></div>\n",
      "<div class=\"line\"><a class=\"reference internal\" href=\"#open\" title=\"open\"><code class=\"xref py py-func docutils literal notranslate\"><span class=\"pre\">open()</span></code></a></div>\n",
      "<div class=\"line\"><a class=\"reference internal\" href=\"#ord\" title=\"ord\"><code class=\"xref py py-func docutils literal notranslate\"><span class=\"pre\">ord()</span></code></a></div>\n",
      "<div class=\"line\"><br /></div>\n",
      "<div class=\"line\"><strong>P</strong></div>\n",
      "<div class=\"line\"><a class=\"reference internal\" href=\"#pow\" title=\"pow\"><code class=\"xref py py-func docutils literal notranslate\"><span class=\"pre\">pow()</span></code></a></div>\n",
      "<div class=\"line\"><a class=\"reference internal\" href=\"#print\" title=\"print\"><code class=\"xref py py-func docutils literal notranslate\"><span class=\"pre\">print()</span></code></a></div>\n",
      "<div class=\"line\"><a class=\"reference internal\" href=\"#property\" title=\"property\"><code class=\"xref py py-func docutils literal notranslate\"><span class=\"pre\">property()</span></code></a></div>\n",
      "<div class=\"line\"><br /></div>\n",
      "<div class=\"line\"><br /></div>\n",
      "<div class=\"line\"><br /></div>\n",
      "<div class=\"line\"><br /></div>\n",
      "</div>\n",
      "</td>\n",
      "<td><div class=\"line-block\">\n",
      "<div class=\"line\"><strong>R</strong></div>\n",
      "<div class=\"line\"><a class=\"reference internal\" href=\"#func-range\"><code class=\"docutils literal notranslate\"><span class=\"pre\">range()</span></code></a></div>\n",
      "<div class=\"line\"><a class=\"reference internal\" href=\"#repr\" title=\"repr\"><code class=\"xref py py-func docutils literal notranslate\"><span class=\"pre\">repr()</span></code></a></div>\n",
      "<div class=\"line\"><a class=\"reference internal\" href=\"#reversed\" title=\"reversed\"><code class=\"xref py py-func docutils literal notranslate\"><span class=\"pre\">reversed()</span></code></a></div>\n",
      "<div class=\"line\"><a class=\"reference internal\" href=\"#round\" title=\"round\"><code class=\"xref py py-func docutils literal notranslate\"><span class=\"pre\">round()</span></code></a></div>\n",
      "<div class=\"line\"><br /></div>\n",
      "<div class=\"line\"><strong>S</strong></div>\n",
      "<div class=\"line\"><a class=\"reference internal\" href=\"#func-set\"><code class=\"docutils literal notranslate\"><span class=\"pre\">set()</span></code></a></div>\n",
      "<div class=\"line\"><a class=\"reference internal\" href=\"#setattr\" title=\"setattr\"><code class=\"xref py py-func docutils literal notranslate\"><span class=\"pre\">setattr()</span></code></a></div>\n",
      "<div class=\"line\"><a class=\"reference internal\" href=\"#slice\" title=\"slice\"><code class=\"xref py py-func docutils literal notranslate\"><span class=\"pre\">slice()</span></code></a></div>\n",
      "<div class=\"line\"><a class=\"reference internal\" href=\"#sorted\" title=\"sorted\"><code class=\"xref py py-func docutils literal notranslate\"><span class=\"pre\">sorted()</span></code></a></div>\n",
      "<div class=\"line\"><a class=\"reference internal\" href=\"#staticmethod\" title=\"staticmethod\"><code class=\"xref py py-func docutils literal notranslate\"><span class=\"pre\">staticmethod()</span></code></a></div>\n",
      "<div class=\"line\"><a class=\"reference internal\" href=\"#func-str\"><code class=\"docutils literal notranslate\"><span class=\"pre\">str()</span></code></a></div>\n",
      "<div class=\"line\"><a class=\"reference internal\" href=\"#sum\" title=\"sum\"><code class=\"xref py py-func docutils literal notranslate\"><span class=\"pre\">sum()</span></code></a></div>\n",
      "<div class=\"line\"><a class=\"reference internal\" href=\"#super\" title=\"super\"><code class=\"xref py py-func docutils literal notranslate\"><span class=\"pre\">super()</span></code></a></div>\n",
      "<div class=\"line\"><br /></div>\n",
      "<div class=\"line\"><strong>T</strong></div>\n",
      "<div class=\"line\"><a class=\"reference internal\" href=\"#func-tuple\"><code class=\"docutils literal notranslate\"><span class=\"pre\">tuple()</span></code></a></div>\n",
      "<div class=\"line\"><a class=\"reference internal\" href=\"#type\" title=\"type\"><code class=\"xref py py-func docutils literal notranslate\"><span class=\"pre\">type()</span></code></a></div>\n",
      "<div class=\"line\"><br /></div>\n",
      "<div class=\"line\"><strong>V</strong></div>\n",
      "<div class=\"line\"><a class=\"reference internal\" href=\"#vars\" title=\"vars\"><code class=\"xref py py-func docutils literal notranslate\"><span class=\"pre\">vars()</span></code></a></div>\n",
      "<div class=\"line\"><br /></div>\n",
      "<div class=\"line\"><strong>Z</strong></div>\n",
      "<div class=\"line\"><a class=\"reference internal\" href=\"#zip\" title=\"zip\"><code class=\"xref py py-func docutils literal notranslate\"><span class=\"pre\">zip()</span></code></a></div>\n",
      "<div class=\"line\"><br /></div>\n",
      "<div class=\"line\"><strong>_</strong></div>\n",
      "<div class=\"line\"><a class=\"reference internal\" href=\"#import__\" title=\"__import__\"><code class=\"xref py py-func docutils literal notranslate\"><span class=\"pre\">__import__()</span></code></a></div>\n",
      "</div>\n",
      "</td>\n",
      "</tr>\n",
      "</tbody>\n",
      "</table>\n",
      "<dl class=\"py function\">\n",
      "<dt class=\"sig sig-object py\" id=\"abs\">\n",
      "<span class=\"sig-name descname\"><span class=\"pre\">abs</span></span><span class=\"sig-paren\">(</span><em class=\"sig-param\"><span class=\"n\"><span class=\"pre\">x</span></span></em><span class=\"sig-paren\">)</span><a class=\"headerlink\" href=\"#abs\" title=\"æ¬å®ç¾©çæ°¸ä¹é£çµ\">Â¶</a></dt>\n",
      "<dd><p>åå³ä¸åæ¸ççµå°å¼ï¼å¼æ¸å¯ä»¥æ¯æ´æ¸ãæµ®é»æ¸ææå¯¦ç¾ <code class=\"xref py py-meth docutils literal notranslate\"><span class=\"pre\">__abs__()</span></code> çç©ä»¶ãå¦æå¼æ¸æ¯ä¸åè¤æ¸ï¼åå³å®çç´éï¼å¤§å°ï¼ã</p>\n",
      "</dd></dl>\n",
      "\n",
      "<dl class=\"py function\">\n",
      "<dt class=\"sig sig-object py\" id=\"aiter\">\n",
      "<span class=\"sig-name descname\"><span class=\"pre\">aiter</span></span><span class=\"sig-paren\">(</span><em class=\"sig-param\"><span class=\"n\"><span class=\"pre\">async_iterable</span></span></em><span class=\"sig-paren\">)</span><a class=\"headerlink\" href=\"#aiter\" title=\"æ¬å®ç¾©çæ°¸ä¹é£çµ\">Â¶</a></dt>\n",
      "<dd><p>è¿å  <a class=\"reference internal\" href=\"../glossary.html#term-asynchronous-iterable\"><span class=\"xref std std-term\">asynchronous iterable</span></a> ç <a class=\"reference internal\" href=\"../glossary.html#term-asynchronous-iterator\"><span class=\"xref std std-term\">asynchronous iterator</span></a> ãç¸å½äºè°ç¨ <code class=\"docutils literal notranslate\"><span class=\"pre\">x.__aiter__()</span></code>ã</p>\n",
      "<p>æ³¨æï¼ä¸ <a class=\"reference internal\" href=\"#iter\" title=\"iter\"><code class=\"xref py py-func docutils literal notranslate\"><span class=\"pre\">iter()</span></code></a> ä¸åï¼<a class=\"reference internal\" href=\"#aiter\" title=\"aiter\"><code class=\"xref py py-func docutils literal notranslate\"><span class=\"pre\">aiter()</span></code></a> æ²¡æä¸¤ä¸ªåæ°ççæ¬ã</p>\n",
      "<div class=\"versionadded\">\n",
      "<p><span class=\"versionmodified added\">å¨ 3.10 çæ¬æ°å å¥.</span></p>\n",
      "</div>\n",
      "</dd></dl>\n",
      "\n",
      "<dl class=\"py function\">\n",
      "<dt class=\"sig sig-object py\" id=\"all\">\n",
      "<span class=\"sig-name descname\"><span class=\"pre\">all</span></span><span class=\"sig-paren\">(</span><em class=\"sig-param\"><span class=\"n\"><span class=\"pre\">iterable</span></span></em><span class=\"sig-paren\">)</span><a class=\"headerlink\" href=\"#all\" title=\"æ¬å®ç¾©çæ°¸ä¹é£çµ\">Â¶</a></dt>\n",
      "<dd><p>å¦æ <em>iterable</em> çææåç´ ççºçï¼æ iterable çºç©ºï¼ååå³ <code class=\"docutils literal notranslate\"><span class=\"pre\">True</span></code>ãç­å¹æ¼ï¼</p>\n",
      "<div class=\"highlight-python3 notranslate\"><div class=\"highlight\"><pre><span></span><span class=\"k\">def</span> <span class=\"nf\">all</span><span class=\"p\">(</span><span class=\"n\">iterable</span><span class=\"p\">):</span>\n",
      "    <span class=\"k\">for</span> <span class=\"n\">element</span> <span class=\"ow\">in</span> <span class=\"n\">iterable</span><span class=\"p\">:</span>\n",
      "        <span class=\"k\">if</span> <span class=\"ow\">not</span> <span class=\"n\">element</span><span class=\"p\">:</span>\n",
      "            <span class=\"k\">return</span> <span class=\"kc\">False</span>\n",
      "    <span class=\"k\">return</span> <span class=\"kc\">True</span>\n",
      "</pre></div>\n",
      "</div>\n",
      "</dd></dl>\n",
      "\n",
      "<dl class=\"py function\">\n",
      "<dt class=\"sig sig-object py\" id=\"anext\">\n",
      "<em class=\"property\"><span class=\"pre\">awaitable</span> </em><span class=\"sig-name descname\"><span class=\"pre\">anext</span></span><span class=\"sig-paren\">(</span><em class=\"sig-param\"><span class=\"n\"><span class=\"pre\">async_iterator</span></span></em><span class=\"sig-paren\">)</span><a class=\"headerlink\" href=\"#anext\" title=\"æ¬å®ç¾©çæ°¸ä¹é£çµ\">Â¶</a></dt>\n",
      "<dt class=\"sig sig-object py\">\n",
      "<em class=\"property\"><span class=\"pre\">awaitable</span> </em><span class=\"sig-name descname\"><span class=\"pre\">anext</span></span><span class=\"sig-paren\">(</span><em class=\"sig-param\"><span class=\"n\"><span class=\"pre\">async_iterator</span></span></em>, <em class=\"sig-param\"><span class=\"n\"><span class=\"pre\">default</span></span></em><span class=\"sig-paren\">)</span></dt>\n",
      "<dd><p>å½è¿å¥ await ç¶ææ¶ï¼ä»ç»å® <a class=\"reference internal\" href=\"../glossary.html#term-asynchronous-iterator\"><span class=\"xref std std-term\">asynchronous iterator</span></a> è¿åä¸ä¸æ°æ®é¡¹ï¼è¿­ä»£å®æ¯åè¿å <em>default</em>ã</p>\n",
      "<p>è¿æ¯åç½®å½æ° <a class=\"reference internal\" href=\"#next\" title=\"next\"><code class=\"xref py py-func docutils literal notranslate\"><span class=\"pre\">next()</span></code></a> çå¼æ­¥çæ¬ï¼ç±»ä¼¼äºï¼</p>\n",
      "<p>è°ç¨ <em>async_iterator</em> ç <a class=\"reference internal\" href=\"../reference/datamodel.html#object.__anext__\" title=\"object.__anext__\"><code class=\"xref py py-meth docutils literal notranslate\"><span class=\"pre\">__anext__()</span></code></a> æ¹æ³ï¼è¿åä¸ä¸ª <a class=\"reference internal\" href=\"../glossary.html#term-awaitable\"><span class=\"xref std std-term\">awaitable</span></a>ãç­å¾è¿åè¿­ä»£å¨çä¸ä¸ä¸ªå¼ãè¥æç»åº <em>default</em>ï¼åå¨è¿­ä»£å®æ¯åä¼è¿åç»åºçå¼ï¼å¦åä¼è§¦å <a class=\"reference internal\" href=\"exceptions.html#StopAsyncIteration\" title=\"StopAsyncIteration\"><code class=\"xref py py-exc docutils literal notranslate\"><span class=\"pre\">StopAsyncIteration</span></code></a>ã</p>\n",
      "<div class=\"versionadded\">\n",
      "<p><span class=\"versionmodified added\">å¨ 3.10 çæ¬æ°å å¥.</span></p>\n",
      "</div>\n",
      "</dd></dl>\n",
      "\n",
      "<dl class=\"py function\">\n",
      "<dt class=\"sig sig-object py\" id=\"any\">\n",
      "<span class=\"sig-name descname\"><span class=\"pre\">any</span></span><span class=\"sig-paren\">(</span><em class=\"sig-param\"><span class=\"n\"><span class=\"pre\">iterable</span></span></em><span class=\"sig-paren\">)</span><a class=\"headerlink\" href=\"#any\" title=\"æ¬å®ç¾©çæ°¸ä¹é£çµ\">Â¶</a></dt>\n",
      "<dd><p>å¦æ <em>iterable</em> çä»»ä¸åç´ çºçï¼åå³ <code class=\"docutils literal notranslate\"><span class=\"pre\">True</span></code>ãå¦æ iterable æ¯ç©ºçï¼ååå³ <code class=\"docutils literal notranslate\"><span class=\"pre\">False</span></code>ãç­å¹æ¼ï¼</p>\n",
      "<div class=\"highlight-python3 notranslate\"><div class=\"highlight\"><pre><span></span><span class=\"k\">def</span> <span class=\"nf\">any</span><span class=\"p\">(</span><span class=\"n\">iterable</span><span class=\"p\">):</span>\n",
      "    <span class=\"k\">for</span> <span class=\"n\">element</span> <span class=\"ow\">in</span> <span class=\"n\">iterable</span><span class=\"p\">:</span>\n",
      "        <span class=\"k\">if</span> <span class=\"n\">element</span><span class=\"p\">:</span>\n",
      "            <span class=\"k\">return</span> <span class=\"kc\">True</span>\n",
      "    <span class=\"k\">return</span> <span class=\"kc\">False</span>\n",
      "</pre></div>\n",
      "</div>\n",
      "</dd></dl>\n",
      "\n",
      "<dl class=\"py function\">\n",
      "<dt class=\"sig sig-object py\" id=\"ascii\">\n",
      "<span class=\"sig-name descname\"><span class=\"pre\">ascii</span></span><span class=\"sig-paren\">(</span><em class=\"sig-param\"><span class=\"n\"><span class=\"pre\">object</span></span></em><span class=\"sig-paren\">)</span><a class=\"headerlink\" href=\"#ascii\" title=\"æ¬å®ç¾©çæ°¸ä¹é£çµ\">Â¶</a></dt>\n",
      "<dd><p>å°±åå½å¼ <a class=\"reference internal\" href=\"#repr\" title=\"repr\"><code class=\"xref py py-func docutils literal notranslate\"><span class=\"pre\">repr()</span></code></a>ï¼åå³ä¸åè¡¨ç¤ºç©ä»¶çå­ä¸²ï¼ä½æ¯ <a class=\"reference internal\" href=\"#repr\" title=\"repr\"><code class=\"xref py py-func docutils literal notranslate\"><span class=\"pre\">repr()</span></code></a> åå³çå­ä¸²ä¸­é ASCII ç·¨ç¢¼çå­åæè¢«è·³è« (escape)ï¼åæ¯ <code class=\"docutils literal notranslate\"><span class=\"pre\">\\x</span></code>ã<code class=\"docutils literal notranslate\"><span class=\"pre\">\\u</span></code> å <code class=\"docutils literal notranslate\"><span class=\"pre\">\\U</span></code>ãéåå½å¼çæçå­ä¸²å Python 2 ç <a class=\"reference internal\" href=\"#repr\" title=\"repr\"><code class=\"xref py py-func docutils literal notranslate\"><span class=\"pre\">repr()</span></code></a> åå³ççµæç¸ä¼¼ã</p>\n",
      "</dd></dl>\n",
      "\n",
      "<dl class=\"py function\">\n",
      "<dt class=\"sig sig-object py\" id=\"bin\">\n",
      "<span class=\"sig-name descname\"><span class=\"pre\">bin</span></span><span class=\"sig-paren\">(</span><em class=\"sig-param\"><span class=\"n\"><span class=\"pre\">x</span></span></em><span class=\"sig-paren\">)</span><a class=\"headerlink\" href=\"#bin\" title=\"æ¬å®ç¾©çæ°¸ä¹é£çµ\">Â¶</a></dt>\n",
      "<dd><p>å°ä¸åæ´æ¸è½è®çºä¸ååç¶´çº &quot;0b&quot; çäºé²ä½å¶å­ä¸²ãçµææ¯ä¸åææç Python éç®å¼ãå¦æ <em>x</em> ä¸æ¯ Python ç <a class=\"reference internal\" href=\"#int\" title=\"int\"><code class=\"xref py py-class docutils literal notranslate\"><span class=\"pre\">int</span></code></a> ç©ä»¶ï¼é£å®éè¦å®ç¾© <a class=\"reference internal\" href=\"../reference/datamodel.html#object.__index__\" title=\"object.__index__\"><code class=\"xref py py-meth docutils literal notranslate\"><span class=\"pre\">__index__()</span></code></a> method åå³ä¸åæ´æ¸ãèä¾ä¾èªªï¼</p>\n",
      "<div class=\"doctest highlight-default notranslate\"><div class=\"highlight\"><pre><span></span><span class=\"gp\">&gt;&gt;&gt; </span><span class=\"nb\">bin</span><span class=\"p\">(</span><span class=\"mi\">3</span><span class=\"p\">)</span>\n",
      "<span class=\"go\">&#39;0b11&#39;</span>\n",
      "<span class=\"gp\">&gt;&gt;&gt; </span><span class=\"nb\">bin</span><span class=\"p\">(</span><span class=\"o\">-</span><span class=\"mi\">10</span><span class=\"p\">)</span>\n",
      "<span class=\"go\">&#39;-0b1010&#39;</span>\n",
      "</pre></div>\n",
      "</div>\n",
      "<p>å¦æä¸ä¸å®éè¦ &quot;0b&quot; åç¶´ï¼éå¯ä»¥ä½¿ç¨å¦ä¸çæ¹æ³ã</p>\n",
      "<div class=\"doctest highlight-default notranslate\"><div class=\"highlight\"><pre><span></span><span class=\"gp\">&gt;&gt;&gt; </span><span class=\"nb\">format</span><span class=\"p\">(</span><span class=\"mi\">14</span><span class=\"p\">,</span> <span class=\"s1\">&#39;#b&#39;</span><span class=\"p\">),</span> <span class=\"nb\">format</span><span class=\"p\">(</span><span class=\"mi\">14</span><span class=\"p\">,</span> <span class=\"s1\">&#39;b&#39;</span><span class=\"p\">)</span>\n",
      "<span class=\"go\">(&#39;0b1110&#39;, &#39;1110&#39;)</span>\n",
      "<span class=\"gp\">&gt;&gt;&gt; </span><span class=\"sa\">f</span><span class=\"s1\">&#39;</span><span class=\"si\">{</span><span class=\"mi\">14</span><span class=\"si\">:</span><span class=\"s1\">#b</span><span class=\"si\">}</span><span class=\"s1\">&#39;</span><span class=\"p\">,</span> <span class=\"sa\">f</span><span class=\"s1\">&#39;</span><span class=\"si\">{</span><span class=\"mi\">14</span><span class=\"si\">:</span><span class=\"s1\">b</span><span class=\"si\">}</span><span class=\"s1\">&#39;</span>\n",
      "<span class=\"go\">(&#39;0b1110&#39;, &#39;1110&#39;)</span>\n",
      "</pre></div>\n",
      "</div>\n",
      "<p>å¯åè <a class=\"reference internal\" href=\"#format\" title=\"format\"><code class=\"xref py py-func docutils literal notranslate\"><span class=\"pre\">format()</span></code></a> ç²åæ´å¤è³è¨ã</p>\n",
      "</dd></dl>\n",
      "\n",
      "<dl class=\"py class\">\n",
      "<dt class=\"sig sig-object py\" id=\"bool\">\n",
      "<em class=\"property\"><span class=\"pre\">class</span><span class=\"w\"> </span></em><span class=\"sig-name descname\"><span class=\"pre\">bool</span></span><span class=\"sig-paren\">(</span><em class=\"sig-param\"><span class=\"n\"><span class=\"pre\">x</span></span><span class=\"o\"><span class=\"pre\">=</span></span><span class=\"default_value\"><span class=\"pre\">False</span></span></em><span class=\"sig-paren\">)</span><a class=\"headerlink\" href=\"#bool\" title=\"æ¬å®ç¾©çæ°¸ä¹é£çµ\">Â¶</a></dt>\n",
      "<dd><p>åå³ä¸åå¸æå¼ï¼å³ <code class=\"docutils literal notranslate\"><span class=\"pre\">True</span></code> æè <code class=\"docutils literal notranslate\"><span class=\"pre\">False</span></code>ã<em>x</em> ä½¿ç¨æ¨æºç<a class=\"reference internal\" href=\"stdtypes.html#truth\"><span class=\"std std-ref\">çå¼æ¸¬è©¦ç¨åº</span></a>ä¾è½æãå¦æ <em>x</em> çºåæèè¢«çç¥ï¼ååå³ <code class=\"docutils literal notranslate\"><span class=\"pre\">False</span></code>ï¼å¶ä»ææ³åå³ <code class=\"docutils literal notranslate\"><span class=\"pre\">True</span></code>ã<a class=\"reference internal\" href=\"#bool\" title=\"bool\"><code class=\"xref py py-class docutils literal notranslate\"><span class=\"pre\">bool</span></code></a> classï¼é¡å¥ï¼æ¯ <a class=\"reference internal\" href=\"#int\" title=\"int\"><code class=\"xref py py-class docutils literal notranslate\"><span class=\"pre\">int</span></code></a> ç subclassï¼å­é¡å¥ï¼ï¼åè¦ <a class=\"reference internal\" href=\"stdtypes.html#typesnumeric\"><span class=\"std std-ref\">æ°å­ç±»å --- int, float, complex</span></a>ï¼ï¼å¶ä» class ä¸è½ç¹¼æ¿èªå®ãå®åªæ <code class=\"docutils literal notranslate\"><span class=\"pre\">False</span></code> å <code class=\"docutils literal notranslate\"><span class=\"pre\">True</span></code> å©åå¯¦ä¾ï¼åè¦ <a class=\"reference internal\" href=\"stdtypes.html#typebool\"><span class=\"std std-ref\">å¸å°ç±»å - bool</span></a>ï¼ã</p>\n",
      "<div class=\"versionchanged\" id=\"index-0\">\n",
      "<p><span class=\"versionmodified changed\">å¨ 3.7 çæ¬è®æ´: </span><em>x</em> ç°å¨åªè½ä½ä¸ºä½ç½®åæ°ã</p>\n",
      "</div>\n",
      "</dd></dl>\n",
      "\n",
      "<dl class=\"py function\">\n",
      "<dt class=\"sig sig-object py\" id=\"breakpoint\">\n",
      "<span class=\"sig-name descname\"><span class=\"pre\">breakpoint</span></span><span class=\"sig-paren\">(</span><em class=\"sig-param\"><span class=\"o\"><span class=\"pre\">*</span></span><span class=\"n\"><span class=\"pre\">args</span></span></em>, <em class=\"sig-param\"><span class=\"o\"><span class=\"pre\">**</span></span><span class=\"n\"><span class=\"pre\">kws</span></span></em><span class=\"sig-paren\">)</span><a class=\"headerlink\" href=\"#breakpoint\" title=\"æ¬å®ç¾©çæ°¸ä¹é£çµ\">Â¶</a></dt>\n",
      "<dd><p>æ­¤å½æ°ä¼å¨è°ç¨ç¹è¿å¥è°è¯å¨ãå·ä½æ¥è¯´ï¼å®è°ç¨ <a class=\"reference internal\" href=\"sys.html#sys.breakpointhook\" title=\"sys.breakpointhook\"><code class=\"xref py py-func docutils literal notranslate\"><span class=\"pre\">sys.breakpointhook()</span></code></a> ï¼ç´æ¥ä¼ é <code class=\"docutils literal notranslate\"><span class=\"pre\">args</span></code> å <code class=\"docutils literal notranslate\"><span class=\"pre\">kws</span></code> ãé»è®¤æåµä¸ï¼ <code class=\"docutils literal notranslate\"><span class=\"pre\">sys.breakpointhook()</span></code> è°ç¨ <a class=\"reference internal\" href=\"pdb.html#pdb.set_trace\" title=\"pdb.set_trace\"><code class=\"xref py py-func docutils literal notranslate\"><span class=\"pre\">pdb.set_trace()</span></code></a> ä¸æ²¡æåæ°ãå¨è¿ç§æåµä¸ï¼å®çº¯ç²¹æ¯ä¸ä¸ªä¾¿å©å½æ°ï¼å æ­¤æ¨ä¸å¿æ¾å¼å¯¼å¥ <a class=\"reference internal\" href=\"pdb.html#module-pdb\" title=\"pdb: The Python debugger for interactive interpreters.\"><code class=\"xref py py-mod docutils literal notranslate\"><span class=\"pre\">pdb</span></code></a> ä¸é®å¥å°½å¯è½å°çä»£ç å³å¯è¿å¥è°è¯å¨ãä½æ¯ï¼ <a class=\"reference internal\" href=\"sys.html#sys.breakpointhook\" title=\"sys.breakpointhook\"><code class=\"xref py py-func docutils literal notranslate\"><span class=\"pre\">sys.breakpointhook()</span></code></a> å¯ä»¥è®¾ç½®ä¸ºå¶ä»ä¸äºå½æ°å¹¶è¢« <a class=\"reference internal\" href=\"#breakpoint\" title=\"breakpoint\"><code class=\"xref py py-func docutils literal notranslate\"><span class=\"pre\">breakpoint()</span></code></a> èªå¨è°ç¨ï¼ä»¥åè®¸è¿å¥ä½ æ³ç¨çè°è¯å¨ãå¦æ <a class=\"reference internal\" href=\"sys.html#sys.breakpointhook\" title=\"sys.breakpointhook\"><code class=\"xref py py-func docutils literal notranslate\"><span class=\"pre\">sys.breakpointhook()</span></code></a> ä¸å¯è®¿é®ï¼è¿ä¸ªå½æ°å°ä¼å¼å <a class=\"reference internal\" href=\"exceptions.html#RuntimeError\" title=\"RuntimeError\"><code class=\"xref py py-exc docutils literal notranslate\"><span class=\"pre\">RuntimeError</span></code></a>ã</p>\n",
      "<p>å¨é»è®¤æåµä¸ï¼<a class=\"reference internal\" href=\"#breakpoint\" title=\"breakpoint\"><code class=\"xref py py-func docutils literal notranslate\"><span class=\"pre\">breakpoint()</span></code></a> çè¡ä¸ºå¯ä½¿ç¨ <span class=\"target\" id=\"index-23\"></span><a class=\"reference internal\" href=\"../using/cmdline.html#envvar-PYTHONBREAKPOINT\"><code class=\"xref std std-envvar docutils literal notranslate\"><span class=\"pre\">PYTHONBREAKPOINT</span></code></a> ç¯å¢åéæ¥æ¹åã è¯·åé <a class=\"reference internal\" href=\"sys.html#sys.breakpointhook\" title=\"sys.breakpointhook\"><code class=\"xref py py-func docutils literal notranslate\"><span class=\"pre\">sys.breakpointhook()</span></code></a> äºè§£è¯¦ç»ç¨æ³ã</p>\n",
      "<p>è¯·æ³¨æè¿å¹¶ä¸ä¿è¯ <a class=\"reference internal\" href=\"sys.html#sys.breakpointhook\" title=\"sys.breakpointhook\"><code class=\"xref py py-func docutils literal notranslate\"><span class=\"pre\">sys.breakpointhook()</span></code></a> ä¼è¢«æ¿æ¢ã</p>\n",
      "<p class=\"audit-hook\">å¼ç¼ä¸åéå¸¶å¼æ¸ <code class=\"docutils literal notranslate\"><span class=\"pre\">breakpointhook</span></code> ç<a class=\"reference internal\" href=\"sys.html#auditing\"><span class=\"std std-ref\">ç¨½æ ¸äºä»¶</span></a> <code class=\"docutils literal notranslate\"><span class=\"pre\">builtins.breakpoint</span></code>ã</p>\n",
      "<div class=\"versionadded\">\n",
      "<p><span class=\"versionmodified added\">å¨ 3.7 çæ¬æ°å å¥.</span></p>\n",
      "</div>\n",
      "</dd></dl>\n",
      "\n",
      "<span class=\"target\" id=\"func-bytearray\"></span><dl class=\"py class\">\n",
      "<dt class=\"sig sig-object py\">\n",
      "<em class=\"property\"><span class=\"pre\">class</span><span class=\"w\"> </span></em><span class=\"sig-name descname\"><span class=\"pre\">bytearray</span></span><span class=\"sig-paren\">(</span><em class=\"sig-param\"><span class=\"n\"><span class=\"pre\">source</span></span><span class=\"o\"><span class=\"pre\">=</span></span><span class=\"default_value\"><span class=\"pre\">b''</span></span></em><span class=\"sig-paren\">)</span></dt>\n",
      "<dt class=\"sig sig-object py\">\n",
      "<em class=\"property\"><span class=\"pre\">class</span><span class=\"w\"> </span></em><span class=\"sig-name descname\"><span class=\"pre\">bytearray</span></span><span class=\"sig-paren\">(</span><em class=\"sig-param\"><span class=\"n\"><span class=\"pre\">source</span></span></em>, <em class=\"sig-param\"><span class=\"n\"><span class=\"pre\">encoding</span></span></em><span class=\"sig-paren\">)</span></dt>\n",
      "<dt class=\"sig sig-object py\">\n",
      "<em class=\"property\"><span class=\"pre\">class</span><span class=\"w\"> </span></em><span class=\"sig-name descname\"><span class=\"pre\">bytearray</span></span><span class=\"sig-paren\">(</span><em class=\"sig-param\"><span class=\"n\"><span class=\"pre\">source</span></span></em>, <em class=\"sig-param\"><span class=\"n\"><span class=\"pre\">encoding</span></span></em>, <em class=\"sig-param\"><span class=\"n\"><span class=\"pre\">errors</span></span></em><span class=\"sig-paren\">)</span></dt>\n",
      "<dd><p>åå³ä¸åæ°ç bytes é£åã<a class=\"reference internal\" href=\"stdtypes.html#bytearray\" title=\"bytearray\"><code class=\"xref py py-class docutils literal notranslate\"><span class=\"pre\">bytearray</span></code></a> class æ¯ä¸åå¯è®çæ´æ¸åºåï¼åå«ç¯åçº 0 &lt;= x &lt; 256 çæ´æ¸ãå®æå¯è®åºåå¤§é¨åå¸¸è¦ç methodï¼å¦å¨ <a class=\"reference internal\" href=\"stdtypes.html#typesseq-mutable\"><span class=\"std std-ref\">å¯ååºåç±»å</span></a> ä¸­æè¿°ï¼ï¼åæä¹æ <a class=\"reference internal\" href=\"stdtypes.html#bytes\" title=\"bytes\"><code class=\"xref py py-class docutils literal notranslate\"><span class=\"pre\">bytes</span></code></a> åå¥å¤§é¨åç methodï¼åè¦ <a class=\"reference internal\" href=\"stdtypes.html#bytes-methods\"><span class=\"std std-ref\">bytes å bytearray æä½</span></a>ã</p>\n",
      "<p>é¸ææ§åæ¸ <em>source</em> å¯ä»¥è¢«ç¨ä¾ä»¥ä¸åçæ¹å¼åå§åé£åï¼</p>\n",
      "<ul class=\"simple\">\n",
      "<li><p>å¦ææ¯ä¸å <em>string</em>ï¼ä½ å¿é æä¾ <em>encoding</em> åæ¸ï¼ä»¥åé¸ææ§å°æä¾ <em>errors</em> ï¼ï¼<a class=\"reference internal\" href=\"stdtypes.html#bytearray\" title=\"bytearray\"><code class=\"xref py py-func docutils literal notranslate\"><span class=\"pre\">bytearray()</span></code></a> æä½¿ç¨ <a class=\"reference internal\" href=\"stdtypes.html#str.encode\" title=\"str.encode\"><code class=\"xref py py-meth docutils literal notranslate\"><span class=\"pre\">str.encode()</span></code></a> method ä¾å° string è½è®æ bytesã</p></li>\n",
      "<li><p>å¦ææ¯ä¸å <em>integer</em>ï¼é£ååææè©²æ¸å¼çé·åº¦ï¼ä¸¦ä»¥ null bytes ä¾ç¶ä½åå§å¼ã</p></li>\n",
      "<li><p>å¦ææ¯ä¸åç¬¦å <a class=\"reference internal\" href=\"../c-api/buffer.html#bufferobjects\"><span class=\"std std-ref\">buffer ä»é¢</span></a>çç©ä»¶ï¼è©²ç©ä»¶çå¯è® buffer æè¢«ç¨ä¾åå§å bytes é£åã</p></li>\n",
      "<li><p>å¦ææ¯ä¸å <em>iterable</em>ï¼å®çåç´ å¿é æ¯ç¯åçº <code class=\"docutils literal notranslate\"><span class=\"pre\">0</span> <span class=\"pre\">&lt;=</span> <span class=\"pre\">x</span> <span class=\"pre\">&lt;</span> <span class=\"pre\">256</span></code> çæ´æ¸ï¼ä¸¦ä¸æè¢«ç¨ä½é£åçåå§å¼ã</p></li>\n",
      "</ul>\n",
      "<p>å¦ææ²æå¼æ¸ï¼åå»ºç«é·åº¦çº 0 çé£åã</p>\n",
      "<p>å¯åè <a class=\"reference internal\" href=\"stdtypes.html#binaryseq\"><span class=\"std std-ref\">äºè¿å¶åºåç±»å --- bytes, bytearray, memoryview</span></a> å <a class=\"reference internal\" href=\"stdtypes.html#typebytearray\"><span class=\"std std-ref\">bytearray å¯¹è±¡</span></a>ã</p>\n",
      "</dd></dl>\n",
      "\n",
      "<span class=\"target\" id=\"func-bytes\"></span><dl class=\"py class\">\n",
      "<dt class=\"sig sig-object py\">\n",
      "<em class=\"property\"><span class=\"pre\">class</span><span class=\"w\"> </span></em><span class=\"sig-name descname\"><span class=\"pre\">bytes</span></span><span class=\"sig-paren\">(</span><em class=\"sig-param\"><span class=\"n\"><span class=\"pre\">source</span></span><span class=\"o\"><span class=\"pre\">=</span></span><span class=\"default_value\"><span class=\"pre\">b''</span></span></em><span class=\"sig-paren\">)</span></dt>\n",
      "<dt class=\"sig sig-object py\">\n",
      "<em class=\"property\"><span class=\"pre\">class</span><span class=\"w\"> </span></em><span class=\"sig-name descname\"><span class=\"pre\">bytes</span></span><span class=\"sig-paren\">(</span><em class=\"sig-param\"><span class=\"n\"><span class=\"pre\">source</span></span></em>, <em class=\"sig-param\"><span class=\"n\"><span class=\"pre\">encoding</span></span></em><span class=\"sig-paren\">)</span></dt>\n",
      "<dt class=\"sig sig-object py\">\n",
      "<em class=\"property\"><span class=\"pre\">class</span><span class=\"w\"> </span></em><span class=\"sig-name descname\"><span class=\"pre\">bytes</span></span><span class=\"sig-paren\">(</span><em class=\"sig-param\"><span class=\"n\"><span class=\"pre\">source</span></span></em>, <em class=\"sig-param\"><span class=\"n\"><span class=\"pre\">encoding</span></span></em>, <em class=\"sig-param\"><span class=\"n\"><span class=\"pre\">errors</span></span></em><span class=\"sig-paren\">)</span></dt>\n",
      "<dd><p>åå³ä¸åæ°ç &quot;bytes&quot; ç©ä»¶ï¼ææ¯ä¸ååç´ æ¯ç¯åçº <code class=\"docutils literal notranslate\"><span class=\"pre\">0</span> <span class=\"pre\">&lt;=</span> <span class=\"pre\">x</span> <span class=\"pre\">&lt;</span> <span class=\"pre\">256</span></code> æ´æ¸çä¸å¯è®åºåã<a class=\"reference internal\" href=\"stdtypes.html#bytes\" title=\"bytes\"><code class=\"xref py py-class docutils literal notranslate\"><span class=\"pre\">bytes</span></code></a> æ¯ <a class=\"reference internal\" href=\"stdtypes.html#bytearray\" title=\"bytearray\"><code class=\"xref py py-class docutils literal notranslate\"><span class=\"pre\">bytearray</span></code></a> çä¸å¯è®çæ¬ â å®çåæ¨£å·åä¸æ¹è®ç©ä»¶ç methodï¼ä¹æç¸åçç´¢å¼ååçæä½ã</p>\n",
      "<p>å æ­¤ï¼å»ºæ§å½å¼çå¼æ¸å <a class=\"reference internal\" href=\"stdtypes.html#bytearray\" title=\"bytearray\"><code class=\"xref py py-func docutils literal notranslate\"><span class=\"pre\">bytearray()</span></code></a> ç¸åã</p>\n",
      "<p>Bytes ç©ä»¶éå¯ä»¥ç¨æå­å»ºç«ï¼åè¦ <a class=\"reference internal\" href=\"../reference/lexical_analysis.html#strings\"><span class=\"std std-ref\">å­ç¬¦ä¸²ä¸å­èä¸²å­é¢å¼</span></a>ã</p>\n",
      "<p>å¯åè <a class=\"reference internal\" href=\"stdtypes.html#binaryseq\"><span class=\"std std-ref\">äºè¿å¶åºåç±»å --- bytes, bytearray, memoryview</span></a>ã<a class=\"reference internal\" href=\"stdtypes.html#typebytes\"><span class=\"std std-ref\">bytes å¯¹è±¡</span></a> å <a class=\"reference internal\" href=\"stdtypes.html#bytes-methods\"><span class=\"std std-ref\">bytes å bytearray æä½</span></a>ã</p>\n",
      "</dd></dl>\n",
      "\n",
      "<dl class=\"py function\">\n",
      "<dt class=\"sig sig-object py\" id=\"callable\">\n",
      "<span class=\"sig-name descname\"><span class=\"pre\">callable</span></span><span class=\"sig-paren\">(</span><em class=\"sig-param\"><span class=\"n\"><span class=\"pre\">object</span></span></em><span class=\"sig-paren\">)</span><a class=\"headerlink\" href=\"#callable\" title=\"æ¬å®ç¾©çæ°¸ä¹é£çµ\">Â¶</a></dt>\n",
      "<dd><p>å¦æå¼æ¸ <em>object</em> æ¯å¯å¼å«çï¼åå³ <a class=\"reference internal\" href=\"constants.html#True\" title=\"True\"><code class=\"xref py py-const docutils literal notranslate\"><span class=\"pre\">True</span></code></a>ï¼å¦ååå³ <a class=\"reference internal\" href=\"constants.html#False\" title=\"False\"><code class=\"xref py py-const docutils literal notranslate\"><span class=\"pre\">False</span></code></a>ãå¦æåå³ <code class=\"docutils literal notranslate\"><span class=\"pre\">True</span></code>ï¼å¼å«ä»å¯è½æå¤±æï¼ä½å¦æåå³ <code class=\"docutils literal notranslate\"><span class=\"pre\">False</span></code>ï¼åå¼å« <em>object</em> è¯å®æå¤±æãæ³¨æ class æ¯å¯å¼å«çï¼å¼å« class æåå³ä¸åæ°çå¯¦ä¾ï¼ï¼å¦æå¯¦ä¾ç class æå®ç¾© <code class=\"xref py py-meth docutils literal notranslate\"><span class=\"pre\">__call__()</span></code> methodï¼åå®æ¯å¯å¼å«çã</p>\n",
      "<div class=\"versionadded\">\n",
      "<p><span class=\"versionmodified added\">å¨ 3.2 çæ¬æ°å å¥: </span>éåå½å¼ä¸éå§å¨ Python 3.0 è¢«ç§»é¤ï¼ä½å¨ Python 3.2 åè¢«éæ°å å¥ã</p>\n",
      "</div>\n",
      "</dd></dl>\n",
      "\n",
      "<dl class=\"py function\">\n",
      "<dt class=\"sig sig-object py\" id=\"chr\">\n",
      "<span class=\"sig-name descname\"><span class=\"pre\">chr</span></span><span class=\"sig-paren\">(</span><em class=\"sig-param\"><span class=\"n\"><span class=\"pre\">i</span></span></em><span class=\"sig-paren\">)</span><a class=\"headerlink\" href=\"#chr\" title=\"æ¬å®ç¾©çæ°¸ä¹é£çµ\">Â¶</a></dt>\n",
      "<dd><p>åå³ä»£è¡¨å­åä¹ Unicode ç·¨ç¢¼ä½ç½®çºæ´æ¸ <em>i</em> çå­ä¸²ãä¾å¦ï¼<code class=\"docutils literal notranslate\"><span class=\"pre\">chr(97)</span></code> åå³å­ä¸² <code class=\"docutils literal notranslate\"><span class=\"pre\">'a'</span></code>ï¼è <code class=\"docutils literal notranslate\"><span class=\"pre\">chr(8364)</span></code> åå³å­ä¸² <code class=\"docutils literal notranslate\"><span class=\"pre\">'â¬'</span></code>ãéæ¯ <a class=\"reference internal\" href=\"#ord\" title=\"ord\"><code class=\"xref py py-func docutils literal notranslate\"><span class=\"pre\">ord()</span></code></a> çéå½å¼ã</p>\n",
      "<p>å¼æ¸çææç¯åæ¯ 0 å° 1,114,111ï¼16 é²å¶è¡¨ç¤ºçº 0x10FFFFï¼ãå¦æ <em>i</em> è¶ééåç¯åï¼æè§¸ç¼ <a class=\"reference internal\" href=\"exceptions.html#ValueError\" title=\"ValueError\"><code class=\"xref py py-exc docutils literal notranslate\"><span class=\"pre\">ValueError</span></code></a>ã</p>\n",
      "</dd></dl>\n",
      "\n",
      "<dl class=\"py function\">\n",
      "<dt class=\"sig sig-object py\" id=\"classmethod\">\n",
      "<span class=\"sig-prename descclassname\"><span class=\"pre\">&#64;</span></span><span class=\"sig-name descname\"><span class=\"pre\">classmethod</span></span><a class=\"headerlink\" href=\"#classmethod\" title=\"æ¬å®ç¾©çæ°¸ä¹é£çµ\">Â¶</a></dt>\n",
      "<dd><p>æä¸å method å°è£æ class methodï¼é¡å¥æ¹æ³ï¼ã</p>\n",
      "<p>ä¸å class method æèªå·±ç class ä½çºç¬¬ä¸åå¼æ¸ï¼å°±åä¸åå¯¦ä¾ method æå¯¦ä¾èªå·±ä½çºç¬¬ä¸åå¼æ¸ãè«ç¨ä»¥ä¸æ£ä¾ä¾å®£å class methodï¼</p>\n",
      "<div class=\"highlight-python3 notranslate\"><div class=\"highlight\"><pre><span></span><span class=\"k\">class</span> <span class=\"nc\">C</span><span class=\"p\">:</span>\n",
      "    <span class=\"nd\">@classmethod</span>\n",
      "    <span class=\"k\">def</span> <span class=\"nf\">f</span><span class=\"p\">(</span><span class=\"bp\">cls</span><span class=\"p\">,</span> <span class=\"n\">arg1</span><span class=\"p\">,</span> <span class=\"n\">arg2</span><span class=\"p\">):</span> <span class=\"o\">...</span>\n",
      "</pre></div>\n",
      "</div>\n",
      "<p><code class=\"docutils literal notranslate\"><span class=\"pre\">&#64;classmethod</span></code> èªæ³æ¯ä¸åå½å¼ <a class=\"reference internal\" href=\"../glossary.html#term-decorator\"><span class=\"xref std std-term\">decorator</span></a> â åè¦ <a class=\"reference internal\" href=\"../reference/compound_stmts.html#function\"><span class=\"std std-ref\">å½å¼å®ç¾©</span></a> ä¸­éæ¼å½å¼å®ç¾©çè©³ç´°ä»ç´¹ã</p>\n",
      "<p>ä¸å class method å¯ä»¥å¨ classï¼å¦ <code class=\"docutils literal notranslate\"><span class=\"pre\">C.f()</span></code>ï¼æå¯¦ä¾ï¼å¦ <code class=\"docutils literal notranslate\"><span class=\"pre\">C().f()</span></code>ï¼ä¸å¼å«ãå¯¦ä¾é¤äºå®ç class è³è¨ï¼å¶ä»é½æè¢«å¿½ç¥ãå¦æä¸å class method å¨ subclass ä¸å¼å«ï¼subclass æä½çºç¬¬ä¸åå¼æ¸å³å¥ã</p>\n",
      "<p>Class method å C++ è Java ç static method æ¯æåå¥çãå¦æä½ æ³ç­è§£ static methodï¼è«çæ¬ç¯ç <a class=\"reference internal\" href=\"#staticmethod\" title=\"staticmethod\"><code class=\"xref py py-func docutils literal notranslate\"><span class=\"pre\">staticmethod()</span></code></a>ãéæ¼ class method çæ´å¤è³è¨ï¼è«åè <a class=\"reference internal\" href=\"../reference/datamodel.html#types\"><span class=\"std std-ref\">æ¨æºåå¥éå±¤</span></a>ã</p>\n",
      "<div class=\"versionchanged\">\n",
      "<p><span class=\"versionmodified changed\">å¨ 3.9 çæ¬è®æ´: </span>ç±»æ¹æ³ç°å¨å¯ä»¥åè£å¶ä» <a class=\"reference internal\" href=\"../glossary.html#term-descriptor\"><span class=\"xref std std-term\">æè¿°å¨</span></a> ä¾å¦ <a class=\"reference internal\" href=\"#property\" title=\"property\"><code class=\"xref py py-func docutils literal notranslate\"><span class=\"pre\">property()</span></code></a>ã</p>\n",
      "</div>\n",
      "<div class=\"versionchanged\">\n",
      "<p><span class=\"versionmodified changed\">å¨ 3.10 çæ¬è®æ´: </span>ç±»æ¹æ³ç°å¨ç»§æ¿äºæ¹æ³çå±æ§ï¼ <code class=\"docutils literal notranslate\"><span class=\"pre\">__module__</span></code>ã <code class=\"docutils literal notranslate\"><span class=\"pre\">__name__</span></code>ã <code class=\"docutils literal notranslate\"><span class=\"pre\">__qualname__</span></code>ã <code class=\"docutils literal notranslate\"><span class=\"pre\">__doc__</span></code> å <code class=\"docutils literal notranslate\"><span class=\"pre\">__annotations__</span></code>ï¼ï¼å¹¶æ¥æä¸ä¸ªæ°ç <code class=\"docutils literal notranslate\"><span class=\"pre\">__wrapped__</span></code> å±æ§ã</p>\n",
      "</div>\n",
      "<div class=\"versionchanged\">\n",
      "<p><span class=\"versionmodified changed\">å¨ 3.11 çæ¬è®æ´: </span>ç±»æ¹æ³ä¸åå¯ä»¥åè£å¶ä» <a class=\"reference internal\" href=\"../glossary.html#term-descriptor\"><span class=\"xref std std-term\">descriptors</span></a>  ä¾å¦ <a class=\"reference internal\" href=\"#property\" title=\"property\"><code class=\"xref py py-func docutils literal notranslate\"><span class=\"pre\">property()</span></code></a>ã</p>\n",
      "</div>\n",
      "</dd></dl>\n",
      "\n",
      "<dl class=\"py function\">\n",
      "<dt class=\"sig sig-object py\" id=\"compile\">\n",
      "<span class=\"sig-name descname\"><span class=\"pre\">compile</span></span><span class=\"sig-paren\">(</span><em class=\"sig-param\"><span class=\"n\"><span class=\"pre\">source</span></span></em>, <em class=\"sig-param\"><span class=\"n\"><span class=\"pre\">filename</span></span></em>, <em class=\"sig-param\"><span class=\"n\"><span class=\"pre\">mode</span></span></em>, <em class=\"sig-param\"><span class=\"n\"><span class=\"pre\">flags</span></span><span class=\"o\"><span class=\"pre\">=</span></span><span class=\"default_value\"><span class=\"pre\">0</span></span></em>, <em class=\"sig-param\"><span class=\"n\"><span class=\"pre\">dont_inherit</span></span><span class=\"o\"><span class=\"pre\">=</span></span><span class=\"default_value\"><span class=\"pre\">False</span></span></em>, <em class=\"sig-param\"><span class=\"n\"><span class=\"pre\">optimize</span></span><span class=\"o\"><span class=\"pre\">=</span></span><span class=\"default_value\"><span class=\"pre\">-</span> <span class=\"pre\">1</span></span></em><span class=\"sig-paren\">)</span><a class=\"headerlink\" href=\"#compile\" title=\"æ¬å®ç¾©çæ°¸ä¹é£çµ\">Â¶</a></dt>\n",
      "<dd><p>å° <em>source</em> ç·¨è­¯æç¨å¼ç¢¼æ AST ç©ä»¶ãç¨å¼ç¢¼ç©ä»¶å¯ä»¥è¢« <a class=\"reference internal\" href=\"#exec\" title=\"exec\"><code class=\"xref py py-func docutils literal notranslate\"><span class=\"pre\">exec()</span></code></a> æ <a class=\"reference internal\" href=\"#eval\" title=\"eval\"><code class=\"xref py py-func docutils literal notranslate\"><span class=\"pre\">eval()</span></code></a> å·è¡ã<em>source</em> å¯ä»¥æ¯ä¸è¬çå­ä¸²ãbytes å­ä¸²ãæè AST ç©ä»¶ãåè¦ <a class=\"reference internal\" href=\"ast.html#module-ast\" title=\"ast: Abstract Syntax Tree classes and manipulation.\"><code class=\"xref py py-mod docutils literal notranslate\"><span class=\"pre\">ast</span></code></a> moduleï¼æ¨¡çµï¼çæä»¶ç­è§£å¦ä½ä½¿ç¨ AST ç©ä»¶ã</p>\n",
      "<p><em>filename</em> å¼æ¸å¿é æ¯ç¨å¼ç¢¼çæªåï¼å¦æç¨å¼ç¢¼ä¸æ¯å¾æªæ¡ä¸­è®åï¼å¯ä»¥å³å¥ä¸äºå¯è¾¨è­çå¼ï¼ç¶å¸¸æä½¿ç¨ <code class=\"docutils literal notranslate\"><span class=\"pre\">'&lt;string&gt;'</span></code> ä¾æ¿ä»£ï¼ã</p>\n",
      "<p><em>mode</em> å¼æ¸æå®äºç·¨è­¯ç¨å¼ç¢¼æå¿é ç¨çæ¨¡å¼ãå¦æ <em>source</em> æ¯ä¸ç³»åçé³è¿°å¼ï¼å¯ä»¥æ¯ <code class=\"docutils literal notranslate\"><span class=\"pre\">'exec'</span></code>ï¼å¦ææ¯å®ä¸éç®å¼ï¼å¯ä»¥æ¯ <code class=\"docutils literal notranslate\"><span class=\"pre\">'eval'</span></code>ï¼å¦ææ¯å®åäºåå¼é³è¿°å¼ï¼å¯ä»¥æ¯ <code class=\"docutils literal notranslate\"><span class=\"pre\">'single'</span></code> ï¼å¨æå¾ä¸ç¨®ææ³ä¸ï¼å¦æéç®å¼å·è¡çµæä¸æ¯ <code class=\"docutils literal notranslate\"><span class=\"pre\">None</span></code> åæè¢«å°åºä¾ï¼ã</p>\n",
      "<p>å¯éåæ° <em>flags</em> å <em>dont_inherit</em> æ§å¶åºå½æ¿æ´»åªä¸ª <a class=\"reference internal\" href=\"ast.html#ast-compiler-flags\"><span class=\"std std-ref\">ç¼è¯å¨éé¡¹</span></a> ä»¥ååºå½åè®¸åªä¸ª <a class=\"reference internal\" href=\"../reference/simple_stmts.html#future\"><span class=\"std std-ref\">future ç¹æ§</span></a>ã å¦æä¸¤èé½æªæä¾ (æé½ä¸ºé¶) åä»£ç ä¼åºç¨ä¸è°ç¨ <a class=\"reference internal\" href=\"#compile\" title=\"compile\"><code class=\"xref py py-func docutils literal notranslate\"><span class=\"pre\">compile()</span></code></a> çä»£ç ç¸åçææ æ¥ç¼è¯ã å¦æç»åºäº <em>flags</em> åæ°èæªç»åº <em>dont_inherit</em> (æèä¸ºé¶) åä¼å¨æ è®ºå¦ä½é½å°è¢«ä½¿ç¨çææ ä¹å¤è¿ä¼é¢å¤ä½¿ç¨ <em>flags</em> åæ°ææå®çç¼è¯å¨éé¡¹å future è¯­å¥ã å¦æ <em>dont_inherit</em> ä¸ºéé¶æ´æ°ï¼ååªä½¿ç¨ <em>flags</em> åæ° -- å¤å´ä»£ç ä¸­çææ  (future ç¹æ§åç¼è¯å¨éé¡¹) ä¼è¢«å¿½ç¥ã</p>\n",
      "<p>ç·¨è­¯å¨é¸é å future é³è¿°å¼ä½¿ç¨ bits ä¾è¡¨ç¤ºï¼å¯ä»¥ä¸èµ·è¢«ä½åæä½ OR ä¾è¡¨ç¤ºè¤æ¸åé¸é ãéè¦è¢«å·é«å®ç¾©ç¹å¾µçä½ååå¯ä»¥éé <a class=\"reference internal\" href=\"__future__.html#module-__future__\" title=\"__future__: Future statement definitions\"><code class=\"xref py py-mod docutils literal notranslate\"><span class=\"pre\">__future__</span></code></a> module ä¸­ <code class=\"xref py py-class docutils literal notranslate\"><span class=\"pre\">_Feature</span></code> å¯¦ä¾ä¸­ç <code class=\"xref py py-attr docutils literal notranslate\"><span class=\"pre\">compiler_flag</span></code> å±¬æ§ä¾ç²å¾ã<a class=\"reference internal\" href=\"ast.html#ast-compiler-flags\"><span class=\"std std-ref\">ç·¨è­¯å¨ææ¨</span></a>å¯ä»¥å¨ <a class=\"reference internal\" href=\"ast.html#module-ast\" title=\"ast: Abstract Syntax Tree classes and manipulation.\"><code class=\"xref py py-mod docutils literal notranslate\"><span class=\"pre\">ast</span></code></a> module ä¸­æå°æ <code class=\"docutils literal notranslate\"><span class=\"pre\">PyCF_</span></code> åç¶´çåç¨±ã</p>\n",
      "<p>å¼æ¸ <em>optimize</em> ç¨ä¾æå®ç·¨è­¯å¨çæä½³åç´å¥ï¼é è¨­å¼ <code class=\"docutils literal notranslate\"><span class=\"pre\">-1</span></code> é¸æèç´è­¯å¨ç <a class=\"reference internal\" href=\"../using/cmdline.html#cmdoption-O\"><code class=\"xref std std-option docutils literal notranslate\"><span class=\"pre\">-O</span></code></a> é¸é ç¸åçæä½³åç´å¥ãå¶ä»ç´å¥çº <code class=\"docutils literal notranslate\"><span class=\"pre\">0</span></code>ï¼æ²ææä½³åï¼<code class=\"docutils literal notranslate\"><span class=\"pre\">__debug__</span></code> çºçå¼ï¼ã<code class=\"docutils literal notranslate\"><span class=\"pre\">1</span></code>ï¼assert è¢«åªé¤ï¼<code class=\"docutils literal notranslate\"><span class=\"pre\">__debug__</span></code> çºåå¼ï¼æ <code class=\"docutils literal notranslate\"><span class=\"pre\">2</span></code>ï¼æä»¶å­ä¸²ä¹è¢«åªé¤ï¼ã</p>\n",
      "<p>å¦æç·¨è­¯çåå§ç¢¼ç¡æï¼æ­¤å½å¼æè§¸ç¼ <a class=\"reference internal\" href=\"exceptions.html#SyntaxError\" title=\"SyntaxError\"><code class=\"xref py py-exc docutils literal notranslate\"><span class=\"pre\">SyntaxError</span></code></a>ï¼å¦æåå§ç¢¼åå« null bytesï¼åæè§¸ç¼ <a class=\"reference internal\" href=\"exceptions.html#ValueError\" title=\"ValueError\"><code class=\"xref py py-exc docutils literal notranslate\"><span class=\"pre\">ValueError</span></code></a>ã</p>\n",
      "<p>å¦ææ¨æ³è§£æ Python ç¨å¼ç¢¼çº AST éç®å¼ï¼è«åé± <a class=\"reference internal\" href=\"ast.html#ast.parse\" title=\"ast.parse\"><code class=\"xref py py-func docutils literal notranslate\"><span class=\"pre\">ast.parse()</span></code></a>ã</p>\n",
      "<p class=\"audit-hook\">å¼ç¼ä¸åéå¸¶å¼æ¸ <code class=\"docutils literal notranslate\"><span class=\"pre\">source</span></code>ã<code class=\"docutils literal notranslate\"><span class=\"pre\">filename</span></code> ç<a class=\"reference internal\" href=\"sys.html#auditing\"><span class=\"std std-ref\">ç¨½æ ¸äºä»¶</span></a> <code class=\"docutils literal notranslate\"><span class=\"pre\">compile</span></code>ã</p>\n",
      "<div class=\"admonition note\">\n",
      "<p class=\"admonition-title\">åè¨»</p>\n",
      "<p>å¨ <code class=\"docutils literal notranslate\"><span class=\"pre\">'single'</span></code> æ <code class=\"docutils literal notranslate\"><span class=\"pre\">'eval'</span></code> æ¨¡å¼ç·¨è­¯å¤è¡ç¨å¼ç¢¼æï¼è¼¸å¥å¿é ä»¥è³å°ä¸åæè¡ç¬¦çµå°¾ãéä½¿ <a class=\"reference internal\" href=\"code.html#module-code\" title=\"code: Facilities to implement read-eval-print loops.\"><code class=\"xref py py-mod docutils literal notranslate\"><span class=\"pre\">code</span></code></a> module æ´å®¹ææª¢æ¸¬é³è¿°å¼çå®æ´æ§ã</p>\n",
      "</div>\n",
      "<div class=\"admonition warning\">\n",
      "<p class=\"admonition-title\">è­¦å</p>\n",
      "<p>å¦æç·¨è­¯è¶³å¤ å¤§æèè¶³å¤ è¤éçå­ä¸²æ AST ç©ä»¶æï¼Python ç´è­¯å¨æå çº Python AST ç·¨è­¯å¨ç stack æ·±åº¦éå¶èå´©æ½°ã</p>\n",
      "</div>\n",
      "<div class=\"versionchanged\">\n",
      "<p><span class=\"versionmodified changed\">å¨ 3.2 çæ¬è®æ´: </span>åè¨±ä½¿ç¨ Windows å Mac çæè¡ç¬¦èãå¨ <code class=\"docutils literal notranslate\"><span class=\"pre\">'exec'</span></code> æ¨¡å¼ä¸éè¦ä»¥æè¡ç¬¦èçµå°¾ãå¢å äº <em>optimize</em> åæ¸ã</p>\n",
      "</div>\n",
      "<div class=\"versionchanged\">\n",
      "<p><span class=\"versionmodified changed\">å¨ 3.5 çæ¬è®æ´: </span>å¨ä¹åççæ¬ï¼<em>source</em> ä¸­åå« null bytes æè§¸ç¼ <a class=\"reference internal\" href=\"exceptions.html#TypeError\" title=\"TypeError\"><code class=\"xref py py-exc docutils literal notranslate\"><span class=\"pre\">TypeError</span></code></a> ç°å¸¸ã</p>\n",
      "</div>\n",
      "<div class=\"versionadded\">\n",
      "<p><span class=\"versionmodified added\">å¨ 3.8 çæ¬æ°å å¥: </span><code class=\"docutils literal notranslate\"><span class=\"pre\">ast.PyCF_ALLOW_TOP_LEVEL_AWAIT</span></code> ç°å¨å¯å¨ææ ä¸­ä¼ å¥ä»¥å¯ç¨å¯¹æé«å±çº§ <code class=\"docutils literal notranslate\"><span class=\"pre\">await</span></code>, <code class=\"docutils literal notranslate\"><span class=\"pre\">async</span> <span class=\"pre\">for</span></code> å <code class=\"docutils literal notranslate\"><span class=\"pre\">async</span> <span class=\"pre\">with</span></code> çæ¯æã</p>\n",
      "</div>\n",
      "</dd></dl>\n",
      "\n",
      "<dl class=\"py class\">\n",
      "<dt class=\"sig sig-object py\" id=\"complex\">\n",
      "<em class=\"property\"><span class=\"pre\">class</span><span class=\"w\"> </span></em><span class=\"sig-name descname\"><span class=\"pre\">complex</span></span><span class=\"sig-paren\">(</span><em class=\"sig-param\"><span class=\"n\"><span class=\"pre\">real</span></span><span class=\"o\"><span class=\"pre\">=</span></span><span class=\"default_value\"><span class=\"pre\">0</span></span></em>, <em class=\"sig-param\"><span class=\"n\"><span class=\"pre\">imag</span></span><span class=\"o\"><span class=\"pre\">=</span></span><span class=\"default_value\"><span class=\"pre\">0</span></span></em><span class=\"sig-paren\">)</span><a class=\"headerlink\" href=\"#complex\" title=\"æ¬å®ç¾©çæ°¸ä¹é£çµ\">Â¶</a></dt>\n",
      "<dt class=\"sig sig-object py\">\n",
      "<em class=\"property\"><span class=\"pre\">class</span><span class=\"w\"> </span></em><span class=\"sig-name descname\"><span class=\"pre\">complex</span></span><span class=\"sig-paren\">(</span><em class=\"sig-param\"><span class=\"n\"><span class=\"pre\">string</span></span></em><span class=\"sig-paren\">)</span></dt>\n",
      "<dd><p>åå³å¼çº <em>real</em> + <em>imag</em>*1j çè¤æ¸ï¼æå°å­ä¸²ãæ¸å­è½æçºè¤æ¸ãå¦æç¬¬ä¸åå¼æ¸æ¯å­ä¸²ï¼åå®è¢«è¦çºä¸åè¤æ¸ï¼ä¸¦ä¸å½å¼å¼å«æä¸å¾æç¬¬äºåå¼æ¸ãç¬¬äºåå¼æ¸çµå°ä¸è½æ¯å­ä¸²ãæ¯åå¼æ¸é½å¯ä»¥æ¯ä»»æçæ¸å¼åå¥ï¼åæ¬è¤æ¸ï¼ãå¦æçç¥äº <em>imag</em>ï¼åé è¨­å¼çºé¶ï¼å»ºæ§å½å¼æå <a class=\"reference internal\" href=\"#int\" title=\"int\"><code class=\"xref py py-class docutils literal notranslate\"><span class=\"pre\">int</span></code></a> å <a class=\"reference internal\" href=\"#float\" title=\"float\"><code class=\"xref py py-class docutils literal notranslate\"><span class=\"pre\">float</span></code></a> ä¸æ¨£é²è¡æ¸å¼è½æãå¦æå©åå¼æ¸é½çç¥ï¼ååå³ <code class=\"docutils literal notranslate\"><span class=\"pre\">0j</span></code>ã</p>\n",
      "<p>å°æ¼ä¸è¬ç Python ç©ä»¶ <code class=\"docutils literal notranslate\"><span class=\"pre\">x</span></code>ï¼<code class=\"docutils literal notranslate\"><span class=\"pre\">complex(x)</span></code> ææ´¾çµ¦ <code class=\"docutils literal notranslate\"><span class=\"pre\">x.__complex__()</span></code>ãå¦ææªå®ç¾© <a class=\"reference internal\" href=\"../reference/datamodel.html#object.__complex__\" title=\"object.__complex__\"><code class=\"xref py py-meth docutils literal notranslate\"><span class=\"pre\">__complex__()</span></code></a> åæåéä½¿ç¨ <a class=\"reference internal\" href=\"../reference/datamodel.html#object.__float__\" title=\"object.__float__\"><code class=\"xref py py-meth docutils literal notranslate\"><span class=\"pre\">__float__()</span></code></a>ãå¦ææªå®ç¾© <code class=\"xref py py-meth docutils literal notranslate\"><span class=\"pre\">__float__()</span></code> åæåéä½¿ç¨ <a class=\"reference internal\" href=\"../reference/datamodel.html#object.__index__\" title=\"object.__index__\"><code class=\"xref py py-meth docutils literal notranslate\"><span class=\"pre\">__index__()</span></code></a>ã</p>\n",
      "<div class=\"admonition note\">\n",
      "<p class=\"admonition-title\">åè¨»</p>\n",
      "<p>ç¶è½æèªä¸å­ä¸²æï¼å­ä¸²å¨ <code class=\"docutils literal notranslate\"><span class=\"pre\">+</span></code> æ <code class=\"docutils literal notranslate\"><span class=\"pre\">-</span></code> éç®å­çå¨åå¿é ä¸è½æç©ºæ ¼ãä¾å¦ <code class=\"docutils literal notranslate\"><span class=\"pre\">complex('1+2j')</span></code> æ¯ææçï¼ä½ <code class=\"docutils literal notranslate\"><span class=\"pre\">complex('1</span> <span class=\"pre\">+</span> <span class=\"pre\">2j')</span></code> æè§¸ç¼ <a class=\"reference internal\" href=\"exceptions.html#ValueError\" title=\"ValueError\"><code class=\"xref py py-exc docutils literal notranslate\"><span class=\"pre\">ValueError</span></code></a>ã</p>\n",
      "</div>\n",
      "<p>è¤æ¸åå¥å¨ <a class=\"reference internal\" href=\"stdtypes.html#typesnumeric\"><span class=\"std std-ref\">æ°å­ç±»å --- int, float, complex</span></a> ä¸­æç¸éæè¿°ã</p>\n",
      "<div class=\"versionchanged\">\n",
      "<p><span class=\"versionmodified changed\">å¨ 3.6 çæ¬è®æ´: </span>å¯ä»¥ä½¿ç¨åºç·å°ç¨å¼ç¢¼æå­ä¸­çæ¸å­é²è¡åçµã</p>\n",
      "</div>\n",
      "<div class=\"versionchanged\">\n",
      "<p><span class=\"versionmodified changed\">å¨ 3.8 çæ¬è®æ´: </span>å¦æ <a class=\"reference internal\" href=\"../reference/datamodel.html#object.__complex__\" title=\"object.__complex__\"><code class=\"xref py py-meth docutils literal notranslate\"><span class=\"pre\">__complex__()</span></code></a> å <a class=\"reference internal\" href=\"../reference/datamodel.html#object.__float__\" title=\"object.__float__\"><code class=\"xref py py-meth docutils literal notranslate\"><span class=\"pre\">__float__()</span></code></a> åæªå®ä¹ååéè³ <a class=\"reference internal\" href=\"../reference/datamodel.html#object.__index__\" title=\"object.__index__\"><code class=\"xref py py-meth docutils literal notranslate\"><span class=\"pre\">__index__()</span></code></a>ã</p>\n",
      "</div>\n",
      "</dd></dl>\n",
      "\n",
      "<dl class=\"py function\">\n",
      "<dt class=\"sig sig-object py\" id=\"delattr\">\n",
      "<span class=\"sig-name descname\"><span class=\"pre\">delattr</span></span><span class=\"sig-paren\">(</span><em class=\"sig-param\"><span class=\"n\"><span class=\"pre\">object</span></span></em>, <em class=\"sig-param\"><span class=\"n\"><span class=\"pre\">name</span></span></em><span class=\"sig-paren\">)</span><a class=\"headerlink\" href=\"#delattr\" title=\"æ¬å®ç¾©çæ°¸ä¹é£çµ\">Â¶</a></dt>\n",
      "<dd><p>éæ¯ <a class=\"reference internal\" href=\"#setattr\" title=\"setattr\"><code class=\"xref py py-func docutils literal notranslate\"><span class=\"pre\">setattr()</span></code></a> ç¸éçå½å¼ãå¼æ¸æ¯ä¸åç©ä»¶åä¸åå­ä¸²ï¼è©²å­ä¸²å¿é æ¯ç©ä»¶ä¸­æåå±¬æ§åç¨±ãå¦æç©ä»¶åè¨±ï¼è©²å½å¼å°åªé¤æå®çå±¬æ§ãä¾å¦ <code class=\"docutils literal notranslate\"><span class=\"pre\">delattr(x,</span> <span class=\"pre\">'foobar')</span></code> ç­å¹æ¼ <code class=\"docutils literal notranslate\"><span class=\"pre\">del</span> <span class=\"pre\">x.foobar</span></code>ã<em>name</em> ä¸å¿æ¯å Python è­å¥ç¬¦ (identifier)ï¼è«è¦ <a class=\"reference internal\" href=\"#setattr\" title=\"setattr\"><code class=\"xref py py-func docutils literal notranslate\"><span class=\"pre\">setattr()</span></code></a>ï¼ã</p>\n",
      "</dd></dl>\n",
      "\n",
      "<span class=\"target\" id=\"func-dict\"></span><dl class=\"py class\">\n",
      "<dt class=\"sig sig-object py\">\n",
      "<em class=\"property\"><span class=\"pre\">class</span><span class=\"w\"> </span></em><span class=\"sig-name descname\"><span class=\"pre\">dict</span></span><span class=\"sig-paren\">(</span><em class=\"sig-param\"><span class=\"o\"><span class=\"pre\">**</span></span><span class=\"n\"><span class=\"pre\">kwarg</span></span></em><span class=\"sig-paren\">)</span></dt>\n",
      "<dt class=\"sig sig-object py\">\n",
      "<em class=\"property\"><span class=\"pre\">class</span><span class=\"w\"> </span></em><span class=\"sig-name descname\"><span class=\"pre\">dict</span></span><span class=\"sig-paren\">(</span><em class=\"sig-param\"><span class=\"n\"><span class=\"pre\">mapping</span></span></em>, <em class=\"sig-param\"><span class=\"o\"><span class=\"pre\">**</span></span><span class=\"n\"><span class=\"pre\">kwarg</span></span></em><span class=\"sig-paren\">)</span></dt>\n",
      "<dt class=\"sig sig-object py\">\n",
      "<em class=\"property\"><span class=\"pre\">class</span><span class=\"w\"> </span></em><span class=\"sig-name descname\"><span class=\"pre\">dict</span></span><span class=\"sig-paren\">(</span><em class=\"sig-param\"><span class=\"n\"><span class=\"pre\">iterable</span></span></em>, <em class=\"sig-param\"><span class=\"o\"><span class=\"pre\">**</span></span><span class=\"n\"><span class=\"pre\">kwarg</span></span></em><span class=\"sig-paren\">)</span></dt>\n",
      "<dd><p>å»ºç«ä¸åæ°ç dictionaryï¼å­å¸ï¼ã<a class=\"reference internal\" href=\"stdtypes.html#dict\" title=\"dict\"><code class=\"xref py py-class docutils literal notranslate\"><span class=\"pre\">dict</span></code></a> ç©ä»¶æ¯ä¸å dictionary classãåè¦ <a class=\"reference internal\" href=\"stdtypes.html#dict\" title=\"dict\"><code class=\"xref py py-class docutils literal notranslate\"><span class=\"pre\">dict</span></code></a> å <a class=\"reference internal\" href=\"stdtypes.html#typesmapping\"><span class=\"std std-ref\">æ å°ç±»å --- dict</span></a> ä¾ç­è§£éå classã</p>\n",
      "<p>å¶ä»å®¹å¨åå¥ï¼è«åè¦å§å»ºç <a class=\"reference internal\" href=\"stdtypes.html#list\" title=\"list\"><code class=\"xref py py-class docutils literal notranslate\"><span class=\"pre\">list</span></code></a>ã<a class=\"reference internal\" href=\"stdtypes.html#set\" title=\"set\"><code class=\"xref py py-class docutils literal notranslate\"><span class=\"pre\">set</span></code></a> å <a class=\"reference internal\" href=\"stdtypes.html#tuple\" title=\"tuple\"><code class=\"xref py py-class docutils literal notranslate\"><span class=\"pre\">tuple</span></code></a> classï¼ä»¥å <a class=\"reference internal\" href=\"collections.html#module-collections\" title=\"collections: Container datatypes\"><code class=\"xref py py-mod docutils literal notranslate\"><span class=\"pre\">collections</span></code></a> moduleã</p>\n",
      "</dd></dl>\n",
      "\n",
      "<dl class=\"py function\">\n",
      "<dt class=\"sig sig-object py\" id=\"dir\">\n",
      "<span class=\"sig-name descname\"><span class=\"pre\">dir</span></span><span class=\"sig-paren\">(</span><span class=\"sig-paren\">)</span><a class=\"headerlink\" href=\"#dir\" title=\"æ¬å®ç¾©çæ°¸ä¹é£çµ\">Â¶</a></dt>\n",
      "<dt class=\"sig sig-object py\">\n",
      "<span class=\"sig-name descname\"><span class=\"pre\">dir</span></span><span class=\"sig-paren\">(</span><em class=\"sig-param\"><span class=\"n\"><span class=\"pre\">object</span></span></em><span class=\"sig-paren\">)</span></dt>\n",
      "<dd><p>å¦ææ²æå¼æ¸ï¼ååå³ç¶åæ¬å°ä½ç¨åä¸­çåç¨±åè¡¨ãå¦ææå¼æ¸ï¼å®æåè©¦åå³è©²ç©ä»¶çææå±¬æ§åè¡¨ã</p>\n",
      "<p>å¦æç©ä»¶æä¸ååçº <code class=\"xref py py-meth docutils literal notranslate\"><span class=\"pre\">__dir__()</span></code> ç methodï¼é£éº¼è©² method å°è¢«å¼å«ï¼ä¸¦ä¸å¿é åå³ä¸åå±¬æ§åè¡¨ãéåè¨±å¯¦ç¾èªå®ç¾© <code class=\"xref py py-func docutils literal notranslate\"><span class=\"pre\">__getattr__()</span></code> æ <code class=\"xref py py-func docutils literal notranslate\"><span class=\"pre\">__getattribute__()</span></code> å½å¼çç©ä»¶è½å¤ èªå®ç¾© <a class=\"reference internal\" href=\"#dir\" title=\"dir\"><code class=\"xref py py-func docutils literal notranslate\"><span class=\"pre\">dir()</span></code></a> ä¾å ±åå®åçå±¬æ§ã</p>\n",
      "<p>å¦æç©ä»¶ä¸æä¾ <code class=\"xref py py-meth docutils literal notranslate\"><span class=\"pre\">__dir__()</span></code>ï¼éåå½å¼æåè©¦å¾ç©ä»¶å·²å®ç¾©ç <a class=\"reference internal\" href=\"stdtypes.html#object.__dict__\" title=\"object.__dict__\"><code class=\"xref py py-attr docutils literal notranslate\"><span class=\"pre\">__dict__</span></code></a> å±¬æ§ååå¥ç©ä»¶æ¶éè³è¨ãçµæåè¡¨ä¸¦ä¸ç¸½æ¯å®æ´çï¼å¦æç©ä»¶æèªå®ç¾© <code class=\"xref py py-func docutils literal notranslate\"><span class=\"pre\">__getattr__()</span></code>ï¼é£çµæå¯è½ä¸æºç¢ºã</p>\n",
      "<p>é è¨­ç <a class=\"reference internal\" href=\"#dir\" title=\"dir\"><code class=\"xref py py-func docutils literal notranslate\"><span class=\"pre\">dir()</span></code></a> æ©å¶å°ä¸ååå¥çç©ä»¶æä¸åè¡çºï¼å®æè©¦ååå³æç¸éèéæå®æ´çè³è¨ï¼</p>\n",
      "<ul class=\"simple\">\n",
      "<li><p>å¦æç©ä»¶æ¯ module ç©ä»¶ï¼ååè¡¨åå« module çå±¬æ§åç¨±ã</p></li>\n",
      "<li><p>å¦æç©ä»¶æ¯åå¥æ class ç©ä»¶ï¼ååè¡¨åå«å®åçå±¬æ§åç¨±ï¼ä¸¦ä¸éè¿´æ¥è©¢å¶åºç¤çææå±¬æ§ã</p></li>\n",
      "<li><p>å¦åï¼åå«ç©ä»¶çå±¬æ§åç¨±åè¡¨ãå®ç class å±¬æ§åç¨±ï¼ä¸¦ä¸éè¿´æ¥è©¢å®ç class çææåºç¤ class çå±¬æ§ã</p></li>\n",
      "</ul>\n",
      "<p>åå³çåè¡¨æå­æ¯è¡¨æåºï¼ä¾å¦ï¼</p>\n",
      "<div class=\"doctest highlight-default notranslate\"><div class=\"highlight\"><pre><span></span><span class=\"gp\">&gt;&gt;&gt; </span><span class=\"kn\">import</span> <span class=\"nn\">struct</span>\n",
      "<span class=\"gp\">&gt;&gt;&gt; </span><span class=\"nb\">dir</span><span class=\"p\">()</span>   <span class=\"c1\"># show the names in the module namespace  </span>\n",
      "<span class=\"go\">[&#39;__builtins__&#39;, &#39;__name__&#39;, &#39;struct&#39;]</span>\n",
      "<span class=\"gp\">&gt;&gt;&gt; </span><span class=\"nb\">dir</span><span class=\"p\">(</span><span class=\"n\">struct</span><span class=\"p\">)</span>   <span class=\"c1\"># show the names in the struct module </span>\n",
      "<span class=\"go\">[&#39;Struct&#39;, &#39;__all__&#39;, &#39;__builtins__&#39;, &#39;__cached__&#39;, &#39;__doc__&#39;, &#39;__file__&#39;,</span>\n",
      "<span class=\"go\"> &#39;__initializing__&#39;, &#39;__loader__&#39;, &#39;__name__&#39;, &#39;__package__&#39;,</span>\n",
      "<span class=\"go\"> &#39;_clearcache&#39;, &#39;calcsize&#39;, &#39;error&#39;, &#39;pack&#39;, &#39;pack_into&#39;,</span>\n",
      "<span class=\"go\"> &#39;unpack&#39;, &#39;unpack_from&#39;]</span>\n",
      "<span class=\"gp\">&gt;&gt;&gt; </span><span class=\"k\">class</span> <span class=\"nc\">Shape</span><span class=\"p\">:</span>\n",
      "<span class=\"gp\">... </span>    <span class=\"k\">def</span> <span class=\"fm\">__dir__</span><span class=\"p\">(</span><span class=\"bp\">self</span><span class=\"p\">):</span>\n",
      "<span class=\"gp\">... </span>        <span class=\"k\">return</span> <span class=\"p\">[</span><span class=\"s1\">&#39;area&#39;</span><span class=\"p\">,</span> <span class=\"s1\">&#39;perimeter&#39;</span><span class=\"p\">,</span> <span class=\"s1\">&#39;location&#39;</span><span class=\"p\">]</span>\n",
      "<span class=\"gp\">...</span>\n",
      "<span class=\"gp\">&gt;&gt;&gt; </span><span class=\"n\">s</span> <span class=\"o\">=</span> <span class=\"n\">Shape</span><span class=\"p\">()</span>\n",
      "<span class=\"gp\">&gt;&gt;&gt; </span><span class=\"nb\">dir</span><span class=\"p\">(</span><span class=\"n\">s</span><span class=\"p\">)</span>\n",
      "<span class=\"go\">[&#39;area&#39;, &#39;location&#39;, &#39;perimeter&#39;]</span>\n",
      "</pre></div>\n",
      "</div>\n",
      "<div class=\"admonition note\">\n",
      "<p class=\"admonition-title\">åè¨»</p>\n",
      "<p>å çº <a class=\"reference internal\" href=\"#dir\" title=\"dir\"><code class=\"xref py py-func docutils literal notranslate\"><span class=\"pre\">dir()</span></code></a> ä¸»è¦æ¯çºäºä¾¿æ¼å¨äºåå¼æç¤ºå­åæä½¿ç¨ï¼æä»¥å®æè©¦ååå³äººåæèè¶£çåç¨±éåï¼èä¸æ¯è©¦åä¿è­çµæçå´æ ¼æ§æä¸è´æ§ï¼å®å·é«çè¡çºä¹å¯è½å¨ä¸åçæ¬ä¹éæ¹è®ãä¾å¦ï¼ç¶å¼æ¸æ¯ä¸å class æï¼metaclass çå±¬æ§ä¸åå«å¨çµæåè¡¨ä¸­ã</p>\n",
      "</div>\n",
      "</dd></dl>\n",
      "\n",
      "<dl class=\"py function\">\n",
      "<dt class=\"sig sig-object py\" id=\"divmod\">\n",
      "<span class=\"sig-name descname\"><span class=\"pre\">divmod</span></span><span class=\"sig-paren\">(</span><em class=\"sig-param\"><span class=\"n\"><span class=\"pre\">a</span></span></em>, <em class=\"sig-param\"><span class=\"n\"><span class=\"pre\">b</span></span></em><span class=\"sig-paren\">)</span><a class=\"headerlink\" href=\"#divmod\" title=\"æ¬å®ç¾©çæ°¸ä¹é£çµ\">Â¶</a></dt>\n",
      "<dd><p>å®å°å©åï¼éè¤æ¸ï¼æ¸å­ä½çºå¼æ¸ï¼ä¸¦å¨å·è¡æ´æ¸é¤æ³æåå³ä¸å°ååé¤æ¸ãå°æ¼æ··åéç®ååå¥ï¼é©ç¨äºé²ä½ç®è¡éç®å­çè¦åãå°æ¼æ´æ¸ï¼éç®çµæå <code class=\"docutils literal notranslate\"><span class=\"pre\">(a</span> <span class=\"pre\">//</span> <span class=\"pre\">b,</span> <span class=\"pre\">a</span> <span class=\"pre\">%</span> <span class=\"pre\">b)</span></code> ä¸è´ãå°æ¼æµ®é»æ¸ï¼éç®çµææ¯ <code class=\"docutils literal notranslate\"><span class=\"pre\">(q,</span> <span class=\"pre\">a</span> <span class=\"pre\">%</span> <span class=\"pre\">b)</span></code>ï¼<em>q</em> éå¸¸æ¯ <code class=\"docutils literal notranslate\"><span class=\"pre\">math.floor(a</span> <span class=\"pre\">/</span> <span class=\"pre\">b)</span></code> ä½å¯è½ææ¯ 1 å°ãå¨ä»»ä½ææ³ä¸ï¼<code class=\"docutils literal notranslate\"><span class=\"pre\">q</span> <span class=\"pre\">*</span> <span class=\"pre\">b</span> <span class=\"pre\">+</span> <span class=\"pre\">a</span> <span class=\"pre\">%</span> <span class=\"pre\">b</span></code> å <em>a</em> åºæ¬ç¸ç­ï¼å¦æ <code class=\"docutils literal notranslate\"><span class=\"pre\">a</span> <span class=\"pre\">%</span> <span class=\"pre\">b</span></code> éé¶ï¼åå®çç¬¦èå <em>b</em> ä¸æ¨£ï¼ä¸ <code class=\"docutils literal notranslate\"><span class=\"pre\">0</span> <span class=\"pre\">&lt;=</span> <span class=\"pre\">abs(a</span> <span class=\"pre\">%</span> <span class=\"pre\">b)</span> <span class=\"pre\">&lt;</span> <span class=\"pre\">abs(b)</span></code>ã</p>\n",
      "</dd></dl>\n",
      "\n",
      "<dl class=\"py function\">\n",
      "<dt class=\"sig sig-object py\" id=\"enumerate\">\n",
      "<span class=\"sig-name descname\"><span class=\"pre\">enumerate</span></span><span class=\"sig-paren\">(</span><em class=\"sig-param\"><span class=\"n\"><span class=\"pre\">iterable</span></span></em>, <em class=\"sig-param\"><span class=\"n\"><span class=\"pre\">start</span></span><span class=\"o\"><span class=\"pre\">=</span></span><span class=\"default_value\"><span class=\"pre\">0</span></span></em><span class=\"sig-paren\">)</span><a class=\"headerlink\" href=\"#enumerate\" title=\"æ¬å®ç¾©çæ°¸ä¹é£çµ\">Â¶</a></dt>\n",
      "<dd><p>åå³ä¸ååè (enumerate) ç©ä»¶ã<em>iterable</em> å¿é æ¯ä¸ååºåã<a class=\"reference internal\" href=\"../glossary.html#term-iterator\"><span class=\"xref std std-term\">iterator</span></a> æå¶ä»æ¯æ´çä»£çç©ä»¶ã<a class=\"reference internal\" href=\"#enumerate\" title=\"enumerate\"><code class=\"xref py py-func docutils literal notranslate\"><span class=\"pre\">enumerate()</span></code></a> åå³ä¹ iterator ç <a class=\"reference internal\" href=\"stdtypes.html#iterator.__next__\" title=\"iterator.__next__\"><code class=\"xref py py-meth docutils literal notranslate\"><span class=\"pre\">__next__()</span></code></a> method åå³ä¸å tupleï¼åçµï¼ï¼è£¡é¢åå«ä¸åè¨æ¸å¼ï¼å¾ <em>start</em> éå§ï¼é è¨­çº 0ï¼åééçä»£ <em>iterable</em> ç²å¾çå¼ã</p>\n",
      "<div class=\"doctest highlight-default notranslate\"><div class=\"highlight\"><pre><span></span><span class=\"gp\">&gt;&gt;&gt; </span><span class=\"n\">seasons</span> <span class=\"o\">=</span> <span class=\"p\">[</span><span class=\"s1\">&#39;Spring&#39;</span><span class=\"p\">,</span> <span class=\"s1\">&#39;Summer&#39;</span><span class=\"p\">,</span> <span class=\"s1\">&#39;Fall&#39;</span><span class=\"p\">,</span> <span class=\"s1\">&#39;Winter&#39;</span><span class=\"p\">]</span>\n",
      "<span class=\"gp\">&gt;&gt;&gt; </span><span class=\"nb\">list</span><span class=\"p\">(</span><span class=\"nb\">enumerate</span><span class=\"p\">(</span><span class=\"n\">seasons</span><span class=\"p\">))</span>\n",
      "<span class=\"go\">[(0, &#39;Spring&#39;), (1, &#39;Summer&#39;), (2, &#39;Fall&#39;), (3, &#39;Winter&#39;)]</span>\n",
      "<span class=\"gp\">&gt;&gt;&gt; </span><span class=\"nb\">list</span><span class=\"p\">(</span><span class=\"nb\">enumerate</span><span class=\"p\">(</span><span class=\"n\">seasons</span><span class=\"p\">,</span> <span class=\"n\">start</span><span class=\"o\">=</span><span class=\"mi\">1</span><span class=\"p\">))</span>\n",
      "<span class=\"go\">[(1, &#39;Spring&#39;), (2, &#39;Summer&#39;), (3, &#39;Fall&#39;), (4, &#39;Winter&#39;)]</span>\n",
      "</pre></div>\n",
      "</div>\n",
      "<p>ç­å¹æ¼ï¼</p>\n",
      "<div class=\"highlight-python3 notranslate\"><div class=\"highlight\"><pre><span></span><span class=\"k\">def</span> <span class=\"nf\">enumerate</span><span class=\"p\">(</span><span class=\"n\">iterable</span><span class=\"p\">,</span> <span class=\"n\">start</span><span class=\"o\">=</span><span class=\"mi\">0</span><span class=\"p\">):</span>\n",
      "    <span class=\"n\">n</span> <span class=\"o\">=</span> <span class=\"n\">start</span>\n",
      "    <span class=\"k\">for</span> <span class=\"n\">elem</span> <span class=\"ow\">in</span> <span class=\"n\">iterable</span><span class=\"p\">:</span>\n",
      "        <span class=\"k\">yield</span> <span class=\"n\">n</span><span class=\"p\">,</span> <span class=\"n\">elem</span>\n",
      "        <span class=\"n\">n</span> <span class=\"o\">+=</span> <span class=\"mi\">1</span>\n",
      "</pre></div>\n",
      "</div>\n",
      "</dd></dl>\n",
      "\n",
      "<span class=\"target\" id=\"func-eval\"></span><dl class=\"py function\">\n",
      "<dt class=\"sig sig-object py\" id=\"eval\">\n",
      "<span class=\"sig-name descname\"><span class=\"pre\">eval</span></span><span class=\"sig-paren\">(</span><em class=\"sig-param\"><span class=\"n\"><span class=\"pre\">expression</span></span></em>, <em class=\"sig-param\"><span class=\"n\"><span class=\"pre\">globals</span></span><span class=\"o\"><span class=\"pre\">=</span></span><span class=\"default_value\"><span class=\"pre\">None</span></span></em>, <em class=\"sig-param\"><span class=\"n\"><span class=\"pre\">locals</span></span><span class=\"o\"><span class=\"pre\">=</span></span><span class=\"default_value\"><span class=\"pre\">None</span></span></em><span class=\"sig-paren\">)</span><a class=\"headerlink\" href=\"#eval\" title=\"æ¬å®ç¾©çæ°¸ä¹é£çµ\">Â¶</a></dt>\n",
      "<dd><p>å¼æ¸æ¯ä¸åå­ä¸²ï¼ä»¥åé¸ææ§ç globals å localsãå¦æææä¾é¸ææ§å¼æ¸ï¼<em>globals</em> å¿é æ¯ä¸å dictionaryã<em>locals</em> å¯ä»¥æ¯ä»»ä½æ å° (mapping) ç©ä»¶ã</p>\n",
      "<p><em>expression</em> å¼æ¸è¢«åæä¸¦å·è¡æ Python éç®å¼ï¼æè¡ä¸èè¨ï¼æ¯æ¢ä»¶åè¡¨ï¼ï¼<em>globals</em> å <em>locals</em> dictionaries åå¥ç¨ä½å¨åæ§åæ¬å°å½åç©ºéãå¦æ <em>globals</em> dictionary å­å¨ä½ç¼ºå° <code class=\"docutils literal notranslate\"><span class=\"pre\">__builtins__</span></code> çéµå¼ï¼é£ <em>expression</em> è¢«åæä¹åï¼å°çºè©²éµæå¥å°å§å»º <a class=\"reference internal\" href=\"builtins.html#module-builtins\" title=\"builtins: The module that provides the built-in namespace.\"><code class=\"xref py py-mod docutils literal notranslate\"><span class=\"pre\">builtins</span></code></a> module dictionary çå¼ç¨ãééº¼ä¸ä¾ï¼å¨å° <code class=\"docutils literal notranslate\"><span class=\"pre\">__builtins__</span></code> å³å¥ <a class=\"reference internal\" href=\"#eval\" title=\"eval\"><code class=\"xref py py-func docutils literal notranslate\"><span class=\"pre\">eval()</span></code></a> ä¹åï¼ä½ å¯ä»¥ééå°å®æå¥ <em>globals</em> ä¾æ§å¶ä½ éè¦åªäºå§å»ºå½å¼ãå¦æ <em>locals</em> è¢«çç¥ï¼é£å®çé è¨­å¼æ¯ <em>globals</em> dictionaryãå¦æå©å dictionary è®æ¸é½è¢«çç¥ï¼åå¨ <a class=\"reference internal\" href=\"#eval\" title=\"eval\"><code class=\"xref py py-func docutils literal notranslate\"><span class=\"pre\">eval()</span></code></a> è¢«å¼å«çç°å¢ä¸­å·è¡éç®å¼ãè«æ³¨æï¼<em>eval()</em> å¨å°éç°å¢ä¸­ç¡æ³å­å<a class=\"reference internal\" href=\"../glossary.html#term-nested-scope\"><span class=\"xref std std-term\">å·¢çå</span></a> (non-locals)ã</p>\n",
      "<p>è¿åå¼å°±æ¯è¡¨è¾¾å¼çæ±å¼ç»æã è¯­æ³éè¯¯å°ä½ä¸ºå¼å¸¸è¢«æ¥åã ä¾å¦ï¼</p>\n",
      "<div class=\"doctest highlight-default notranslate\"><div class=\"highlight\"><pre><span></span><span class=\"gp\">&gt;&gt;&gt; </span><span class=\"n\">x</span> <span class=\"o\">=</span> <span class=\"mi\">1</span>\n",
      "<span class=\"gp\">&gt;&gt;&gt; </span><span class=\"nb\">eval</span><span class=\"p\">(</span><span class=\"s1\">&#39;x+1&#39;</span><span class=\"p\">)</span>\n",
      "<span class=\"go\">2</span>\n",
      "</pre></div>\n",
      "</div>\n",
      "<p>éåå½å¼ä¹å¯ä»¥ç¨ä¾å·è¡ä»»æç¨å¼ç¢¼ç©ä»¶ï¼å¦è¢« <a class=\"reference internal\" href=\"#compile\" title=\"compile\"><code class=\"xref py py-func docutils literal notranslate\"><span class=\"pre\">compile()</span></code></a> å»ºç«çé£äºï¼ãéç¨®ææ³ä¸ï¼å³å¥çå¼æ¸æ¯ç¨å¼ç¢¼ç©ä»¶èä¸æ¯å­ä¸²ãå¦æç·¨è­¯è©²ç©ä»¶æç <em>mode</em> å¼æ¸æ¯ <code class=\"docutils literal notranslate\"><span class=\"pre\">'exec'</span></code>ï¼é£éº¼ <a class=\"reference internal\" href=\"#eval\" title=\"eval\"><code class=\"xref py py-func docutils literal notranslate\"><span class=\"pre\">eval()</span></code></a> åå³å¼çº <code class=\"docutils literal notranslate\"><span class=\"pre\">None</span></code>ã</p>\n",
      "<p>æç¤ºï¼<a class=\"reference internal\" href=\"#exec\" title=\"exec\"><code class=\"xref py py-func docutils literal notranslate\"><span class=\"pre\">exec()</span></code></a> å½å¼æ¯æ´åæå·è¡é³è¿°å¼ã<a class=\"reference internal\" href=\"#globals\" title=\"globals\"><code class=\"xref py py-func docutils literal notranslate\"><span class=\"pre\">globals()</span></code></a> å <a class=\"reference internal\" href=\"#locals\" title=\"locals\"><code class=\"xref py py-func docutils literal notranslate\"><span class=\"pre\">locals()</span></code></a> å½å¼åå¥åå³ç¶åçå¨åæ§åå±é¨æ§ dictionaryï¼å®åå°æ¼å°å¼æ¸å³éçµ¦ <a class=\"reference internal\" href=\"#eval\" title=\"eval\"><code class=\"xref py py-func docutils literal notranslate\"><span class=\"pre\">eval()</span></code></a> æ <a class=\"reference internal\" href=\"#exec\" title=\"exec\"><code class=\"xref py py-func docutils literal notranslate\"><span class=\"pre\">exec()</span></code></a> å¯è½ææ¹ä¾¿è¨±å¤ã</p>\n",
      "<p>å¦æç»åºçæºæ°æ®æ¯ä¸ªå­ç¬¦ä¸²ï¼é£ä¹å¶ååçç©ºæ ¼åå¶è¡¨ç¬¦å°è¢«åé¤ã</p>\n",
      "<p>å¦å¤å¯ä»¥åé± <a class=\"reference internal\" href=\"ast.html#ast.literal_eval\" title=\"ast.literal_eval\"><code class=\"xref py py-func docutils literal notranslate\"><span class=\"pre\">ast.literal_eval()</span></code></a>ï¼è©²å½å¼å¯ä»¥å®å¨å·è¡ååå«æå­çéç®å¼å­ä¸²ã</p>\n",
      "<p class=\"audit-hook\">å¼ç¼ä¸åéå¸¶å¼æ¸ <code class=\"docutils literal notranslate\"><span class=\"pre\">code_object</span></code> ç<a class=\"reference internal\" href=\"sys.html#auditing\"><span class=\"std std-ref\">ç¨½æ ¸äºä»¶</span></a> <code class=\"docutils literal notranslate\"><span class=\"pre\">exec</span></code>ã</p>\n",
      "</dd></dl>\n",
      "\n",
      "<span class=\"target\" id=\"index-2\"></span><dl class=\"py function\">\n",
      "<dt class=\"sig sig-object py\" id=\"exec\">\n",
      "<span class=\"sig-name descname\"><span class=\"pre\">exec</span></span><span class=\"sig-paren\">(</span><em class=\"sig-param\"><span class=\"n\"><span class=\"pre\">object</span></span></em>, <em class=\"sig-param\"><span class=\"n\"><span class=\"pre\">globals</span></span><span class=\"o\"><span class=\"pre\">=</span></span><span class=\"default_value\"><span class=\"pre\">None</span></span></em>, <em class=\"sig-param\"><span class=\"n\"><span class=\"pre\">locals</span></span><span class=\"o\"><span class=\"pre\">=</span></span><span class=\"default_value\"><span class=\"pre\">None</span></span></em>, <em class=\"sig-param\"><span class=\"o\"><span class=\"pre\">/</span></span></em>, <em class=\"sig-param\"><span class=\"o\"><span class=\"pre\">*</span></span></em>, <em class=\"sig-param\"><span class=\"n\"><span class=\"pre\">closure</span></span><span class=\"o\"><span class=\"pre\">=</span></span><span class=\"default_value\"><span class=\"pre\">None</span></span></em><span class=\"sig-paren\">)</span><a class=\"headerlink\" href=\"#exec\" title=\"æ¬å®ç¾©çæ°¸ä¹é£çµ\">Â¶</a></dt>\n",
      "<dd><p>éåå½å¼æ¯æ´åæå·è¡ Python ç¨å¼ç¢¼ã<em>object</em> å¿é æ¯å­ä¸²æèç¨å¼ç¢¼ç©ä»¶ãå¦ææ¯å­ä¸²ï¼é£éº¼è©²å­ä¸²å°è¢«åæçºä¸ç³»å Python é³è¿°å¼ä¸¦å·è¡ï¼é¤éç¼çèªæ³é¯èª¤ï¼ã<a class=\"footnote-reference brackets\" href=\"#id2\" id=\"id1\">1</a> å¦ææ¯ç¨å¼ç¢¼ç©ä»¶ï¼å®å°è¢«ç´æ¥å·è¡ãç¡è«åªç¨®ææ³ï¼è¢«å·è¡çç¨å¼ç¢¼é½éè¦åæªæ¡è¼¸å¥ä¸æ¨£æ¯ææçï¼å¯åèæåä¸­éæ¼ <a class=\"reference internal\" href=\"../reference/toplevel_components.html#file-input\"><span class=\"std std-ref\">æªæ¡è¼¸å¥</span></a> çç« ç¯ï¼ãè«æ³¨æï¼å³ä½¿å¨å³éçµ¦ <a class=\"reference internal\" href=\"#exec\" title=\"exec\"><code class=\"xref py py-func docutils literal notranslate\"><span class=\"pre\">exec()</span></code></a> å½å¼çç¨å¼ç¢¼çä¸ä¸æä¸­ï¼<a class=\"reference internal\" href=\"../reference/simple_stmts.html#nonlocal\"><code class=\"xref std std-keyword docutils literal notranslate\"><span class=\"pre\">nonlocal</span></code></a>ã<a class=\"reference internal\" href=\"../reference/simple_stmts.html#yield\"><code class=\"xref std std-keyword docutils literal notranslate\"><span class=\"pre\">yield</span></code></a> å <a class=\"reference internal\" href=\"../reference/simple_stmts.html#return\"><code class=\"xref std std-keyword docutils literal notranslate\"><span class=\"pre\">return</span></code></a> é³è¿°å¼ä¹ä¸è½å¨å½å¼ä¹å¤ä½¿ç¨ãè©²å½å¼åå³å¼æ¯ <code class=\"docutils literal notranslate\"><span class=\"pre\">None</span></code>ã</p>\n",
      "<p>ç¡è«åªç¨®ææ³ï¼å¦æçç¥äºé¸ææ§å¼æ¸ï¼ç¨å¼ç¢¼å°å¨ç¶åä½ç¨åå§å·è¡ãå¦æåªæä¾äº <em>globals</em> å¼æ¸ï¼å°±å¿é æ¯ dictionary åå¥ï¼èä¸æè¢«ç¨ä½å¨åæ§åæ¬å°è®æ¸ãå¦æåææä¾äº <em>globals</em> å <em>locals</em> å¼æ¸ï¼å®ååå¥è¢«ç¨ä½å¨åæ§åæ¬å°è®æ¸ãå¦ææä¾äº <em>locals</em> å¼æ¸ï¼åå®å¯ä»¥æ¯ä»»ä½æ å°ç©ä»¶ãè«è¨ä½å¨ module å±¤ç´ä¸­å¨åæ§åæ¬å°è®æ¸æ¯ç¸åç dictionaryãå¦æ exec æå©åä¸åç <em>globals</em> å <em>locals</em> ç©ä»¶ï¼ç¨å¼ç¢¼å°±ååµå¥å¨ class å®ç¾©ä¸­ä¸æ¨£å·è¡ã</p>\n",
      "<p>å¦æ <em>globals</em> dictionary ä¸åå« <code class=\"docutils literal notranslate\"><span class=\"pre\">__builtins__</span></code> éµå¼ï¼åå°çºè©²éµæå¥å°å§å»º <a class=\"reference internal\" href=\"builtins.html#module-builtins\" title=\"builtins: The module that provides the built-in namespace.\"><code class=\"xref py py-mod docutils literal notranslate\"><span class=\"pre\">builtins</span></code></a> module dictionary çå¼ç¨ãå æ­¤ï¼å¨å°å·è¡çç¨å¼ç¢¼å³éçµ¦ <a class=\"reference internal\" href=\"#exec\" title=\"exec\"><code class=\"xref py py-func docutils literal notranslate\"><span class=\"pre\">exec()</span></code></a> ä¹åï¼å¯ä»¥ééå°èªå·±ç <code class=\"docutils literal notranslate\"><span class=\"pre\">__builtins__</span></code> dictionary æå¥å° <em>globals</em> ä¸­ä¾æ§å¶å¯ä»¥ä½¿ç¨åªäºå§å»ºç¨å¼ç¢¼ã</p>\n",
      "<p><em>closure</em> åæ°æå®ä¸ä¸ªé­å  -- å³ç± cellvar ç»æçåç»ã å®ä»å¨ <em>object</em> æ¯ä¸ä¸ªåå«èªç±åéçä»£ç å¯¹è±¡æ¶æå¯ç¨ã è¯¥åç»çé¿åº¦å¿é¡»ä¸ä»£ç å¯¹è±¡æå¼ç¨çèªç±åéçæ°éå®å¨ä¸è´ã</p>\n",
      "<p class=\"audit-hook\">å¼ç¼ä¸åéå¸¶å¼æ¸ <code class=\"docutils literal notranslate\"><span class=\"pre\">code_object</span></code> ç<a class=\"reference internal\" href=\"sys.html#auditing\"><span class=\"std std-ref\">ç¨½æ ¸äºä»¶</span></a> <code class=\"docutils literal notranslate\"><span class=\"pre\">exec</span></code>ã</p>\n",
      "<div class=\"admonition note\">\n",
      "<p class=\"admonition-title\">åè¨»</p>\n",
      "<p>å§å»º <a class=\"reference internal\" href=\"#globals\" title=\"globals\"><code class=\"xref py py-func docutils literal notranslate\"><span class=\"pre\">globals()</span></code></a> å <a class=\"reference internal\" href=\"#locals\" title=\"locals\"><code class=\"xref py py-func docutils literal notranslate\"><span class=\"pre\">locals()</span></code></a> å½å¼åèªåå³ç¶åçå¨åæ§åæ¬å° dictionaryï¼å æ­¤å¯ä»¥å°å®åå³éçµ¦ <a class=\"reference internal\" href=\"#exec\" title=\"exec\"><code class=\"xref py py-func docutils literal notranslate\"><span class=\"pre\">exec()</span></code></a> çç¬¬äºååç¬¬ä¸åå¼æ¸ã</p>\n",
      "</div>\n",
      "<div class=\"admonition note\">\n",
      "<p class=\"admonition-title\">åè¨»</p>\n",
      "<p>é è¨­ææ³ä¸ï¼<em>locals</em> çè¡çºå¦ä¸é¢ <a class=\"reference internal\" href=\"#locals\" title=\"locals\"><code class=\"xref py py-func docutils literal notranslate\"><span class=\"pre\">locals()</span></code></a> å½å¼æè¿°çä¸æ¨£ï¼ä¸è¦è©¦åæ¹è®é è¨­ç <em>locals</em> dictionaryãå¦ææ¨æ³å¨ <a class=\"reference internal\" href=\"#exec\" title=\"exec\"><code class=\"xref py py-func docutils literal notranslate\"><span class=\"pre\">exec()</span></code></a> å½å¼åå³æç¥éç¨å¼ç¢¼å° <em>locals</em> çè®åï¼è«æç¢ºå°å³é <em>locals</em> dictionary ã</p>\n",
      "</div>\n",
      "<div class=\"versionchanged\">\n",
      "<p><span class=\"versionmodified changed\">å¨ 3.11 çæ¬è®æ´: </span>å¢å äº <em>closure</em> åæ¸ã</p>\n",
      "</div>\n",
      "</dd></dl>\n",
      "\n",
      "<dl class=\"py function\">\n",
      "<dt class=\"sig sig-object py\" id=\"filter\">\n",
      "<span class=\"sig-name descname\"><span class=\"pre\">filter</span></span><span class=\"sig-paren\">(</span><em class=\"sig-param\"><span class=\"n\"><span class=\"pre\">function</span></span></em>, <em class=\"sig-param\"><span class=\"n\"><span class=\"pre\">iterable</span></span></em><span class=\"sig-paren\">)</span><a class=\"headerlink\" href=\"#filter\" title=\"æ¬å®ç¾©çæ°¸ä¹é£çµ\">Â¶</a></dt>\n",
      "<dd><p>ç¨ <em>iterable</em> ä¸­å½å¼ <em>function</em> çº True çé£äºåç´ ï¼æ§å»ºä¸åæ°ç iteratorã<em>iterable</em> å¯ä»¥æ¯ä¸ååºåãä¸åæ¯æ´çä»£çå®¹å¨ãæä¸å iteratorãå¦æ <em>function</em> æ¯ <code class=\"docutils literal notranslate\"><span class=\"pre\">None</span></code>ï¼åæåè¨­å®æ¯ä¸åæç­å½å¼ï¼å³ <em>iterable</em> ä¸­ææåå¼åç´ æè¢«ç§»é¤ã</p>\n",
      "<p>è«æ³¨æï¼<code class=\"docutils literal notranslate\"><span class=\"pre\">filter(function,</span> <span class=\"pre\">iterable)</span></code> ç¸ç¶æ¼ä¸åçæå¨éç®å¼ï¼ç¶ function ä¸æ¯ <code class=\"docutils literal notranslate\"><span class=\"pre\">None</span></code> çæåçº <code class=\"docutils literal notranslate\"><span class=\"pre\">(item</span> <span class=\"pre\">for</span> <span class=\"pre\">item</span> <span class=\"pre\">in</span> <span class=\"pre\">iterable</span> <span class=\"pre\">if</span> <span class=\"pre\">function(item))</span></code>ï¼function æ¯ <code class=\"docutils literal notranslate\"><span class=\"pre\">None</span></code> çæåçº <code class=\"docutils literal notranslate\"><span class=\"pre\">(item</span> <span class=\"pre\">for</span> <span class=\"pre\">item</span> <span class=\"pre\">in</span> <span class=\"pre\">iterable</span> <span class=\"pre\">if</span> <span class=\"pre\">item)</span></code>ã</p>\n",
      "<p>è«åé± <a class=\"reference internal\" href=\"itertools.html#itertools.filterfalse\" title=\"itertools.filterfalse\"><code class=\"xref py py-func docutils literal notranslate\"><span class=\"pre\">itertools.filterfalse()</span></code></a>ï¼åªæ <em>function</em> çº false ææé¸å <em>iterable</em> ä¸­åç´ çäºè£å½å¼ã</p>\n",
      "</dd></dl>\n",
      "\n",
      "<dl class=\"py class\">\n",
      "<dt class=\"sig sig-object py\" id=\"float\">\n",
      "<em class=\"property\"><span class=\"pre\">class</span><span class=\"w\"> </span></em><span class=\"sig-name descname\"><span class=\"pre\">float</span></span><span class=\"sig-paren\">(</span><em class=\"sig-param\"><span class=\"n\"><span class=\"pre\">x</span></span><span class=\"o\"><span class=\"pre\">=</span></span><span class=\"default_value\"><span class=\"pre\">0.0</span></span></em><span class=\"sig-paren\">)</span><a class=\"headerlink\" href=\"#float\" title=\"æ¬å®ç¾©çæ°¸ä¹é£çµ\">Â¶</a></dt>\n",
      "<dd><p id=\"index-3\">åå³å¾æ¸å­æå­ä¸² <em>x</em> çæçæµ®é»æ¸ã</p>\n",
      "<p>å¦æå¼æ¸æ¯å­ä¸²ï¼åå®å¿é æ¯åå«åé²ä½å¶æ¸å­çå­ä¸²ï¼å­ä¸²åé¢å¯ä»¥æç¬¦èï¼ä¹åä¹å¯ä»¥æç©ºæ ¼ãé¸ææ§çç¬¦èæ <code class=\"docutils literal notranslate\"><span class=\"pre\">'+'</span></code> å <code class=\"docutils literal notranslate\"><span class=\"pre\">'-'</span></code>ï¼<code class=\"docutils literal notranslate\"><span class=\"pre\">'+'</span></code> å°å»ºç«çå¼æ²æå½±é¿ãå¼æ¸ä¹å¯ä»¥æ¯ NaNï¼éæ¸å­ï¼ææ­£è² ç¡çª®å¤§çå­ä¸²ãç¢ºåå°èªªï¼é¤å»é¦å°¾çç©ºæ ¼å¾ï¼è¼¸å¥å¿é éµå¾ªä»¥ä¸èªæ³ä¸­ <code class=\"docutils literal notranslate\"><span class=\"pre\">floatvalue</span></code> ççæè¦åï¼</p>\n",
      "<pre>\n",
      "<strong id=\"grammar-token-float-sign\"><span id=\"grammar-token-sign\"></span>sign       </strong> ::=  &quot;+&quot; | &quot;-&quot;\n",
      "<strong id=\"grammar-token-float-infinity\"><span id=\"grammar-token-infinity\"></span>infinity   </strong> ::=  &quot;Infinity&quot; | &quot;inf&quot;\n",
      "<strong id=\"grammar-token-float-nan\"><span id=\"grammar-token-nan\"></span>nan        </strong> ::=  &quot;nan&quot;\n",
      "<strong id=\"grammar-token-float-digitpart\"><span id=\"grammar-token-digitpart\"></span>digitpart  </strong> ::=  <code class=\"xref docutils literal notranslate\"><span class=\"pre\">digit</span></code> ([&quot;_&quot;] <code class=\"xref docutils literal notranslate\"><span class=\"pre\">digit</span></code>)*\n",
      "<strong id=\"grammar-token-float-number\"><span id=\"grammar-token-number\"></span>number     </strong> ::=  [<a class=\"reference internal\" href=\"#grammar-token-float-digitpart\"><code class=\"xref docutils literal notranslate\"><span class=\"pre\">digitpart</span></code></a>] &quot;.&quot; <a class=\"reference internal\" href=\"#grammar-token-float-digitpart\"><code class=\"xref docutils literal notranslate\"><span class=\"pre\">digitpart</span></code></a> | <a class=\"reference internal\" href=\"#grammar-token-float-digitpart\"><code class=\"xref docutils literal notranslate\"><span class=\"pre\">digitpart</span></code></a> [&quot;.&quot;]\n",
      "<strong id=\"grammar-token-float-exponent\"><span id=\"grammar-token-exponent\"></span>exponent   </strong> ::=  (&quot;e&quot; | &quot;E&quot;) [&quot;+&quot; | &quot;-&quot;] <a class=\"reference internal\" href=\"#grammar-token-float-digitpart\"><code class=\"xref docutils literal notranslate\"><span class=\"pre\">digitpart</span></code></a>\n",
      "<strong id=\"grammar-token-float-floatnumber\"><span id=\"grammar-token-floatnumber\"></span>floatnumber</strong> ::=  number [<a class=\"reference internal\" href=\"#grammar-token-float-exponent\"><code class=\"xref docutils literal notranslate\"><span class=\"pre\">exponent</span></code></a>]\n",
      "<strong id=\"grammar-token-float-floatvalue\"><span id=\"grammar-token-floatvalue\"></span>floatvalue </strong> ::=  [<a class=\"reference internal\" href=\"#grammar-token-float-sign\"><code class=\"xref docutils literal notranslate\"><span class=\"pre\">sign</span></code></a>] (<a class=\"reference internal\" href=\"#grammar-token-float-floatnumber\"><code class=\"xref docutils literal notranslate\"><span class=\"pre\">floatnumber</span></code></a> | <a class=\"reference internal\" href=\"#grammar-token-float-infinity\"><code class=\"xref docutils literal notranslate\"><span class=\"pre\">infinity</span></code></a> | <a class=\"reference internal\" href=\"#grammar-token-float-nan\"><code class=\"xref docutils literal notranslate\"><span class=\"pre\">nan</span></code></a>)\n",
      "</pre>\n",
      "<p><code class=\"docutils literal notranslate\"><span class=\"pre\">digit</span></code> æ¯ä¸å Unicode åé²ä½æ¸å­ï¼Unicode ä¸è¬åé¡ <code class=\"docutils literal notranslate\"><span class=\"pre\">Nd</span></code> ä¸­çå­åï¼ãå­æ¯å¤§å°å¯«é½å¯ä»¥ï¼ä¾å¦ï¼&quot;inf&quot;ã&quot;Inf&quot;ã&quot;INFINITY&quot;ã&quot;iNfINity&quot; é½å¯ä»¥è¡¨ç¤ºæ­£ç¡çª®å¤§ã</p>\n",
      "<p>å¦åï¼å¦æå¼æ¸æ¯æ´æ¸ææµ®é»æ¸ï¼ååå³å·æç¸åå¼ï¼å¨ Python æµ®é»ç²¾åº¦ç¯åå§ï¼çæµ®é»æ¸ãå¦æå¼æ¸å¨ Python æµ®é»ç²¾åº¦ç¯åå¤ï¼åæè§¸ç¼ <a class=\"reference internal\" href=\"exceptions.html#OverflowError\" title=\"OverflowError\"><code class=\"xref py py-exc docutils literal notranslate\"><span class=\"pre\">OverflowError</span></code></a>ã</p>\n",
      "<p>å°æ¼ä¸è¬ç Python ç©ä»¶ <code class=\"docutils literal notranslate\"><span class=\"pre\">x</span></code>ï¼<code class=\"docutils literal notranslate\"><span class=\"pre\">float(x)</span></code> ææ´¾çµ¦ <code class=\"docutils literal notranslate\"><span class=\"pre\">x.__float__()</span></code>ãå¦ææªå®ç¾© <a class=\"reference internal\" href=\"../reference/datamodel.html#object.__float__\" title=\"object.__float__\"><code class=\"xref py py-meth docutils literal notranslate\"><span class=\"pre\">__float__()</span></code></a> ååéä½¿ç¨ <a class=\"reference internal\" href=\"../reference/datamodel.html#object.__index__\" title=\"object.__index__\"><code class=\"xref py py-meth docutils literal notranslate\"><span class=\"pre\">__index__()</span></code></a>ã</p>\n",
      "<p>å¦ææ²æå¼æ¸ï¼ååå³ <code class=\"docutils literal notranslate\"><span class=\"pre\">0.0</span></code>ã</p>\n",
      "<p>ä¾å¦ï¼</p>\n",
      "<div class=\"highlight-python3 notranslate\"><div class=\"highlight\"><pre><span></span><span class=\"gp\">&gt;&gt;&gt; </span><span class=\"nb\">float</span><span class=\"p\">(</span><span class=\"s1\">&#39;+1.23&#39;</span><span class=\"p\">)</span>\n",
      "<span class=\"go\">1.23</span>\n",
      "<span class=\"gp\">&gt;&gt;&gt; </span><span class=\"nb\">float</span><span class=\"p\">(</span><span class=\"s1\">&#39;   -12345</span><span class=\"se\">\\n</span><span class=\"s1\">&#39;</span><span class=\"p\">)</span>\n",
      "<span class=\"go\">-12345.0</span>\n",
      "<span class=\"gp\">&gt;&gt;&gt; </span><span class=\"nb\">float</span><span class=\"p\">(</span><span class=\"s1\">&#39;1e-003&#39;</span><span class=\"p\">)</span>\n",
      "<span class=\"go\">0.001</span>\n",
      "<span class=\"gp\">&gt;&gt;&gt; </span><span class=\"nb\">float</span><span class=\"p\">(</span><span class=\"s1\">&#39;+1E6&#39;</span><span class=\"p\">)</span>\n",
      "<span class=\"go\">1000000.0</span>\n",
      "<span class=\"gp\">&gt;&gt;&gt; </span><span class=\"nb\">float</span><span class=\"p\">(</span><span class=\"s1\">&#39;-Infinity&#39;</span><span class=\"p\">)</span>\n",
      "<span class=\"go\">-inf</span>\n",
      "</pre></div>\n",
      "</div>\n",
      "<p><a class=\"reference internal\" href=\"stdtypes.html#typesnumeric\"><span class=\"std std-ref\">æ°å­ç±»å --- int, float, complex</span></a> æè¿°äºæµ®é»æ¸åå¥ã</p>\n",
      "<div class=\"versionchanged\">\n",
      "<p><span class=\"versionmodified changed\">å¨ 3.6 çæ¬è®æ´: </span>å¯ä»¥ä½¿ç¨åºç·å°ç¨å¼ç¢¼æå­ä¸­çæ¸å­é²è¡åçµã</p>\n",
      "</div>\n",
      "<div class=\"versionchanged\">\n",
      "<p><span class=\"versionmodified changed\">å¨ 3.7 çæ¬è®æ´: </span><em>x</em> ç°å¨åªè½ä½ä¸ºä½ç½®åæ°ã</p>\n",
      "</div>\n",
      "<div class=\"versionchanged\">\n",
      "<p><span class=\"versionmodified changed\">å¨ 3.8 çæ¬è®æ´: </span>å¦æ <a class=\"reference internal\" href=\"../reference/datamodel.html#object.__float__\" title=\"object.__float__\"><code class=\"xref py py-meth docutils literal notranslate\"><span class=\"pre\">__float__()</span></code></a> æªå®ä¹ååéè³ <a class=\"reference internal\" href=\"../reference/datamodel.html#object.__index__\" title=\"object.__index__\"><code class=\"xref py py-meth docutils literal notranslate\"><span class=\"pre\">__index__()</span></code></a>ã</p>\n",
      "</div>\n",
      "</dd></dl>\n",
      "\n",
      "<span class=\"target\" id=\"index-4\"></span><dl class=\"py function\">\n",
      "<dt class=\"sig sig-object py\" id=\"format\">\n",
      "<span class=\"sig-name descname\"><span class=\"pre\">format</span></span><span class=\"sig-paren\">(</span><em class=\"sig-param\"><span class=\"n\"><span class=\"pre\">value</span></span></em>, <em class=\"sig-param\"><span class=\"n\"><span class=\"pre\">format_spec</span></span><span class=\"o\"><span class=\"pre\">=</span></span><span class=\"default_value\"><span class=\"pre\">''</span></span></em><span class=\"sig-paren\">)</span><a class=\"headerlink\" href=\"#format\" title=\"æ¬å®ç¾©çæ°¸ä¹é£çµ\">Â¶</a></dt>\n",
      "<dd><p>å° <em>value</em> è½æçº <em>format_spec</em> æ§å¶ç &quot;æ ¼å¼å&quot; è¡¨ç¤ºã<em>format_spec</em> çè§£éåæ±ºæ¼ <em>value</em> å¼æ¸çåå¥ï¼ä½æ¯å¤§å¤æ¸å§å»ºåå¥ä½¿ç¨æ¨æºæ ¼å¼åèªæ³ï¼<a class=\"reference internal\" href=\"string.html#formatspec\"><span class=\"std std-ref\">æ ¼å¼è¦æ ¼ (Format Specification) è¿·ä½ èªè¨</span></a>ã</p>\n",
      "<p>é è¨­ç <em>format_spec</em> æ¯ä¸åç©ºå­ä¸²ï¼å®éå¸¸åå¼å« <a class=\"reference internal\" href=\"stdtypes.html#str\" title=\"str\"><code class=\"xref py py-func docutils literal notranslate\"><span class=\"pre\">str(value)</span></code></a> çææç¸åã</p>\n",
      "<p>å¼å« <code class=\"docutils literal notranslate\"><span class=\"pre\">format(value,</span> <span class=\"pre\">format_spec)</span></code> æè½ææ <code class=\"docutils literal notranslate\"><span class=\"pre\">type(value).__format__(value,</span> <span class=\"pre\">format_spec)</span></code>ï¼ç¶æå° value ç <code class=\"xref py py-meth docutils literal notranslate\"><span class=\"pre\">__format__()</span></code> method æï¼æå¿½ç¥å¯¦ä¾ä¸­çå­å¸ãå¦ææå°å° <a class=\"reference internal\" href=\"#object\" title=\"object\"><code class=\"xref py py-mod docutils literal notranslate\"><span class=\"pre\">object</span></code></a> éå method ä½ <em>format_spec</em> ä¸çºç©ºï¼ææ¯ <em>format_spec</em> æåå³å¼ä¸æ¯å­ä¸²ï¼åæè§¸ç¼ <a class=\"reference internal\" href=\"exceptions.html#TypeError\" title=\"TypeError\"><code class=\"xref py py-exc docutils literal notranslate\"><span class=\"pre\">TypeError</span></code></a>ã</p>\n",
      "<div class=\"versionchanged\">\n",
      "<p><span class=\"versionmodified changed\">å¨ 3.4 çæ¬è®æ´: </span>ç¶ <em>format_spec</em> ä¸æ¯ç©ºå­ä¸²æï¼<code class=\"docutils literal notranslate\"><span class=\"pre\">object().__format__(format_spec)</span></code> æè§¸ç¼ <a class=\"reference internal\" href=\"exceptions.html#TypeError\" title=\"TypeError\"><code class=\"xref py py-exc docutils literal notranslate\"><span class=\"pre\">TypeError</span></code></a>ã</p>\n",
      "</div>\n",
      "</dd></dl>\n",
      "\n",
      "<span class=\"target\" id=\"func-frozenset\"></span><dl class=\"py class\">\n",
      "<dt class=\"sig sig-object py\">\n",
      "<em class=\"property\"><span class=\"pre\">class</span><span class=\"w\"> </span></em><span class=\"sig-name descname\"><span class=\"pre\">frozenset</span></span><span class=\"sig-paren\">(</span><em class=\"sig-param\"><span class=\"n\"><span class=\"pre\">iterable</span></span><span class=\"o\"><span class=\"pre\">=</span></span><span class=\"default_value\"><span class=\"pre\">set()</span></span></em><span class=\"sig-paren\">)</span></dt>\n",
      "<dd><p>åå³ä¸åæ°ç <a class=\"reference internal\" href=\"stdtypes.html#frozenset\" title=\"frozenset\"><code class=\"xref py py-class docutils literal notranslate\"><span class=\"pre\">frozenset</span></code></a> ç©ä»¶ï¼å®åå«é¸ææ§å¼æ¸ <em>iterable</em> ä¸­çåç´ ã<code class=\"docutils literal notranslate\"><span class=\"pre\">frozenset</span></code> æ¯ä¸åå§å»ºç classãæéæ­¤ class çæä»¶ï¼è«åé± <a class=\"reference internal\" href=\"stdtypes.html#frozenset\" title=\"frozenset\"><code class=\"xref py py-class docutils literal notranslate\"><span class=\"pre\">frozenset</span></code></a> å <a class=\"reference internal\" href=\"stdtypes.html#types-set\"><span class=\"std std-ref\">éåç±»å --- set, frozenset</span></a>ã</p>\n",
      "<p>è«åé±å§å»ºç <a class=\"reference internal\" href=\"stdtypes.html#set\" title=\"set\"><code class=\"xref py py-class docutils literal notranslate\"><span class=\"pre\">set</span></code></a>ã<a class=\"reference internal\" href=\"stdtypes.html#list\" title=\"list\"><code class=\"xref py py-class docutils literal notranslate\"><span class=\"pre\">list</span></code></a>ã<a class=\"reference internal\" href=\"stdtypes.html#tuple\" title=\"tuple\"><code class=\"xref py py-class docutils literal notranslate\"><span class=\"pre\">tuple</span></code></a> å <a class=\"reference internal\" href=\"stdtypes.html#dict\" title=\"dict\"><code class=\"xref py py-class docutils literal notranslate\"><span class=\"pre\">dict</span></code></a> classï¼ä»¥å <a class=\"reference internal\" href=\"collections.html#module-collections\" title=\"collections: Container datatypes\"><code class=\"xref py py-mod docutils literal notranslate\"><span class=\"pre\">collections</span></code></a> module ä¾äºè§£å¶å®çå®¹å¨ã</p>\n",
      "</dd></dl>\n",
      "\n",
      "<dl class=\"py function\">\n",
      "<dt class=\"sig sig-object py\" id=\"getattr\">\n",
      "<span class=\"sig-name descname\"><span class=\"pre\">getattr</span></span><span class=\"sig-paren\">(</span><em class=\"sig-param\"><span class=\"n\"><span class=\"pre\">object</span></span></em>, <em class=\"sig-param\"><span class=\"n\"><span class=\"pre\">name</span></span></em><span class=\"sig-paren\">)</span><a class=\"headerlink\" href=\"#getattr\" title=\"æ¬å®ç¾©çæ°¸ä¹é£çµ\">Â¶</a></dt>\n",
      "<dt class=\"sig sig-object py\">\n",
      "<span class=\"sig-name descname\"><span class=\"pre\">getattr</span></span><span class=\"sig-paren\">(</span><em class=\"sig-param\"><span class=\"n\"><span class=\"pre\">object</span></span></em>, <em class=\"sig-param\"><span class=\"n\"><span class=\"pre\">name</span></span></em>, <em class=\"sig-param\"><span class=\"n\"><span class=\"pre\">default</span></span></em><span class=\"sig-paren\">)</span></dt>\n",
      "<dd><p>åå³ <em>object</em> ä¹å·åå±¬æ§çå¼ã<em>name</em> å¿é æ¯å­ä¸²ãå¦æè©²å­ä¸²æ¯ç©ä»¶å±¬æ§ä¹ä¸çåç¨±ï¼ååå³è©²å±¬æ§çå¼ãä¾å¦ï¼<code class=\"docutils literal notranslate\"><span class=\"pre\">getattr(x,</span> <span class=\"pre\">'foobar')</span></code> ç­åæ¼ <code class=\"docutils literal notranslate\"><span class=\"pre\">x.foobar</span></code>ãå¦ææå®çå±¬æ§ä¸å­å¨ï¼ä¸æä¾äº <em>default</em> å¼ï¼ååå³å¶å¼ï¼å¦åè§¸ç¼ <a class=\"reference internal\" href=\"exceptions.html#AttributeError\" title=\"AttributeError\"><code class=\"xref py py-exc docutils literal notranslate\"><span class=\"pre\">AttributeError</span></code></a>ã<em>name</em> ä¸å¿æ¯å Python è­å¥ç¬¦ (identifier)ï¼è«è¦ <a class=\"reference internal\" href=\"#setattr\" title=\"setattr\"><code class=\"xref py py-func docutils literal notranslate\"><span class=\"pre\">setattr()</span></code></a>ï¼ã</p>\n",
      "<div class=\"admonition note\">\n",
      "<p class=\"admonition-title\">åè¨»</p>\n",
      "<p>ç±äº <a class=\"reference internal\" href=\"../reference/expressions.html#private-name-mangling\"><span class=\"std std-ref\">ç§æåç§°æ··å</span></a> åçå¨ç¼è¯æ¶ï¼å æ­¤å¿é¡»æå¨æ··åç§æå±æ§ï¼ä»¥ä¸¤ä¸ªä¸åçº¿æå¤´çå±æ§ï¼åç§°ä»¥ä½¿ç¨ <a class=\"reference internal\" href=\"#getattr\" title=\"getattr\"><code class=\"xref py py-func docutils literal notranslate\"><span class=\"pre\">getattr()</span></code></a> æ¥æåå®ã</p>\n",
      "</div>\n",
      "</dd></dl>\n",
      "\n",
      "<dl class=\"py function\">\n",
      "<dt class=\"sig sig-object py\" id=\"globals\">\n",
      "<span class=\"sig-name descname\"><span class=\"pre\">globals</span></span><span class=\"sig-paren\">(</span><span class=\"sig-paren\">)</span><a class=\"headerlink\" href=\"#globals\" title=\"æ¬å®ç¾©çæ°¸ä¹é£çµ\">Â¶</a></dt>\n",
      "<dd><p>åå³ä»£è¡¨ç¶å module å½åç©ºéç dictionaryãå°æ¼å¨å½å¼ä¸­çç¨å¼ç¢¼ä¾èªªï¼éå¨å®ç¾©å½å¼æè¨­å®ä¸ä¸è«è©²å½å¼æ¯å¨ä½èå¼å«é½æä¿æç¸åã</p>\n",
      "</dd></dl>\n",
      "\n",
      "<dl class=\"py function\">\n",
      "<dt class=\"sig sig-object py\" id=\"hasattr\">\n",
      "<span class=\"sig-name descname\"><span class=\"pre\">hasattr</span></span><span class=\"sig-paren\">(</span><em class=\"sig-param\"><span class=\"n\"><span class=\"pre\">object</span></span></em>, <em class=\"sig-param\"><span class=\"n\"><span class=\"pre\">name</span></span></em><span class=\"sig-paren\">)</span><a class=\"headerlink\" href=\"#hasattr\" title=\"æ¬å®ç¾©çæ°¸ä¹é£çµ\">Â¶</a></dt>\n",
      "<dd><p>è©²å¼æ¸æ¯ä¸åç©ä»¶åä¸åå­ä¸²ãå¦æå­ä¸²æ¯ç©ä»¶å±¬æ§ä¹ä¸çåç¨±ï¼ååå³ <code class=\"docutils literal notranslate\"><span class=\"pre\">True</span></code>ï¼å¦ååå³ <code class=\"docutils literal notranslate\"><span class=\"pre\">False</span></code>ãï¼æ­¤åè½æ¯ééå¼å« <code class=\"docutils literal notranslate\"><span class=\"pre\">getattr(object,</span> <span class=\"pre\">name)</span></code> çæ¯å¦æ <a class=\"reference internal\" href=\"exceptions.html#AttributeError\" title=\"AttributeError\"><code class=\"xref py py-exc docutils literal notranslate\"><span class=\"pre\">AttributeError</span></code></a> ä¾å¯¦ç¾çãï¼</p>\n",
      "</dd></dl>\n",
      "\n",
      "<dl class=\"py function\">\n",
      "<dt class=\"sig sig-object py\" id=\"hash\">\n",
      "<span class=\"sig-name descname\"><span class=\"pre\">hash</span></span><span class=\"sig-paren\">(</span><em class=\"sig-param\"><span class=\"n\"><span class=\"pre\">object</span></span></em><span class=\"sig-paren\">)</span><a class=\"headerlink\" href=\"#hash\" title=\"æ¬å®ç¾©çæ°¸ä¹é£çµ\">Â¶</a></dt>\n",
      "<dd><p>åå³è©²ç©ä»¶çéæ¹å¼ï¼å¦æå®æçè©±ï¼ãéæ¹å¼æ¯æ´æ¸ãå®åå¨ dictionary æ¥è©¢åç´ æç¨ä¾å¿«éæ¯è¼ dictionary çéµãç¸åå¤§å°çæ¸å­æ¸å¼æç¸åçéæ¹å¼ï¼å³ä½¿å®ååå¥ä¸åï¼å¦ 1 å 1.0ï¼ã</p>\n",
      "<div class=\"admonition note\">\n",
      "<p class=\"admonition-title\">åè¨»</p>\n",
      "<p>å¯¹äºå·æèªå®ä¹ <code class=\"xref py py-meth docutils literal notranslate\"><span class=\"pre\">__hash__()</span></code> æ¹æ³çå¯¹è±¡ï¼è¯·æ³¨æ <a class=\"reference internal\" href=\"#hash\" title=\"hash\"><code class=\"xref py py-func docutils literal notranslate\"><span class=\"pre\">hash()</span></code></a> ä¼æ ¹æ®ä¸»æºçä½æ°æ¥æªæ­è¿åå¼ã è¯¦æåè§ <a class=\"reference internal\" href=\"../reference/datamodel.html#object.__hash__\" title=\"object.__hash__\"><code class=\"xref py py-meth docutils literal notranslate\"><span class=\"pre\">__hash__</span></code></a>ã</p>\n",
      "</div>\n",
      "</dd></dl>\n",
      "\n",
      "<dl class=\"py function\">\n",
      "<dt class=\"sig sig-object py\" id=\"help\">\n",
      "<span class=\"sig-name descname\"><span class=\"pre\">help</span></span><span class=\"sig-paren\">(</span><span class=\"sig-paren\">)</span><a class=\"headerlink\" href=\"#help\" title=\"æ¬å®ç¾©çæ°¸ä¹é£çµ\">Â¶</a></dt>\n",
      "<dt class=\"sig sig-object py\">\n",
      "<span class=\"sig-name descname\"><span class=\"pre\">help</span></span><span class=\"sig-paren\">(</span><em class=\"sig-param\"><span class=\"n\"><span class=\"pre\">request</span></span></em><span class=\"sig-paren\">)</span></dt>\n",
      "<dd><p>ååå§å»ºçå¹«å©ç³»çµ±ï¼æ­¤å½å¼ä¸»è¦ä»¥äºåå¼ä½¿ç¨ï¼ãå¦ææ²æå¼æ¸ï¼ç´è­¯å¨æ§å¶èºè£¡æååäºåå¼å¹«å©ç³»çµ±ãå¦æå¼æ¸æ¯ä¸åå­ä¸²ï¼åå¨ moduleãå½å¼ãclassãmethodãééµå­ææä»¶ä¸»é¡ä¸­æç´¢è©²å­ä¸²ï¼ä¸¦å¨æ§å¶å°ä¸åå°å¹«å©è³è¨ãå¦æå¼æ¸æ¯å¶ä»ä»»æç©ä»¶ï¼åæçæè©²ç©ä»¶çå¹«å©é ã</p>\n",
      "<p>è¯·æ³¨æï¼å¦æå¨è°ç¨ <a class=\"reference internal\" href=\"#help\" title=\"help\"><code class=\"xref py py-func docutils literal notranslate\"><span class=\"pre\">help()</span></code></a> æ¶ï¼ç®æ å½æ°çå½¢ååè¡¨ä¸­å­å¨ææ ï¼/ï¼ï¼åæå³çææ ä¹åçåæ°åªè½æ¯ä½ç½®åæ°ãè¯¦æè¯·åé <a class=\"reference internal\" href=\"../faq/programming.html#faq-positional-only-arguments\"><span class=\"std std-ref\">æå³ä»éä½ç½®å½¢åç FAQ æ¡ç®</span></a>ã</p>\n",
      "<p>è©²å½å¼éé <a class=\"reference internal\" href=\"site.html#module-site\" title=\"site: Module responsible for site-specific configuration.\"><code class=\"xref py py-mod docutils literal notranslate\"><span class=\"pre\">site</span></code></a> module å å¥å°å§å»ºå½åç©ºéã</p>\n",
      "<div class=\"versionchanged\">\n",
      "<p><span class=\"versionmodified changed\">å¨ 3.4 çæ¬è®æ´: </span>è®æ´è³ <a class=\"reference internal\" href=\"pydoc.html#module-pydoc\" title=\"pydoc: Documentation generator and online help system.\"><code class=\"xref py py-mod docutils literal notranslate\"><span class=\"pre\">pydoc</span></code></a> å <a class=\"reference internal\" href=\"inspect.html#module-inspect\" title=\"inspect: Extract information and source code from live objects.\"><code class=\"xref py py-mod docutils literal notranslate\"><span class=\"pre\">inspect</span></code></a> ä½¿å¾å¯å¼å«ç©ä»¶çç°½åä¿¡æ¯ (signature) æ´å å¨é¢åä¸è´ã</p>\n",
      "</div>\n",
      "</dd></dl>\n",
      "\n",
      "<dl class=\"py function\">\n",
      "<dt class=\"sig sig-object py\" id=\"hex\">\n",
      "<span class=\"sig-name descname\"><span class=\"pre\">hex</span></span><span class=\"sig-paren\">(</span><em class=\"sig-param\"><span class=\"n\"><span class=\"pre\">x</span></span></em><span class=\"sig-paren\">)</span><a class=\"headerlink\" href=\"#hex\" title=\"æ¬å®ç¾©çæ°¸ä¹é£çµ\">Â¶</a></dt>\n",
      "<dd><p>å°æ´æ¸è½æçºä»¥ &quot;0x&quot; çºåç¶´çå°å¯«åå­é²ä½å¶å­ä¸²ãå¦æ <em>x</em> ä¸æ¯ Python <a class=\"reference internal\" href=\"#int\" title=\"int\"><code class=\"xref py py-class docutils literal notranslate\"><span class=\"pre\">int</span></code></a> ç©ä»¶ï¼åå¿é å®ç¾©ä¸å <a class=\"reference internal\" href=\"../reference/datamodel.html#object.__index__\" title=\"object.__index__\"><code class=\"xref py py-meth docutils literal notranslate\"><span class=\"pre\">__index__()</span></code></a> method ä¸¦ä¸åå³ä¸åæ´æ¸ãèä¾ä¾èªªï¼</p>\n",
      "<div class=\"doctest highlight-default notranslate\"><div class=\"highlight\"><pre><span></span><span class=\"gp\">&gt;&gt;&gt; </span><span class=\"nb\">hex</span><span class=\"p\">(</span><span class=\"mi\">255</span><span class=\"p\">)</span>\n",
      "<span class=\"go\">&#39;0xff&#39;</span>\n",
      "<span class=\"gp\">&gt;&gt;&gt; </span><span class=\"nb\">hex</span><span class=\"p\">(</span><span class=\"o\">-</span><span class=\"mi\">42</span><span class=\"p\">)</span>\n",
      "<span class=\"go\">&#39;-0x2a&#39;</span>\n",
      "</pre></div>\n",
      "</div>\n",
      "<p>å¦æè¦å°æ´æ¸è½æçºå¤§å¯«æå°å¯«çåå­é²ä½å¶å­ä¸²ï¼ä¸¦å¯é¸ææç¡ &quot;0x&quot; åç¶´ï¼åå¯ä»¥ä½¿ç¨å¦ä¸æ¹æ³ï¼</p>\n",
      "<div class=\"doctest highlight-default notranslate\"><div class=\"highlight\"><pre><span></span><span class=\"gp\">&gt;&gt;&gt; </span><span class=\"s1\">&#39;</span><span class=\"si\">%#x</span><span class=\"s1\">&#39;</span> <span class=\"o\">%</span> <span class=\"mi\">255</span><span class=\"p\">,</span> <span class=\"s1\">&#39;</span><span class=\"si\">%x</span><span class=\"s1\">&#39;</span> <span class=\"o\">%</span> <span class=\"mi\">255</span><span class=\"p\">,</span> <span class=\"s1\">&#39;</span><span class=\"si\">%X</span><span class=\"s1\">&#39;</span> <span class=\"o\">%</span> <span class=\"mi\">255</span>\n",
      "<span class=\"go\">(&#39;0xff&#39;, &#39;ff&#39;, &#39;FF&#39;)</span>\n",
      "<span class=\"gp\">&gt;&gt;&gt; </span><span class=\"nb\">format</span><span class=\"p\">(</span><span class=\"mi\">255</span><span class=\"p\">,</span> <span class=\"s1\">&#39;#x&#39;</span><span class=\"p\">),</span> <span class=\"nb\">format</span><span class=\"p\">(</span><span class=\"mi\">255</span><span class=\"p\">,</span> <span class=\"s1\">&#39;x&#39;</span><span class=\"p\">),</span> <span class=\"nb\">format</span><span class=\"p\">(</span><span class=\"mi\">255</span><span class=\"p\">,</span> <span class=\"s1\">&#39;X&#39;</span><span class=\"p\">)</span>\n",
      "<span class=\"go\">(&#39;0xff&#39;, &#39;ff&#39;, &#39;FF&#39;)</span>\n",
      "<span class=\"gp\">&gt;&gt;&gt; </span><span class=\"sa\">f</span><span class=\"s1\">&#39;</span><span class=\"si\">{</span><span class=\"mi\">255</span><span class=\"si\">:</span><span class=\"s1\">#x</span><span class=\"si\">}</span><span class=\"s1\">&#39;</span><span class=\"p\">,</span> <span class=\"sa\">f</span><span class=\"s1\">&#39;</span><span class=\"si\">{</span><span class=\"mi\">255</span><span class=\"si\">:</span><span class=\"s1\">x</span><span class=\"si\">}</span><span class=\"s1\">&#39;</span><span class=\"p\">,</span> <span class=\"sa\">f</span><span class=\"s1\">&#39;</span><span class=\"si\">{</span><span class=\"mi\">255</span><span class=\"si\">:</span><span class=\"s1\">X</span><span class=\"si\">}</span><span class=\"s1\">&#39;</span>\n",
      "<span class=\"go\">(&#39;0xff&#39;, &#39;ff&#39;, &#39;FF&#39;)</span>\n",
      "</pre></div>\n",
      "</div>\n",
      "<p>å¯åè <a class=\"reference internal\" href=\"#format\" title=\"format\"><code class=\"xref py py-func docutils literal notranslate\"><span class=\"pre\">format()</span></code></a> ç²åæ´å¤è³è¨ã</p>\n",
      "<p>å¦è«åé± <a class=\"reference internal\" href=\"#int\" title=\"int\"><code class=\"xref py py-func docutils literal notranslate\"><span class=\"pre\">int()</span></code></a> å°åå­é²ä½å¶å­ä¸²è½æçºä»¥ 16 çºåºæ¸çæ´æ¸ã</p>\n",
      "<div class=\"admonition note\">\n",
      "<p class=\"admonition-title\">åè¨»</p>\n",
      "<p>å¦æè¦ç²åæµ®é»æ¸çåå­é²ä½å¶å­ä¸²å½¢å¼ï¼è«ä½¿ç¨ <a class=\"reference internal\" href=\"stdtypes.html#float.hex\" title=\"float.hex\"><code class=\"xref py py-meth docutils literal notranslate\"><span class=\"pre\">float.hex()</span></code></a> methodã</p>\n",
      "</div>\n",
      "</dd></dl>\n",
      "\n",
      "<dl class=\"py function\">\n",
      "<dt class=\"sig sig-object py\" id=\"id\">\n",
      "<span class=\"sig-name descname\"><span class=\"pre\">id</span></span><span class=\"sig-paren\">(</span><em class=\"sig-param\"><span class=\"n\"><span class=\"pre\">object</span></span></em><span class=\"sig-paren\">)</span><a class=\"headerlink\" href=\"#id\" title=\"æ¬å®ç¾©çæ°¸ä¹é£çµ\">Â¶</a></dt>\n",
      "<dd><p>åå³ç©ä»¶ç &quot;æ¨è­å¼&quot; ãè©²å¼æ¯ä¸åæ´æ¸ï¼å¨æ­¤ç©ä»¶ççå½é±æä¸­ä¿è­æ¯å¯ä¸ä¸æå®çãå©åçå½æä¸éççç©ä»¶å¯è½å·æç¸åç <a class=\"reference internal\" href=\"#id\" title=\"id\"><code class=\"xref py py-func docutils literal notranslate\"><span class=\"pre\">id()</span></code></a> å¼ã</p>\n",
      "<div class=\"impl-detail compound\">\n",
      "<p><strong>CPython å¯¦ä½ç´°ç¯ï¼</strong> è¿æ¯å¯¹è±¡å¨åå¨ä¸­çå°åã</p>\n",
      "</div>\n",
      "<p class=\"audit-hook\">å¼ç¼ä¸åéå¸¶å¼æ¸ <code class=\"docutils literal notranslate\"><span class=\"pre\">id</span></code> ç<a class=\"reference internal\" href=\"sys.html#auditing\"><span class=\"std std-ref\">ç¨½æ ¸äºä»¶</span></a> <code class=\"docutils literal notranslate\"><span class=\"pre\">builtins.id</span></code>ã</p>\n",
      "</dd></dl>\n",
      "\n",
      "<dl class=\"py function\">\n",
      "<dt class=\"sig sig-object py\" id=\"input\">\n",
      "<span class=\"sig-name descname\"><span class=\"pre\">input</span></span><span class=\"sig-paren\">(</span><span class=\"sig-paren\">)</span><a class=\"headerlink\" href=\"#input\" title=\"æ¬å®ç¾©çæ°¸ä¹é£çµ\">Â¶</a></dt>\n",
      "<dt class=\"sig sig-object py\">\n",
      "<span class=\"sig-name descname\"><span class=\"pre\">input</span></span><span class=\"sig-paren\">(</span><em class=\"sig-param\"><span class=\"n\"><span class=\"pre\">prompt</span></span></em><span class=\"sig-paren\">)</span></dt>\n",
      "<dd><p>å¦æææä¾ <em>prompt</em> å¼æ¸ï¼åå°å¶å¯«å¥æ¨æºè¼¸åºï¼æ«å°¾ä¸å¸¶æè¡ç¬¦ãæ¥ä¸ä¾ï¼è©²å½å¼å¾è¼¸å¥ä¸­è®åä¸è¡ï¼å°å¶è½æçºå­ä¸²ï¼å»é¤æ«å°¾çæè¡ç¬¦ï¼ä¸¦åå³ãç¶è®åå° EOF æï¼åè§¸ç¼ <a class=\"reference internal\" href=\"exceptions.html#EOFError\" title=\"EOFError\"><code class=\"xref py py-exc docutils literal notranslate\"><span class=\"pre\">EOFError</span></code></a>ãä¾å¦ï¼</p>\n",
      "<div class=\"highlight-python3 notranslate\"><div class=\"highlight\"><pre><span></span><span class=\"gp\">&gt;&gt;&gt; </span><span class=\"n\">s</span> <span class=\"o\">=</span> <span class=\"nb\">input</span><span class=\"p\">(</span><span class=\"s1\">&#39;--&gt; &#39;</span><span class=\"p\">)</span>  \n",
      "<span class=\"go\">--&gt; Monty Python&#39;s Flying Circus</span>\n",
      "<span class=\"gp\">&gt;&gt;&gt; </span><span class=\"n\">s</span>  \n",
      "<span class=\"go\">&quot;Monty Python&#39;s Flying Circus&quot;</span>\n",
      "</pre></div>\n",
      "</div>\n",
      "<p>å¦æè¼å¥äº <a class=\"reference internal\" href=\"readline.html#module-readline\" title=\"readline: GNU readline support for Python. (Unix)\"><code class=\"xref py py-mod docutils literal notranslate\"><span class=\"pre\">readline</span></code></a> moduleï¼<a class=\"reference internal\" href=\"#input\" title=\"input\"><code class=\"xref py py-func docutils literal notranslate\"><span class=\"pre\">input()</span></code></a> å°ä½¿ç¨å®ä¾æä¾è¤éçè¡ç·¨è¼¯åæ­·å²è¨éåè½ã</p>\n",
      "<p class=\"audit-hook\">å¼ç¼ä¸åéå¸¶å¼æ¸ <code class=\"docutils literal notranslate\"><span class=\"pre\">prompt</span></code> ç<a class=\"reference internal\" href=\"sys.html#auditing\"><span class=\"std std-ref\">ç¨½æ ¸äºä»¶</span></a> <code class=\"docutils literal notranslate\"><span class=\"pre\">builtins.input</span></code>ã</p>\n",
      "<p class=\"audit-hook\">å¼ç¼ä¸åéå¸¶å¼æ¸ <code class=\"docutils literal notranslate\"><span class=\"pre\">result</span></code> ç<a class=\"reference internal\" href=\"sys.html#auditing\"><span class=\"std std-ref\">ç¨½æ ¸äºä»¶</span></a> <code class=\"docutils literal notranslate\"><span class=\"pre\">builtins.input/result</span></code>ã</p>\n",
      "</dd></dl>\n",
      "\n",
      "<dl class=\"py class\">\n",
      "<dt class=\"sig sig-object py\" id=\"int\">\n",
      "<em class=\"property\"><span class=\"pre\">class</span><span class=\"w\"> </span></em><span class=\"sig-name descname\"><span class=\"pre\">int</span></span><span class=\"sig-paren\">(</span><em class=\"sig-param\"><span class=\"n\"><span class=\"pre\">x</span></span><span class=\"o\"><span class=\"pre\">=</span></span><span class=\"default_value\"><span class=\"pre\">0</span></span></em><span class=\"sig-paren\">)</span><a class=\"headerlink\" href=\"#int\" title=\"æ¬å®ç¾©çæ°¸ä¹é£çµ\">Â¶</a></dt>\n",
      "<dt class=\"sig sig-object py\">\n",
      "<em class=\"property\"><span class=\"pre\">class</span><span class=\"w\"> </span></em><span class=\"sig-name descname\"><span class=\"pre\">int</span></span><span class=\"sig-paren\">(</span><em class=\"sig-param\"><span class=\"n\"><span class=\"pre\">x</span></span></em>, <em class=\"sig-param\"><span class=\"n\"><span class=\"pre\">base</span></span><span class=\"o\"><span class=\"pre\">=</span></span><span class=\"default_value\"><span class=\"pre\">10</span></span></em><span class=\"sig-paren\">)</span></dt>\n",
      "<dd><p>åå³ä¸åä½¿ç¨æ¸å­æå­ä¸² <em>x</em> å»ºæ§çæ´æ¸ç©ä»¶ï¼æèå¨æ²æå¼æ¸æåå³ <code class=\"docutils literal notranslate\"><span class=\"pre\">0</span></code>ãå¦æ <em>x</em> å®ç¾©äº <a class=\"reference internal\" href=\"../reference/datamodel.html#object.__int__\" title=\"object.__int__\"><code class=\"xref py py-meth docutils literal notranslate\"><span class=\"pre\">__int__()</span></code></a>ï¼<code class=\"docutils literal notranslate\"><span class=\"pre\">int(x)</span></code> åå³ <code class=\"docutils literal notranslate\"><span class=\"pre\">x.__int__()</span></code>ãå¦æ <em>x</em> å®ç¾©äº <a class=\"reference internal\" href=\"../reference/datamodel.html#object.__index__\" title=\"object.__index__\"><code class=\"xref py py-meth docutils literal notranslate\"><span class=\"pre\">__index__()</span></code></a> ååå³ <code class=\"docutils literal notranslate\"><span class=\"pre\">x.__index__()</span></code>ãå¦æ <em>x</em> å®ç¾©äº <a class=\"reference internal\" href=\"../reference/datamodel.html#object.__trunc__\" title=\"object.__trunc__\"><code class=\"xref py py-meth docutils literal notranslate\"><span class=\"pre\">__trunc__()</span></code></a> ååå³ <code class=\"docutils literal notranslate\"><span class=\"pre\">x.__trunc__()</span></code>ãå°æ¼æµ®é»æ¸ååé¶èå¥ã</p>\n",
      "<p>å¦æ <em>x</em> ä¸æ¯æ¸å­æå¦ææçµ¦å® <em>base</em>ï¼å <em>x</em> å¿é æ¯åå­ä¸²ã<a class=\"reference internal\" href=\"stdtypes.html#bytes\" title=\"bytes\"><code class=\"xref py py-class docutils literal notranslate\"><span class=\"pre\">bytes</span></code></a> æ <a class=\"reference internal\" href=\"stdtypes.html#bytearray\" title=\"bytearray\"><code class=\"xref py py-class docutils literal notranslate\"><span class=\"pre\">bytearray</span></code></a> å¯¦ä¾ï¼è¡¨ç¤ºåºæ¸ (radix) <em>base</em> ä¸­çæ´æ¸ãå¯é¸å°ï¼å­ä¸²ä¹åå¯ä»¥æ <code class=\"docutils literal notranslate\"><span class=\"pre\">+</span></code> æ <code class=\"docutils literal notranslate\"><span class=\"pre\">-</span></code>ï¼ä¸­éæ²æç©ºæ ¼ï¼ãå¯æååå°çé¶ãä¹å¯è¢«ç©ºæ ¼ååãæå¨æ¸å­éæå®ä¸åºç·ã</p>\n",
      "<p>ä¸å n é²å¶çæ´æ¸å­ä¸²ï¼åå«ååä»£è¡¨ 0 å° n-1 çæ¸å­ï¼0â9 å¯ä»¥ç¨ä»»ä½ Unicode åé²å¶æ¸å­è¡¨ç¤ºï¼10â35 å¯ä»¥ç¨ <code class=\"docutils literal notranslate\"><span class=\"pre\">a</span></code> å° <code class=\"docutils literal notranslate\"><span class=\"pre\">z</span></code>ï¼æ <code class=\"docutils literal notranslate\"><span class=\"pre\">A</span></code> å° <code class=\"docutils literal notranslate\"><span class=\"pre\">Z</span></code>ï¼è¡¨ç¤ºãé è¨­ç <em>base</em> æ¯ 10ãåè¨±çé²ä½å¶æ 0ã2â36ã2ã8ã16 é²ä½å¶çå­ä¸²å¯ä»¥å¨ç¨å¼ç¢¼ä¸­ç¨ <code class=\"docutils literal notranslate\"><span class=\"pre\">0b</span></code>/<code class=\"docutils literal notranslate\"><span class=\"pre\">0B</span></code>ã<code class=\"docutils literal notranslate\"><span class=\"pre\">0o</span></code>/<code class=\"docutils literal notranslate\"><span class=\"pre\">0O</span></code>ã<code class=\"docutils literal notranslate\"><span class=\"pre\">0x</span></code>/<code class=\"docutils literal notranslate\"><span class=\"pre\">0X</span></code> åç¶´ä¾è¡¨ç¤ºï¼å¦åç¨å¼ç¢¼ä¸­çæ´æ¸æå­ãé²ä½å¶çº 0 çå­ä¸²å°ä»¥å<a class=\"reference internal\" href=\"../reference/lexical_analysis.html#integers\"><span class=\"std std-ref\">ç¨å¼ç¢¼æ´æ¸å­é¢å¼ (integer literal in code)</span></a> é¡ä¼¼çæ¹å¼ä¾ç´è­¯ï¼æå¾ç±åç¶´æ±ºå®ççµæææ¯ 2ã8ã10ã16 é²å¶ä¸­çä¸åï¼æä»¥ <code class=\"docutils literal notranslate\"><span class=\"pre\">int('010',</span> <span class=\"pre\">0)</span></code> æ¯éæ³çï¼ä½ <code class=\"docutils literal notranslate\"><span class=\"pre\">int('010')</span></code> å <code class=\"docutils literal notranslate\"><span class=\"pre\">int('010',</span> <span class=\"pre\">8)</span></code> æ¯ææçã</p>\n",
      "<p>æ´æ¸åå¥å®ç¾©è«åé± <a class=\"reference internal\" href=\"stdtypes.html#typesnumeric\"><span class=\"std std-ref\">æ°å­ç±»å --- int, float, complex</span></a>ã</p>\n",
      "<div class=\"versionchanged\">\n",
      "<p><span class=\"versionmodified changed\">å¨ 3.4 çæ¬è®æ´: </span>å¦æ <em>base</em> ä¸æ¯ <a class=\"reference internal\" href=\"#int\" title=\"int\"><code class=\"xref py py-class docutils literal notranslate\"><span class=\"pre\">int</span></code></a> çå¯¦ä¾ï¼ä½ <em>base</em> ç©ä»¶æ <a class=\"reference internal\" href=\"../reference/datamodel.html#object.__index__\" title=\"object.__index__\"><code class=\"xref py py-meth docutils literal notranslate\"><span class=\"pre\">base.__index__</span></code></a> methodï¼åæå¼å«è©² method ä¾ç²åæ­¤é²ä½å¶æ´æ¸ãä»¥åççæ¬ä½¿ç¨ <a class=\"reference internal\" href=\"../reference/datamodel.html#object.__int__\" title=\"object.__int__\"><code class=\"xref py py-meth docutils literal notranslate\"><span class=\"pre\">base.__int__</span></code></a> èä¸æ¯ <a class=\"reference internal\" href=\"../reference/datamodel.html#object.__index__\" title=\"object.__index__\"><code class=\"xref py py-meth docutils literal notranslate\"><span class=\"pre\">base.__index__</span></code></a>ã</p>\n",
      "</div>\n",
      "<div class=\"versionchanged\">\n",
      "<p><span class=\"versionmodified changed\">å¨ 3.6 çæ¬è®æ´: </span>å¯ä»¥ä½¿ç¨åºç·å°ç¨å¼ç¢¼æå­ä¸­çæ¸å­é²è¡åçµã</p>\n",
      "</div>\n",
      "<div class=\"versionchanged\">\n",
      "<p><span class=\"versionmodified changed\">å¨ 3.7 çæ¬è®æ´: </span><em>x</em> ç°å¨åªè½ä½ä¸ºä½ç½®åæ°ã</p>\n",
      "</div>\n",
      "<div class=\"versionchanged\">\n",
      "<p><span class=\"versionmodified changed\">å¨ 3.8 çæ¬è®æ´: </span>å¦æ <a class=\"reference internal\" href=\"../reference/datamodel.html#object.__int__\" title=\"object.__int__\"><code class=\"xref py py-meth docutils literal notranslate\"><span class=\"pre\">__int__()</span></code></a> æªå®ä¹ååéè³ <a class=\"reference internal\" href=\"../reference/datamodel.html#object.__index__\" title=\"object.__index__\"><code class=\"xref py py-meth docutils literal notranslate\"><span class=\"pre\">__index__()</span></code></a>ã</p>\n",
      "</div>\n",
      "<div class=\"versionchanged\">\n",
      "<p><span class=\"versionmodified changed\">å¨ 3.11 çæ¬è®æ´: </span>å§æç» <a class=\"reference internal\" href=\"../reference/datamodel.html#object.__trunc__\" title=\"object.__trunc__\"><code class=\"xref py py-meth docutils literal notranslate\"><span class=\"pre\">__trunc__()</span></code></a> çåæ³å·²è¢«å¼ç¨ã</p>\n",
      "</div>\n",
      "<div class=\"versionchanged\">\n",
      "<p><span class=\"versionmodified changed\">å¨ 3.11 çæ¬è®æ´: </span><a class=\"reference internal\" href=\"#int\" title=\"int\"><code class=\"xref py py-class docutils literal notranslate\"><span class=\"pre\">int</span></code></a> å­ç¬¦ä¸²è¾å¥åå­ç¬¦ä¸²è¡¨ç¤ºå½¢å¼å¯åå°éå¶ä»¥å¸®å©é¿åæç»æå¡æ»å»ã å½å°ä¸ä¸ªå­ç¬¦ä¸² <em>x</em> è½¬æ¢ä¸º <a class=\"reference internal\" href=\"#int\" title=\"int\"><code class=\"xref py py-class docutils literal notranslate\"><span class=\"pre\">int</span></code></a> æèå½å°ä¸ä¸ª <a class=\"reference internal\" href=\"#int\" title=\"int\"><code class=\"xref py py-class docutils literal notranslate\"><span class=\"pre\">int</span></code></a> è½¬æ¢ä¸ºå­ç¬¦ä¸²çæä½è¶åºéå¶åä¼å¼å <a class=\"reference internal\" href=\"exceptions.html#ValueError\" title=\"ValueError\"><code class=\"xref py py-exc docutils literal notranslate\"><span class=\"pre\">ValueError</span></code></a>ã è¯·åé <a class=\"reference internal\" href=\"stdtypes.html#int-max-str-digits\"><span class=\"std std-ref\">æ´æ°å­ç¬¦ä¸²è½¬æ¢é¿åº¦éå¶</span></a> ææ¡£ã</p>\n",
      "</div>\n",
      "</dd></dl>\n",
      "\n",
      "<dl class=\"py function\">\n",
      "<dt class=\"sig sig-object py\" id=\"isinstance\">\n",
      "<span class=\"sig-name descname\"><span class=\"pre\">isinstance</span></span><span class=\"sig-paren\">(</span><em class=\"sig-param\"><span class=\"n\"><span class=\"pre\">object</span></span></em>, <em class=\"sig-param\"><span class=\"n\"><span class=\"pre\">classinfo</span></span></em><span class=\"sig-paren\">)</span><a class=\"headerlink\" href=\"#isinstance\" title=\"æ¬å®ç¾©çæ°¸ä¹é£çµ\">Â¶</a></dt>\n",
      "<dd><p>å¦æ <em>object</em> å¼æ¸æ¯ <em>classinfo</em> å¼æ¸çå¯¦ä¾ï¼æèæ¯ï¼ç´æ¥ãéæ¥æ <a class=\"reference internal\" href=\"../glossary.html#term-abstract-base-class\"><span class=\"xref std std-term\">virtual</span></a>ï¼subclass çå¯¦ä¾ï¼ååå³ <code class=\"docutils literal notranslate\"><span class=\"pre\">True</span></code>ãå¦æ <em>object</em> ä¸æ¯çµ¦å®åå¥çç©ä»¶ï¼å½å¼å§çµåå³ <code class=\"docutils literal notranslate\"><span class=\"pre\">False</span></code>ãå¦æ <em>classinfo</em> æ¯åå«ç©ä»¶åå¥ç tupleï¼æå¤åéè¿´ tupleï¼æä¸ååå«å¤ç¨®åå¥ç <a class=\"reference internal\" href=\"stdtypes.html#types-union\"><span class=\"std std-ref\">union ç±»å</span></a>ï¼è¥ <em>object</em> æ¯å¶ä¸­çä»»ä½ä¸åç©ä»¶çå¯¦ä¾ååå³ <code class=\"docutils literal notranslate\"><span class=\"pre\">True</span></code>ãå¦æ <em>classinfo</em> æ¢ä¸æ¯åå¥ï¼ä¹ä¸æ¯åå¥ tuple æåå¥çéè¿´ tupleï¼é£éº¼æè§¸ç¼ <a class=\"reference internal\" href=\"exceptions.html#TypeError\" title=\"TypeError\"><code class=\"xref py py-exc docutils literal notranslate\"><span class=\"pre\">TypeError</span></code></a> ç°å¸¸ãè¥æ¯ååæª¢æ¥å·²ç¶æåï¼<a class=\"reference internal\" href=\"exceptions.html#TypeError\" title=\"TypeError\"><code class=\"xref py py-exc docutils literal notranslate\"><span class=\"pre\">TypeError</span></code></a> å¯è½ä¸æåå çºä¸åæ ¼çåå¥èè¢«å¼ç¼ã</p>\n",
      "<div class=\"versionchanged\">\n",
      "<p><span class=\"versionmodified changed\">å¨ 3.10 çæ¬è®æ´: </span><em>classinfo</em> å¯ä»¥æ¯ä¸å <a class=\"reference internal\" href=\"stdtypes.html#types-union\"><span class=\"std std-ref\">union ç±»å</span></a>ã</p>\n",
      "</div>\n",
      "</dd></dl>\n",
      "\n",
      "<dl class=\"py function\">\n",
      "<dt class=\"sig sig-object py\" id=\"issubclass\">\n",
      "<span class=\"sig-name descname\"><span class=\"pre\">issubclass</span></span><span class=\"sig-paren\">(</span><em class=\"sig-param\"><span class=\"n\"><span class=\"pre\">class</span></span></em>, <em class=\"sig-param\"><span class=\"n\"><span class=\"pre\">classinfo</span></span></em><span class=\"sig-paren\">)</span><a class=\"headerlink\" href=\"#issubclass\" title=\"æ¬å®ç¾©çæ°¸ä¹é£çµ\">Â¶</a></dt>\n",
      "<dd><p>å¦æ <em>class</em> æ¯ <em>classinfo</em> ç subclassï¼ç´æ¥ãéæ¥æ <a class=\"reference internal\" href=\"../glossary.html#term-abstract-base-class\"><span class=\"xref std std-term\">virtual</span></a>ï¼ï¼ååå³ <code class=\"docutils literal notranslate\"><span class=\"pre\">True</span></code>ã<em>classinfo</em> å¯ä»¥æ¯ class ç©ä»¶ç tupleï¼æéè¿´å°å¶ä»é¡ä¼¼ tupleï¼ææ¯ä¸å <a class=\"reference internal\" href=\"stdtypes.html#types-union\"><span class=\"std std-ref\">union ç±»å</span></a>ï¼æ­¤æè¥ <em>class</em> æ¯ <em>classinfo</em> ä¸­ä»»ä¸åç´ ç subclass æååå³ <code class=\"docutils literal notranslate\"><span class=\"pre\">True</span></code>ãå¶ä»ææ³ï¼æè§¸ç¼ <a class=\"reference internal\" href=\"exceptions.html#TypeError\" title=\"TypeError\"><code class=\"xref py py-exc docutils literal notranslate\"><span class=\"pre\">TypeError</span></code></a>ã</p>\n",
      "<div class=\"versionchanged\">\n",
      "<p><span class=\"versionmodified changed\">å¨ 3.10 çæ¬è®æ´: </span><em>classinfo</em> å¯ä»¥æ¯ä¸å <a class=\"reference internal\" href=\"stdtypes.html#types-union\"><span class=\"std std-ref\">union ç±»å</span></a>ã</p>\n",
      "</div>\n",
      "</dd></dl>\n",
      "\n",
      "<dl class=\"py function\">\n",
      "<dt class=\"sig sig-object py\" id=\"iter\">\n",
      "<span class=\"sig-name descname\"><span class=\"pre\">iter</span></span><span class=\"sig-paren\">(</span><em class=\"sig-param\"><span class=\"n\"><span class=\"pre\">object</span></span></em><span class=\"sig-paren\">)</span><a class=\"headerlink\" href=\"#iter\" title=\"æ¬å®ç¾©çæ°¸ä¹é£çµ\">Â¶</a></dt>\n",
      "<dt class=\"sig sig-object py\">\n",
      "<span class=\"sig-name descname\"><span class=\"pre\">iter</span></span><span class=\"sig-paren\">(</span><em class=\"sig-param\"><span class=\"n\"><span class=\"pre\">object</span></span></em>, <em class=\"sig-param\"><span class=\"n\"><span class=\"pre\">sentinel</span></span></em><span class=\"sig-paren\">)</span></dt>\n",
      "<dd><p>è¿åä¸ä¸ª <a class=\"reference internal\" href=\"../glossary.html#term-iterator\"><span class=\"xref std std-term\">iterator</span></a> å¯¹è±¡ã æ ¹æ®æ¯å¦å­å¨ç¬¬äºä¸ªåæ°å¯¹ç¬¬ä¸ä¸ªåæ°çè§£è¯»æ¯éå¸¸ä¸åçã å¦ææ²¡æç¬¬äºä¸ªåæ°ï¼<em>object</em> å¿é¡»æ¯ä¸ä¸ªæ¯æ <a class=\"reference internal\" href=\"../glossary.html#term-iterable\"><span class=\"xref std std-term\">iterable</span></a> åè®® (æ <code class=\"xref py py-meth docutils literal notranslate\"><span class=\"pre\">__iter__()</span></code> æ¹æ³) çå¤é¡¹éå¯¹è±¡ï¼æå¿é¡»æ¯æåºååè®® (æ <a class=\"reference internal\" href=\"../reference/datamodel.html#object.__getitem__\" title=\"object.__getitem__\"><code class=\"xref py py-meth docutils literal notranslate\"><span class=\"pre\">__getitem__()</span></code></a> æ¹æ³å¹¶ä½¿ç¨ä» <code class=\"docutils literal notranslate\"><span class=\"pre\">0</span></code> å¼å§çæ°å­åæ°)ã å¦æå®ä¸æ¯æè¿äºåè®®ï¼åä¼å¼å <a class=\"reference internal\" href=\"exceptions.html#TypeError\" title=\"TypeError\"><code class=\"xref py py-exc docutils literal notranslate\"><span class=\"pre\">TypeError</span></code></a>ã å¦æç»åºäºç¬¬äºä¸ªåæ° <em>sentinel</em>ï¼å <em>object</em> å¿é¡»æ¯ä¸ä¸ªå¯è°ç¨å¯¹è±¡ã å¨è¿ç§æåµä¸åå»ºçè¿­ä»£å¨å°éå¯¹æ¯æ¬¡è°ç¨å¶ <a class=\"reference internal\" href=\"stdtypes.html#iterator.__next__\" title=\"iterator.__next__\"><code class=\"xref py py-meth docutils literal notranslate\"><span class=\"pre\">__next__()</span></code></a> æ¹æ³ä¸å¸¦åæ°å°è°ç¨ <em>object</em>ï¼å¦æè¿åçå¼ç­äº <em>sentinel</em>ï¼åä¼å¼å <a class=\"reference internal\" href=\"exceptions.html#StopIteration\" title=\"StopIteration\"><code class=\"xref py py-exc docutils literal notranslate\"><span class=\"pre\">StopIteration</span></code></a>ï¼å¦åå°è¿åè¯¥å¼ã</p>\n",
      "<p>å¦è«åé± <a class=\"reference internal\" href=\"stdtypes.html#typeiter\"><span class=\"std std-ref\">è¿­ä»£å¨ç±»å</span></a>ã</p>\n",
      "<p>éå <a class=\"reference internal\" href=\"#iter\" title=\"iter\"><code class=\"xref py py-func docutils literal notranslate\"><span class=\"pre\">iter()</span></code></a> çç¬¬äºç§å½¢å¼çåºç¨ä¹ä¸æ¯æå»ºåè¯»åå¨ã ä¾å¦ï¼ä»äºè¿å¶æ°æ®åºæä»¶ä¸­è¯»ååºå®å®½åº¦çåï¼ç´è³å°è¾¾æä»¶çæ«å°¾:</p>\n",
      "<div class=\"highlight-python3 notranslate\"><div class=\"highlight\"><pre><span></span><span class=\"kn\">from</span> <span class=\"nn\">functools</span> <span class=\"kn\">import</span> <span class=\"n\">partial</span>\n",
      "<span class=\"k\">with</span> <span class=\"nb\">open</span><span class=\"p\">(</span><span class=\"s1\">&#39;mydata.db&#39;</span><span class=\"p\">,</span> <span class=\"s1\">&#39;rb&#39;</span><span class=\"p\">)</span> <span class=\"k\">as</span> <span class=\"n\">f</span><span class=\"p\">:</span>\n",
      "    <span class=\"k\">for</span> <span class=\"n\">block</span> <span class=\"ow\">in</span> <span class=\"nb\">iter</span><span class=\"p\">(</span><span class=\"n\">partial</span><span class=\"p\">(</span><span class=\"n\">f</span><span class=\"o\">.</span><span class=\"n\">read</span><span class=\"p\">,</span> <span class=\"mi\">64</span><span class=\"p\">),</span> <span class=\"sa\">b</span><span class=\"s1\">&#39;&#39;</span><span class=\"p\">):</span>\n",
      "        <span class=\"n\">process_block</span><span class=\"p\">(</span><span class=\"n\">block</span><span class=\"p\">)</span>\n",
      "</pre></div>\n",
      "</div>\n",
      "</dd></dl>\n",
      "\n",
      "<dl class=\"py function\">\n",
      "<dt class=\"sig sig-object py\" id=\"len\">\n",
      "<span class=\"sig-name descname\"><span class=\"pre\">len</span></span><span class=\"sig-paren\">(</span><em class=\"sig-param\"><span class=\"n\"><span class=\"pre\">s</span></span></em><span class=\"sig-paren\">)</span><a class=\"headerlink\" href=\"#len\" title=\"æ¬å®ç¾©çæ°¸ä¹é£çµ\">Â¶</a></dt>\n",
      "<dd><p>åå³ç©ä»¶çé·åº¦ï¼åç´ åæ¸ï¼ãå¼æ¸å¯ä»¥æ¯åºåï¼å¦ stringãbytesãtupleãlist æ rangeï¼æéåï¼å¦ dictionaryãset æ frozen setï¼ã</p>\n",
      "<div class=\"impl-detail compound\">\n",
      "<p><strong>CPython å¯¦ä½ç´°ç¯ï¼</strong> <code class=\"docutils literal notranslate\"><span class=\"pre\">len</span></code> å¯¹äºå¤§äº <a class=\"reference internal\" href=\"sys.html#sys.maxsize\" title=\"sys.maxsize\"><code class=\"xref py py-data docutils literal notranslate\"><span class=\"pre\">sys.maxsize</span></code></a> çé¿åº¦å¦ <a class=\"reference internal\" href=\"stdtypes.html#range\" title=\"range\"><code class=\"xref py py-class docutils literal notranslate\"><span class=\"pre\">range(2</span> <span class=\"pre\">**</span> <span class=\"pre\">100)</span></code></a> ä¼å¼å <a class=\"reference internal\" href=\"exceptions.html#OverflowError\" title=\"OverflowError\"><code class=\"xref py py-exc docutils literal notranslate\"><span class=\"pre\">OverflowError</span></code></a>ã</p>\n",
      "</div>\n",
      "</dd></dl>\n",
      "\n",
      "<span class=\"target\" id=\"func-list\"></span><dl class=\"py class\">\n",
      "<dt class=\"sig sig-object py\">\n",
      "<em class=\"property\"><span class=\"pre\">class</span><span class=\"w\"> </span></em><span class=\"sig-name descname\"><span class=\"pre\">list</span></span></dt>\n",
      "<dt class=\"sig sig-object py\">\n",
      "<em class=\"property\"><span class=\"pre\">class</span><span class=\"w\"> </span></em><span class=\"sig-name descname\"><span class=\"pre\">list</span></span><span class=\"sig-paren\">(</span><em class=\"sig-param\"><span class=\"n\"><span class=\"pre\">iterable</span></span></em><span class=\"sig-paren\">)</span></dt>\n",
      "<dd><p>é¤äºæ¯å½å¼ï¼<a class=\"reference internal\" href=\"stdtypes.html#list\" title=\"list\"><code class=\"xref py py-class docutils literal notranslate\"><span class=\"pre\">list</span></code></a> ä¹æ¯å¯è®åºååå¥ï¼è©³æè«åé± <a class=\"reference internal\" href=\"stdtypes.html#typesseq-list\"><span class=\"std std-ref\">Listï¼ä¸²åï¼</span></a> å <a class=\"reference internal\" href=\"stdtypes.html#typesseq\"><span class=\"std std-ref\">åºåç±»å --- list, tuple, range</span></a>ã</p>\n",
      "</dd></dl>\n",
      "\n",
      "<dl class=\"py function\">\n",
      "<dt class=\"sig sig-object py\" id=\"locals\">\n",
      "<span class=\"sig-name descname\"><span class=\"pre\">locals</span></span><span class=\"sig-paren\">(</span><span class=\"sig-paren\">)</span><a class=\"headerlink\" href=\"#locals\" title=\"æ¬å®ç¾©çæ°¸ä¹é£çµ\">Â¶</a></dt>\n",
      "<dd><p>æ´æ°ä¸¦åå³è¡¨ç¤ºç¶åæ¬å°ç¬¦èè¡¨ç dictionaryãå¨å½å¼åå¡èä¸æ¯ class åå¡ä¸­å¼å« <a class=\"reference internal\" href=\"#locals\" title=\"locals\"><code class=\"xref py py-func docutils literal notranslate\"><span class=\"pre\">locals()</span></code></a> ææåå³èªç±è®æ¸ãè«æ³¨æï¼å¨ module éå±¤ä¸­ï¼<a class=\"reference internal\" href=\"#locals\" title=\"locals\"><code class=\"xref py py-func docutils literal notranslate\"><span class=\"pre\">locals()</span></code></a> å <a class=\"reference internal\" href=\"#globals\" title=\"globals\"><code class=\"xref py py-func docutils literal notranslate\"><span class=\"pre\">globals()</span></code></a> æ¯ç¸åç dictionaryã</p>\n",
      "<div class=\"admonition note\">\n",
      "<p class=\"admonition-title\">åè¨»</p>\n",
      "<p>æ­¤ dictionary çå§å®¹ä¸æè©²è¢«æ´åï¼æ´æ¹å¯è½ä¸æå½±é¿ç´è­¯å¨ä½¿ç¨çæ¬å°è®æ¸æèªç±è®æ¸çå¼ã</p>\n",
      "</div>\n",
      "</dd></dl>\n",
      "\n",
      "<dl class=\"py function\">\n",
      "<dt class=\"sig sig-object py\" id=\"map\">\n",
      "<span class=\"sig-name descname\"><span class=\"pre\">map</span></span><span class=\"sig-paren\">(</span><em class=\"sig-param\"><span class=\"n\"><span class=\"pre\">function</span></span></em>, <em class=\"sig-param\"><span class=\"n\"><span class=\"pre\">iterable</span></span></em>, <em class=\"sig-param\"><span class=\"o\"><span class=\"pre\">*</span></span><span class=\"n\"><span class=\"pre\">iterables</span></span></em><span class=\"sig-paren\">)</span><a class=\"headerlink\" href=\"#map\" title=\"æ¬å®ç¾©çæ°¸ä¹é£çµ\">Â¶</a></dt>\n",
      "<dd><p>ç¢çä¸åå° <em>function</em> æç¨æ¼ <em>iterable</em> ä¸­ææåç´ ï¼ä¸¦æ¶éåå³çµæç iteratorãå¦æå³éäºé¡å¤ç <em>iterables</em> å¼æ¸ï¼<em>function</em> å¿é æ¥åç¸ååæ¸çå¼æ¸ï¼ä¸¦æç¨æ¼ææ iterables ä¸­åæç²åçåç´ ãç¶æå¤å iterables æï¼æç­ç iteratable èç¡æ iterator ä¹æçµæãå¦æå½å¼çè¼¸å¥å·²ç¶æ¯ tuple çå¼æ¸ï¼è«åé± <a class=\"reference internal\" href=\"itertools.html#itertools.starmap\" title=\"itertools.starmap\"><code class=\"xref py py-func docutils literal notranslate\"><span class=\"pre\">itertools.starmap()</span></code></a>ã</p>\n",
      "</dd></dl>\n",
      "\n",
      "<dl class=\"py function\">\n",
      "<dt class=\"sig sig-object py\" id=\"max\">\n",
      "<span class=\"sig-name descname\"><span class=\"pre\">max</span></span><span class=\"sig-paren\">(</span><em class=\"sig-param\"><span class=\"n\"><span class=\"pre\">iterable</span></span></em>, <em class=\"sig-param\"><span class=\"o\"><span class=\"pre\">*</span></span></em>, <em class=\"sig-param\"><span class=\"n\"><span class=\"pre\">key</span></span><span class=\"o\"><span class=\"pre\">=</span></span><span class=\"default_value\"><span class=\"pre\">None</span></span></em><span class=\"sig-paren\">)</span><a class=\"headerlink\" href=\"#max\" title=\"æ¬å®ç¾©çæ°¸ä¹é£çµ\">Â¶</a></dt>\n",
      "<dt class=\"sig sig-object py\">\n",
      "<span class=\"sig-name descname\"><span class=\"pre\">max</span></span><span class=\"sig-paren\">(</span><em class=\"sig-param\"><span class=\"n\"><span class=\"pre\">iterable</span></span></em>, <em class=\"sig-param\"><span class=\"o\"><span class=\"pre\">*</span></span></em>, <em class=\"sig-param\"><span class=\"n\"><span class=\"pre\">default</span></span></em>, <em class=\"sig-param\"><span class=\"n\"><span class=\"pre\">key</span></span><span class=\"o\"><span class=\"pre\">=</span></span><span class=\"default_value\"><span class=\"pre\">None</span></span></em><span class=\"sig-paren\">)</span></dt>\n",
      "<dt class=\"sig sig-object py\">\n",
      "<span class=\"sig-name descname\"><span class=\"pre\">max</span></span><span class=\"sig-paren\">(</span><em class=\"sig-param\"><span class=\"n\"><span class=\"pre\">arg1</span></span></em>, <em class=\"sig-param\"><span class=\"n\"><span class=\"pre\">arg2</span></span></em>, <em class=\"sig-param\"><span class=\"o\"><span class=\"pre\">*</span></span><span class=\"n\"><span class=\"pre\">args</span></span></em>, <em class=\"sig-param\"><span class=\"n\"><span class=\"pre\">key</span></span><span class=\"o\"><span class=\"pre\">=</span></span><span class=\"default_value\"><span class=\"pre\">None</span></span></em><span class=\"sig-paren\">)</span></dt>\n",
      "<dd><p>åå³ iterable ä¸­æå¤§çåç´ ï¼æèåå³å©ååä»¥ä¸å¼æ¸ä¸­æå¤§çã</p>\n",
      "<p>å¦æåªæä¾äºä¸åä½ç½®å¼æ¸ï¼å®å¿é æ¯å <a class=\"reference internal\" href=\"../glossary.html#term-iterable\"><span class=\"xref std std-term\">iterable</span></a>ï¼iterable ä¸­æå¤§çåç´ æè¢«åå³ãå¦ææä¾äºå©åæä»¥ä¸çä½ç½®å¼æ¸ï¼ååå³æå¤§çä½ç½®å¼æ¸ã</p>\n",
      "<p>éåå½å¼æå©åé¸ææ§åéééµå­çå¼æ¸ã<em>key</em> å¼æ¸æå®ä¸ååªæä¸åå¼æ¸çæåºå½å¼ï¼å¦å <a class=\"reference internal\" href=\"stdtypes.html#list.sort\" title=\"list.sort\"><code class=\"xref py py-meth docutils literal notranslate\"><span class=\"pre\">list.sort()</span></code></a> ä½¿ç¨æ¹å¼ã<em>default</em> å¼æ¸æ¯ç¶ iterable çºç©ºæåå³çå¼ãå¦æ iterable çºç©ºï¼ä¸¦ä¸æ²ææä¾ <em>default</em>ï¼åæè§¸ç¼ <a class=\"reference internal\" href=\"exceptions.html#ValueError\" title=\"ValueError\"><code class=\"xref py py-exc docutils literal notranslate\"><span class=\"pre\">ValueError</span></code></a>ã</p>\n",
      "<p>å¦ææå¤åæå¤§åç´ ï¼åæ­¤å½å¼å°åå³ç¬¬ä¸åæ¾å°çãéåå¶ä»ç©©å®æåºå·¥å·å¦ <code class=\"docutils literal notranslate\"><span class=\"pre\">sorted(iterable,</span> <span class=\"pre\">key=keyfunc,</span> <span class=\"pre\">reverse=True)[0]</span></code> å <code class=\"docutils literal notranslate\"><span class=\"pre\">heapq.nlargest(1,</span> <span class=\"pre\">iterable,</span> <span class=\"pre\">key=keyfunc)</span></code> ä¸è´ã</p>\n",
      "<div class=\"versionadded\">\n",
      "<p><span class=\"versionmodified added\">å¨ 3.4 çæ¬æ°å å¥: </span><em>default</em> åéééµå­å¼æ¸ã</p>\n",
      "</div>\n",
      "<div class=\"versionchanged\">\n",
      "<p><span class=\"versionmodified changed\">å¨ 3.8 çæ¬è®æ´: </span><em>key</em> å¯ä»¥ä¸º <code class=\"docutils literal notranslate\"><span class=\"pre\">None</span></code>ã</p>\n",
      "</div>\n",
      "</dd></dl>\n",
      "\n",
      "<span class=\"target\" id=\"func-memoryview\"></span><dl class=\"py class\">\n",
      "<dt class=\"sig sig-object py\">\n",
      "<em class=\"property\"><span class=\"pre\">class</span><span class=\"w\"> </span></em><span class=\"sig-name descname\"><span class=\"pre\">memoryview</span></span><span class=\"sig-paren\">(</span><em class=\"sig-param\"><span class=\"n\"><span class=\"pre\">object</span></span></em><span class=\"sig-paren\">)</span></dt>\n",
      "<dd><p>åå³ç±çµ¦å®çå¼æ¸å»ºç«ä¹ &quot;memory view&quot; ç©ä»¶ãæéè©³ç´°è³è¨ï¼è«åé± <a class=\"reference internal\" href=\"stdtypes.html#typememoryview\"><span class=\"std std-ref\">åå­è§å¾</span></a>ã</p>\n",
      "</dd></dl>\n",
      "\n",
      "<dl class=\"py function\">\n",
      "<dt class=\"sig sig-object py\" id=\"min\">\n",
      "<span class=\"sig-name descname\"><span class=\"pre\">min</span></span><span class=\"sig-paren\">(</span><em class=\"sig-param\"><span class=\"n\"><span class=\"pre\">iterable</span></span></em>, <em class=\"sig-param\"><span class=\"o\"><span class=\"pre\">*</span></span></em>, <em class=\"sig-param\"><span class=\"n\"><span class=\"pre\">key</span></span><span class=\"o\"><span class=\"pre\">=</span></span><span class=\"default_value\"><span class=\"pre\">None</span></span></em><span class=\"sig-paren\">)</span><a class=\"headerlink\" href=\"#min\" title=\"æ¬å®ç¾©çæ°¸ä¹é£çµ\">Â¶</a></dt>\n",
      "<dt class=\"sig sig-object py\">\n",
      "<span class=\"sig-name descname\"><span class=\"pre\">min</span></span><span class=\"sig-paren\">(</span><em class=\"sig-param\"><span class=\"n\"><span class=\"pre\">iterable</span></span></em>, <em class=\"sig-param\"><span class=\"o\"><span class=\"pre\">*</span></span></em>, <em class=\"sig-param\"><span class=\"n\"><span class=\"pre\">default</span></span></em>, <em class=\"sig-param\"><span class=\"n\"><span class=\"pre\">key</span></span><span class=\"o\"><span class=\"pre\">=</span></span><span class=\"default_value\"><span class=\"pre\">None</span></span></em><span class=\"sig-paren\">)</span></dt>\n",
      "<dt class=\"sig sig-object py\">\n",
      "<span class=\"sig-name descname\"><span class=\"pre\">min</span></span><span class=\"sig-paren\">(</span><em class=\"sig-param\"><span class=\"n\"><span class=\"pre\">arg1</span></span></em>, <em class=\"sig-param\"><span class=\"n\"><span class=\"pre\">arg2</span></span></em>, <em class=\"sig-param\"><span class=\"o\"><span class=\"pre\">*</span></span><span class=\"n\"><span class=\"pre\">args</span></span></em>, <em class=\"sig-param\"><span class=\"n\"><span class=\"pre\">key</span></span><span class=\"o\"><span class=\"pre\">=</span></span><span class=\"default_value\"><span class=\"pre\">None</span></span></em><span class=\"sig-paren\">)</span></dt>\n",
      "<dd><p>åå³ iterable ä¸­æå°çåç´ ï¼æèåå³å©ååä»¥ä¸å¼æ¸ä¸­æå°çã</p>\n",
      "<p>å¦æåªæä¾äºä¸åä½ç½®å¼æ¸ï¼å®å¿é æ¯ <a class=\"reference internal\" href=\"../glossary.html#term-iterable\"><span class=\"xref std std-term\">iterable</span></a>ï¼iterable ä¸­æå°çåç´ æè¢«åå³ãå¦ææä¾äºå©åæä»¥ä¸çä½ç½®å¼æ¸ï¼ååå³æå°çä½ç½®å¼æ¸ã</p>\n",
      "<p>éåå½å¼æå©åé¸ææ§åéééµå­çå¼æ¸ã<em>key</em> å¼æ¸æå®ä¸ååªæä¸åå¼æ¸çæåºå½å¼ï¼å¦å <a class=\"reference internal\" href=\"stdtypes.html#list.sort\" title=\"list.sort\"><code class=\"xref py py-meth docutils literal notranslate\"><span class=\"pre\">list.sort()</span></code></a> ä½¿ç¨æ¹å¼ã<em>default</em> å¼æ¸æ¯ç¶ iterable çºç©ºæåå³çå¼ãå¦æ iterable çºç©ºï¼ä¸¦ä¸æ²ææä¾ <em>default</em>ï¼åæè§¸ç¼ <a class=\"reference internal\" href=\"exceptions.html#ValueError\" title=\"ValueError\"><code class=\"xref py py-exc docutils literal notranslate\"><span class=\"pre\">ValueError</span></code></a>ã</p>\n",
      "<p>å¦ææå¤åæå°åç´ ï¼åæ­¤å½å¼å°åå³ç¬¬ä¸åæ¾å°çãéåå¶ä»ç©©å®æåºå·¥å·å¦ <code class=\"docutils literal notranslate\"><span class=\"pre\">sorted(iterable,</span> <span class=\"pre\">key=keyfunc)[0]</span></code> å <code class=\"docutils literal notranslate\"><span class=\"pre\">heapq.nsmallest(1,</span> <span class=\"pre\">iterable,</span> <span class=\"pre\">key=keyfunc)</span></code> ä¸è´ã</p>\n",
      "<div class=\"versionadded\">\n",
      "<p><span class=\"versionmodified added\">å¨ 3.4 çæ¬æ°å å¥: </span><em>default</em> åéééµå­å¼æ¸ã</p>\n",
      "</div>\n",
      "<div class=\"versionchanged\">\n",
      "<p><span class=\"versionmodified changed\">å¨ 3.8 çæ¬è®æ´: </span><em>key</em> å¯ä»¥ä¸º <code class=\"docutils literal notranslate\"><span class=\"pre\">None</span></code>ã</p>\n",
      "</div>\n",
      "</dd></dl>\n",
      "\n",
      "<dl class=\"py function\">\n",
      "<dt class=\"sig sig-object py\" id=\"next\">\n",
      "<span class=\"sig-name descname\"><span class=\"pre\">next</span></span><span class=\"sig-paren\">(</span><em class=\"sig-param\"><span class=\"n\"><span class=\"pre\">iterator</span></span></em><span class=\"sig-paren\">)</span><a class=\"headerlink\" href=\"#next\" title=\"æ¬å®ç¾©çæ°¸ä¹é£çµ\">Â¶</a></dt>\n",
      "<dt class=\"sig sig-object py\">\n",
      "<span class=\"sig-name descname\"><span class=\"pre\">next</span></span><span class=\"sig-paren\">(</span><em class=\"sig-param\"><span class=\"n\"><span class=\"pre\">iterator</span></span></em>, <em class=\"sig-param\"><span class=\"n\"><span class=\"pre\">default</span></span></em><span class=\"sig-paren\">)</span></dt>\n",
      "<dd><p>ééå¼å« <a class=\"reference internal\" href=\"../glossary.html#term-iterator\"><span class=\"xref std std-term\">iterator</span></a> ç <a class=\"reference internal\" href=\"stdtypes.html#iterator.__next__\" title=\"iterator.__next__\"><code class=\"xref py py-meth docutils literal notranslate\"><span class=\"pre\">__next__()</span></code></a> method ç²åä¸ä¸ååç´ ãå¦æ iterator èç¡ï¼ååå³çµ¦å®çé è¨­å¼ <em>default</em>ï¼å¦ææ²æé è¨­å¼åè§¸ç¼ <a class=\"reference internal\" href=\"exceptions.html#StopIteration\" title=\"StopIteration\"><code class=\"xref py py-exc docutils literal notranslate\"><span class=\"pre\">StopIteration</span></code></a>ã</p>\n",
      "</dd></dl>\n",
      "\n",
      "<dl class=\"py class\">\n",
      "<dt class=\"sig sig-object py\" id=\"object\">\n",
      "<em class=\"property\"><span class=\"pre\">class</span><span class=\"w\"> </span></em><span class=\"sig-name descname\"><span class=\"pre\">object</span></span><a class=\"headerlink\" href=\"#object\" title=\"æ¬å®ç¾©çæ°¸ä¹é£çµ\">Â¶</a></dt>\n",
      "<dd><p>åå³ä¸åæ²æç¹å¾µçæ°ç©ä»¶ã<a class=\"reference internal\" href=\"#object\" title=\"object\"><code class=\"xref py py-class docutils literal notranslate\"><span class=\"pre\">object</span></code></a> æ¯ææ class çåºç¤ï¼å®å·æææ Python class å¯¦ä¾çéç¨ methodãéåå½å¼ä¸æ¥åä»»ä½å¼æ¸ã</p>\n",
      "<div class=\"admonition note\">\n",
      "<p class=\"admonition-title\">åè¨»</p>\n",
      "<p>ç±æ¼ <a class=\"reference internal\" href=\"#object\" title=\"object\"><code class=\"xref py py-class docutils literal notranslate\"><span class=\"pre\">object</span></code></a> <em>æ²æ</em> <a class=\"reference internal\" href=\"stdtypes.html#object.__dict__\" title=\"object.__dict__\"><code class=\"xref py py-attr docutils literal notranslate\"><span class=\"pre\">__dict__</span></code></a>ï¼å æ­¤ç¡æ³å°ä»»æå±¬æ§è³¦çµ¦ <a class=\"reference internal\" href=\"#object\" title=\"object\"><code class=\"xref py py-class docutils literal notranslate\"><span class=\"pre\">object</span></code></a> class çå¯¦ä¾ã</p>\n",
      "</div>\n",
      "</dd></dl>\n",
      "\n",
      "<dl class=\"py function\">\n",
      "<dt class=\"sig sig-object py\" id=\"oct\">\n",
      "<span class=\"sig-name descname\"><span class=\"pre\">oct</span></span><span class=\"sig-paren\">(</span><em class=\"sig-param\"><span class=\"n\"><span class=\"pre\">x</span></span></em><span class=\"sig-paren\">)</span><a class=\"headerlink\" href=\"#oct\" title=\"æ¬å®ç¾©çæ°¸ä¹é£çµ\">Â¶</a></dt>\n",
      "<dd><p>å°ä¸åæ´æ¸è½è®çºä¸ååç¶´çº &quot;0o&quot; çå«é²ä½å¶å­ä¸²ãåå³çµææ¯ä¸åææç Python éç®å¼ãå¦æ <em>x</em> ä¸æ¯ Python ç <a class=\"reference internal\" href=\"#int\" title=\"int\"><code class=\"xref py py-class docutils literal notranslate\"><span class=\"pre\">int</span></code></a> ç©ä»¶ï¼é£å®éè¦å®ç¾© <a class=\"reference internal\" href=\"../reference/datamodel.html#object.__index__\" title=\"object.__index__\"><code class=\"xref py py-meth docutils literal notranslate\"><span class=\"pre\">__index__()</span></code></a> method åå³ä¸åæ´æ¸ãèä¾ä¾èªªï¼</p>\n",
      "<div class=\"doctest highlight-default notranslate\"><div class=\"highlight\"><pre><span></span><span class=\"gp\">&gt;&gt;&gt; </span><span class=\"nb\">oct</span><span class=\"p\">(</span><span class=\"mi\">8</span><span class=\"p\">)</span>\n",
      "<span class=\"go\">&#39;0o10&#39;</span>\n",
      "<span class=\"gp\">&gt;&gt;&gt; </span><span class=\"nb\">oct</span><span class=\"p\">(</span><span class=\"o\">-</span><span class=\"mi\">56</span><span class=\"p\">)</span>\n",
      "<span class=\"go\">&#39;-0o70&#39;</span>\n",
      "</pre></div>\n",
      "</div>\n",
      "<p>å¦æè¦å°æ´æ¸è½æçºå«é²ä½å¶å­ä¸²ï¼ä¸è«æ¯å¦å·å &quot;0o&quot; åç¶´ï¼é½å¯ä»¥ä½¿ç¨ä¸é¢çæ¹æ³ã</p>\n",
      "<div class=\"doctest highlight-default notranslate\"><div class=\"highlight\"><pre><span></span><span class=\"gp\">&gt;&gt;&gt; </span><span class=\"s1\">&#39;</span><span class=\"si\">%#o</span><span class=\"s1\">&#39;</span> <span class=\"o\">%</span> <span class=\"mi\">10</span><span class=\"p\">,</span> <span class=\"s1\">&#39;</span><span class=\"si\">%o</span><span class=\"s1\">&#39;</span> <span class=\"o\">%</span> <span class=\"mi\">10</span>\n",
      "<span class=\"go\">(&#39;0o12&#39;, &#39;12&#39;)</span>\n",
      "<span class=\"gp\">&gt;&gt;&gt; </span><span class=\"nb\">format</span><span class=\"p\">(</span><span class=\"mi\">10</span><span class=\"p\">,</span> <span class=\"s1\">&#39;#o&#39;</span><span class=\"p\">),</span> <span class=\"nb\">format</span><span class=\"p\">(</span><span class=\"mi\">10</span><span class=\"p\">,</span> <span class=\"s1\">&#39;o&#39;</span><span class=\"p\">)</span>\n",
      "<span class=\"go\">(&#39;0o12&#39;, &#39;12&#39;)</span>\n",
      "<span class=\"gp\">&gt;&gt;&gt; </span><span class=\"sa\">f</span><span class=\"s1\">&#39;</span><span class=\"si\">{</span><span class=\"mi\">10</span><span class=\"si\">:</span><span class=\"s1\">#o</span><span class=\"si\">}</span><span class=\"s1\">&#39;</span><span class=\"p\">,</span> <span class=\"sa\">f</span><span class=\"s1\">&#39;</span><span class=\"si\">{</span><span class=\"mi\">10</span><span class=\"si\">:</span><span class=\"s1\">o</span><span class=\"si\">}</span><span class=\"s1\">&#39;</span>\n",
      "<span class=\"go\">(&#39;0o12&#39;, &#39;12&#39;)</span>\n",
      "</pre></div>\n",
      "</div>\n",
      "<p>å¯åè <a class=\"reference internal\" href=\"#format\" title=\"format\"><code class=\"xref py py-func docutils literal notranslate\"><span class=\"pre\">format()</span></code></a> ç²åæ´å¤è³è¨ã</p>\n",
      "</dd></dl>\n",
      "\n",
      "<span class=\"target\" id=\"index-5\"></span><dl class=\"py function\">\n",
      "<dt class=\"sig sig-object py\" id=\"open\">\n",
      "<span class=\"sig-name descname\"><span class=\"pre\">open</span></span><span class=\"sig-paren\">(</span><em class=\"sig-param\"><span class=\"n\"><span class=\"pre\">file</span></span></em>, <em class=\"sig-param\"><span class=\"n\"><span class=\"pre\">mode</span></span><span class=\"o\"><span class=\"pre\">=</span></span><span class=\"default_value\"><span class=\"pre\">'r'</span></span></em>, <em class=\"sig-param\"><span class=\"n\"><span class=\"pre\">buffering</span></span><span class=\"o\"><span class=\"pre\">=</span></span><span class=\"default_value\"><span class=\"pre\">-</span> <span class=\"pre\">1</span></span></em>, <em class=\"sig-param\"><span class=\"n\"><span class=\"pre\">encoding</span></span><span class=\"o\"><span class=\"pre\">=</span></span><span class=\"default_value\"><span class=\"pre\">None</span></span></em>, <em class=\"sig-param\"><span class=\"n\"><span class=\"pre\">errors</span></span><span class=\"o\"><span class=\"pre\">=</span></span><span class=\"default_value\"><span class=\"pre\">None</span></span></em>, <em class=\"sig-param\"><span class=\"n\"><span class=\"pre\">newline</span></span><span class=\"o\"><span class=\"pre\">=</span></span><span class=\"default_value\"><span class=\"pre\">None</span></span></em>, <em class=\"sig-param\"><span class=\"n\"><span class=\"pre\">closefd</span></span><span class=\"o\"><span class=\"pre\">=</span></span><span class=\"default_value\"><span class=\"pre\">True</span></span></em>, <em class=\"sig-param\"><span class=\"n\"><span class=\"pre\">opener</span></span><span class=\"o\"><span class=\"pre\">=</span></span><span class=\"default_value\"><span class=\"pre\">None</span></span></em><span class=\"sig-paren\">)</span><a class=\"headerlink\" href=\"#open\" title=\"æ¬å®ç¾©çæ°¸ä¹é£çµ\">Â¶</a></dt>\n",
      "<dd><p>éå <em>file</em> ä¸¦åå³å°æç <a class=\"reference internal\" href=\"../glossary.html#term-file-object\"><span class=\"xref std std-term\">file object</span></a>ãå¦æè©²æªæ¡ä¸è½éåï¼åè§¸ç¼ <a class=\"reference internal\" href=\"exceptions.html#OSError\" title=\"OSError\"><code class=\"xref py py-exc docutils literal notranslate\"><span class=\"pre\">OSError</span></code></a>ãéæ¼ä½¿ç¨æ­¤å½å¼çæ´å¤æ¹æ³è«åé±<a class=\"reference internal\" href=\"../tutorial/inputoutput.html#tut-files\"><span class=\"std std-ref\">è®å¯«æªæ¡</span></a>ã</p>\n",
      "<p><em>file</em> æ¯ä¸å <a class=\"reference internal\" href=\"../glossary.html#term-path-like-object\"><span class=\"xref std std-term\">path-like object</span></a>ï¼æ¯å°è¢«éåä¹æªæ¡çè·¯å¾ï¼çµå°è·¯å¾æèç¶åå·¥ä½ç®éçç¸ç¶è·¯å¾ï¼ï¼ææ¯è¢«å°è£çæ´æ¸æªæ¡æè¿°å¨ (file descriptor)ãï¼å¦æææä¾æªæ¡æè¿°å¨ï¼å®æé¨èåå³ç I/O ç©ä»¶ééèééï¼é¤é <em>closefd</em> è¢«è¨­çº <code class=\"docutils literal notranslate\"><span class=\"pre\">False</span></code>ãï¼</p>\n",
      "<p><em>mode</em> æ¯ä¸åé¸ææ§å­ä¸²ï¼ç¨æ¼æå®éåæªæ¡çæ¨¡å¼ãé è¨­å¼æ¯ <code class=\"docutils literal notranslate\"><span class=\"pre\">'r'</span></code>ï¼éæå³èå®ä»¥æå­æ¨¡å¼éåä¸¦è®åãå¶ä»å¸¸è¦æ¨¡å¼æï¼å¯«å¥ <code class=\"docutils literal notranslate\"><span class=\"pre\">'w'</span></code>ï¼ææ¨å»å·²ç¶å­å¨çæªæ¡ï¼ãå¯ä¸æ§åµå»º <code class=\"docutils literal notranslate\"><span class=\"pre\">'x'</span></code>ãè¿½å å¯«å¥ <code class=\"docutils literal notranslate\"><span class=\"pre\">'a'</span></code>ï¼å¨<em>ä¸äº</em> Unix ç³»çµ±ä¸ï¼ç¡è«ç¶åçæªæ¡ææ¨å¨ä»éº¼ä½ç½®ï¼<em>ææ</em> å¯«å¥é½æè¿½å å°æªæ¡æ«å°¾ï¼ãå¨æå­æ¨¡å¼ï¼å¦ææ²ææå® <em>encoding</em>ï¼åæ ¹æé»è¦å¹³èºä¾æ±ºå®ä½¿ç¨çç·¨ç¢¼ï¼å¼å« <a class=\"reference internal\" href=\"locale.html#locale.getencoding\" title=\"locale.getencoding\"><code class=\"xref py py-func docutils literal notranslate\"><span class=\"pre\">locale.getencoding()</span></code></a> ä¾ç²åç¶åçæ¬å°ç·¨ç¢¼ãï¼è¦è®ååå¯«å¥åå§ bytesï¼è«ä½¿ç¨äºé²ä½å¶æ¨¡å¼ä¸ä¸è¦æå® <em>encoding</em>ãï¼å¯ç¨çæ¨¡å¼æï¼</p>\n",
      "<span class=\"target\" id=\"filemodes\"></span><table class=\"docutils align-default\" id=\"index-6\">\n",
      "<colgroup>\n",
      "<col style=\"width: 13%\" />\n",
      "<col style=\"width: 88%\" />\n",
      "</colgroup>\n",
      "<thead>\n",
      "<tr class=\"row-odd\"><th class=\"head\"><p>å­å</p></th>\n",
      "<th class=\"head\"><p>æç¾©</p></th>\n",
      "</tr>\n",
      "</thead>\n",
      "<tbody>\n",
      "<tr class=\"row-even\"><td><p><code class=\"docutils literal notranslate\"><span class=\"pre\">'r'</span></code></p></td>\n",
      "<td><p>è®åï¼é è¨­ï¼</p></td>\n",
      "</tr>\n",
      "<tr class=\"row-odd\"><td><p><code class=\"docutils literal notranslate\"><span class=\"pre\">'w'</span></code></p></td>\n",
      "<td><p>åå¥ï¼å¹¶åæªæ­æä»¶</p></td>\n",
      "</tr>\n",
      "<tr class=\"row-even\"><td><p><code class=\"docutils literal notranslate\"><span class=\"pre\">'x'</span></code></p></td>\n",
      "<td><p>å¯ä¸æ§åµå»ºï¼å¦ææä»¶å·²å­å¨åæå¤±æ</p></td>\n",
      "</tr>\n",
      "<tr class=\"row-odd\"><td><p><code class=\"docutils literal notranslate\"><span class=\"pre\">'a'</span></code></p></td>\n",
      "<td><p>å¯«å¥ï¼å¦ææä»¶å­å¨åå¨æ«å°¾è¿½å å¯«å¥å§å®¹</p></td>\n",
      "</tr>\n",
      "<tr class=\"row-even\"><td><p><code class=\"docutils literal notranslate\"><span class=\"pre\">'b'</span></code></p></td>\n",
      "<td><p>binary modeï¼äºé²ä½æ¨¡å¼ï¼</p></td>\n",
      "</tr>\n",
      "<tr class=\"row-odd\"><td><p><code class=\"docutils literal notranslate\"><span class=\"pre\">'t'</span></code></p></td>\n",
      "<td><p>æå­æ¨¡å¼ï¼é è¨­ï¼</p></td>\n",
      "</tr>\n",
      "<tr class=\"row-even\"><td><p><code class=\"docutils literal notranslate\"><span class=\"pre\">'+'</span></code></p></td>\n",
      "<td><p>æ´æ°ï¼è®åä¸¦å¯«å¥ï¼</p></td>\n",
      "</tr>\n",
      "</tbody>\n",
      "</table>\n",
      "<p>é è¨­çæ¨¡å¼æ¯ <code class=\"docutils literal notranslate\"><span class=\"pre\">'r'</span></code>ï¼éåä¸¦è®åæå­ï¼å <code class=\"docutils literal notranslate\"><span class=\"pre\">'rt'</span></code>ï¼ãå°æ¼äºé²ä½å¶å¯«å¥ï¼<code class=\"docutils literal notranslate\"><span class=\"pre\">'w+b'</span></code> æ¨¡å¼éåä¸¦ææªæ¡å§å®¹è®æ 0 bytesï¼<code class=\"docutils literal notranslate\"><span class=\"pre\">'r+b'</span></code> åä¸ææ¨æ£åå§å§å®¹ã</p>\n",
      "<p>æ­£å¦å¨ <a class=\"reference internal\" href=\"io.html#io-overview\"><span class=\"std std-ref\">ç¸½è¦½</span></a> ä¸­æå°çï¼Pythonåºåäºè¿å¶åææ¬I/Oãä»¥äºè¿å¶æ¨¡å¼æå¼çæä»¶ï¼åæ¬ <em>mode</em> åæ°ä¸­ç <code class=\"docutils literal notranslate\"><span class=\"pre\">'b'</span></code> ï¼è¿åçåå®¹ä¸º <a class=\"reference internal\" href=\"stdtypes.html#bytes\" title=\"bytes\"><code class=\"xref py py-class docutils literal notranslate\"><span class=\"pre\">bytes</span></code></a> å¯¹è±¡ï¼ä¸è¿è¡ä»»ä½è§£ç ãå¨ææ¬æ¨¡å¼ä¸ï¼é»è®¤æåµä¸ï¼æèå¨ <em>mode</em> åæ°ä¸­åå« <code class=\"docutils literal notranslate\"><span class=\"pre\">'t'</span></code> ï¼æ¶ï¼æä»¶åå®¹è¿åä¸º <a class=\"reference internal\" href=\"stdtypes.html#str\" title=\"str\"><code class=\"xref py py-class docutils literal notranslate\"><span class=\"pre\">str</span></code></a> ï¼é¦åä½¿ç¨æå®ç <em>encoding</em> ï¼å¦æç»å®ï¼æèä½¿ç¨å¹³å°é»è®¤ççå­èç¼ç è§£ç ã</p>\n",
      "<div class=\"admonition note\">\n",
      "<p class=\"admonition-title\">åè¨»</p>\n",
      "<p>Pythonä¸ä¾èµäºåºå±æä½ç³»ç»çææ¬æä»¶æ¦å¿µ;ææå¤çé½ç±Pythonæ¬èº«å®æï¼å æ­¤ä¸å¹³å°æ å³ã</p>\n",
      "</div>\n",
      "<p><em>buffering</em> æ¯ä¸ä¸ªå¯éçæ´æ°ï¼ç¨äºè®¾ç½®ç¼å²ç­ç¥ã ä¼ å¥ 0 æ¥å³é­ç¼å²ï¼åªåè®¸å¨äºè¿å¶æ¨¡å¼ä¸ï¼ï¼ä¼ å¥ 1 æ¥éæ©è¡ç¼å²ï¼åªå¨ææ¬æ¨¡å¼ä¸å¯ç¨ï¼ï¼ä¼ å¥ä¸ä¸ªæ´æ° &gt; 1 æ¥è¡¨ç¤ºåºå®å¤§å°çåç¼å²åºçå­èå¤§å°ãæ³¨æï¼è¿æ ·æå®ç¼å²åºçå¤§å°éç¨äºäºè¿å¶ç¼å²ç I/O ï¼ä½ <code class=\"docutils literal notranslate\"><span class=\"pre\">TextIOWrapper</span></code> ï¼å³ç¨ <code class=\"docutils literal notranslate\"><span class=\"pre\">mode='r+'</span></code> æå¼çæä»¶ï¼ä¼æå¦ä¸ç§ç¼å²ãè¦ç¦ç¨å¨ <code class=\"docutils literal notranslate\"><span class=\"pre\">TextIOWrapper</span></code> ç¼å²ï¼èèä½¿ç¨ <a class=\"reference internal\" href=\"io.html#io.TextIOWrapper.reconfigure\" title=\"io.TextIOWrapper.reconfigure\"><code class=\"xref py py-func docutils literal notranslate\"><span class=\"pre\">io.TextIOWrapper.reconfigure()</span></code></a> ç <code class=\"docutils literal notranslate\"><span class=\"pre\">write_through</span></code> æ å¿æ¥ãå½æ²¡æç»åº <em>buffering</em> åæ°æ¶ï¼é»è®¤çç¼å²ç­ç¥å·¥ä½å¦ä¸ã</p>\n",
      "<ul class=\"simple\">\n",
      "<li><p>äºè¿å¶æä»¶ä»¥åºå®å¤§å°çåè¿è¡ç¼å²ï¼ç¼å²åºçå¤§å°æ¯ä½¿ç¨å¯åæ¹å¼æ¥å°è¯ç¡®å®åºå±è®¾å¤çâåå¤§å°âå¹¶ä¼åéè³ <a class=\"reference internal\" href=\"io.html#io.DEFAULT_BUFFER_SIZE\" title=\"io.DEFAULT_BUFFER_SIZE\"><code class=\"xref py py-const docutils literal notranslate\"><span class=\"pre\">io.DEFAULT_BUFFER_SIZE</span></code></a>ã å¨è®¸å¤ç³»ç»ä¸ï¼ç¼å²åºçé¿åº¦éå¸¸ä¸º 4096 æ 8192 å­èã</p></li>\n",
      "<li><p>âäº¤äºå¼âææ¬æä»¶ï¼ <a class=\"reference internal\" href=\"io.html#io.IOBase.isatty\" title=\"io.IOBase.isatty\"><code class=\"xref py py-meth docutils literal notranslate\"><span class=\"pre\">isatty()</span></code></a> è¿å <code class=\"docutils literal notranslate\"><span class=\"pre\">True</span></code> çæä»¶ï¼ä½¿ç¨è¡ç¼å²ãå¶ä»ææ¬æä»¶ä½¿ç¨ä¸è¿°ç­ç¥ç¨äºäºè¿å¶æä»¶ã</p></li>\n",
      "</ul>\n",
      "<p><em>encoding</em> æ¯ç¨äºç¼ç æç¼ç æä»¶çç¼ç æ ¼å¼åç§°ã è¿åºå½åªæææ¬æ¨¡å¼ä¸ä½¿ç¨ã é»è®¤çç¼ç æ ¼å¼ä¾èµäºå·ä½å¹³å° (å³ <a class=\"reference internal\" href=\"locale.html#locale.getencoding\" title=\"locale.getencoding\"><code class=\"xref py py-func docutils literal notranslate\"><span class=\"pre\">locale.getencoding()</span></code></a> æè¿åçå¼)ï¼ä½æ¯ä»»ä½ Python æ¯æç <a class=\"reference internal\" href=\"../glossary.html#term-text-encoding\"><span class=\"xref std std-term\">text encoding</span></a> é½å¯ä»¥è¢«ä½¿ç¨ã è¯·åé <a class=\"reference internal\" href=\"codecs.html#module-codecs\" title=\"codecs: Encode and decode data and streams.\"><code class=\"xref py py-mod docutils literal notranslate\"><span class=\"pre\">codecs</span></code></a> æ¨¡åè·ååæ¯æçç¼ç æ ¼å¼åè¡¨ã</p>\n",
      "<p><em>errors</em> æ¯ä¸ä¸ªå¯éçå­ç¬¦ä¸²åæ°ï¼ç¨äºæå®å¦ä½å¤çç¼ç åè§£ç éè¯¯ - è¿ä¸è½å¨äºè¿å¶æ¨¡å¼ä¸ä½¿ç¨ãå¯ä»¥ä½¿ç¨åç§æ åéè¯¯å¤çç¨åºï¼åå¨ <a class=\"reference internal\" href=\"codecs.html#error-handlers\"><span class=\"std std-ref\">éè¯¯å¤çæ¹æ¡</span></a> ï¼ï¼ä½æ¯ä½¿ç¨ <a class=\"reference internal\" href=\"codecs.html#codecs.register_error\" title=\"codecs.register_error\"><code class=\"xref py py-func docutils literal notranslate\"><span class=\"pre\">codecs.register_error()</span></code></a> æ³¨åçä»»ä½éè¯¯å¤çåç§°ä¹æ¯ææçãæ ååç§°åæ¬:</p>\n",
      "<ul class=\"simple\">\n",
      "<li><p>å¦æå­å¨ç¼ç éè¯¯ï¼<code class=\"docutils literal notranslate\"><span class=\"pre\">'strict'</span></code> ä¼å¼å <a class=\"reference internal\" href=\"exceptions.html#ValueError\" title=\"ValueError\"><code class=\"xref py py-exc docutils literal notranslate\"><span class=\"pre\">ValueError</span></code></a> å¼å¸¸ã é»è®¤å¼ <code class=\"docutils literal notranslate\"><span class=\"pre\">None</span></code> å·æç¸åçææã</p></li>\n",
      "<li><p><code class=\"docutils literal notranslate\"><span class=\"pre\">'ignore'</span></code> å¿½ç¥éè¯¯ãè¯·æ³¨æï¼å¿½ç¥ç¼ç éè¯¯å¯è½ä¼å¯¼è´æ°æ®ä¸¢å¤±ã</p></li>\n",
      "<li><p><code class=\"docutils literal notranslate\"><span class=\"pre\">'replace'</span></code> ä¼å°æ¿æ¢æ è®°ï¼ä¾å¦ <code class=\"docutils literal notranslate\"><span class=\"pre\">'?'</span></code> ï¼æå¥æéè¯¯æ°æ®çå°æ¹ã</p></li>\n",
      "<li><p><code class=\"docutils literal notranslate\"><span class=\"pre\">'surrogateescape'</span></code> å°æä»»ä½ä¸æ­£ç¡®çå­èè¡¨ç¤ºä¸º U+DC80 è³ U+DCFF èå´åçä¸æ¹æ¿ä»£ç ä½ã å½å¨åå¥æ°æ®æ¶ä½¿ç¨ <code class=\"docutils literal notranslate\"><span class=\"pre\">surrogateescape</span></code> éè¯¯å¤çå¥ææ¶è¿äºæ¿ä»£ç ä½ä¼è¢«è½¬åå°ç¸åçå­èã è¿éç¨äºå¤çå·ææªç¥ç¼ç æ ¼å¼çæä»¶ã</p></li>\n",
      "<li><p><code class=\"docutils literal notranslate\"><span class=\"pre\">'xmlcharrefreplace'</span></code> ä»å¨åå¥æä»¶æ¶æåå°æ¯æã ç¼ç æ ¼å¼ä¸æ¯æçå­ç¬¦å°è¢«æ¿æ¢ä¸ºç¸åºç XML å­ç¬¦å¼ç¨ <code class=\"samp docutils literal notranslate\"><span class=\"pre\">&amp;#</span><em><span class=\"pre\">nnn</span></em><span class=\"pre\">;</span></code>ã</p></li>\n",
      "<li><p><code class=\"docutils literal notranslate\"><span class=\"pre\">'backslashreplace'</span></code> ç¨Pythonçååè½¬ä¹åºåæ¿æ¢æ ¼å¼éè¯¯çæ°æ®ã</p></li>\n",
      "<li><p><code class=\"docutils literal notranslate\"><span class=\"pre\">'namereplace'</span></code> ï¼ä¹åªå¨ç¼åæ¶æ¯æï¼ç¨ <code class=\"docutils literal notranslate\"><span class=\"pre\">\\N{...}</span></code> è½¬ä¹åºåæ¿æ¢ä¸æ¯æçå­ç¬¦ã</p></li>\n",
      "</ul>\n",
      "<p id=\"open-newline-parameter\"><span id=\"index-7\"></span><em>newline</em> å³å®å¦ä½è§£ææ¥èªæµçæ¢è¡ç¬¦ã å®å¯ä»¥ä¸º <code class=\"docutils literal notranslate\"><span class=\"pre\">None</span></code>, <code class=\"docutils literal notranslate\"><span class=\"pre\">''</span></code>, <code class=\"docutils literal notranslate\"><span class=\"pre\">'\\n'</span></code>, <code class=\"docutils literal notranslate\"><span class=\"pre\">'\\r'</span></code> å <code class=\"docutils literal notranslate\"><span class=\"pre\">'\\r\\n'</span></code>ã å®çå·¥ä½åçå¦ä¸:</p>\n",
      "<ul class=\"simple\">\n",
      "<li><p>ä»æµä¸­è¯»åè¾å¥æ¶ï¼å¦æ <em>newline</em> ä¸º <code class=\"docutils literal notranslate\"><span class=\"pre\">None</span></code>ï¼åå¯ç¨éç¨æ¢è¡æ¨¡å¼ãè¾å¥ä¸­çè¡å¯ä»¥ä»¥ <code class=\"docutils literal notranslate\"><span class=\"pre\">'\\n'</span></code>ï¼<code class=\"docutils literal notranslate\"><span class=\"pre\">'\\r'</span></code> æ <code class=\"docutils literal notranslate\"><span class=\"pre\">'\\r\\n'</span></code> ç»å°¾ï¼è¿äºè¡è¢«ç¿»è¯æ <code class=\"docutils literal notranslate\"><span class=\"pre\">'\\n'</span></code> å¨è¿åå¼å«èä¹åãå¦æå®æ¯ <code class=\"docutils literal notranslate\"><span class=\"pre\">''</span></code>ï¼åå¯ç¨éç¨æ¢è¡æ¨¡å¼ï¼ä½è¡ç»å°¾å°è¿åç»è°ç¨èæªç¿»è¯ãå¦æå®å·æä»»ä½å¶ä»åæ³å¼ï¼åè¾å¥è¡ä»ç±ç»å®å­ç¬¦ä¸²ç»æ­¢ï¼å¹¶ä¸è¡ç»å°¾å°è¿åç»æªè°ç¨çè°ç¨èã</p></li>\n",
      "<li><p>å°è¾åºåå¥æµæ¶ï¼å¦æ <em>newline</em> ä¸º <code class=\"docutils literal notranslate\"><span class=\"pre\">None</span></code>ï¼ååå¥çä»»ä½ <code class=\"docutils literal notranslate\"><span class=\"pre\">'\\n'</span></code> å­ç¬¦é½å°è½¬æ¢ä¸ºç³»ç»é»è®¤è¡åéç¬¦ <a class=\"reference internal\" href=\"os.html#os.linesep\" title=\"os.linesep\"><code class=\"xref py py-data docutils literal notranslate\"><span class=\"pre\">os.linesep</span></code></a>ãå¦æ <em>newline</em> æ¯ <code class=\"docutils literal notranslate\"><span class=\"pre\">''</span></code> æ <code class=\"docutils literal notranslate\"><span class=\"pre\">'\\n'</span></code>ï¼åä¸è¿è¡ç¿»è¯ãå¦æ <em>newline</em> æ¯ä»»ä½å¶ä»åæ³å¼ï¼ååå¥çä»»ä½ <code class=\"docutils literal notranslate\"><span class=\"pre\">'\\n'</span></code> å­ç¬¦å°è¢«è½¬æ¢ä¸ºç»å®çå­ç¬¦ä¸²ã</p></li>\n",
      "</ul>\n",
      "<p>å¦æ <em>closefd</em> ä¸º <code class=\"docutils literal notranslate\"><span class=\"pre\">False</span></code> ä¸ç»åºçä¸æ¯æä»¶åèæ¯æä»¶æè¿°ç¬¦ï¼é£ä¹å½æä»¶å³é­æ¶ï¼åºå±æä»¶æè¿°ç¬¦å°ä¿ææå¼ç¶æãå¦æç»åºçæ¯æä»¶åï¼å <em>closefd</em> å¿é¡»ä¸º <code class=\"docutils literal notranslate\"><span class=\"pre\">True</span></code> ï¼é»è®¤å¼ï¼ï¼å¦åå°è§¦åéè¯¯ã</p>\n",
      "<p>å¯ä»¥éè¿ä¼ éå¯è°ç¨ç <em>opener</em> æ¥ä½¿ç¨èªå®ä¹å¼å¯å¨ãç¶åéè¿ä½¿ç¨åæ°ï¼ <em>file</em>ï¼<em>flags</em> ï¼è°ç¨ <em>opener</em> è·å¾æä»¶å¯¹è±¡çåºç¡æä»¶æè¿°ç¬¦ã <em>opener</em> å¿é¡»è¿åä¸ä¸ªæå¼çæä»¶æè¿°ç¬¦ï¼ä½¿ç¨ <a class=\"reference internal\" href=\"os.html#os.open\" title=\"os.open\"><code class=\"xref py py-mod docutils literal notranslate\"><span class=\"pre\">os.open</span></code></a> as <em>opener</em> æ¶ä¸ä¼ é <code class=\"docutils literal notranslate\"><span class=\"pre\">None</span></code> çææç¸åï¼ã</p>\n",
      "<p>æ°å»ºç«çæªæ¡æ¯<a class=\"reference internal\" href=\"os.html#fd-inheritance\"><span class=\"std std-ref\">ä¸å¯ç¹¼æ¿ç</span></a>ã</p>\n",
      "<p>ä¸é¢çç¯ä¾ä½¿ç¨ <a class=\"reference internal\" href=\"os.html#os.open\" title=\"os.open\"><code class=\"xref py py-func docutils literal notranslate\"><span class=\"pre\">os.open()</span></code></a> å½å¼åå³å¼ç¶ä½ <a class=\"reference internal\" href=\"os.html#dir-fd\"><span class=\"std std-ref\">dir_fd</span></a> çåæ¸ï¼å¾çµ¦å®çç®éä¸­ç¨ç¸å°è·¯å¾éåæªæ¡ï¼</p>\n",
      "<div class=\"highlight-python3 notranslate\"><div class=\"highlight\"><pre><span></span><span class=\"gp\">&gt;&gt;&gt; </span><span class=\"kn\">import</span> <span class=\"nn\">os</span>\n",
      "<span class=\"gp\">&gt;&gt;&gt; </span><span class=\"n\">dir_fd</span> <span class=\"o\">=</span> <span class=\"n\">os</span><span class=\"o\">.</span><span class=\"n\">open</span><span class=\"p\">(</span><span class=\"s1\">&#39;somedir&#39;</span><span class=\"p\">,</span> <span class=\"n\">os</span><span class=\"o\">.</span><span class=\"n\">O_RDONLY</span><span class=\"p\">)</span>\n",
      "<span class=\"gp\">&gt;&gt;&gt; </span><span class=\"k\">def</span> <span class=\"nf\">opener</span><span class=\"p\">(</span><span class=\"n\">path</span><span class=\"p\">,</span> <span class=\"n\">flags</span><span class=\"p\">):</span>\n",
      "<span class=\"gp\">... </span>    <span class=\"k\">return</span> <span class=\"n\">os</span><span class=\"o\">.</span><span class=\"n\">open</span><span class=\"p\">(</span><span class=\"n\">path</span><span class=\"p\">,</span> <span class=\"n\">flags</span><span class=\"p\">,</span> <span class=\"n\">dir_fd</span><span class=\"o\">=</span><span class=\"n\">dir_fd</span><span class=\"p\">)</span>\n",
      "<span class=\"gp\">...</span>\n",
      "<span class=\"gp\">&gt;&gt;&gt; </span><span class=\"k\">with</span> <span class=\"nb\">open</span><span class=\"p\">(</span><span class=\"s1\">&#39;spamspam.txt&#39;</span><span class=\"p\">,</span> <span class=\"s1\">&#39;w&#39;</span><span class=\"p\">,</span> <span class=\"n\">opener</span><span class=\"o\">=</span><span class=\"n\">opener</span><span class=\"p\">)</span> <span class=\"k\">as</span> <span class=\"n\">f</span><span class=\"p\">:</span>\n",
      "<span class=\"gp\">... </span>    <span class=\"nb\">print</span><span class=\"p\">(</span><span class=\"s1\">&#39;This will be written to somedir/spamspam.txt&#39;</span><span class=\"p\">,</span> <span class=\"n\">file</span><span class=\"o\">=</span><span class=\"n\">f</span><span class=\"p\">)</span>\n",
      "<span class=\"gp\">...</span>\n",
      "<span class=\"gp\">&gt;&gt;&gt; </span><span class=\"n\">os</span><span class=\"o\">.</span><span class=\"n\">close</span><span class=\"p\">(</span><span class=\"n\">dir_fd</span><span class=\"p\">)</span>  <span class=\"c1\"># don&#39;t leak a file descriptor</span>\n",
      "</pre></div>\n",
      "</div>\n",
      "<p><a class=\"reference internal\" href=\"#open\" title=\"open\"><code class=\"xref py py-func docutils literal notranslate\"><span class=\"pre\">open()</span></code></a> å½æ°æè¿åç <a class=\"reference internal\" href=\"../glossary.html#term-file-object\"><span class=\"xref std std-term\">file object</span></a> ç±»ååå³äºæç¨æ¨¡å¼ã å½ä½¿ç¨ <a class=\"reference internal\" href=\"#open\" title=\"open\"><code class=\"xref py py-func docutils literal notranslate\"><span class=\"pre\">open()</span></code></a> ä»¥ææ¬æ¨¡å¼ (<code class=\"docutils literal notranslate\"><span class=\"pre\">'w'</span></code>, <code class=\"docutils literal notranslate\"><span class=\"pre\">'r'</span></code>, <code class=\"docutils literal notranslate\"><span class=\"pre\">'wt'</span></code>, <code class=\"docutils literal notranslate\"><span class=\"pre\">'rt'</span></code> ç­) æå¼æä»¶æ¶ï¼å®å°è¿å <a class=\"reference internal\" href=\"io.html#io.TextIOBase\" title=\"io.TextIOBase\"><code class=\"xref py py-class docutils literal notranslate\"><span class=\"pre\">io.TextIOBase</span></code></a> (å·ä½ä¸º <a class=\"reference internal\" href=\"io.html#io.TextIOWrapper\" title=\"io.TextIOWrapper\"><code class=\"xref py py-class docutils literal notranslate\"><span class=\"pre\">io.TextIOWrapper</span></code></a>) çä¸ä¸ªå­ç±»ã å½ä½¿ç¨ç¼å²ä»¥äºè¿å¶æ¨¡å¼æå¼æä»¶æ¶ï¼è¿åçç±»æ¯ <a class=\"reference internal\" href=\"io.html#io.BufferedIOBase\" title=\"io.BufferedIOBase\"><code class=\"xref py py-class docutils literal notranslate\"><span class=\"pre\">io.BufferedIOBase</span></code></a> çä¸ä¸ªå­ç±»ã å·ä½çç±»ä¼æå¤ç§ï¼å¨åªè¯»çäºè¿å¶æ¨¡å¼ä¸ï¼å®å°è¿å <a class=\"reference internal\" href=\"io.html#io.BufferedReader\" title=\"io.BufferedReader\"><code class=\"xref py py-class docutils literal notranslate\"><span class=\"pre\">io.BufferedReader</span></code></a>ï¼å¨åå¥äºè¿å¶åè¿½å äºè¿å¶æ¨¡å¼ä¸ï¼å®å°è¿å <a class=\"reference internal\" href=\"io.html#io.BufferedWriter\" title=\"io.BufferedWriter\"><code class=\"xref py py-class docutils literal notranslate\"><span class=\"pre\">io.BufferedWriter</span></code></a>ï¼èå¨è¯»/åæ¨¡å¼ä¸ï¼å®å°è¿å <a class=\"reference internal\" href=\"io.html#io.BufferedRandom\" title=\"io.BufferedRandom\"><code class=\"xref py py-class docutils literal notranslate\"><span class=\"pre\">io.BufferedRandom</span></code></a>ã å½ç¦ç¨ç¼å²æ¶ï¼åä¼è¿ååå§æµï¼å³ <a class=\"reference internal\" href=\"io.html#io.RawIOBase\" title=\"io.RawIOBase\"><code class=\"xref py py-class docutils literal notranslate\"><span class=\"pre\">io.RawIOBase</span></code></a> çä¸ä¸ªå­ç±» <a class=\"reference internal\" href=\"io.html#io.FileIO\" title=\"io.FileIO\"><code class=\"xref py py-class docutils literal notranslate\"><span class=\"pre\">io.FileIO</span></code></a>ã</p>\n",
      "<p id=\"index-8\">å¦è«åé±æªæ¡æä½æ¨¡çµï¼ä¾å¦ <a class=\"reference internal\" href=\"fileinput.html#module-fileinput\" title=\"fileinput: Loop over standard input or a list of files.\"><code class=\"xref py py-mod docutils literal notranslate\"><span class=\"pre\">fileinput</span></code></a>ã<a class=\"reference internal\" href=\"io.html#module-io\" title=\"io: Core tools for working with streams.\"><code class=\"xref py py-mod docutils literal notranslate\"><span class=\"pre\">io</span></code></a>ï¼å®ç¾©äº <a class=\"reference internal\" href=\"#open\" title=\"open\"><code class=\"xref py py-func docutils literal notranslate\"><span class=\"pre\">open()</span></code></a> ç module ï¼ã<a class=\"reference internal\" href=\"os.html#module-os\" title=\"os: Miscellaneous operating system interfaces.\"><code class=\"xref py py-mod docutils literal notranslate\"><span class=\"pre\">os</span></code></a>ã<a class=\"reference internal\" href=\"os.path.html#module-os.path\" title=\"os.path: Operations on pathnames.\"><code class=\"xref py py-mod docutils literal notranslate\"><span class=\"pre\">os.path</span></code></a>ã<a class=\"reference internal\" href=\"tempfile.html#module-tempfile\" title=\"tempfile: Generate temporary files and directories.\"><code class=\"xref py py-mod docutils literal notranslate\"><span class=\"pre\">tempfile</span></code></a> ä»¥å <a class=\"reference internal\" href=\"shutil.html#module-shutil\" title=\"shutil: High-level file operations, including copying.\"><code class=\"xref py py-mod docutils literal notranslate\"><span class=\"pre\">shutil</span></code></a>ã</p>\n",
      "<p class=\"audit-hook\">å¼ç¼ä¸åéå¸¶å¼æ¸ <code class=\"docutils literal notranslate\"><span class=\"pre\">file</span></code>ã<code class=\"docutils literal notranslate\"><span class=\"pre\">model</span></code>ã<code class=\"docutils literal notranslate\"><span class=\"pre\">flags</span></code> ç<a class=\"reference internal\" href=\"sys.html#auditing\"><span class=\"std std-ref\">ç¨½æ ¸äºä»¶</span></a> <code class=\"docutils literal notranslate\"><span class=\"pre\">open</span></code>ã</p>\n",
      "<p><code class=\"docutils literal notranslate\"><span class=\"pre\">mode</span></code> ä¸ <code class=\"docutils literal notranslate\"><span class=\"pre\">flags</span></code> åæ°å¯ä»¥å¨åå§è°ç¨çåºç¡ä¸è¢«ä¿®æ¹æä¼ éã</p>\n",
      "<div class=\"versionchanged\">\n",
      "<p><span class=\"versionmodified changed\">å¨ 3.3 çæ¬è®æ´: </span></p>\n",
      "<ul class=\"simple\">\n",
      "<li><p>å¢å äº <em>opener</em> åæ¸ã</p></li>\n",
      "<li><p>å¢å äº <code class=\"docutils literal notranslate\"><span class=\"pre\">'x'</span></code> æ¨¡å¼ã</p></li>\n",
      "<li><p>éå»è§¸ç¼ç <a class=\"reference internal\" href=\"exceptions.html#IOError\" title=\"IOError\"><code class=\"xref py py-exc docutils literal notranslate\"><span class=\"pre\">IOError</span></code></a>ï¼ç¾å¨æ¯ <a class=\"reference internal\" href=\"exceptions.html#OSError\" title=\"OSError\"><code class=\"xref py py-exc docutils literal notranslate\"><span class=\"pre\">OSError</span></code></a> çå¥åã</p></li>\n",
      "<li><p>å¦ææªæ¡å·²å­å¨ä½ä½¿ç¨äºå¯ä¸æ§å»ºç«æ¨¡å¼ (<code class=\"docutils literal notranslate\"><span class=\"pre\">'x'</span></code>)ï¼ç¾å¨æè§¸ç¼ <a class=\"reference internal\" href=\"exceptions.html#FileExistsError\" title=\"FileExistsError\"><code class=\"xref py py-exc docutils literal notranslate\"><span class=\"pre\">FileExistsError</span></code></a>ã</p></li>\n",
      "</ul>\n",
      "</div>\n",
      "<div class=\"versionchanged\">\n",
      "<p><span class=\"versionmodified changed\">å¨ 3.4 çæ¬è®æ´: </span></p>\n",
      "<ul class=\"simple\">\n",
      "<li><p>æªæ¡å¨ç¶åçæ¬éå§ç¦æ­¢ç¹¼æ¿ã</p></li>\n",
      "</ul>\n",
      "</div>\n",
      "<div class=\"versionchanged\">\n",
      "<p><span class=\"versionmodified changed\">å¨ 3.5 çæ¬è®æ´: </span></p>\n",
      "<ul class=\"simple\">\n",
      "<li><p>å¦æç³»çµ±å¼å«è¢«ä¸­æ·ï¼ä½è¨èèçç¨åºæ²æè§¸ç¼ä¾å¤ï¼æ­¤å½å¼ç¾å¨æéè©¦ç³»çµ±å¼å«ï¼èä¸æ¯è§¸ç¼ <a class=\"reference internal\" href=\"exceptions.html#InterruptedError\" title=\"InterruptedError\"><code class=\"xref py py-exc docutils literal notranslate\"><span class=\"pre\">InterruptedError</span></code></a>ï¼åå è©³è¦ <span class=\"target\" id=\"index-24\"></span><a class=\"pep reference external\" href=\"https://peps.python.org/pep-0475/\"><strong>PEP 475</strong></a>ï¼ã</p></li>\n",
      "<li><p>å¢å äº <code class=\"docutils literal notranslate\"><span class=\"pre\">'namereplace'</span></code> é¯èª¤èçç¨å¼ã</p></li>\n",
      "</ul>\n",
      "</div>\n",
      "<div class=\"versionchanged\">\n",
      "<p><span class=\"versionmodified changed\">å¨ 3.6 çæ¬è®æ´: </span></p>\n",
      "<ul class=\"simple\">\n",
      "<li><p>å¢å å°å¯¦ç¾äº <a class=\"reference internal\" href=\"os.html#os.PathLike\" title=\"os.PathLike\"><code class=\"xref py py-class docutils literal notranslate\"><span class=\"pre\">os.PathLike</span></code></a> ç©ä»¶çæ¯æ´ã</p></li>\n",
      "<li><p>å¨ Windows ä¸ï¼éåä¸åæ§å¶èºç·©è¡åå¯è½æåå³ <a class=\"reference internal\" href=\"io.html#io.RawIOBase\" title=\"io.RawIOBase\"><code class=\"xref py py-class docutils literal notranslate\"><span class=\"pre\">io.RawIOBase</span></code></a> ç subclassï¼èä¸æ¯ <a class=\"reference internal\" href=\"io.html#io.FileIO\" title=\"io.FileIO\"><code class=\"xref py py-class docutils literal notranslate\"><span class=\"pre\">io.FileIO</span></code></a>ã</p></li>\n",
      "</ul>\n",
      "</div>\n",
      "<div class=\"versionchanged\">\n",
      "<p><span class=\"versionmodified changed\">å¨ 3.11 çæ¬è®æ´: </span><code class=\"docutils literal notranslate\"><span class=\"pre\">'U'</span></code> æ¨¡å¼è¢«ç§»é¤ã</p>\n",
      "</div>\n",
      "</dd></dl>\n",
      "\n",
      "<dl class=\"py function\">\n",
      "<dt class=\"sig sig-object py\" id=\"ord\">\n",
      "<span class=\"sig-name descname\"><span class=\"pre\">ord</span></span><span class=\"sig-paren\">(</span><em class=\"sig-param\"><span class=\"n\"><span class=\"pre\">c</span></span></em><span class=\"sig-paren\">)</span><a class=\"headerlink\" href=\"#ord\" title=\"æ¬å®ç¾©çæ°¸ä¹é£çµ\">Â¶</a></dt>\n",
      "<dd><p>å°æ¼ä»£è¡¨å®å Unicode å­åçå­ä¸²ï¼åå³ä»£è¡¨å® Unicode ç·¨ç¢¼ä½ç½®çæ´æ¸ãä¾å¦ <code class=\"docutils literal notranslate\"><span class=\"pre\">ord('a')</span></code> åå³æ´æ¸ <code class=\"docutils literal notranslate\"><span class=\"pre\">97</span></code>ã<code class=\"docutils literal notranslate\"><span class=\"pre\">ord('â¬')</span></code>ï¼æ­åç¬¦èï¼åå³ <code class=\"docutils literal notranslate\"><span class=\"pre\">8364</span></code>ãéæ¯ <a class=\"reference internal\" href=\"#chr\" title=\"chr\"><code class=\"xref py py-func docutils literal notranslate\"><span class=\"pre\">chr()</span></code></a> çéå½å¼ã</p>\n",
      "</dd></dl>\n",
      "\n",
      "<dl class=\"py function\">\n",
      "<dt class=\"sig sig-object py\" id=\"pow\">\n",
      "<span class=\"sig-name descname\"><span class=\"pre\">pow</span></span><span class=\"sig-paren\">(</span><em class=\"sig-param\"><span class=\"n\"><span class=\"pre\">base</span></span></em>, <em class=\"sig-param\"><span class=\"n\"><span class=\"pre\">exp</span></span></em>, <em class=\"sig-param\"><span class=\"n\"><span class=\"pre\">mod</span></span><span class=\"o\"><span class=\"pre\">=</span></span><span class=\"default_value\"><span class=\"pre\">None</span></span></em><span class=\"sig-paren\">)</span><a class=\"headerlink\" href=\"#pow\" title=\"æ¬å®ç¾©çæ°¸ä¹é£çµ\">Â¶</a></dt>\n",
      "<dd><p>åå³ <em>base</em> ç <em>exp</em> æ¬¡æ¹ï¼å¦æ <em>mod</em> å­å¨ï¼ååå³ <em>base</em> ç <em>exp</em> æ¬¡æ¹å° <em>mod</em> åé¤æ¸ï¼æ¯ç´æ¥å¼å« <code class=\"docutils literal notranslate\"><span class=\"pre\">pow(base,</span> <span class=\"pre\">exp)</span> <span class=\"pre\">%</span> <span class=\"pre\">mod</span></code> è¨ç®æ´é«æï¼ãå©åå¼æ¸å½¢å¼ç <code class=\"docutils literal notranslate\"><span class=\"pre\">pow(exp,</span> <span class=\"pre\">exp)</span></code> ç­å¹æ¼æ¬¡æ¹éç®å­ï¼<code class=\"docutils literal notranslate\"><span class=\"pre\">base**exp</span></code>ã</p>\n",
      "<p>åæ°å¿é¡»ä¸ºæ°å¼ç±»åã å¯¹äºæ··ç¨çæä½æ°ç±»åï¼åéç¨äºåç®æ¯è¿ç®ç¬¦çç±»åå¼ºå¶è½¬æ¢è§åã å¯¹äº <a class=\"reference internal\" href=\"#int\" title=\"int\"><code class=\"xref py py-class docutils literal notranslate\"><span class=\"pre\">int</span></code></a> æä½æ°ï¼ç»æå·æä¸æä½æ°ç¸åçç±»åï¼è½¬æ¢åï¼ï¼é¤éç¬¬äºä¸ªåæ°ä¸ºè´å¼ï¼å¨è¿ç§æåµä¸ï¼ææåæ°å°è¢«è½¬æ¢ä¸ºæµ®ç¹æ°å¹¶è¾åºæµ®ç¹æ°ç»æã ä¾å¦ï¼<code class=\"docutils literal notranslate\"><span class=\"pre\">pow(10,</span> <span class=\"pre\">2)</span></code> è¿å <code class=\"docutils literal notranslate\"><span class=\"pre\">100</span></code>ï¼ä½ <code class=\"docutils literal notranslate\"><span class=\"pre\">pow(10,</span> <span class=\"pre\">-2)</span></code> è¿å <code class=\"docutils literal notranslate\"><span class=\"pre\">0.01</span></code>ã å¯¹äº <a class=\"reference internal\" href=\"#int\" title=\"int\"><code class=\"xref py py-class docutils literal notranslate\"><span class=\"pre\">int</span></code></a> æ <a class=\"reference internal\" href=\"#float\" title=\"float\"><code class=\"xref py py-class docutils literal notranslate\"><span class=\"pre\">float</span></code></a> ç±»åçè´åºåä¸ä¸ªéæ´æ°çææ°ï¼ä¼äº§çä¸ä¸ªå¤æçç»æã ä¾å¦ï¼ <code class=\"docutils literal notranslate\"><span class=\"pre\">pow(-9,</span> <span class=\"pre\">0.5)</span></code> è¿åä¸ä¸ªæ¥è¿äº <code class=\"docutils literal notranslate\"><span class=\"pre\">3j</span></code> çå¼ã</p>\n",
      "<p>å¯¹äº <a class=\"reference internal\" href=\"#int\" title=\"int\"><code class=\"xref py py-class docutils literal notranslate\"><span class=\"pre\">int</span></code></a> æä½æ° <em>base</em> å <em>exp</em>ï¼å¦æç»åº <em>mod</em>ï¼å <em>mod</em> å¿é¡»ä¸ºæ´æ°ç±»åå¹¶ä¸ <em>mod</em> å¿é¡»ä¸ä¸ºé¶ã å¦æç»åº <em>mod</em> å¹¶ä¸ <em>exp</em> ä¸ºè´å¼ï¼å <em>base</em> å¿é¡»ç¸å¯¹äº <em>mod</em> ä¸å¯æ´é¤ã å¨è¿ç§æåµä¸ï¼å°ä¼è¿å <code class=\"docutils literal notranslate\"><span class=\"pre\">pow(inv_base,</span> <span class=\"pre\">-exp,</span> <span class=\"pre\">mod)</span></code>ï¼å¶ä¸­ <em>inv_base</em> ä¸º <em>base</em> çåæ°å¯¹ <em>mod</em> åä½ã</p>\n",
      "<p>ä¸é¢çä¾å­æ¯ <code class=\"docutils literal notranslate\"><span class=\"pre\">38</span></code> çåæ°å¯¹ <code class=\"docutils literal notranslate\"><span class=\"pre\">97</span></code> åä½:</p>\n",
      "<div class=\"highlight-python3 notranslate\"><div class=\"highlight\"><pre><span></span><span class=\"gp\">&gt;&gt;&gt; </span><span class=\"nb\">pow</span><span class=\"p\">(</span><span class=\"mi\">38</span><span class=\"p\">,</span> <span class=\"o\">-</span><span class=\"mi\">1</span><span class=\"p\">,</span> <span class=\"n\">mod</span><span class=\"o\">=</span><span class=\"mi\">97</span><span class=\"p\">)</span>\n",
      "<span class=\"go\">23</span>\n",
      "<span class=\"gp\">&gt;&gt;&gt; </span><span class=\"mi\">23</span> <span class=\"o\">*</span> <span class=\"mi\">38</span> <span class=\"o\">%</span> <span class=\"mi\">97</span> <span class=\"o\">==</span> <span class=\"mi\">1</span>\n",
      "<span class=\"go\">True</span>\n",
      "</pre></div>\n",
      "</div>\n",
      "<div class=\"versionchanged\">\n",
      "<p><span class=\"versionmodified changed\">å¨ 3.8 çæ¬è®æ´: </span>å¯¹äº <a class=\"reference internal\" href=\"#int\" title=\"int\"><code class=\"xref py py-class docutils literal notranslate\"><span class=\"pre\">int</span></code></a> æä½æ°ï¼ä¸åæ°å½¢å¼ç <code class=\"docutils literal notranslate\"><span class=\"pre\">pow</span></code> ç°å¨åè®¸ç¬¬äºä¸ªåæ°ä¸ºè´å¼ï¼å³å¯ä»¥è®¡ç®åæ°çä½æ°ã</p>\n",
      "</div>\n",
      "<div class=\"versionchanged\">\n",
      "<p><span class=\"versionmodified changed\">å¨ 3.8 çæ¬è®æ´: </span>åè®¸å³é®å­åæ°ã ä¹ååªæ¯æä½ç½®åæ°ã</p>\n",
      "</div>\n",
      "</dd></dl>\n",
      "\n",
      "<dl class=\"py function\">\n",
      "<dt class=\"sig sig-object py\" id=\"print\">\n",
      "<span class=\"sig-name descname\"><span class=\"pre\">print</span></span><span class=\"sig-paren\">(</span><em class=\"sig-param\"><span class=\"o\"><span class=\"pre\">*</span></span><span class=\"n\"><span class=\"pre\">objects</span></span></em>, <em class=\"sig-param\"><span class=\"n\"><span class=\"pre\">sep</span></span><span class=\"o\"><span class=\"pre\">=</span></span><span class=\"default_value\"><span class=\"pre\">'</span> <span class=\"pre\">'</span></span></em>, <em class=\"sig-param\"><span class=\"n\"><span class=\"pre\">end</span></span><span class=\"o\"><span class=\"pre\">=</span></span><span class=\"default_value\"><span class=\"pre\">'\\n'</span></span></em>, <em class=\"sig-param\"><span class=\"n\"><span class=\"pre\">file</span></span><span class=\"o\"><span class=\"pre\">=</span></span><span class=\"default_value\"><span class=\"pre\">None</span></span></em>, <em class=\"sig-param\"><span class=\"n\"><span class=\"pre\">flush</span></span><span class=\"o\"><span class=\"pre\">=</span></span><span class=\"default_value\"><span class=\"pre\">False</span></span></em><span class=\"sig-paren\">)</span><a class=\"headerlink\" href=\"#print\" title=\"æ¬å®ç¾©çæ°¸ä¹é£çµ\">Â¶</a></dt>\n",
      "<dd><p>å° <em>objects</em> æå°è¾åºè³ <em>file</em> æå®çææ¬æµï¼ä»¥ <em>sep</em> åéå¹¶å¨æ«å°¾å ä¸ <em>end</em>ã <em>sep</em> ã <em>end</em> ã <em>file</em> å <em>flush</em> å¿é¡»ä»¥å³é®å­åæ°çå½¢å¼ç»åºã</p>\n",
      "<p>ææéå³é®å­åæ°é½ä¼è¢«è½¬æ¢ä¸ºå­ç¬¦ä¸²ï¼å°±åæ¯æ§è¡äº <a class=\"reference internal\" href=\"stdtypes.html#str\" title=\"str\"><code class=\"xref py py-func docutils literal notranslate\"><span class=\"pre\">str()</span></code></a> ä¸æ ·ï¼å¹¶ä¼è¢«åå¥å°æµï¼ä»¥ <em>sep</em> åéå¹¶å¨æ«å°¾å ä¸ <em>end</em>ã <em>sep</em> å <em>end</em> é½å¿é¡»ä¸ºå­ç¬¦ä¸²ï¼å®ä»¬ä¹å¯ä»¥ä¸º <code class=\"docutils literal notranslate\"><span class=\"pre\">None</span></code>ï¼è¿æå³çä½¿ç¨é»è®¤å¼ã å¦ææ²¡æç»åº <em>objects</em>ï¼å <a class=\"reference internal\" href=\"#print\" title=\"print\"><code class=\"xref py py-func docutils literal notranslate\"><span class=\"pre\">print()</span></code></a> å°åªåå¥ <em>end</em>ã</p>\n",
      "<p><em>file</em> åæ°å¿é¡»æ¯ä¸ä¸ªå·æ <code class=\"docutils literal notranslate\"><span class=\"pre\">write(string)</span></code> æ¹æ³çå¯¹è±¡ï¼å¦æåæ°ä¸å­å¨æä¸º <code class=\"docutils literal notranslate\"><span class=\"pre\">None</span></code>ï¼åå°ä½¿ç¨ <a class=\"reference internal\" href=\"sys.html#sys.stdout\" title=\"sys.stdout\"><code class=\"xref py py-data docutils literal notranslate\"><span class=\"pre\">sys.stdout</span></code></a>ã ç±äºè¦æå°çåæ°ä¼è¢«è½¬æ¢ä¸ºææ¬å­ç¬¦ä¸²ï¼å æ­¤ <a class=\"reference internal\" href=\"#print\" title=\"print\"><code class=\"xref py py-func docutils literal notranslate\"><span class=\"pre\">print()</span></code></a> ä¸è½ç¨äºäºè¿å¶æ¨¡å¼çæä»¶å¯¹è±¡ã å¯¹äºè¿äºå¯¹è±¡ï¼åºæ¹ç¨ <code class=\"docutils literal notranslate\"><span class=\"pre\">file.write(...)</span></code>ã</p>\n",
      "<p>è¾åºç¼å²éå¸¸ç± <em>file</em> ç¡®å®ã ä½æ¯ï¼å¦æ <em>flush</em> ä¸ºçå¼ï¼æµå°è¢«å¼ºå¶å·æ°ã</p>\n",
      "<div class=\"versionchanged\">\n",
      "<p><span class=\"versionmodified changed\">å¨ 3.3 çæ¬è®æ´: </span>å¢å äº <em>flush</em> ééµå­å¼æ¸ã</p>\n",
      "</div>\n",
      "</dd></dl>\n",
      "\n",
      "<dl class=\"py class\">\n",
      "<dt class=\"sig sig-object py\" id=\"property\">\n",
      "<em class=\"property\"><span class=\"pre\">class</span><span class=\"w\"> </span></em><span class=\"sig-name descname\"><span class=\"pre\">property</span></span><span class=\"sig-paren\">(</span><em class=\"sig-param\"><span class=\"n\"><span class=\"pre\">fget</span></span><span class=\"o\"><span class=\"pre\">=</span></span><span class=\"default_value\"><span class=\"pre\">None</span></span></em>, <em class=\"sig-param\"><span class=\"n\"><span class=\"pre\">fset</span></span><span class=\"o\"><span class=\"pre\">=</span></span><span class=\"default_value\"><span class=\"pre\">None</span></span></em>, <em class=\"sig-param\"><span class=\"n\"><span class=\"pre\">fdel</span></span><span class=\"o\"><span class=\"pre\">=</span></span><span class=\"default_value\"><span class=\"pre\">None</span></span></em>, <em class=\"sig-param\"><span class=\"n\"><span class=\"pre\">doc</span></span><span class=\"o\"><span class=\"pre\">=</span></span><span class=\"default_value\"><span class=\"pre\">None</span></span></em><span class=\"sig-paren\">)</span><a class=\"headerlink\" href=\"#property\" title=\"æ¬å®ç¾©çæ°¸ä¹é£çµ\">Â¶</a></dt>\n",
      "<dd><p>åå³ property å±¬æ§ã</p>\n",
      "<p><em>fget</em> æ¯è·åå±æ§å¼çå½æ°ã <em>fset</em> æ¯ç¨äºè®¾ç½®å±æ§å¼çå½æ°ã <em>fdel</em> æ¯ç¨äºå é¤å±æ§å¼çå½æ°ãå¹¶ä¸ <em>doc</em> ä¸ºå±æ§å¯¹è±¡åå»ºææ¡£å­ç¬¦ä¸²ã</p>\n",
      "<p>ä¸ä¸ªå¸åçç¨æ³æ¯å®ä¹ä¸ä¸ªæç®¡å±æ§ <code class=\"docutils literal notranslate\"><span class=\"pre\">x</span></code>:</p>\n",
      "<div class=\"highlight-python3 notranslate\"><div class=\"highlight\"><pre><span></span><span class=\"k\">class</span> <span class=\"nc\">C</span><span class=\"p\">:</span>\n",
      "    <span class=\"k\">def</span> <span class=\"fm\">__init__</span><span class=\"p\">(</span><span class=\"bp\">self</span><span class=\"p\">):</span>\n",
      "        <span class=\"bp\">self</span><span class=\"o\">.</span><span class=\"n\">_x</span> <span class=\"o\">=</span> <span class=\"kc\">None</span>\n",
      "\n",
      "    <span class=\"k\">def</span> <span class=\"nf\">getx</span><span class=\"p\">(</span><span class=\"bp\">self</span><span class=\"p\">):</span>\n",
      "        <span class=\"k\">return</span> <span class=\"bp\">self</span><span class=\"o\">.</span><span class=\"n\">_x</span>\n",
      "\n",
      "    <span class=\"k\">def</span> <span class=\"nf\">setx</span><span class=\"p\">(</span><span class=\"bp\">self</span><span class=\"p\">,</span> <span class=\"n\">value</span><span class=\"p\">):</span>\n",
      "        <span class=\"bp\">self</span><span class=\"o\">.</span><span class=\"n\">_x</span> <span class=\"o\">=</span> <span class=\"n\">value</span>\n",
      "\n",
      "    <span class=\"k\">def</span> <span class=\"nf\">delx</span><span class=\"p\">(</span><span class=\"bp\">self</span><span class=\"p\">):</span>\n",
      "        <span class=\"k\">del</span> <span class=\"bp\">self</span><span class=\"o\">.</span><span class=\"n\">_x</span>\n",
      "\n",
      "    <span class=\"n\">x</span> <span class=\"o\">=</span> <span class=\"nb\">property</span><span class=\"p\">(</span><span class=\"n\">getx</span><span class=\"p\">,</span> <span class=\"n\">setx</span><span class=\"p\">,</span> <span class=\"n\">delx</span><span class=\"p\">,</span> <span class=\"s2\">&quot;I&#39;m the &#39;x&#39; property.&quot;</span><span class=\"p\">)</span>\n",
      "</pre></div>\n",
      "</div>\n",
      "<p>å¦æ <em>c</em> ä¸º <em>C</em> çå®ä¾ï¼<code class=\"docutils literal notranslate\"><span class=\"pre\">c.x</span></code> å°è°ç¨ getterï¼<code class=\"docutils literal notranslate\"><span class=\"pre\">c.x</span> <span class=\"pre\">=</span> <span class=\"pre\">value</span></code> å°è°ç¨ setterï¼ <code class=\"docutils literal notranslate\"><span class=\"pre\">del</span> <span class=\"pre\">c.x</span></code> å°è°ç¨ deleterã</p>\n",
      "<p>å¦æç»åºï¼<em>doc</em> å°æä¸ºè¯¥ property å±æ§çææ¡£å­ç¬¦ä¸²ã å¦åè¯¥ property å°æ·è´ <em>fget</em> çææ¡£å­ç¬¦ä¸²ï¼å¦æå­å¨ï¼ã è¿ä»¤ä½¿ç¨ <a class=\"reference internal\" href=\"#property\" title=\"property\"><code class=\"xref py py-func docutils literal notranslate\"><span class=\"pre\">property()</span></code></a> ä½ä¸º <a class=\"reference internal\" href=\"../glossary.html#term-decorator\"><span class=\"xref std std-term\">decorator</span></a> æ¥åå»ºåªè¯»çç¹å¾å±æ§å¯ä»¥å¾å®¹æå°å®ç°:</p>\n",
      "<div class=\"highlight-python3 notranslate\"><div class=\"highlight\"><pre><span></span><span class=\"k\">class</span> <span class=\"nc\">Parrot</span><span class=\"p\">:</span>\n",
      "    <span class=\"k\">def</span> <span class=\"fm\">__init__</span><span class=\"p\">(</span><span class=\"bp\">self</span><span class=\"p\">):</span>\n",
      "        <span class=\"bp\">self</span><span class=\"o\">.</span><span class=\"n\">_voltage</span> <span class=\"o\">=</span> <span class=\"mi\">100000</span>\n",
      "\n",
      "    <span class=\"nd\">@property</span>\n",
      "    <span class=\"k\">def</span> <span class=\"nf\">voltage</span><span class=\"p\">(</span><span class=\"bp\">self</span><span class=\"p\">):</span>\n",
      "<span class=\"w\">        </span><span class=\"sd\">&quot;&quot;&quot;Get the current voltage.&quot;&quot;&quot;</span>\n",
      "        <span class=\"k\">return</span> <span class=\"bp\">self</span><span class=\"o\">.</span><span class=\"n\">_voltage</span>\n",
      "</pre></div>\n",
      "</div>\n",
      "<p>ä»¥ä¸ <code class=\"docutils literal notranslate\"><span class=\"pre\">&#64;property</span></code> è£é¥°å¨ä¼å° <code class=\"xref py py-meth docutils literal notranslate\"><span class=\"pre\">voltage()</span></code> æ¹æ³è½¬åä¸ºä¸ä¸ªå·æç¸ååç§°çåªè¯»å±æ§ç &quot;getter&quot;ï¼å¹¶å° <em>voltage</em> çææ¡£å­ç¬¦ä¸²è®¾ç½®ä¸º &quot;Get the current voltage.&quot;</p>\n",
      "<p>ç¹å¾å±æ§å¯¹è±¡å·æ <code class=\"xref py py-attr docutils literal notranslate\"><span class=\"pre\">getter</span></code>, <code class=\"xref py py-attr docutils literal notranslate\"><span class=\"pre\">setter</span></code> ä»¥å <code class=\"xref py py-attr docutils literal notranslate\"><span class=\"pre\">deleter</span></code> æ¹æ³ï¼å®ä»¬å¯ç¨ä½è£é¥°å¨æ¥åå»ºè¯¥ç¹å¾å±æ§çå¯æ¬ï¼å¹¶å°ç¸åºçè®¿é®å½æ°è®¾ä¸ºæè£é¥°çå½æ°ã  è¿æå¥½æ¯ç¨ä¸ä¸ªä¾å­æ¥è§£é:</p>\n",
      "<div class=\"highlight-python3 notranslate\"><div class=\"highlight\"><pre><span></span><span class=\"k\">class</span> <span class=\"nc\">C</span><span class=\"p\">:</span>\n",
      "    <span class=\"k\">def</span> <span class=\"fm\">__init__</span><span class=\"p\">(</span><span class=\"bp\">self</span><span class=\"p\">):</span>\n",
      "        <span class=\"bp\">self</span><span class=\"o\">.</span><span class=\"n\">_x</span> <span class=\"o\">=</span> <span class=\"kc\">None</span>\n",
      "\n",
      "    <span class=\"nd\">@property</span>\n",
      "    <span class=\"k\">def</span> <span class=\"nf\">x</span><span class=\"p\">(</span><span class=\"bp\">self</span><span class=\"p\">):</span>\n",
      "<span class=\"w\">        </span><span class=\"sd\">&quot;&quot;&quot;I&#39;m the &#39;x&#39; property.&quot;&quot;&quot;</span>\n",
      "        <span class=\"k\">return</span> <span class=\"bp\">self</span><span class=\"o\">.</span><span class=\"n\">_x</span>\n",
      "\n",
      "    <span class=\"nd\">@x</span><span class=\"o\">.</span><span class=\"n\">setter</span>\n",
      "    <span class=\"k\">def</span> <span class=\"nf\">x</span><span class=\"p\">(</span><span class=\"bp\">self</span><span class=\"p\">,</span> <span class=\"n\">value</span><span class=\"p\">):</span>\n",
      "        <span class=\"bp\">self</span><span class=\"o\">.</span><span class=\"n\">_x</span> <span class=\"o\">=</span> <span class=\"n\">value</span>\n",
      "\n",
      "    <span class=\"nd\">@x</span><span class=\"o\">.</span><span class=\"n\">deleter</span>\n",
      "    <span class=\"k\">def</span> <span class=\"nf\">x</span><span class=\"p\">(</span><span class=\"bp\">self</span><span class=\"p\">):</span>\n",
      "        <span class=\"k\">del</span> <span class=\"bp\">self</span><span class=\"o\">.</span><span class=\"n\">_x</span>\n",
      "</pre></div>\n",
      "</div>\n",
      "<p>ä¸è¿°ä»£ç ä¸ç¬¬ä¸ä¸ªä¾å­å®å¨ç­ä»·ã æ³¨æä¸å®è¦ç»éå å½æ°ä¸åå§çç¹å¾å±æ§ç¸åçåç§° (å¨æ¬ä¾ä¸­ä¸º <code class=\"docutils literal notranslate\"><span class=\"pre\">x</span></code>ã)</p>\n",
      "<p>è¿åçç¹å¾å±æ§å¯¹è±¡åæ ·å·æä¸æé å¨åæ°ç¸å¯¹åºçå±æ§ <code class=\"docutils literal notranslate\"><span class=\"pre\">fget</span></code>, <code class=\"docutils literal notranslate\"><span class=\"pre\">fset</span></code> å <code class=\"docutils literal notranslate\"><span class=\"pre\">fdel</span></code>ã</p>\n",
      "<div class=\"versionchanged\">\n",
      "<p><span class=\"versionmodified changed\">å¨ 3.5 çæ¬è®æ´: </span>ç¹å¾å±æ§å¯¹è±¡çææ¡£å­ç¬¦ä¸²ç°å¨æ¯å¯åçã</p>\n",
      "</div>\n",
      "</dd></dl>\n",
      "\n",
      "<span class=\"target\" id=\"func-range\"></span><dl class=\"py class\">\n",
      "<dt class=\"sig sig-object py\">\n",
      "<em class=\"property\"><span class=\"pre\">class</span><span class=\"w\"> </span></em><span class=\"sig-name descname\"><span class=\"pre\">range</span></span><span class=\"sig-paren\">(</span><em class=\"sig-param\"><span class=\"n\"><span class=\"pre\">stop</span></span></em><span class=\"sig-paren\">)</span></dt>\n",
      "<dt class=\"sig sig-object py\">\n",
      "<em class=\"property\"><span class=\"pre\">class</span><span class=\"w\"> </span></em><span class=\"sig-name descname\"><span class=\"pre\">range</span></span><span class=\"sig-paren\">(</span><em class=\"sig-param\"><span class=\"n\"><span class=\"pre\">start</span></span></em>, <em class=\"sig-param\"><span class=\"n\"><span class=\"pre\">stop</span></span></em>, <em class=\"sig-param\"><span class=\"n\"><span class=\"pre\">step</span></span><span class=\"o\"><span class=\"pre\">=</span></span><span class=\"default_value\"><span class=\"pre\">1</span></span></em><span class=\"sig-paren\">)</span></dt>\n",
      "<dd><p>è½ç¶è¢«ç§°ä¸ºå½æ°ï¼ä½ <a class=\"reference internal\" href=\"stdtypes.html#range\" title=\"range\"><code class=\"xref py py-class docutils literal notranslate\"><span class=\"pre\">range</span></code></a> å®éä¸æ¯ä¸ä¸ªä¸å¯åçåºåç±»åï¼åè§å¨ <a class=\"reference internal\" href=\"stdtypes.html#typesseq-range\"><span class=\"std std-ref\">range å¯¹è±¡</span></a> ä¸ <a class=\"reference internal\" href=\"stdtypes.html#typesseq\"><span class=\"std std-ref\">åºåç±»å --- list, tuple, range</span></a> ä¸­çææ¡£è¯´æã</p>\n",
      "</dd></dl>\n",
      "\n",
      "<dl class=\"py function\">\n",
      "<dt class=\"sig sig-object py\" id=\"repr\">\n",
      "<span class=\"sig-name descname\"><span class=\"pre\">repr</span></span><span class=\"sig-paren\">(</span><em class=\"sig-param\"><span class=\"n\"><span class=\"pre\">object</span></span></em><span class=\"sig-paren\">)</span><a class=\"headerlink\" href=\"#repr\" title=\"æ¬å®ç¾©çæ°¸ä¹é£çµ\">Â¶</a></dt>\n",
      "<dd><p>è¿ååå«ä¸ä¸ªå¯¹è±¡çå¯æå°è¡¨ç¤ºå½¢å¼çå­ç¬¦ä¸²ã å¯¹äºè®¸å¤ç±»åèè¨ï¼æ­¤å½æ°å°ä¼å°è¯è¿åä¸ä¸ªå·æä¸ä¼ ç» <a class=\"reference internal\" href=\"#eval\" title=\"eval\"><code class=\"xref py py-func docutils literal notranslate\"><span class=\"pre\">eval()</span></code></a> æ¶ç¸åçå¼çå­ç¬¦ä¸²ï¼å¨å¶ä»æåµä¸ï¼å¶è¡¨ç¤ºå½¢å¼å°ä¸ºä¸ä¸ªåå«å¯¹è±¡ç±»ååç§°åéå¸¸åæ¬å¯¹è±¡åç§°åå°åçé¢å¤ä¿¡æ¯çç¨å°æ¬å·æ¬èµ·æ¥çå­ç¬¦ä¸²ã ä¸ä¸ªç±»å¯ä»¥éè¿å®ä¹ <code class=\"xref py py-meth docutils literal notranslate\"><span class=\"pre\">__repr__()</span></code> æ¹æ³æ¥æ§å¶æ­¤å½æ°ä¸ºå¶å®ä¾æè¿åçåå®¹ã å¦æ <a class=\"reference internal\" href=\"sys.html#sys.displayhook\" title=\"sys.displayhook\"><code class=\"xref py py-func docutils literal notranslate\"><span class=\"pre\">sys.displayhook()</span></code></a> ä¸å¯è®¿é®ï¼åæ­¤å½æ°å°ä¼å¼å <a class=\"reference internal\" href=\"exceptions.html#RuntimeError\" title=\"RuntimeError\"><code class=\"xref py py-exc docutils literal notranslate\"><span class=\"pre\">RuntimeError</span></code></a>ã</p>\n",
      "</dd></dl>\n",
      "\n",
      "<dl class=\"py function\">\n",
      "<dt class=\"sig sig-object py\" id=\"reversed\">\n",
      "<span class=\"sig-name descname\"><span class=\"pre\">reversed</span></span><span class=\"sig-paren\">(</span><em class=\"sig-param\"><span class=\"n\"><span class=\"pre\">seq</span></span></em><span class=\"sig-paren\">)</span><a class=\"headerlink\" href=\"#reversed\" title=\"æ¬å®ç¾©çæ°¸ä¹é£çµ\">Â¶</a></dt>\n",
      "<dd><p>è¿åä¸ä¸ªååç <a class=\"reference internal\" href=\"../glossary.html#term-iterator\"><span class=\"xref std std-term\">iterator</span></a>ã <em>seq</em> å¿é¡»æ¯ä¸ä¸ªå·æ <code class=\"xref py py-meth docutils literal notranslate\"><span class=\"pre\">__reversed__()</span></code> æ¹æ³çå¯¹è±¡ææ¯æ¯æåºååè®®ï¼å·æ <code class=\"xref py py-meth docutils literal notranslate\"><span class=\"pre\">__len__()</span></code> æ¹æ³åä» <code class=\"docutils literal notranslate\"><span class=\"pre\">0</span></code> å¼å§çæ´æ°åæ°ç <a class=\"reference internal\" href=\"../reference/datamodel.html#object.__getitem__\" title=\"object.__getitem__\"><code class=\"xref py py-meth docutils literal notranslate\"><span class=\"pre\">__getitem__()</span></code></a> æ¹æ³ï¼ã</p>\n",
      "</dd></dl>\n",
      "\n",
      "<dl class=\"py function\">\n",
      "<dt class=\"sig sig-object py\" id=\"round\">\n",
      "<span class=\"sig-name descname\"><span class=\"pre\">round</span></span><span class=\"sig-paren\">(</span><em class=\"sig-param\"><span class=\"n\"><span class=\"pre\">number</span></span></em>, <em class=\"sig-param\"><span class=\"n\"><span class=\"pre\">ndigits</span></span><span class=\"o\"><span class=\"pre\">=</span></span><span class=\"default_value\"><span class=\"pre\">None</span></span></em><span class=\"sig-paren\">)</span><a class=\"headerlink\" href=\"#round\" title=\"æ¬å®ç¾©çæ°¸ä¹é£çµ\">Â¶</a></dt>\n",
      "<dd><p>è¿å <em>number</em> èå¥å°å°æ°ç¹å <em>ndigits</em> ä½ç²¾åº¦çå¼ã å¦æ <em>ndigits</em> è¢«çç¥æä¸º <code class=\"docutils literal notranslate\"><span class=\"pre\">None</span></code>ï¼åè¿åææ¥è¿è¾å¥å¼çæ´æ°ã</p>\n",
      "<p>å¯¹äºæ¯æ <a class=\"reference internal\" href=\"#round\" title=\"round\"><code class=\"xref py py-func docutils literal notranslate\"><span class=\"pre\">round()</span></code></a> æ¹æ³çåç½®ç±»åï¼ç»æå¼ä¼èå¥è³ææ¥è¿ç 10 çè´ <em>ndigits</em> æ¬¡å¹çåæ°ï¼å¦æä¸ä¸¤ä¸ªåæ°åæ ·æ¥è¿ï¼åéç¨å¶æ°ãå æ­¤ï¼<code class=\"docutils literal notranslate\"><span class=\"pre\">round(0.5)</span></code> å <code class=\"docutils literal notranslate\"><span class=\"pre\">round(-0.5)</span></code> åå¾åº <code class=\"docutils literal notranslate\"><span class=\"pre\">0</span></code> è <code class=\"docutils literal notranslate\"><span class=\"pre\">round(1.5)</span></code> åä¸º <code class=\"docutils literal notranslate\"><span class=\"pre\">2</span></code>ã<em>ndigits</em> å¯ä¸ºä»»ææ´æ°å¼ï¼æ­£æ°ãé¶æè´æ°ï¼ãå¦æçç¥äº <em>ndigits</em> æä¸º <code class=\"docutils literal notranslate\"><span class=\"pre\">None</span></code> ï¼åè¿åå¼å°ä¸ºæ´æ°ãå¦åè¿åå¼ä¸ <em>number</em> çç±»åç¸åã</p>\n",
      "<p>å¯¹äºä¸è¬ç Python å¯¹è±¡ <code class=\"docutils literal notranslate\"><span class=\"pre\">number</span></code>, <code class=\"docutils literal notranslate\"><span class=\"pre\">round</span></code> å°å§æç» <code class=\"docutils literal notranslate\"><span class=\"pre\">number.__round__</span></code>ã</p>\n",
      "<div class=\"admonition note\">\n",
      "<p class=\"admonition-title\">åè¨»</p>\n",
      "<p>å¯¹æµ®ç¹æ°æ§è¡ <a class=\"reference internal\" href=\"#round\" title=\"round\"><code class=\"xref py py-func docutils literal notranslate\"><span class=\"pre\">round()</span></code></a> çè¡ä¸ºå¯è½ä¼ä»¤äººæè®¶ï¼ä¾å¦ï¼<code class=\"docutils literal notranslate\"><span class=\"pre\">round(2.675,</span> <span class=\"pre\">2)</span></code> å°ç»åº <code class=\"docutils literal notranslate\"><span class=\"pre\">2.67</span></code> èä¸æ¯ææç <code class=\"docutils literal notranslate\"><span class=\"pre\">2.68</span></code>ã è¿ä¸ç®æ¯ç¨åºéè¯¯ï¼è¿ä¸ç»ææ¯ç±äºå¤§å¤æ°åè¿å¶å°æ°å®éä¸é½ä¸è½ä»¥æµ®ç¹æ°ç²¾ç¡®å°è¡¨ç¤ºã è¯·åé <a class=\"reference internal\" href=\"../tutorial/floatingpoint.html#tut-fp-issues\"><span class=\"std std-ref\">æµ®é»æ¸éç®ï¼åé¡èéå¶</span></a> äºè§£æ´å¤ä¿¡æ¯ã</p>\n",
      "</div>\n",
      "</dd></dl>\n",
      "\n",
      "<span class=\"target\" id=\"func-set\"></span><dl class=\"py class\">\n",
      "<dt class=\"sig sig-object py\">\n",
      "<em class=\"property\"><span class=\"pre\">class</span><span class=\"w\"> </span></em><span class=\"sig-name descname\"><span class=\"pre\">set</span></span></dt>\n",
      "<dt class=\"sig sig-object py\">\n",
      "<em class=\"property\"><span class=\"pre\">class</span><span class=\"w\"> </span></em><span class=\"sig-name descname\"><span class=\"pre\">set</span></span><span class=\"sig-paren\">(</span><em class=\"sig-param\"><span class=\"n\"><span class=\"pre\">iterable</span></span></em><span class=\"sig-paren\">)</span></dt>\n",
      "<dd><p>è¿åä¸ä¸ªæ°ç <a class=\"reference internal\" href=\"stdtypes.html#set\" title=\"set\"><code class=\"xref py py-class docutils literal notranslate\"><span class=\"pre\">set</span></code></a> å¯¹è±¡ï¼å¯ä»¥éæ©å¸¦æä» <em>iterable</em> è·åçåç´ ã <code class=\"docutils literal notranslate\"><span class=\"pre\">set</span></code> æ¯ä¸ä¸ªåç½®ç±»åã è¯·æ¥ç <a class=\"reference internal\" href=\"stdtypes.html#set\" title=\"set\"><code class=\"xref py py-class docutils literal notranslate\"><span class=\"pre\">set</span></code></a> å <a class=\"reference internal\" href=\"stdtypes.html#types-set\"><span class=\"std std-ref\">éåç±»å --- set, frozenset</span></a> è·åå³äºè¿ä¸ªç±»çææ¡£ã</p>\n",
      "<p>æå³å¶ä»å®¹å¨è¯·åçåç½®ç <a class=\"reference internal\" href=\"stdtypes.html#frozenset\" title=\"frozenset\"><code class=\"xref py py-class docutils literal notranslate\"><span class=\"pre\">frozenset</span></code></a>, <a class=\"reference internal\" href=\"stdtypes.html#list\" title=\"list\"><code class=\"xref py py-class docutils literal notranslate\"><span class=\"pre\">list</span></code></a>, <a class=\"reference internal\" href=\"stdtypes.html#tuple\" title=\"tuple\"><code class=\"xref py py-class docutils literal notranslate\"><span class=\"pre\">tuple</span></code></a> å <a class=\"reference internal\" href=\"stdtypes.html#dict\" title=\"dict\"><code class=\"xref py py-class docutils literal notranslate\"><span class=\"pre\">dict</span></code></a> ç±»ï¼ä»¥å <a class=\"reference internal\" href=\"collections.html#module-collections\" title=\"collections: Container datatypes\"><code class=\"xref py py-mod docutils literal notranslate\"><span class=\"pre\">collections</span></code></a> æ¨¡åã</p>\n",
      "</dd></dl>\n",
      "\n",
      "<dl class=\"py function\">\n",
      "<dt class=\"sig sig-object py\" id=\"setattr\">\n",
      "<span class=\"sig-name descname\"><span class=\"pre\">setattr</span></span><span class=\"sig-paren\">(</span><em class=\"sig-param\"><span class=\"n\"><span class=\"pre\">object</span></span></em>, <em class=\"sig-param\"><span class=\"n\"><span class=\"pre\">name</span></span></em>, <em class=\"sig-param\"><span class=\"n\"><span class=\"pre\">value</span></span></em><span class=\"sig-paren\">)</span><a class=\"headerlink\" href=\"#setattr\" title=\"æ¬å®ç¾©çæ°¸ä¹é£çµ\">Â¶</a></dt>\n",
      "<dd><p>æ¬å½æ°ä¸ <a class=\"reference internal\" href=\"#getattr\" title=\"getattr\"><code class=\"xref py py-func docutils literal notranslate\"><span class=\"pre\">getattr()</span></code></a> ç¸å¯¹åºãå¶åæ°ä¸ºä¸ä¸ªå¯¹è±¡ãä¸ä¸ªå­ç¬¦ä¸²åä¸ä¸ªä»»æå¼ãå­ç¬¦ä¸²å¯ä»¥ä¸ºæç°æå±æ§çåç§°ï¼æä¸ºæ°å±æ§ãåªè¦å¯¹è±¡åè®¸ï¼å½æ°ä¼å°å¼èµç»å±æ§ãå¦ <code class=\"docutils literal notranslate\"><span class=\"pre\">setattr(x,</span> <span class=\"pre\">'foobar',</span> <span class=\"pre\">123)</span></code> ç­ä»·äº <code class=\"docutils literal notranslate\"><span class=\"pre\">x.foobar</span> <span class=\"pre\">=</span> <span class=\"pre\">123</span></code>ã</p>\n",
      "<p><em>name</em> æ éä¸ºå¨ <a class=\"reference internal\" href=\"../reference/lexical_analysis.html#identifiers\"><span class=\"std std-ref\">æ è¯ç¬¦åå³é®å­</span></a> ä¸­å®ä¹ç Python æ è¯ç¬¦é¤éå¯¹è±¡éæ©å¼ºå¶è¿æ ·åï¼ä¾å¦å¨ä¸ä¸ªèªå®ä¹ç <a class=\"reference internal\" href=\"../reference/datamodel.html#object.__getattribute__\" title=\"object.__getattribute__\"><code class=\"xref py py-meth docutils literal notranslate\"><span class=\"pre\">__getattribute__()</span></code></a> ä¸­ææ¯éè¿ <a class=\"reference internal\" href=\"../reference/datamodel.html#object.__slots__\" title=\"object.__slots__\"><code class=\"xref py py-attr docutils literal notranslate\"><span class=\"pre\">__slots__</span></code></a>ã ä¸ä¸ªåç§°ä¸ä¸ºæ è¯ç¬¦çå±æ§å°ä¸å¯ä½¿ç¨ç¹å·æ è®°æ¥è®¿é®ï¼ä½æ¯å¯ä»¥éè¿ <a class=\"reference internal\" href=\"#getattr\" title=\"getattr\"><code class=\"xref py py-func docutils literal notranslate\"><span class=\"pre\">getattr()</span></code></a> ç­æ¥è®¿é®ã</p>\n",
      "<div class=\"admonition note\">\n",
      "<p class=\"admonition-title\">åè¨»</p>\n",
      "<p>ç±äº <a class=\"reference internal\" href=\"../reference/expressions.html#private-name-mangling\"><span class=\"std std-ref\">ç§æåç§°æ··å</span></a> åçå¨ç¼è¯æ¶ï¼å æ­¤å¿é¡»æå¨æ··åç§æå±æ§ï¼ä»¥ä¸¤ä¸ªä¸åçº¿æå¤´çå±æ§ï¼åç§°ä»¥ä¾¿ä½¿ç¨ <a class=\"reference internal\" href=\"#setattr\" title=\"setattr\"><code class=\"xref py py-func docutils literal notranslate\"><span class=\"pre\">setattr()</span></code></a> æ¥è®¾ç½®å®ã</p>\n",
      "</div>\n",
      "</dd></dl>\n",
      "\n",
      "<dl class=\"py class\">\n",
      "<dt class=\"sig sig-object py\" id=\"slice\">\n",
      "<em class=\"property\"><span class=\"pre\">class</span><span class=\"w\"> </span></em><span class=\"sig-name descname\"><span class=\"pre\">slice</span></span><span class=\"sig-paren\">(</span><em class=\"sig-param\"><span class=\"n\"><span class=\"pre\">stop</span></span></em><span class=\"sig-paren\">)</span><a class=\"headerlink\" href=\"#slice\" title=\"æ¬å®ç¾©çæ°¸ä¹é£çµ\">Â¶</a></dt>\n",
      "<dt class=\"sig sig-object py\">\n",
      "<em class=\"property\"><span class=\"pre\">class</span><span class=\"w\"> </span></em><span class=\"sig-name descname\"><span class=\"pre\">slice</span></span><span class=\"sig-paren\">(</span><em class=\"sig-param\"><span class=\"n\"><span class=\"pre\">start</span></span></em>, <em class=\"sig-param\"><span class=\"n\"><span class=\"pre\">stop</span></span></em>, <em class=\"sig-param\"><span class=\"n\"><span class=\"pre\">step</span></span><span class=\"o\"><span class=\"pre\">=</span></span><span class=\"default_value\"><span class=\"pre\">None</span></span></em><span class=\"sig-paren\">)</span></dt>\n",
      "<dd><p>è¿åä¸ä¸ª <a class=\"reference internal\" href=\"../glossary.html#term-slice\"><span class=\"xref std std-term\">slice</span></a> å¯¹è±¡ï¼ä»£è¡¨ç± <code class=\"docutils literal notranslate\"><span class=\"pre\">range(start,</span> <span class=\"pre\">stop,</span> <span class=\"pre\">step)</span></code> æå®ç´¢å¼éçåçã å¶ä¸­åæ° <em>start</em> å <em>step</em> çé»è®¤å¼ä¸º <code class=\"docutils literal notranslate\"><span class=\"pre\">None</span></code>ãåçå¯¹è±¡å·æåªè¯»æ°æ®å±æ§ <code class=\"xref py py-attr docutils literal notranslate\"><span class=\"pre\">start</span></code> ã<code class=\"xref py py-attr docutils literal notranslate\"><span class=\"pre\">stop</span></code> å <code class=\"xref py py-attr docutils literal notranslate\"><span class=\"pre\">step</span></code>ï¼åªæ¯è¿åå¯¹åºçåæ°å¼ï¼æé»è®¤å¼ï¼ãè¿å ä¸ªå±æ§æ²¡æå¶ä»æç¡®çåè½ï¼ä¸è¿ NumPy åå¶ä»ç¬¬ä¸æ¹æ©å±ä¼ç¨å°ãå¨ä½¿ç¨æ©å±ç´¢å¼è¯­æ³æ¶ï¼ä¹ä¼çæåçå¯¹è±¡ãä¾å¦ï¼ <code class=\"docutils literal notranslate\"><span class=\"pre\">a[start:stop:step]</span></code> æ <code class=\"docutils literal notranslate\"><span class=\"pre\">a[start:stop,</span> <span class=\"pre\">i]</span></code>ã å¦ä¸ç§æ¹æ¡æ¯è¿åè¿­ä»£å¨å¯¹è±¡ï¼å¯åé <a class=\"reference internal\" href=\"itertools.html#itertools.islice\" title=\"itertools.islice\"><code class=\"xref py py-func docutils literal notranslate\"><span class=\"pre\">itertools.islice()</span></code></a> ã</p>\n",
      "<div class=\"versionchanged\">\n",
      "<p><span class=\"versionmodified changed\">å¨ 3.12 çæ¬è®æ´: </span>Slice å¯¹è±¡ç°å¨å°ä¸º <a class=\"reference internal\" href=\"../glossary.html#term-hashable\"><span class=\"xref std std-term\">hashable</span></a> (å¦æ <code class=\"xref py py-attr docutils literal notranslate\"><span class=\"pre\">start</span></code>, <code class=\"xref py py-attr docutils literal notranslate\"><span class=\"pre\">stop</span></code> å <code class=\"xref py py-attr docutils literal notranslate\"><span class=\"pre\">step</span></code> åä¸ºå¯åå¸å¯¹è±¡)ã</p>\n",
      "</div>\n",
      "</dd></dl>\n",
      "\n",
      "<dl class=\"py function\">\n",
      "<dt class=\"sig sig-object py\" id=\"sorted\">\n",
      "<span class=\"sig-name descname\"><span class=\"pre\">sorted</span></span><span class=\"sig-paren\">(</span><em class=\"sig-param\"><span class=\"n\"><span class=\"pre\">iterable</span></span></em>, <em class=\"sig-param\"><span class=\"o\"><span class=\"pre\">/</span></span></em>, <em class=\"sig-param\"><span class=\"o\"><span class=\"pre\">*</span></span></em>, <em class=\"sig-param\"><span class=\"n\"><span class=\"pre\">key</span></span><span class=\"o\"><span class=\"pre\">=</span></span><span class=\"default_value\"><span class=\"pre\">None</span></span></em>, <em class=\"sig-param\"><span class=\"n\"><span class=\"pre\">reverse</span></span><span class=\"o\"><span class=\"pre\">=</span></span><span class=\"default_value\"><span class=\"pre\">False</span></span></em><span class=\"sig-paren\">)</span><a class=\"headerlink\" href=\"#sorted\" title=\"æ¬å®ç¾©çæ°¸ä¹é£çµ\">Â¶</a></dt>\n",
      "<dd><p>æ ¹æ® <em>iterable</em> ä¸­çé¡¹è¿åä¸ä¸ªæ°çå·²æåºåè¡¨ã</p>\n",
      "<p>æå©åé¸ææ§å¼æ¸ï¼åªè½ä½¿ç¨ééµå­å¼æ¸ä¾æå®ã</p>\n",
      "<p><em>key</em> æå®å¸¦æåä¸ªåæ°çå½æ°ï¼ç¨äºä» <em>iterable</em> çæ¯ä¸ªåç´ ä¸­æåç¨äºæ¯è¾çé® (ä¾å¦ <code class=\"docutils literal notranslate\"><span class=\"pre\">key=str.lower</span></code>)ã é»è®¤å¼ä¸º <code class=\"docutils literal notranslate\"><span class=\"pre\">None</span></code> (ç´æ¥æ¯è¾åç´ )ã</p>\n",
      "<p><em>reverse</em> ä¸ºä¸ä¸ªå¸å°å¼ã å¦æè®¾ä¸º <code class=\"docutils literal notranslate\"><span class=\"pre\">True</span></code>ï¼åæ¯ä¸ªåè¡¨åç´ å°æååé¡ºåºæ¯è¾è¿è¡æåºã</p>\n",
      "<p>ä½¿ç¨ <a class=\"reference internal\" href=\"functools.html#functools.cmp_to_key\" title=\"functools.cmp_to_key\"><code class=\"xref py py-func docutils literal notranslate\"><span class=\"pre\">functools.cmp_to_key()</span></code></a> å¯å°èå¼ç <em>cmp</em> å½æ°è½¬æ¢ä¸º <em>key</em> å½æ°ã</p>\n",
      "<p>åç½®ç <a class=\"reference internal\" href=\"#sorted\" title=\"sorted\"><code class=\"xref py py-func docutils literal notranslate\"><span class=\"pre\">sorted()</span></code></a> ç¡®ä¿æ¯ç¨³å®çã å¦æä¸ä¸ªæåºç¡®ä¿ä¸ä¼æ¹åæ¯è¾ç»æç¸ç­çåç´ çç¸å¯¹é¡ºåºå°±ç§°å¶ä¸ºç¨³å®ç --- è¿æå©äºè¿è¡å¤éæåºï¼ä¾å¦åæé¨é¨ãåæèªçº§æåºï¼ã</p>\n",
      "<p>æåºç®æ³åªä½¿ç¨ <code class=\"docutils literal notranslate\"><span class=\"pre\">&lt;</span></code> å¨é¡¹ç®ä¹é´æ¯è¾ã è½ç¶å®ä¹ä¸ä¸ª <a class=\"reference internal\" href=\"../reference/datamodel.html#object.__lt__\" title=\"object.__lt__\"><code class=\"xref py py-meth docutils literal notranslate\"><span class=\"pre\">__lt__()</span></code></a> æ¹æ³å°±è¶³ä»¥è¿è¡æåºï¼ä½ <span class=\"target\" id=\"index-25\"></span><a class=\"pep reference external\" href=\"https://peps.python.org/pep-0008/\"><strong>PEP 8</strong></a> å»ºè®®å®ç°ææå­ä¸ª <a class=\"reference internal\" href=\"../reference/expressions.html#comparisons\"><span class=\"std std-ref\">å¯æ¯è¾</span></a> ã è¿å°æå©äºé¿åå¨ä¸å¶ä»æåºå·¥å·ï¼å¦ <a class=\"reference internal\" href=\"#max\" title=\"max\"><code class=\"xref py py-func docutils literal notranslate\"><span class=\"pre\">max()</span></code></a> ï¼ä½¿ç¨ç¸åçæ°æ®æ¶åºç°éè¯¯ï¼è¿äºå·¥å·ä¾èµäºä¸åçåºå±æ¹æ³ãå®ç°ææå­ä¸ªæ¯è¾ä¹æå©äºé¿åæ··åç±»åæ¯è¾çæ··ä¹±ï¼å ä¸ºæ··åç±»åæ¯è¾å¯ä»¥è°ç¨åå°å° <a class=\"reference internal\" href=\"../reference/datamodel.html#object.__gt__\" title=\"object.__gt__\"><code class=\"xref py py-meth docutils literal notranslate\"><span class=\"pre\">__gt__()</span></code></a> çæ¹æ³ã</p>\n",
      "<p>æå³æåºç¤ºä¾åç®è¦æåºæç¨ï¼è¯·åé <a class=\"reference internal\" href=\"../howto/sorting.html#sortinghowto\"><span class=\"std std-ref\">å¦ä½æåº</span></a> ã</p>\n",
      "</dd></dl>\n",
      "\n",
      "<dl class=\"py function\">\n",
      "<dt class=\"sig sig-object py\" id=\"staticmethod\">\n",
      "<span class=\"sig-prename descclassname\"><span class=\"pre\">&#64;</span></span><span class=\"sig-name descname\"><span class=\"pre\">staticmethod</span></span><a class=\"headerlink\" href=\"#staticmethod\" title=\"æ¬å®ç¾©çæ°¸ä¹é£çµ\">Â¶</a></dt>\n",
      "<dd><p>å°æ¹æ³è½¬æ¢ä¸ºéææ¹æ³ã</p>\n",
      "<p>éææ¹æ³ä¸ä¼æ¥æ¶éå¼çç¬¬ä¸ä¸ªåæ°ãè¦å£°æä¸ä¸ªéææ¹æ³ï¼è¯·ä½¿ç¨æ­¤è¯­æ³</p>\n",
      "<div class=\"highlight-python3 notranslate\"><div class=\"highlight\"><pre><span></span><span class=\"k\">class</span> <span class=\"nc\">C</span><span class=\"p\">:</span>\n",
      "    <span class=\"nd\">@staticmethod</span>\n",
      "    <span class=\"k\">def</span> <span class=\"nf\">f</span><span class=\"p\">(</span><span class=\"n\">arg1</span><span class=\"p\">,</span> <span class=\"n\">arg2</span><span class=\"p\">,</span> <span class=\"n\">argN</span><span class=\"p\">):</span> <span class=\"o\">...</span>\n",
      "</pre></div>\n",
      "</div>\n",
      "<p><code class=\"docutils literal notranslate\"><span class=\"pre\">&#64;staticmethod</span></code> èªæ³æ¯ä¸åå½å¼ <a class=\"reference internal\" href=\"../glossary.html#term-decorator\"><span class=\"xref std std-term\">decorator</span></a> - åè¦ <a class=\"reference internal\" href=\"../reference/compound_stmts.html#function\"><span class=\"std std-ref\">å½å¼å®ç¾©</span></a> ä¸­çè©³ç´°ä»ç´¹ã</p>\n",
      "<p>éææ¹æ³æ¢å¯ä»¥ç±ç±»ä¸­è°ç¨ï¼å¦ <code class=\"docutils literal notranslate\"><span class=\"pre\">C.f()</span></code>ï¼ï¼ä¹å¯ä»¥ç±å®ä¾ä¸­è°ç¨ï¼å¦ <code class=\"docutils literal notranslate\"><span class=\"pre\">`C().f()</span></code>ï¼ãæ­¤å¤ï¼è¿å¯ä»¥ä½ä¸ºæ®éçå½æ°è¿è¡è°ç¨ï¼å¦ <code class=\"docutils literal notranslate\"><span class=\"pre\">f()</span></code>ï¼ã</p>\n",
      "<p>Python çéææ¹æ³ä¸ Java æ C++ ç±»ä¼¼ãå¦è¯·åé <a class=\"reference internal\" href=\"#classmethod\" title=\"classmethod\"><code class=\"xref py py-func docutils literal notranslate\"><span class=\"pre\">classmethod()</span></code></a> ï¼å¯ç¨äºåå»ºå¦ä¸ç§ç±»æé å½æ°ã</p>\n",
      "<p>åææè£é¥°å¨ä¸æ ·ï¼ä¹å¯ä»¥åå¸¸è§å½æ°ä¸æ ·è°ç¨ <code class=\"docutils literal notranslate\"><span class=\"pre\">staticmethod</span></code> ï¼å¹¶å¯¹å¶ç»ææ§è¡æäºæä½ãæ¯å¦æäºæåµä¸éè¦ä»ç±»ä¸»ä½å¼ç¨å½æ°å¹¶ä¸æ¨å¸æé¿åèªå¨è½¬æ¢ä¸ºå®ä¾æ¹æ³ãå¯¹äºè¿äºæåµï¼è¯·ä½¿ç¨æ­¤è¯­æ³:</p>\n",
      "<div class=\"highlight-python3 notranslate\"><div class=\"highlight\"><pre><span></span><span class=\"k\">def</span> <span class=\"nf\">regular_function</span><span class=\"p\">():</span>\n",
      "    <span class=\"o\">...</span>\n",
      "\n",
      "<span class=\"k\">class</span> <span class=\"nc\">C</span><span class=\"p\">:</span>\n",
      "    <span class=\"n\">method</span> <span class=\"o\">=</span> <span class=\"nb\">staticmethod</span><span class=\"p\">(</span><span class=\"n\">regular_function</span><span class=\"p\">)</span>\n",
      "</pre></div>\n",
      "</div>\n",
      "<p>éæ¼ static method çæ´å¤è³è¨ï¼è«åè <a class=\"reference internal\" href=\"../reference/datamodel.html#types\"><span class=\"std std-ref\">æ¨æºåå¥éå±¤</span></a>ã</p>\n",
      "<div class=\"versionchanged\">\n",
      "<p><span class=\"versionmodified changed\">å¨ 3.10 çæ¬è®æ´: </span>éææ¹æ³ç»§æ¿äºæ¹æ³çå¤ä¸ªå±æ§ï¼ <code class=\"docutils literal notranslate\"><span class=\"pre\">__module__</span></code>ã <code class=\"docutils literal notranslate\"><span class=\"pre\">__name__</span></code>ã <code class=\"docutils literal notranslate\"><span class=\"pre\">__qualname__</span></code>ã <code class=\"docutils literal notranslate\"><span class=\"pre\">__doc__</span></code> å <code class=\"docutils literal notranslate\"><span class=\"pre\">__annotations__</span></code>ï¼ï¼è¿æ¥æä¸ä¸ªæ°ç <code class=\"docutils literal notranslate\"><span class=\"pre\">__wrapped__</span></code> å±æ§ï¼å¹¶ä¸ç°å¨è¿å¯ä»¥ä½ä¸ºæ®éå½æ°è¿è¡è°ç¨ã</p>\n",
      "</div>\n",
      "</dd></dl>\n",
      "\n",
      "<span class=\"target\" id=\"func-str\"><span id=\"index-11\"></span></span><dl class=\"py class\">\n",
      "<dt class=\"sig sig-object py\">\n",
      "<em class=\"property\"><span class=\"pre\">class</span><span class=\"w\"> </span></em><span class=\"sig-name descname\"><span class=\"pre\">str</span></span><span class=\"sig-paren\">(</span><em class=\"sig-param\"><span class=\"n\"><span class=\"pre\">object</span></span><span class=\"o\"><span class=\"pre\">=</span></span><span class=\"default_value\"><span class=\"pre\">''</span></span></em><span class=\"sig-paren\">)</span></dt>\n",
      "<dt class=\"sig sig-object py\">\n",
      "<em class=\"property\"><span class=\"pre\">class</span><span class=\"w\"> </span></em><span class=\"sig-name descname\"><span class=\"pre\">str</span></span><span class=\"sig-paren\">(</span><em class=\"sig-param\"><span class=\"n\"><span class=\"pre\">object</span></span><span class=\"o\"><span class=\"pre\">=</span></span><span class=\"default_value\"><span class=\"pre\">b''</span></span></em>, <em class=\"sig-param\"><span class=\"n\"><span class=\"pre\">encoding</span></span><span class=\"o\"><span class=\"pre\">=</span></span><span class=\"default_value\"><span class=\"pre\">'utf-8'</span></span></em>, <em class=\"sig-param\"><span class=\"n\"><span class=\"pre\">errors</span></span><span class=\"o\"><span class=\"pre\">=</span></span><span class=\"default_value\"><span class=\"pre\">'strict'</span></span></em><span class=\"sig-paren\">)</span></dt>\n",
      "<dd><p>è¿åä¸ä¸ª <a class=\"reference internal\" href=\"stdtypes.html#str\" title=\"str\"><code class=\"xref py py-class docutils literal notranslate\"><span class=\"pre\">str</span></code></a> çæ¬ç <em>object</em> ãæå³è¯¦ç»ä¿¡æ¯ï¼è¯·åé <a class=\"reference internal\" href=\"stdtypes.html#str\" title=\"str\"><code class=\"xref py py-func docutils literal notranslate\"><span class=\"pre\">str()</span></code></a> ã</p>\n",
      "<p><code class=\"docutils literal notranslate\"><span class=\"pre\">str</span></code> æ¯åç½®å­ç¬¦ä¸² <a class=\"reference internal\" href=\"../glossary.html#term-class\"><span class=\"xref std std-term\">class</span></a> ãæ´å¤å³äºå­ç¬¦ä¸²çä¿¡æ¯æ¥ç <a class=\"reference internal\" href=\"stdtypes.html#textseq\"><span class=\"std std-ref\">ææ¬åºåç±»å --- str</span></a>ã</p>\n",
      "</dd></dl>\n",
      "\n",
      "<dl class=\"py function\">\n",
      "<dt class=\"sig sig-object py\" id=\"sum\">\n",
      "<span class=\"sig-name descname\"><span class=\"pre\">sum</span></span><span class=\"sig-paren\">(</span><em class=\"sig-param\"><span class=\"n\"><span class=\"pre\">iterable</span></span></em>, <em class=\"sig-param\"><span class=\"o\"><span class=\"pre\">/</span></span></em>, <em class=\"sig-param\"><span class=\"n\"><span class=\"pre\">start</span></span><span class=\"o\"><span class=\"pre\">=</span></span><span class=\"default_value\"><span class=\"pre\">0</span></span></em><span class=\"sig-paren\">)</span><a class=\"headerlink\" href=\"#sum\" title=\"æ¬å®ç¾©çæ°¸ä¹é£çµ\">Â¶</a></dt>\n",
      "<dd><p>ä» <em>start</em> å¼å§èªå·¦åå³å¯¹ <em>iterable</em> çé¡¹æ±åå¹¶è¿åæ»è®¡å¼ã <em>iterable</em> çé¡¹éå¸¸ä¸ºæ°å­ï¼è start å¼åä¸åè®¸ä¸ºå­ç¬¦ä¸²ã</p>\n",
      "<p>å¯¹æäºç¨ä¾æ¥è¯´ï¼å­å¨ <a class=\"reference internal\" href=\"#sum\" title=\"sum\"><code class=\"xref py py-func docutils literal notranslate\"><span class=\"pre\">sum()</span></code></a> çæ´å¥½æ¿ä»£ã æ¼æ¥å­ç¬¦ä¸²åºåçæ´å¥½æ´å¿«æ¹å¼æ¯è°ç¨ <code class=\"docutils literal notranslate\"><span class=\"pre\">''.join(sequence)</span></code>ã è¦ä»¥æ©å±ç²¾åº¦å¯¹æµ®ç¹å¼æ±åï¼è¯·åé <a class=\"reference internal\" href=\"math.html#math.fsum\" title=\"math.fsum\"><code class=\"xref py py-func docutils literal notranslate\"><span class=\"pre\">math.fsum()</span></code></a>ã è¦æ¼æ¥ä¸ç³»åå¯è¿­ä»£å¯¹è±¡ï¼è¯·èèä½¿ç¨ <a class=\"reference internal\" href=\"itertools.html#itertools.chain\" title=\"itertools.chain\"><code class=\"xref py py-func docutils literal notranslate\"><span class=\"pre\">itertools.chain()</span></code></a>ã</p>\n",
      "<div class=\"versionchanged\">\n",
      "<p><span class=\"versionmodified changed\">å¨ 3.8 çæ¬è®æ´: </span><em>start</em> åæ¸å¯è¢«æå®çºééµå­å¼æ¸ã</p>\n",
      "</div>\n",
      "<div class=\"versionchanged\">\n",
      "<p><span class=\"versionmodified changed\">å¨ 3.12 çæ¬è®æ´: </span>æµ®ç¹æ°çå æ»å·²åæ¢ä¸ºä¸ç§å¯å¨å¤§å¤æ°æå»ºçæ¬ä¸ç»åºæ´é«ç²¾åº¦çç®æ³ã</p>\n",
      "</div>\n",
      "</dd></dl>\n",
      "\n",
      "<dl class=\"py class\">\n",
      "<dt class=\"sig sig-object py\" id=\"super\">\n",
      "<em class=\"property\"><span class=\"pre\">class</span><span class=\"w\"> </span></em><span class=\"sig-name descname\"><span class=\"pre\">super</span></span><a class=\"headerlink\" href=\"#super\" title=\"æ¬å®ç¾©çæ°¸ä¹é£çµ\">Â¶</a></dt>\n",
      "<dt class=\"sig sig-object py\">\n",
      "<em class=\"property\"><span class=\"pre\">class</span><span class=\"w\"> </span></em><span class=\"sig-name descname\"><span class=\"pre\">super</span></span><span class=\"sig-paren\">(</span><em class=\"sig-param\"><span class=\"n\"><span class=\"pre\">type</span></span></em>, <em class=\"sig-param\"><span class=\"n\"><span class=\"pre\">object_or_type</span></span><span class=\"o\"><span class=\"pre\">=</span></span><span class=\"default_value\"><span class=\"pre\">None</span></span></em><span class=\"sig-paren\">)</span></dt>\n",
      "<dd><p>è¿åä¸ä¸ªä»£çå¯¹è±¡ï¼å®ä¼å°æ¹æ³è°ç¨å§æç» <em>type</em> çç¶ç±»æåå¼ç±»ã è¿å¯¹äºè®¿é®å·²å¨ç±»ä¸­è¢«éè½½çç»§æ¿æ¹æ³å¾æç¨ã</p>\n",
      "<p><em>object_or_type</em> ç¡®å®è¦ç¨äºæç´¢ç <a class=\"reference internal\" href=\"../glossary.html#term-method-resolution-order\"><span class=\"xref std std-term\">method resolution order</span></a>ã æç´¢ä¼ä» <em>type</em> ä¹åçç±»å¼å§ã</p>\n",
      "<p>ä¸¾ä¾æ¥è¯´ï¼å¦æ <em>object_or_type</em> ç <a class=\"reference internal\" href=\"stdtypes.html#class.__mro__\" title=\"class.__mro__\"><code class=\"xref py py-attr docutils literal notranslate\"><span class=\"pre\">__mro__</span></code></a> ä¸º <code class=\"docutils literal notranslate\"><span class=\"pre\">D</span> <span class=\"pre\">-&gt;</span> <span class=\"pre\">B</span> <span class=\"pre\">-&gt;</span> <span class=\"pre\">C</span> <span class=\"pre\">-&gt;</span> <span class=\"pre\">A</span> <span class=\"pre\">-&gt;</span> <span class=\"pre\">object</span></code> å¹¶ä¸ <em>type</em> çå¼ä¸º <code class=\"docutils literal notranslate\"><span class=\"pre\">B</span></code>ï¼å <a class=\"reference internal\" href=\"#super\" title=\"super\"><code class=\"xref py py-func docutils literal notranslate\"><span class=\"pre\">super()</span></code></a> å°ä¼æç´¢ <code class=\"docutils literal notranslate\"><span class=\"pre\">C</span> <span class=\"pre\">-&gt;</span> <span class=\"pre\">A</span> <span class=\"pre\">-&gt;</span> <span class=\"pre\">object</span></code>ã</p>\n",
      "<p><em>object_or_type</em> ç <a class=\"reference internal\" href=\"stdtypes.html#class.__mro__\" title=\"class.__mro__\"><code class=\"xref py py-attr docutils literal notranslate\"><span class=\"pre\">__mro__</span></code></a> å±æ§ååºäº <a class=\"reference internal\" href=\"#getattr\" title=\"getattr\"><code class=\"xref py py-func docutils literal notranslate\"><span class=\"pre\">getattr()</span></code></a> å <a class=\"reference internal\" href=\"#super\" title=\"super\"><code class=\"xref py py-func docutils literal notranslate\"><span class=\"pre\">super()</span></code></a> æå±åä½¿ç¨çæ¹æ³è§£ææç´¢é¡ºåºã è¯¥å±æ§æ¯å¨æçå¹¶å¯å¨ä»»ä½ç»§æ¿å±çº§ç»æåçæ´æ°æ¶è¢«æ¹åã</p>\n",
      "<p>å¦æçç¥ç¬¬äºä¸ªåæ°ï¼åè¿åçè¶ç±»å¯¹è±¡æ¯æªç»å®çã å¦æç¬¬äºä¸ªåæ°ä¸ºä¸ä¸ªå¯¹è±¡ï¼å <code class=\"docutils literal notranslate\"><span class=\"pre\">isinstance(obj,</span> <span class=\"pre\">type)</span></code> å¿é¡»ä¸ºçå¼ã å¦æç¬¬äºä¸ªåæ°ä¸ºä¸ä¸ªç±»åï¼å <code class=\"docutils literal notranslate\"><span class=\"pre\">issubclass(type2,</span> <span class=\"pre\">type)</span></code> å¿é¡»ä¸ºçå¼ï¼è¿éç¨äºç±»æ¹æ³ï¼ã</p>\n",
      "<p><em>super</em> æä¸¤ä¸ªå¸åç¨ä¾ã å¨å·æåç»§æ¿çç±»å±çº§ç»æä¸­ï¼<em>super</em> å¯ç¨æ¥å¼ç¨ç¶ç±»èä¸å¿æ¾å¼å°æå®å®ä»¬çåç§°ï¼ä»èä»¤ä»£ç æ´æç»´æ¤ã è¿ç§ç¨æ³ä¸å¶ä»ç¼ç¨è¯­è¨ä¸­ <em>super</em> çç¨æ³éå¸¸ç¸ä¼¼ã</p>\n",
      "<p>ç¬¬äºä¸ªç¨ä¾æ¯å¨å¨ææ§è¡ç¯å¢ä¸­æ¯æåä½å¤éç»§æ¿ã æ­¤ç¨ä¾ä¸º Python æç¬æèä¸å­å¨äºéæç¼ç è¯­è¨æä»æ¯æåç»§æ¿çè¯­è¨å½ä¸­ã è¿ä½¿ç¨å®ç°âè±å½¢å¾âæä¸ºå¯è½ï¼å³æå¤ä¸ªåºç±»å®ç°ç¸åçæ¹æ³ã å¥½çè®¾è®¡å¼ºå¶è¦æ±è¿æ ·çæ¹æ³å¨æ¯ä¸ªæåµä¸é½å·æç¸åçè°ç¨ç­¾åï¼å ä¸ºè°ç¨é¡ºåºæ¯å¨è¿è¡æ¶ç¡®å®çï¼ä¹å ä¸ºè¿ä¸ªé¡ºåºè¦éåºç±»å±çº§ç»æçæ´æ¹ï¼è¿å ä¸ºè¿ä¸ªé¡ºåºå¯è½åæ¬å¨è¿è¡æ¶ä¹åæªç¥çåå¼ç±»ï¼ã</p>\n",
      "<p>å¯¹äºä»¥ä¸ä¸¤ä¸ªç¨ä¾ï¼å¸åçè¶ç±»è°ç¨çèµ·æ¥æ¯è¿æ ·ç:</p>\n",
      "<div class=\"highlight-python3 notranslate\"><div class=\"highlight\"><pre><span></span><span class=\"k\">class</span> <span class=\"nc\">C</span><span class=\"p\">(</span><span class=\"n\">B</span><span class=\"p\">):</span>\n",
      "    <span class=\"k\">def</span> <span class=\"nf\">method</span><span class=\"p\">(</span><span class=\"bp\">self</span><span class=\"p\">,</span> <span class=\"n\">arg</span><span class=\"p\">):</span>\n",
      "        <span class=\"nb\">super</span><span class=\"p\">()</span><span class=\"o\">.</span><span class=\"n\">method</span><span class=\"p\">(</span><span class=\"n\">arg</span><span class=\"p\">)</span>    <span class=\"c1\"># This does the same thing as:</span>\n",
      "                               <span class=\"c1\"># super(C, self).method(arg)</span>\n",
      "</pre></div>\n",
      "</div>\n",
      "<p>é¤äºæ¹æ³æ¥æ¾ä¹å¤ï¼<a class=\"reference internal\" href=\"#super\" title=\"super\"><code class=\"xref py py-func docutils literal notranslate\"><span class=\"pre\">super()</span></code></a> ä¹å¯ç¨äºå±æ§æ¥æ¾ã ä¸ä¸ªå¯è½çåºç¨åºåæ¯å¨ä¸çº§æåçº§ç±»ä¸­è°ç¨ <a class=\"reference internal\" href=\"../glossary.html#term-descriptor\"><span class=\"xref std std-term\">æè¿°å¨</span></a>ã</p>\n",
      "<p>è¯·æ³¨æ <a class=\"reference internal\" href=\"#super\" title=\"super\"><code class=\"xref py py-func docutils literal notranslate\"><span class=\"pre\">super()</span></code></a> æ¯ä½ä¸ºæ¾å¼å ç¹å±æ§æ¥æ¾çç»å®è¿ç¨çä¸é¨åæ¥å®ç°çï¼ä¾å¦ <code class=\"docutils literal notranslate\"><span class=\"pre\">super().__getitem__(name)</span></code>ã å®åå°è¿ä¸ç¹æ¯éè¿å®ç°èªå·±ç <code class=\"xref py py-meth docutils literal notranslate\"><span class=\"pre\">__getattribute__()</span></code> æ¹æ³ï¼è¿æ ·å°±è½ä»¥å¯é¢æµçé¡ºåºæç´¢ç±»ï¼å¹¶ä¸æ¯æåä½å¤éç»§æ¿ã å¯¹åºå°ï¼<a class=\"reference internal\" href=\"#super\" title=\"super\"><code class=\"xref py py-func docutils literal notranslate\"><span class=\"pre\">super()</span></code></a> å¨å <code class=\"docutils literal notranslate\"><span class=\"pre\">super()[name]</span></code> è¿æ ·ä½¿ç¨è¯­å¥ææä½ç¬¦è¿è¡éå¼æ¥æ¾æ¶åæªè¢«å®ä¹ã</p>\n",
      "<p>è¿è¦æ³¨æçæ¯ï¼é¤äºé¶ä¸ªåæ°çå½¢å¼ä»¥å¤ï¼<a class=\"reference internal\" href=\"#super\" title=\"super\"><code class=\"xref py py-func docutils literal notranslate\"><span class=\"pre\">super()</span></code></a> å¹¶ä¸éäºå¨æ¹æ³åé¨ä½¿ç¨ã ä¸¤ä¸ªåæ°çå½¢å¼æç¡®æå®åæ°å¹¶è¿è¡ç¸åºçå¼ç¨ã é¶ä¸ªåæ°çå½¢å¼ä»éç¨äºç±»å®ä¹åé¨ï¼å ä¸ºç¼è¯å¨éè¦å¡«å¥å¿è¦çç»èä»¥æ­£ç¡®å°æ£ç´¢å°è¢«å®ä¹çç±»ï¼è¿éè¦è®©æ®éæ¹æ³è®¿é®å½åå®ä¾ã</p>\n",
      "<p>å¯¹äºæå³å¦ä½ä½¿ç¨ <a class=\"reference internal\" href=\"#super\" title=\"super\"><code class=\"xref py py-func docutils literal notranslate\"><span class=\"pre\">super()</span></code></a> æ¥å¦ä½è®¾è®¡åä½ç±»çå®ç¨å»ºè®®ï¼è¯·åé <a class=\"reference external\" href=\"https://rhettinger.wordpress.com/2011/05/26/super-considered-super/\">ä½¿ç¨ super() çæå</a>ã</p>\n",
      "</dd></dl>\n",
      "\n",
      "<span class=\"target\" id=\"func-tuple\"></span><dl class=\"py class\">\n",
      "<dt class=\"sig sig-object py\">\n",
      "<em class=\"property\"><span class=\"pre\">class</span><span class=\"w\"> </span></em><span class=\"sig-name descname\"><span class=\"pre\">tuple</span></span></dt>\n",
      "<dt class=\"sig sig-object py\">\n",
      "<em class=\"property\"><span class=\"pre\">class</span><span class=\"w\"> </span></em><span class=\"sig-name descname\"><span class=\"pre\">tuple</span></span><span class=\"sig-paren\">(</span><em class=\"sig-param\"><span class=\"n\"><span class=\"pre\">iterable</span></span></em><span class=\"sig-paren\">)</span></dt>\n",
      "<dd><p>è½ç¶è¢«ç§°ä¸ºå½æ°ï¼ä½ <a class=\"reference internal\" href=\"stdtypes.html#tuple\" title=\"tuple\"><code class=\"xref py py-class docutils literal notranslate\"><span class=\"pre\">tuple</span></code></a> å®éä¸æ¯ä¸ä¸ªä¸å¯åçåºåç±»åï¼åè§å¨ <a class=\"reference internal\" href=\"stdtypes.html#typesseq-tuple\"><span class=\"std std-ref\">åç»</span></a> ä¸ <a class=\"reference internal\" href=\"stdtypes.html#typesseq\"><span class=\"std std-ref\">åºåç±»å --- list, tuple, range</span></a> ä¸­çææ¡£è¯´æã</p>\n",
      "</dd></dl>\n",
      "\n",
      "<dl class=\"py class\">\n",
      "<dt class=\"sig sig-object py\" id=\"type\">\n",
      "<em class=\"property\"><span class=\"pre\">class</span><span class=\"w\"> </span></em><span class=\"sig-name descname\"><span class=\"pre\">type</span></span><span class=\"sig-paren\">(</span><em class=\"sig-param\"><span class=\"n\"><span class=\"pre\">object</span></span></em><span class=\"sig-paren\">)</span><a class=\"headerlink\" href=\"#type\" title=\"æ¬å®ç¾©çæ°¸ä¹é£çµ\">Â¶</a></dt>\n",
      "<dt class=\"sig sig-object py\">\n",
      "<em class=\"property\"><span class=\"pre\">class</span><span class=\"w\"> </span></em><span class=\"sig-name descname\"><span class=\"pre\">type</span></span><span class=\"sig-paren\">(</span><em class=\"sig-param\"><span class=\"n\"><span class=\"pre\">name</span></span></em>, <em class=\"sig-param\"><span class=\"n\"><span class=\"pre\">bases</span></span></em>, <em class=\"sig-param\"><span class=\"n\"><span class=\"pre\">dict</span></span></em>, <em class=\"sig-param\"><span class=\"o\"><span class=\"pre\">**</span></span><span class=\"n\"><span class=\"pre\">kwds</span></span></em><span class=\"sig-paren\">)</span></dt>\n",
      "<dd><p id=\"index-12\">ä¼ å¥ä¸ä¸ªåæ°æ¶ï¼è¿å <em>object</em> çç±»åã è¿åå¼æ¯ä¸ä¸ª type å¯¹è±¡ï¼éå¸¸ä¸ <a class=\"reference internal\" href=\"stdtypes.html#instance.__class__\" title=\"instance.__class__\"><code class=\"xref py py-attr docutils literal notranslate\"><span class=\"pre\">object.__class__</span></code></a> æè¿åçå¯¹è±¡ç¸åã</p>\n",
      "<p>æ¨èä½¿ç¨ <a class=\"reference internal\" href=\"#isinstance\" title=\"isinstance\"><code class=\"xref py py-func docutils literal notranslate\"><span class=\"pre\">isinstance()</span></code></a> åç½®å½æ°æ¥æ£æµå¯¹è±¡çç±»åï¼å ä¸ºå®ä¼èèå­ç±»çæåµã</p>\n",
      "<p>ä¼ å¥ä¸ä¸ªåæ°æ¶ï¼è¿åä¸ä¸ªæ°ç type å¯¹è±¡ã è¿å¨æ¬è´¨ä¸æ¯ <a class=\"reference internal\" href=\"../reference/compound_stmts.html#class\"><code class=\"xref std std-keyword docutils literal notranslate\"><span class=\"pre\">class</span></code></a> è¯­å¥çä¸ç§å¨æå½¢å¼ï¼<em>name</em> å­ç¬¦ä¸²å³ç±»åå¹¶ä¼æä¸º <a class=\"reference internal\" href=\"stdtypes.html#definition.__name__\" title=\"definition.__name__\"><code class=\"xref py py-attr docutils literal notranslate\"><span class=\"pre\">__name__</span></code></a> å±æ§ï¼<em>bases</em> åç»åå«åºç±»å¹¶ä¼æä¸º <a class=\"reference internal\" href=\"stdtypes.html#class.__bases__\" title=\"class.__bases__\"><code class=\"xref py py-attr docutils literal notranslate\"><span class=\"pre\">__bases__</span></code></a> å±æ§ï¼å¦æä¸ºç©ºåä¼æ·»å ææç±»çç»æåºç±» <a class=\"reference internal\" href=\"#object\" title=\"object\"><code class=\"xref py py-class docutils literal notranslate\"><span class=\"pre\">object</span></code></a>ã <em>dict</em> å­å¸åå«ç±»ä¸»ä½çå±æ§åæ¹æ³å®ä¹ï¼å®å¨æä¸º <a class=\"reference internal\" href=\"stdtypes.html#object.__dict__\" title=\"object.__dict__\"><code class=\"xref py py-attr docutils literal notranslate\"><span class=\"pre\">__dict__</span></code></a> å±æ§ä¹åå¯è½ä¼è¢«æ·è´æåè£ã ä¸é¢ä¸¤æ¡è¯­å¥ä¼åå»ºç¸åç <a class=\"reference internal\" href=\"#type\" title=\"type\"><code class=\"xref py py-class docutils literal notranslate\"><span class=\"pre\">type</span></code></a> å¯¹è±¡:</p>\n",
      "<div class=\"doctest highlight-default notranslate\"><div class=\"highlight\"><pre><span></span><span class=\"gp\">&gt;&gt;&gt; </span><span class=\"k\">class</span> <span class=\"nc\">X</span><span class=\"p\">:</span>\n",
      "<span class=\"gp\">... </span>    <span class=\"n\">a</span> <span class=\"o\">=</span> <span class=\"mi\">1</span>\n",
      "<span class=\"gp\">...</span>\n",
      "<span class=\"gp\">&gt;&gt;&gt; </span><span class=\"n\">X</span> <span class=\"o\">=</span> <span class=\"nb\">type</span><span class=\"p\">(</span><span class=\"s1\">&#39;X&#39;</span><span class=\"p\">,</span> <span class=\"p\">(),</span> <span class=\"nb\">dict</span><span class=\"p\">(</span><span class=\"n\">a</span><span class=\"o\">=</span><span class=\"mi\">1</span><span class=\"p\">))</span>\n",
      "</pre></div>\n",
      "</div>\n",
      "<p>å¦è«åé± <a class=\"reference internal\" href=\"stdtypes.html#bltin-type-objects\"><span class=\"std std-ref\">ç±»åå¯¹è±¡</span></a>ã</p>\n",
      "<p>æä¾ç»ä¸åæ°å½¢å¼çå³é®å­åæ°ä¼è¢«ä¼ éç»éå½çåç±»æºå¶ (éå¸¸ä¸º <a class=\"reference internal\" href=\"../reference/datamodel.html#object.__init_subclass__\" title=\"object.__init_subclass__\"><code class=\"xref py py-meth docutils literal notranslate\"><span class=\"pre\">__init_subclass__()</span></code></a>)ï¼ç¸å½äºç±»å®ä¹ä¸­å³é®å­ (é¤äº <em>metaclass</em>) çè¡ä¸ºæ¹å¼ã</p>\n",
      "<p>å¦è«åé± <a class=\"reference internal\" href=\"../reference/datamodel.html#class-customization\"><span class=\"std std-ref\">èªå®ä¹ç±»åå»º</span></a>ã</p>\n",
      "<div class=\"versionchanged\">\n",
      "<p><span class=\"versionmodified changed\">å¨ 3.6 çæ¬è®æ´: </span><a class=\"reference internal\" href=\"#type\" title=\"type\"><code class=\"xref py py-class docutils literal notranslate\"><span class=\"pre\">type</span></code></a> çå­ç±»å¦ææªéè½½ <code class=\"docutils literal notranslate\"><span class=\"pre\">type.__new__</span></code>ï¼å°ä¸åè½ä½¿ç¨ä¸ä¸ªåæ°çå½¢å¼æ¥è·åå¯¹è±¡çç±»åã</p>\n",
      "</div>\n",
      "</dd></dl>\n",
      "\n",
      "<dl class=\"py function\">\n",
      "<dt class=\"sig sig-object py\" id=\"vars\">\n",
      "<span class=\"sig-name descname\"><span class=\"pre\">vars</span></span><span class=\"sig-paren\">(</span><span class=\"sig-paren\">)</span><a class=\"headerlink\" href=\"#vars\" title=\"æ¬å®ç¾©çæ°¸ä¹é£çµ\">Â¶</a></dt>\n",
      "<dt class=\"sig sig-object py\">\n",
      "<span class=\"sig-name descname\"><span class=\"pre\">vars</span></span><span class=\"sig-paren\">(</span><em class=\"sig-param\"><span class=\"n\"><span class=\"pre\">object</span></span></em><span class=\"sig-paren\">)</span></dt>\n",
      "<dd><p>è¿åæ¨¡åãç±»ãå®ä¾æä»»ä½å¶å®å·æ <a class=\"reference internal\" href=\"stdtypes.html#object.__dict__\" title=\"object.__dict__\"><code class=\"xref py py-attr docutils literal notranslate\"><span class=\"pre\">__dict__</span></code></a> å±æ§çå¯¹è±¡ç <a class=\"reference internal\" href=\"stdtypes.html#object.__dict__\" title=\"object.__dict__\"><code class=\"xref py py-attr docutils literal notranslate\"><span class=\"pre\">__dict__</span></code></a> å±æ§ã</p>\n",
      "<p>æ¨¡ååå®ä¾è¿æ ·çå¯¹è±¡å·æå¯æ´æ°ç <a class=\"reference internal\" href=\"stdtypes.html#object.__dict__\" title=\"object.__dict__\"><code class=\"xref py py-attr docutils literal notranslate\"><span class=\"pre\">__dict__</span></code></a> å±æ§ï¼ä½æ¯ï¼å¶å®å¯¹è±¡ç <a class=\"reference internal\" href=\"stdtypes.html#object.__dict__\" title=\"object.__dict__\"><code class=\"xref py py-attr docutils literal notranslate\"><span class=\"pre\">__dict__</span></code></a> å±æ§å¯è½ä¼è®¾ä¸ºéå¶åå¥ï¼ä¾å¦ï¼ç±»ä¼ä½¿ç¨ <a class=\"reference internal\" href=\"types.html#types.MappingProxyType\" title=\"types.MappingProxyType\"><code class=\"xref py py-class docutils literal notranslate\"><span class=\"pre\">types.MappingProxyType</span></code></a> æ¥é²æ­¢ç´æ¥æ´æ°å­å¸ï¼ã</p>\n",
      "<p>ä¸å¸¦åæ°æ¶ï¼<a class=\"reference internal\" href=\"#vars\" title=\"vars\"><code class=\"xref py py-func docutils literal notranslate\"><span class=\"pre\">vars()</span></code></a> çè¡ä¸ºç±»ä¼¼ <a class=\"reference internal\" href=\"#locals\" title=\"locals\"><code class=\"xref py py-func docutils literal notranslate\"><span class=\"pre\">locals()</span></code></a>ã è¯·æ³¨æï¼locals å­å¸ä»å¯¹äºè¯»åèµ·ä½ç¨ï¼å ä¸ºå¯¹ locals å­å¸çæ´æ°ä¼è¢«å¿½ç¥ã</p>\n",
      "<p>å¦ææå®äºä¸ä¸ªå¯¹è±¡ä½å®æ²¡æ <a class=\"reference internal\" href=\"stdtypes.html#object.__dict__\" title=\"object.__dict__\"><code class=\"xref py py-attr docutils literal notranslate\"><span class=\"pre\">__dict__</span></code></a> å±æ§ï¼ä¾å¦ï¼å½å®æå±çç±»å®ä¹äº <a class=\"reference internal\" href=\"../reference/datamodel.html#object.__slots__\" title=\"object.__slots__\"><code class=\"xref py py-attr docutils literal notranslate\"><span class=\"pre\">__slots__</span></code></a> å±æ§æ¶ï¼åä¼å¼å <a class=\"reference internal\" href=\"exceptions.html#TypeError\" title=\"TypeError\"><code class=\"xref py py-exc docutils literal notranslate\"><span class=\"pre\">TypeError</span></code></a> å¼å¸¸ã</p>\n",
      "</dd></dl>\n",
      "\n",
      "<dl class=\"py function\">\n",
      "<dt class=\"sig sig-object py\" id=\"zip\">\n",
      "<span class=\"sig-name descname\"><span class=\"pre\">zip</span></span><span class=\"sig-paren\">(</span><em class=\"sig-param\"><span class=\"o\"><span class=\"pre\">*</span></span><span class=\"n\"><span class=\"pre\">iterables</span></span></em>, <em class=\"sig-param\"><span class=\"n\"><span class=\"pre\">strict</span></span><span class=\"o\"><span class=\"pre\">=</span></span><span class=\"default_value\"><span class=\"pre\">False</span></span></em><span class=\"sig-paren\">)</span><a class=\"headerlink\" href=\"#zip\" title=\"æ¬å®ç¾©çæ°¸ä¹é£çµ\">Â¶</a></dt>\n",
      "<dd><p>å¨å¤ä¸ªè¿­ä»£å¨ä¸å¹¶è¡è¿­ä»£ï¼ä»æ¯ä¸ªè¿­ä»£å¨è¿åä¸ä¸ªæ°æ®é¡¹ç»æåç»ã</p>\n",
      "<p>ä¾å¦ï¼</p>\n",
      "<div class=\"highlight-python3 notranslate\"><div class=\"highlight\"><pre><span></span><span class=\"gp\">&gt;&gt;&gt; </span><span class=\"k\">for</span> <span class=\"n\">item</span> <span class=\"ow\">in</span> <span class=\"nb\">zip</span><span class=\"p\">([</span><span class=\"mi\">1</span><span class=\"p\">,</span> <span class=\"mi\">2</span><span class=\"p\">,</span> <span class=\"mi\">3</span><span class=\"p\">],</span> <span class=\"p\">[</span><span class=\"s1\">&#39;sugar&#39;</span><span class=\"p\">,</span> <span class=\"s1\">&#39;spice&#39;</span><span class=\"p\">,</span> <span class=\"s1\">&#39;everything nice&#39;</span><span class=\"p\">]):</span>\n",
      "<span class=\"gp\">... </span>    <span class=\"nb\">print</span><span class=\"p\">(</span><span class=\"n\">item</span><span class=\"p\">)</span>\n",
      "<span class=\"gp\">...</span>\n",
      "<span class=\"go\">(1, &#39;sugar&#39;)</span>\n",
      "<span class=\"go\">(2, &#39;spice&#39;)</span>\n",
      "<span class=\"go\">(3, &#39;everything nice&#39;)</span>\n",
      "</pre></div>\n",
      "</div>\n",
      "<p>æ´æ­£å¼çè¯´æ³ï¼ <a class=\"reference internal\" href=\"#zip\" title=\"zip\"><code class=\"xref py py-func docutils literal notranslate\"><span class=\"pre\">zip()</span></code></a> è¿ååç»çè¿­ä»£å¨ï¼å¶ä¸­ç¬¬ <em>i</em> ä¸ªåç»åå«çæ¯æ¯ä¸ªåæ°è¿­ä»£å¨çç¬¬ <em>i</em> ä¸ªåç´ ã</p>\n",
      "<p>ä¸å¦¨æ¢ä¸ç§æ¹å¼è®¤è¯ <a class=\"reference internal\" href=\"#zip\" title=\"zip\"><code class=\"xref py py-func docutils literal notranslate\"><span class=\"pre\">zip()</span></code></a> ï¼å®ä¼æè¡åæåï¼æååæè¡ãè¿ç±»ä¼¼äº <a class=\"reference external\" href=\"https://en.wikipedia.org/wiki/Transpose\">ç©éµè½¬ç½®</a> ã</p>\n",
      "<p><a class=\"reference internal\" href=\"#zip\" title=\"zip\"><code class=\"xref py py-func docutils literal notranslate\"><span class=\"pre\">zip()</span></code></a> æ¯å»¶è¿æ§è¡çï¼ç´è³è¿­ä»£æ¶æä¼å¯¹åç´ è¿è¡å¤çï¼æ¯å¦ <code class=\"xref std std-keyword docutils literal notranslate\"><span class=\"pre\">for</span></code> å¾ªç¯ææ¾å¥ <a class=\"reference internal\" href=\"stdtypes.html#list\" title=\"list\"><code class=\"xref py py-class docutils literal notranslate\"><span class=\"pre\">list</span></code></a> ä¸­ã</p>\n",
      "<p>å¼å¾èèçæ¯ï¼ä¼ ç» <a class=\"reference internal\" href=\"#zip\" title=\"zip\"><code class=\"xref py py-func docutils literal notranslate\"><span class=\"pre\">zip()</span></code></a> çå¯è¿­ä»£å¯¹è±¡å¯è½é¿åº¦ä¸åï¼ææ¶æ¯ææä¸ºä¹ï¼ææ¶æ¯å ä¸ºåå¤è¿äºå¯¹è±¡çä»£ç å­å¨éè¯¯ãPython æä¾äºä¸ç§ä¸åçå¤çæ¹æ¡ï¼</p>\n",
      "<ul>\n",
      "<li><p>é»è®¤æåµä¸ï¼<a class=\"reference internal\" href=\"#zip\" title=\"zip\"><code class=\"xref py py-func docutils literal notranslate\"><span class=\"pre\">zip()</span></code></a> å¨æç­çè¿­ä»£å®æååæ­¢ãè¾é¿å¯è¿­ä»£å¯¹è±¡ä¸­çå©ä½é¡¹å°è¢«å¿½ç¥ï¼ç»æä¼è£åè³æç­å¯è¿­ä»£å¯¹è±¡çé¿åº¦ï¼</p>\n",
      "<div class=\"highlight-python3 notranslate\"><div class=\"highlight\"><pre><span></span><span class=\"gp\">&gt;&gt;&gt; </span><span class=\"nb\">list</span><span class=\"p\">(</span><span class=\"nb\">zip</span><span class=\"p\">(</span><span class=\"nb\">range</span><span class=\"p\">(</span><span class=\"mi\">3</span><span class=\"p\">),</span> <span class=\"p\">[</span><span class=\"s1\">&#39;fee&#39;</span><span class=\"p\">,</span> <span class=\"s1\">&#39;fi&#39;</span><span class=\"p\">,</span> <span class=\"s1\">&#39;fo&#39;</span><span class=\"p\">,</span> <span class=\"s1\">&#39;fum&#39;</span><span class=\"p\">]))</span>\n",
      "<span class=\"go\">[(0, &#39;fee&#39;), (1, &#39;fi&#39;), (2, &#39;fo&#39;)]</span>\n",
      "</pre></div>\n",
      "</div>\n",
      "</li>\n",
      "<li><p>éå¸¸ <a class=\"reference internal\" href=\"#zip\" title=\"zip\"><code class=\"xref py py-func docutils literal notranslate\"><span class=\"pre\">zip()</span></code></a> ç¨äºå¯è¿­ä»£å¯¹è±¡ç­é¿çæåµä¸ãè¿æ¶å»ºè®®ç¨ <code class=\"docutils literal notranslate\"><span class=\"pre\">strict=True</span></code> çéé¡¹ãè¾åºä¸æ®éç <a class=\"reference internal\" href=\"#zip\" title=\"zip\"><code class=\"xref py py-func docutils literal notranslate\"><span class=\"pre\">zip()</span></code></a> ç¸åï¼ã</p>\n",
      "<div class=\"highlight-python3 notranslate\"><div class=\"highlight\"><pre><span></span><span class=\"gp\">&gt;&gt;&gt; </span><span class=\"nb\">list</span><span class=\"p\">(</span><span class=\"nb\">zip</span><span class=\"p\">((</span><span class=\"s1\">&#39;a&#39;</span><span class=\"p\">,</span> <span class=\"s1\">&#39;b&#39;</span><span class=\"p\">,</span> <span class=\"s1\">&#39;c&#39;</span><span class=\"p\">),</span> <span class=\"p\">(</span><span class=\"mi\">1</span><span class=\"p\">,</span> <span class=\"mi\">2</span><span class=\"p\">,</span> <span class=\"mi\">3</span><span class=\"p\">),</span> <span class=\"n\">strict</span><span class=\"o\">=</span><span class=\"kc\">True</span><span class=\"p\">))</span>\n",
      "<span class=\"go\">[(&#39;a&#39;, 1), (&#39;b&#39;, 2), (&#39;c&#39;, 3)]</span>\n",
      "</pre></div>\n",
      "</div>\n",
      "<p>ä¸é»è®¤è¡ä¸ºä¸åï¼å¦æä¸ä¸ªå¯è¿­ä»£å¯¹è±¡å¨å¶ä»å ä¸ªä¹åè¢«èå°½åä¼å¼å <a class=\"reference internal\" href=\"exceptions.html#ValueError\" title=\"ValueError\"><code class=\"xref py py-exc docutils literal notranslate\"><span class=\"pre\">ValueError</span></code></a>:</p>\n",
      "<div class=\"doctest highlight-default notranslate\"><div class=\"highlight\"><pre><span></span><span class=\"gp\">&gt;&gt;&gt; </span><span class=\"k\">for</span> <span class=\"n\">item</span> <span class=\"ow\">in</span> <span class=\"nb\">zip</span><span class=\"p\">(</span><span class=\"nb\">range</span><span class=\"p\">(</span><span class=\"mi\">3</span><span class=\"p\">),</span> <span class=\"p\">[</span><span class=\"s1\">&#39;fee&#39;</span><span class=\"p\">,</span> <span class=\"s1\">&#39;fi&#39;</span><span class=\"p\">,</span> <span class=\"s1\">&#39;fo&#39;</span><span class=\"p\">,</span> <span class=\"s1\">&#39;fum&#39;</span><span class=\"p\">],</span> <span class=\"n\">strict</span><span class=\"o\">=</span><span class=\"kc\">True</span><span class=\"p\">):</span>  \n",
      "<span class=\"gp\">... </span>    <span class=\"nb\">print</span><span class=\"p\">(</span><span class=\"n\">item</span><span class=\"p\">)</span>\n",
      "<span class=\"gp\">...</span>\n",
      "<span class=\"go\">(0, &#39;fee&#39;)</span>\n",
      "<span class=\"go\">(1, &#39;fi&#39;)</span>\n",
      "<span class=\"go\">(2, &#39;fo&#39;)</span>\n",
      "<span class=\"gt\">Traceback (most recent call last):</span>\n",
      "<span class=\"w\">  </span><span class=\"c\">...</span>\n",
      "<span class=\"gr\">ValueError</span>: <span class=\"n\">zip() argument 2 is longer than argument 1</span>\n",
      "</pre></div>\n",
      "</div>\n",
      "<p>å¦ææªæå® <code class=\"docutils literal notranslate\"><span class=\"pre\">strict=True</span></code> åæ°ï¼ææå¯¼è´å¯è¿­ä»£å¯¹è±¡é¿åº¦ä¸åçéè¯¯é½ä¼è¢«æå¶ï¼è¿å¯è½ä¼å¨ç¨åºçå¶ä»å°æ¹è¡¨ç°ä¸ºé¾ä»¥åç°çéè¯¯ã</p>\n",
      "</li>\n",
      "<li><p>ä¸ºäºè®©ææçå¯è¿­ä»£å¯¹è±¡å·æç¸åçé¿åº¦ï¼é¿åº¦è¾ç­çå¯ç¨å¸¸éè¿è¡å¡«åãè¿å¯ç± <a class=\"reference internal\" href=\"itertools.html#itertools.zip_longest\" title=\"itertools.zip_longest\"><code class=\"xref py py-func docutils literal notranslate\"><span class=\"pre\">itertools.zip_longest()</span></code></a> æ¥å®æã</p></li>\n",
      "</ul>\n",
      "<p>æç«¯ä¾å­æ¯åªæä¸ä¸ªå¯è¿­ä»£å¯¹è±¡åæ°ï¼<a class=\"reference internal\" href=\"#zip\" title=\"zip\"><code class=\"xref py py-func docutils literal notranslate\"><span class=\"pre\">zip()</span></code></a> ä¼è¿åä¸ä¸ªä¸åç»çè¿­ä»£å¨ãå¦ææªç»åºåæ°ï¼åè¿åä¸ä¸ªç©ºçè¿­ä»£å¨ã</p>\n",
      "<p>å°æå·§ï¼</p>\n",
      "<ul>\n",
      "<li><p>å¯ç¡®ä¿è¿­ä»£å¨çæ±å¼é¡ºåºæ¯ä»å·¦å°å³çãè¿æ ·å°±è½ç¨ <code class=\"docutils literal notranslate\"><span class=\"pre\">zip(*[iter(s)]*n,</span> <span class=\"pre\">strict=True)</span></code> å°æ°æ®åè¡¨æé¿åº¦ n è¿è¡åç»ãè¿å°éå¤ <em>ç¸å</em> çè¿­ä»£å¨ <code class=\"docutils literal notranslate\"><span class=\"pre\">n</span></code> æ¬¡ï¼è¾åºçæ¯ä¸ªåç»é½åå« <code class=\"docutils literal notranslate\"><span class=\"pre\">n</span></code> æ¬¡è°ç¨è¿­ä»£å¨çç»æãè¿æ ·åçæææ¯æè¾å¥æåä¸ºé¿åº¦ä¸º n çåã</p></li>\n",
      "<li><p><a class=\"reference internal\" href=\"#zip\" title=\"zip\"><code class=\"xref py py-func docutils literal notranslate\"><span class=\"pre\">zip()</span></code></a> ä¸ <code class=\"docutils literal notranslate\"><span class=\"pre\">*</span></code> è¿ç®ç¬¦ç¸ç»åå¯ä»¥ç¨æ¥æè§£ä¸ä¸ªåè¡¨:</p>\n",
      "<div class=\"highlight-python3 notranslate\"><div class=\"highlight\"><pre><span></span><span class=\"gp\">&gt;&gt;&gt; </span><span class=\"n\">x</span> <span class=\"o\">=</span> <span class=\"p\">[</span><span class=\"mi\">1</span><span class=\"p\">,</span> <span class=\"mi\">2</span><span class=\"p\">,</span> <span class=\"mi\">3</span><span class=\"p\">]</span>\n",
      "<span class=\"gp\">&gt;&gt;&gt; </span><span class=\"n\">y</span> <span class=\"o\">=</span> <span class=\"p\">[</span><span class=\"mi\">4</span><span class=\"p\">,</span> <span class=\"mi\">5</span><span class=\"p\">,</span> <span class=\"mi\">6</span><span class=\"p\">]</span>\n",
      "<span class=\"gp\">&gt;&gt;&gt; </span><span class=\"nb\">list</span><span class=\"p\">(</span><span class=\"nb\">zip</span><span class=\"p\">(</span><span class=\"n\">x</span><span class=\"p\">,</span> <span class=\"n\">y</span><span class=\"p\">))</span>\n",
      "<span class=\"go\">[(1, 4), (2, 5), (3, 6)]</span>\n",
      "<span class=\"gp\">&gt;&gt;&gt; </span><span class=\"n\">x2</span><span class=\"p\">,</span> <span class=\"n\">y2</span> <span class=\"o\">=</span> <span class=\"nb\">zip</span><span class=\"p\">(</span><span class=\"o\">*</span><span class=\"nb\">zip</span><span class=\"p\">(</span><span class=\"n\">x</span><span class=\"p\">,</span> <span class=\"n\">y</span><span class=\"p\">))</span>\n",
      "<span class=\"gp\">&gt;&gt;&gt; </span><span class=\"n\">x</span> <span class=\"o\">==</span> <span class=\"nb\">list</span><span class=\"p\">(</span><span class=\"n\">x2</span><span class=\"p\">)</span> <span class=\"ow\">and</span> <span class=\"n\">y</span> <span class=\"o\">==</span> <span class=\"nb\">list</span><span class=\"p\">(</span><span class=\"n\">y2</span><span class=\"p\">)</span>\n",
      "<span class=\"go\">True</span>\n",
      "</pre></div>\n",
      "</div>\n",
      "</li>\n",
      "</ul>\n",
      "<div class=\"versionchanged\">\n",
      "<p><span class=\"versionmodified changed\">å¨ 3.10 çæ¬è®æ´: </span>å¢å äº <code class=\"docutils literal notranslate\"><span class=\"pre\">strict</span></code> å¼æ¸ã</p>\n",
      "</div>\n",
      "</dd></dl>\n",
      "\n",
      "<dl class=\"py function\">\n",
      "<dt class=\"sig sig-object py\" id=\"import__\">\n",
      "<span id=\"__import__\"></span><span class=\"sig-name descname\"><span class=\"pre\">__import__</span></span><span class=\"sig-paren\">(</span><em class=\"sig-param\"><span class=\"n\"><span class=\"pre\">name</span></span></em>, <em class=\"sig-param\"><span class=\"n\"><span class=\"pre\">globals</span></span><span class=\"o\"><span class=\"pre\">=</span></span><span class=\"default_value\"><span class=\"pre\">None</span></span></em>, <em class=\"sig-param\"><span class=\"n\"><span class=\"pre\">locals</span></span><span class=\"o\"><span class=\"pre\">=</span></span><span class=\"default_value\"><span class=\"pre\">None</span></span></em>, <em class=\"sig-param\"><span class=\"n\"><span class=\"pre\">fromlist</span></span><span class=\"o\"><span class=\"pre\">=</span></span><span class=\"default_value\"><span class=\"pre\">()</span></span></em>, <em class=\"sig-param\"><span class=\"n\"><span class=\"pre\">level</span></span><span class=\"o\"><span class=\"pre\">=</span></span><span class=\"default_value\"><span class=\"pre\">0</span></span></em><span class=\"sig-paren\">)</span><a class=\"headerlink\" href=\"#import__\" title=\"æ¬å®ç¾©çæ°¸ä¹é£çµ\">Â¶</a></dt>\n",
      "<dd><div class=\"admonition note\" id=\"index-13\">\n",
      "<p class=\"admonition-title\">åè¨»</p>\n",
      "<p>ä¸ <a class=\"reference internal\" href=\"importlib.html#importlib.import_module\" title=\"importlib.import_module\"><code class=\"xref py py-func docutils literal notranslate\"><span class=\"pre\">importlib.import_module()</span></code></a> ä¸åï¼è¿æ¯ä¸ä¸ªæ¥å¸¸ Python ç¼ç¨ä¸­ä¸éè¦ç¨å°çé«çº§å½æ°ã</p>\n",
      "</div>\n",
      "<p>æ­¤å½æ°ä¼ç± <a class=\"reference internal\" href=\"../reference/simple_stmts.html#import\"><code class=\"xref std std-keyword docutils literal notranslate\"><span class=\"pre\">import</span></code></a> è¯­å¥åèµ·è°ç¨ã å®å¯ä»¥è¢«æ¿æ¢ (éè¿å¯¼å¥ <a class=\"reference internal\" href=\"builtins.html#module-builtins\" title=\"builtins: The module that provides the built-in namespace.\"><code class=\"xref py py-mod docutils literal notranslate\"><span class=\"pre\">builtins</span></code></a> æ¨¡åå¹¶èµå¼ç» <code class=\"docutils literal notranslate\"><span class=\"pre\">builtins.__import__</span></code>) ä»¥ä¾¿ä¿®æ¹ <code class=\"xref std std-keyword docutils literal notranslate\"><span class=\"pre\">import</span></code> è¯­å¥çè¯­ä¹ï¼ä½æ¯ <strong>å¼ºç</strong> ä¸å»ºè®®è¿æ ·åï¼å ä¸ºä½¿ç¨å¯¼å¥é©å­ (åè§ <span class=\"target\" id=\"index-26\"></span><a class=\"pep reference external\" href=\"https://peps.python.org/pep-0302/\"><strong>PEP 302</strong></a>) éå¸¸æ´å®¹æå®ç°åæ ·çç®æ ï¼å¹¶ä¸ä¸ä¼å¯¼è´ä»£ç é®é¢ï¼å ä¸ºè®¸å¤ä»£ç é½ä¼åå®æç¨çæ¯é»è®¤å®ç°ã åæ ·ä¹ä¸å»ºè®®ç´æ¥ä½¿ç¨ <a class=\"reference internal\" href=\"#import__\" title=\"__import__\"><code class=\"xref py py-func docutils literal notranslate\"><span class=\"pre\">__import__()</span></code></a> èåºè¯¥ç¨ <a class=\"reference internal\" href=\"importlib.html#importlib.import_module\" title=\"importlib.import_module\"><code class=\"xref py py-func docutils literal notranslate\"><span class=\"pre\">importlib.import_module()</span></code></a>ã</p>\n",
      "<p>æ¬å½æ°ä¼å¯¼å¥æ¨¡å <em>name</em>ï¼å©ç¨ <em>globals</em> å <em>locals</em> æ¥å³å®å¦ä½å¨åçä¸ä¸æä¸­è§£éè¯¥åç§°ã<em>fromlist</em> ç»åºäºåºä» <em>name</em> æ¨¡åä¸­å¯¼å¥çå¯¹è±¡æå­æ¨¡åçåç§°ãæ åçå®ç°ä»£ç å®å¨ä¸ä¼ç¨å° <em>locals</em> åæ°ï¼åªç¨å°äº <em>globals</em> ç¨äºç¡®å® <a class=\"reference internal\" href=\"../reference/simple_stmts.html#import\"><code class=\"xref std std-keyword docutils literal notranslate\"><span class=\"pre\">import</span></code></a> è¯­å¥æå¨çåä¸ä¸æã</p>\n",
      "<p><em>level</em> æå®æ¯ä½¿ç¨ç»å¯¹è¿æ¯ç¸å¯¹å¯¼å¥ã <code class=\"docutils literal notranslate\"><span class=\"pre\">0</span></code> (é»è®¤å¼) æå³çä»æ§è¡ç»å¯¹å¯¼å¥ã <em>level</em> ä¸ºæ­£æ°å¼è¡¨ç¤ºç¸å¯¹äºæ¨¡åè°ç¨ <a class=\"reference internal\" href=\"#import__\" title=\"__import__\"><code class=\"xref py py-func docutils literal notranslate\"><span class=\"pre\">__import__()</span></code></a> çç®å½ï¼å°è¦æç´¢çç¶ç®å½å±æ° (è¯¦æåè§ <span class=\"target\" id=\"index-27\"></span><a class=\"pep reference external\" href=\"https://peps.python.org/pep-0328/\"><strong>PEP 328</strong></a>)ã</p>\n",
      "<p>å½ <em>name</em> åéçå½¢å¼ä¸º <code class=\"docutils literal notranslate\"><span class=\"pre\">package.module</span></code> æ¶ï¼éå¸¸å°ä¼è¿åæé«å±çº§çåï¼ç¬¬ä¸ä¸ªç¹å·ä¹åçåç§°ï¼ï¼è <em>ä¸æ¯</em> ä»¥ <em>name</em> å½åçæ¨¡åã ä½æ¯ï¼å½ç»åºäºéç©ºç <em>fromlist</em> åæ°æ¶ï¼åå°è¿åä»¥ <em>name</em> å½åçæ¨¡åã</p>\n",
      "<p>ä¾å¦ï¼è¯­å¥ <code class=\"docutils literal notranslate\"><span class=\"pre\">import</span> <span class=\"pre\">spam</span></code> çç»æå°ä¸ºä¸ä»¥ä¸ä»£ç ä½ç¨ç¸åçå­èç :</p>\n",
      "<div class=\"highlight-python3 notranslate\"><div class=\"highlight\"><pre><span></span><span class=\"n\">spam</span> <span class=\"o\">=</span> <span class=\"nb\">__import__</span><span class=\"p\">(</span><span class=\"s1\">&#39;spam&#39;</span><span class=\"p\">,</span> <span class=\"nb\">globals</span><span class=\"p\">(),</span> <span class=\"nb\">locals</span><span class=\"p\">(),</span> <span class=\"p\">[],</span> <span class=\"mi\">0</span><span class=\"p\">)</span>\n",
      "</pre></div>\n",
      "</div>\n",
      "<p>è¯­å¥ <code class=\"docutils literal notranslate\"><span class=\"pre\">import</span> <span class=\"pre\">spam.ham</span></code> çç»æå°ä¸ºä»¥ä¸è°ç¨:</p>\n",
      "<div class=\"highlight-python3 notranslate\"><div class=\"highlight\"><pre><span></span><span class=\"n\">spam</span> <span class=\"o\">=</span> <span class=\"nb\">__import__</span><span class=\"p\">(</span><span class=\"s1\">&#39;spam.ham&#39;</span><span class=\"p\">,</span> <span class=\"nb\">globals</span><span class=\"p\">(),</span> <span class=\"nb\">locals</span><span class=\"p\">(),</span> <span class=\"p\">[],</span> <span class=\"mi\">0</span><span class=\"p\">)</span>\n",
      "</pre></div>\n",
      "</div>\n",
      "<p>è¯·æ³¨æå¨è¿é <a class=\"reference internal\" href=\"#import__\" title=\"__import__\"><code class=\"xref py py-func docutils literal notranslate\"><span class=\"pre\">__import__()</span></code></a> æ¯å¦ä½è¿åé¡¶å±æ¨¡åçï¼å ä¸ºè¿æ¯éè¿ <a class=\"reference internal\" href=\"../reference/simple_stmts.html#import\"><code class=\"xref std std-keyword docutils literal notranslate\"><span class=\"pre\">import</span></code></a> è¯­å¥è¢«ç»å®å°ç¹å®åç§°çå¯¹è±¡ã</p>\n",
      "<p>å¦ä¸æ¹é¢ï¼è¯­å¥ <code class=\"docutils literal notranslate\"><span class=\"pre\">from</span> <span class=\"pre\">spam.ham</span> <span class=\"pre\">import</span> <span class=\"pre\">eggs,</span> <span class=\"pre\">sausage</span> <span class=\"pre\">as</span> <span class=\"pre\">saus</span></code> çç»æå°ä¸º</p>\n",
      "<div class=\"highlight-python3 notranslate\"><div class=\"highlight\"><pre><span></span><span class=\"n\">_temp</span> <span class=\"o\">=</span> <span class=\"nb\">__import__</span><span class=\"p\">(</span><span class=\"s1\">&#39;spam.ham&#39;</span><span class=\"p\">,</span> <span class=\"nb\">globals</span><span class=\"p\">(),</span> <span class=\"nb\">locals</span><span class=\"p\">(),</span> <span class=\"p\">[</span><span class=\"s1\">&#39;eggs&#39;</span><span class=\"p\">,</span> <span class=\"s1\">&#39;sausage&#39;</span><span class=\"p\">],</span> <span class=\"mi\">0</span><span class=\"p\">)</span>\n",
      "<span class=\"n\">eggs</span> <span class=\"o\">=</span> <span class=\"n\">_temp</span><span class=\"o\">.</span><span class=\"n\">eggs</span>\n",
      "<span class=\"n\">saus</span> <span class=\"o\">=</span> <span class=\"n\">_temp</span><span class=\"o\">.</span><span class=\"n\">sausage</span>\n",
      "</pre></div>\n",
      "</div>\n",
      "<p>å¨è¿éï¼ <code class=\"docutils literal notranslate\"><span class=\"pre\">spam.ham</span></code> æ¨¡åä¼ç± <a class=\"reference internal\" href=\"#import__\" title=\"__import__\"><code class=\"xref py py-func docutils literal notranslate\"><span class=\"pre\">__import__()</span></code></a> è¿åã è¦å¯¼å¥çå¯¹è±¡å°ä»æ­¤å¯¹è±¡ä¸­æåå¹¶èµå¼ç»å®ä»¬å¯¹åºçåç§°ã</p>\n",
      "<p>å¦ææ¨åªæ³æåç§°å¯¼å¥æ¨¡åï¼å¯è½å¨åä¸­ï¼ï¼è¯·ä½¿ç¨ <a class=\"reference internal\" href=\"importlib.html#importlib.import_module\" title=\"importlib.import_module\"><code class=\"xref py py-func docutils literal notranslate\"><span class=\"pre\">importlib.import_module()</span></code></a></p>\n",
      "<div class=\"versionchanged\">\n",
      "<p><span class=\"versionmodified changed\">å¨ 3.3 çæ¬è®æ´: </span><em>level</em> çå¼ä¸åæ¯æè´æ°ï¼é»è®¤å¼ä¹ä¿®æ¹ä¸º0ï¼ã</p>\n",
      "</div>\n",
      "<div class=\"versionchanged\">\n",
      "<p><span class=\"versionmodified changed\">å¨ 3.9 çæ¬è®æ´: </span>å½ä½¿ç¨äºå½ä»¤è¡åæ° <a class=\"reference internal\" href=\"../using/cmdline.html#cmdoption-E\"><code class=\"xref std std-option docutils literal notranslate\"><span class=\"pre\">-E</span></code></a> æ <a class=\"reference internal\" href=\"../using/cmdline.html#cmdoption-I\"><code class=\"xref std std-option docutils literal notranslate\"><span class=\"pre\">-I</span></code></a> æ¶ï¼ç¯å¢åé <span class=\"target\" id=\"index-28\"></span><a class=\"reference internal\" href=\"../using/cmdline.html#envvar-PYTHONCASEOK\"><code class=\"xref std std-envvar docutils literal notranslate\"><span class=\"pre\">PYTHONCASEOK</span></code></a> ç°å¨å°è¢«å¿½ç¥ã</p>\n",
      "</div>\n",
      "</dd></dl>\n",
      "\n",
      "<p class=\"rubric\">è¨»è§£</p>\n",
      "<dl class=\"footnote brackets\">\n",
      "<dt class=\"label\" id=\"id2\"><span class=\"brackets\"><a class=\"fn-backref\" href=\"#id1\">1</a></span></dt>\n",
      "<dd><p>åæå¨åªæ¥å Unix é¢¨æ ¼çè¡çµæç¬¦ãå¦ææ¨å¾æªæ¡ä¸­è®åç¨å¼ç¢¼ï¼è«ç¢ºä¿ç¨æè¡ç¬¦è½ææ¨¡å¼è½æ Windows æ Mac é¢¨æ ¼çæè¡ç¬¦ã</p>\n",
      "</dd>\n",
      "</dl>\n",
      "</section>\n",
      "\n",
      "\n",
      "            <div class=\"clearer\"></div>\n",
      "          </div>\n",
      "        </div>\n",
      "      </div>\n",
      "      <div class=\"sphinxsidebar\" role=\"navigation\" aria-label=\"main navigation\">\n",
      "        <div class=\"sphinxsidebarwrapper\">\n",
      "  <div>\n",
      "    <h4>ä¸åä¸»é¡</h4>\n",
      "    <p class=\"topless\"><a href=\"intro.html\"\n",
      "                          title=\"ä¸ä¸ç« \">ç°¡ä»</a></p>\n",
      "  </div>\n",
      "  <div>\n",
      "    <h4>ä¸åä¸»é¡</h4>\n",
      "    <p class=\"topless\"><a href=\"constants.html\"\n",
      "                          title=\"ä¸ä¸ç« \">å§å»ºå¸¸æ¸</a></p>\n",
      "  </div>\n",
      "  <div role=\"note\" aria-label=\"source link\">\n",
      "    <h3>æ­¤é é¢</h3>\n",
      "    <ul class=\"this-page-menu\">\n",
      "      <li><a href=\"../bugs.html\">åå ±é¯èª¤</a></li>\n",
      "      <li>\n",
      "        <a href=\"https://github.com/python/cpython/blob/main/Doc/library/functions.rst\"\n",
      "            rel=\"nofollow\">é¡¯ç¤ºåå§ç¢¼\n",
      "        </a>\n",
      "      </li>\n",
      "    </ul>\n",
      "  </div>\n",
      "        </div>\n",
      "      </div>\n",
      "      <div class=\"clearer\"></div>\n",
      "    </div>  \n",
      "    <div class=\"related\" role=\"navigation\" aria-label=\"related navigation\">\n",
      "      <h3>çè¦½</h3>\n",
      "      <ul>\n",
      "        <li class=\"right\" style=\"margin-right: 10px\">\n",
      "          <a href=\"../genindex.html\" title=\"ç¸½ç´¢å¼\"\n",
      "             >ç´¢å¼</a></li>\n",
      "        <li class=\"right\" >\n",
      "          <a href=\"../py-modindex.html\" title=\"Python æ¨¡çµç´¢å¼\"\n",
      "             >æ¨¡çµ</a> |</li>\n",
      "        <li class=\"right\" >\n",
      "          <a href=\"constants.html\" title=\"å§å»ºå¸¸æ¸\"\n",
      "             >ä¸ä¸é </a> |</li>\n",
      "        <li class=\"right\" >\n",
      "          <a href=\"intro.html\" title=\"ç°¡ä»\"\n",
      "             >ä¸ä¸é </a> |</li>\n",
      "\n",
      "          <li><img src=\"../_static/py.svg\" alt=\"python logo\" style=\"vertical-align: middle; margin-top: -1px\"/></li>\n",
      "          <li><a href=\"https://www.python.org/\">Python</a> &#187;</li>\n",
      "          <li class=\"switchers\">\n",
      "            <div class=\"language_switcher_placeholder\"></div>\n",
      "            <div class=\"version_switcher_placeholder\"></div>\n",
      "          </li>\n",
      "          <li>\n",
      "              \n",
      "          </li>\n",
      "    <li id=\"cpython-language-and-version\">\n",
      "      <a href=\"../index.html\">3.12.0 Documentation</a> &#187;\n",
      "    </li>\n",
      "\n",
      "          <li class=\"nav-item nav-item-1\"><a href=\"index.html\" >Python æ¨æºå½å¼åº« (Standard Library)</a> &#187;</li>\n",
      "        <li class=\"nav-item nav-item-this\"><a href=\"\">å§å»ºå½å¼</a></li>\n",
      "                <li class=\"right\">\n",
      "                    \n",
      "\n",
      "    <div class=\"inline-search\" role=\"search\">\n",
      "        <form class=\"inline-search\" action=\"../search.html\" method=\"get\">\n",
      "          <input placeholder=\"å¿«éæå°\" aria-label=\"å¿«éæå°\" type=\"search\" name=\"q\" id=\"search-box\" />\n",
      "          <input type=\"submit\" value=\"åå¾\" />\n",
      "        </form>\n",
      "    </div>\n",
      "                     |\n",
      "                </li>\n",
      "            <li class=\"right\">\n",
      "<label class=\"theme-selector-label\">\n",
      "    Theme\n",
      "    <select class=\"theme-selector\" oninput=\"activateTheme(this.value)\">\n",
      "        <option value=\"auto\" selected>Auto</option>\n",
      "        <option value=\"light\">Light</option>\n",
      "        <option value=\"dark\">Dark</option>\n",
      "    </select>\n",
      "</label> |</li>\n",
      "            \n",
      "      </ul>\n",
      "    </div>  \n",
      "    <div class=\"footer\">\n",
      "    &copy; <a href=\"../copyright.html\">çæ¬</a> 2001-2023, Python Software Foundation.\n",
      "    <br />\n",
      "    This page is licensed under the Python Software Foundation License Version 2.\n",
      "    <br />\n",
      "    Examples, recipes, and other code in the documentation are additionally licensed under the Zero Clause BSD License.\n",
      "    <br />\n",
      "    See <a href=\"/license.html\">History and License</a> for more information.<br />\n",
      "    <br />\n",
      "\n",
      "    The Python Software Foundation is a non-profit corporation.\n",
      "<a href=\"https://www.python.org/psf/donations/\">Please donate.</a>\n",
      "<br />\n",
      "    <br />\n",
      "\n",
      "    æå¾æ´æ°æ¼ 11æ 03, 2023ã\n",
      "    <a href=\"/bugs.html\">Found a bug</a>?\n",
      "    <br />\n",
      "\n",
      "    ä½¿ç¨ <a href=\"https://www.sphinx-doc.org/\">Sphinx</a> 4.5.0 å»ºç«ã\n",
      "    </div>\n",
      "\n",
      "    <script type=\"text/javascript\" src=\"../_static/switchers.js\"></script>\n",
      "  </body>\n",
      "</html>\n"
     ]
    }
   ],
   "source": [
    "# 安裝  pip install requests\n",
    "# 建檔  requirements.txt --> 用來記錄安裝了那些套件\n",
    "#一次安裝全部的套件  pip install -r requirements.txt\n",
    "#說明書 https://requests.readthedocs.io/en/latest/api/\n",
    "import requests\n",
    "response = requests.get('https://docs.python.org/zh-tw/3/library/functions.html#type')\n",
    "#type(response)\n",
    "print(response.text)"
   ]
  }
 ],
 "metadata": {
  "kernelspec": {
   "display_name": "Python 3",
   "language": "python",
   "name": "python3"
  },
  "language_info": {
   "codemirror_mode": {
    "name": "ipython",
    "version": 3
   },
   "file_extension": ".py",
   "mimetype": "text/x-python",
   "name": "python",
   "nbconvert_exporter": "python",
   "pygments_lexer": "ipython3",
   "version": "3.10.13"
  }
 },
 "nbformat": 4,
 "nbformat_minor": 2
}
