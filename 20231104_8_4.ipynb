{
 "cells": [
  {
   "cell_type": "code",
   "execution_count": 1,
   "metadata": {},
   "outputs": [
    {
     "name": "stdout",
     "output_type": "stream",
     "text": [
      "<class 'str'>\n"
     ]
    }
   ],
   "source": [
    "import requests\n",
    "url = 'https://data.ntpc.gov.tw/api/datasets/1eeec6a8-8fd3-43f4-84a1-a89f38d4a4cd/json?size=1000'\n",
    "response = requests.get(url)\n",
    "#print(response.text)\n",
    "print(type(response.text))"
   ]
  },
  {
   "cell_type": "code",
   "execution_count": 3,
   "metadata": {},
   "outputs": [
    {
     "name": "stdout",
     "output_type": "stream",
     "text": [
      "<class 'list'>\n"
     ]
    }
   ],
   "source": [
    "print(type(response.json()))"
   ]
  },
  {
   "cell_type": "code",
   "execution_count": 5,
   "metadata": {},
   "outputs": [
    {
     "name": "stdout",
     "output_type": "stream",
     "text": [
      "7\n",
      "{'field_5': '14.0', 'field_2': '24.0', 'field_4': '19615.0', 'field_7': '', 'field_6': '30.235', 'field_1': '111年1月', 'field_3': '10.0'}\n",
      "{'field_5': '8.0', 'field_2': '10.0', 'field_4': '22.0', 'field_7': '', 'field_6': '0.0', 'field_1': '111年2月', 'field_3': '2.0'}\n",
      "{'field_5': '14.0', 'field_2': '25.0', 'field_4': '199418.0', 'field_7': '', 'field_6': '99.615', 'field_1': '111年3月', 'field_3': '11.0'}\n",
      "{'field_5': '12.0', 'field_2': '12.0', 'field_4': '0.0', 'field_7': '', 'field_6': '15.84', 'field_1': '111年4月', 'field_3': '0.0'}\n",
      "{'field_5': '14.0', 'field_2': '18.0', 'field_4': '5081.43', 'field_7': '', 'field_6': '12508.06', 'field_1': '111年5月', 'field_3': '4.0'}\n",
      "{'field_5': '14.0', 'field_2': '16.0', 'field_4': '165015.0', 'field_7': '', 'field_6': '0.0', 'field_1': '111年6月', 'field_3': '2.0'}\n",
      "{'field_5': '10.0', 'field_2': '11.0', 'field_4': '60.0', 'field_7': '', 'field_6': '1.2', 'field_1': '111年7月', 'field_3': '1.0'}\n"
     ]
    }
   ],
   "source": [
    "data_list = response.json()\n",
    "print(len(data_list))\n",
    "for site in data_list:\n",
    "    print(site)"
   ]
  }
 ],
 "metadata": {
  "kernelspec": {
   "display_name": "Python 3",
   "language": "python",
   "name": "python3"
  },
  "language_info": {
   "codemirror_mode": {
    "name": "ipython",
    "version": 3
   },
   "file_extension": ".py",
   "mimetype": "text/x-python",
   "name": "python",
   "nbconvert_exporter": "python",
   "pygments_lexer": "ipython3",
   "version": "3.10.13"
  }
 },
 "nbformat": 4,
 "nbformat_minor": 2
}
