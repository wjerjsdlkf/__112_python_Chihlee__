{
 "cells": [
  {
   "cell_type": "code",
   "execution_count": 1,
   "metadata": {},
   "outputs": [],
   "source": [
    "stu1 = [78, 92, 65, 86, 74]\n",
    "stu2 = [78, 95, 63, 72, 74]\n",
    "stu3 = [62, 55, 73, 93, 64]"
   ]
  },
  {
   "cell_type": "code",
   "execution_count": 2,
   "metadata": {},
   "outputs": [
    {
     "data": {
      "text/plain": [
       "[[78, 92, 65, 86, 74], [78, 95, 63, 72, 74], [62, 55, 73, 93, 64]]"
      ]
     },
     "execution_count": 2,
     "metadata": {},
     "output_type": "execute_result"
    }
   ],
   "source": [
    "students = [stu1, stu2, stu3]\n",
    "students"
   ]
  },
  {
   "cell_type": "code",
   "execution_count": 3,
   "metadata": {},
   "outputs": [
    {
     "data": {
      "text/plain": [
       "[[78, 92, 65, 86, 74], [78, 95, 63, 72, 74], [62, 55, 73, 93, 64]]"
      ]
     },
     "execution_count": 3,
     "metadata": {},
     "output_type": "execute_result"
    }
   ],
   "source": [
    "students = list()\n",
    "students.append(stu1)\n",
    "students.append(stu2)\n",
    "students.append(stu3)\n",
    "students"
   ]
  },
  {
   "cell_type": "code",
   "execution_count": null,
   "metadata": {},
   "outputs": [],
   "source": [
    "#建立一個學生的5個分數\n",
    "import random\n",
    "\n",
    "students = []\n",
    "for _ in range(50):\n",
    "    stu = []\n",
    "    for _ in range(5):    \n",
    "        score = random.randint(50,100)\n",
    "        stu.append(score)\n",
    "    students.append(stu)\n",
    "\n",
    "students"
   ]
  },
  {
   "cell_type": "code",
   "execution_count": null,
   "metadata": {},
   "outputs": [],
   "source": [
    "#建立一個學生的5個分數\n",
    "import random\n",
    "\n",
    "def createstudent()->list[int]:\n",
    "    stu = []\n",
    "    for _ in range(5):    \n",
    "        score = random.randint(50,100)\n",
    "        stu.append(score)\n",
    "    return stu\n",
    "\n",
    "students = []\n",
    "for _ in range(50):\n",
    "    stu = createstudent()\n",
    "    students.append(stu)\n",
    "\n",
    "students"
   ]
  },
  {
   "cell_type": "code",
   "execution_count": 16,
   "metadata": {},
   "outputs": [],
   "source": [
    "import random\n",
    "\n",
    "def createstudent()->list[int]:\n",
    "    stu = []\n",
    "    for _ in range(5):    \n",
    "        score = random.randint(50,100)\n",
    "        stu.append(score)\n",
    "    return stu\n",
    "\n",
    "def creatsClasses(numbers)->list[list]:\n",
    "    students = []\n",
    "    for _ in range(numbers):\n",
    "        stu = createstudent()\n",
    "        students.append(stu)\n",
    "    return students\n",
    "\n",
    "studentss = creatsClasses(10)\n"
   ]
  },
  {
   "cell_type": "code",
   "execution_count": 18,
   "metadata": {},
   "outputs": [],
   "source": [
    "#存檔\n",
    "import csv\n",
    "file = open('students.csv',mode='w',encoding='utf-8',newline='')#newline 新增一個新字串\n",
    "#file.write(\"這是測試\")\n",
    "csv_writer = csv.writer(file)\n",
    "#writerow  一維list\n",
    "csv_writer.writerow([\"國文\",\"英文\",\"數學\",\"地理\",\"歷史\"])\n",
    "#writerows 二維list\n",
    "csv_writer.writerows(studentss)\n",
    "file.close()"
   ]
  }
 ],
 "metadata": {
  "kernelspec": {
   "display_name": "Python 3",
   "language": "python",
   "name": "python3"
  },
  "language_info": {
   "codemirror_mode": {
    "name": "ipython",
    "version": 3
   },
   "file_extension": ".py",
   "mimetype": "text/x-python",
   "name": "python",
   "nbconvert_exporter": "python",
   "pygments_lexer": "ipython3",
   "version": "3.10.13"
  }
 },
 "nbformat": 4,
 "nbformat_minor": 2
}
