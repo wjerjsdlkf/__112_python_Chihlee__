{
 "cells": [
  {
   "cell_type": "code",
   "execution_count": 1,
   "metadata": {},
   "outputs": [],
   "source": [
    "stu1 = [78, 92, 65, 86, 74]\n",
    "stu2 = [78, 95, 63, 72, 74]\n",
    "stu3 = [62, 55, 73, 93, 64]"
   ]
  },
  {
   "cell_type": "code",
   "execution_count": 2,
   "metadata": {},
   "outputs": [
    {
     "data": {
      "text/plain": [
       "[[78, 92, 65, 86, 74], [78, 95, 63, 72, 74], [62, 55, 73, 93, 64]]"
      ]
     },
     "execution_count": 2,
     "metadata": {},
     "output_type": "execute_result"
    }
   ],
   "source": [
    "students = [stu1, stu2, stu3]\n",
    "students"
   ]
  },
  {
   "cell_type": "code",
   "execution_count": 3,
   "metadata": {},
   "outputs": [
    {
     "data": {
      "text/plain": [
       "[[78, 92, 65, 86, 74], [78, 95, 63, 72, 74], [62, 55, 73, 93, 64]]"
      ]
     },
     "execution_count": 3,
     "metadata": {},
     "output_type": "execute_result"
    }
   ],
   "source": [
    "students = list()\n",
    "students.append(stu1)\n",
    "students.append(stu2)\n",
    "students.append(stu3)\n",
    "students"
   ]
  },
  {
   "cell_type": "code",
   "execution_count": null,
   "metadata": {},
   "outputs": [],
   "source": [
    "#建立一個學生的5個分數\n",
    "import random\n",
    "\n",
    "students = []\n",
    "for _ in range(50):\n",
    "    stu = []\n",
    "    for _ in range(5):    \n",
    "        score = random.randint(50,100)\n",
    "        stu.append(score)\n",
    "    students.append(stu)\n",
    "\n",
    "students"
   ]
  },
  {
   "cell_type": "code",
   "execution_count": null,
   "metadata": {},
   "outputs": [],
   "source": [
    "#建立一個學生的5個分數\n",
    "import random\n",
    "\n",
    "def createstudent()->list[int]:\n",
    "    stu = []\n",
    "    for _ in range(5):    \n",
    "        score = random.randint(50,100)\n",
    "        stu.append(score)\n",
    "    return stu\n",
    "\n",
    "students = []\n",
    "for _ in range(50):\n",
    "    stu = createstudent()\n",
    "    students.append(stu)\n",
    "\n",
    "students"
   ]
  },
  {
   "cell_type": "code",
   "execution_count": 12,
   "metadata": {},
   "outputs": [
    {
     "data": {
      "text/plain": [
       "[[81, 96, 69, 80, 77],\n",
       " [57, 85, 65, 89, 52],\n",
       " [98, 90, 51, 90, 60],\n",
       " [85, 83, 71, 65, 90],\n",
       " [54, 70, 73, 93, 100],\n",
       " [92, 81, 52, 83, 62],\n",
       " [93, 95, 87, 80, 63],\n",
       " [61, 75, 68, 79, 74],\n",
       " [74, 100, 64, 52, 86],\n",
       " [65, 58, 82, 60, 90]]"
      ]
     },
     "execution_count": 12,
     "metadata": {},
     "output_type": "execute_result"
    }
   ],
   "source": [
    "import random\n",
    "\n",
    "def createstudent()->list[int]:\n",
    "    stu = []\n",
    "    for _ in range(5):    \n",
    "        score = random.randint(50,100)\n",
    "        stu.append(score)\n",
    "    return stu\n",
    "\n",
    "def creatsClasses(numbers)->list[list]:\n",
    "    students = []\n",
    "    for _ in range(numbers):\n",
    "        stu = createstudent()\n",
    "        students.append(stu)\n",
    "    return students\n",
    "\n",
    "creatsClasses(10)\n"
   ]
  },
  {
   "cell_type": "code",
   "execution_count": null,
   "metadata": {},
   "outputs": [],
   "source": [
    "#存檔\n",
    "file = open('students.csv',mode='w',encoding='utf-8',newline='')#newline 新增一個新字串\n",
    "file.close()"
   ]
  }
 ],
 "metadata": {
  "kernelspec": {
   "display_name": "Python 3",
   "language": "python",
   "name": "python3"
  },
  "language_info": {
   "codemirror_mode": {
    "name": "ipython",
    "version": 3
   },
   "file_extension": ".py",
   "mimetype": "text/x-python",
   "name": "python",
   "nbconvert_exporter": "python",
   "pygments_lexer": "ipython3",
   "version": "3.10.13"
  }
 },
 "nbformat": 4,
 "nbformat_minor": 2
}
