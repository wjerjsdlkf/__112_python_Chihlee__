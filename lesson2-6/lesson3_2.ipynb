{
 "cells": [
  {
   "cell_type": "code",
   "execution_count": 4,
   "metadata": {},
   "outputs": [
    {
     "name": "stdout",
     "output_type": "stream",
     "text": [
      "您是成年\n",
      "20\n",
      "應用程式結束\n"
     ]
    }
   ],
   "source": [
    "try: # 測試錯誤\n",
    "    age = int(input(\"請輸入age:\"))\n",
    "\n",
    "except: # 測試錯誤\n",
    "    print(\"輸入錯誤\")\n",
    "else:\n",
    "    if age >= 20:\n",
    "        print(\"您是成年\")\n",
    "        print(age)\n",
    "    else:\n",
    "        print(\"您是未成年\")\n",
    "        print(age)\n",
    "print(\"應用程式結束\")"
   ]
  },
  {
   "cell_type": "code",
   "execution_count": 8,
   "metadata": {},
   "outputs": [
    {
     "name": "stdout",
     "output_type": "stream",
     "text": [
      "請輸入age:'20a' is not a number.\n",
      "請輸入age:20\n"
     ]
    }
   ],
   "source": [
    "#pip install PyInputPlus\n",
    "#pip list 查看電腦安裝了那些模組\n",
    "import pyinputplus as pyip\n",
    "age = pyip.inputNum(\"請輸入age:\")\n",
    "print(age)"
   ]
  }
 ],
 "metadata": {
  "kernelspec": {
   "display_name": "Python 3",
   "language": "python",
   "name": "python3"
  },
  "language_info": {
   "codemirror_mode": {
    "name": "ipython",
    "version": 3
   },
   "file_extension": ".py",
   "mimetype": "text/x-python",
   "name": "python",
   "nbconvert_exporter": "python",
   "pygments_lexer": "ipython3",
   "version": "3.10.13"
  }
 },
 "nbformat": 4,
 "nbformat_minor": 2
}
