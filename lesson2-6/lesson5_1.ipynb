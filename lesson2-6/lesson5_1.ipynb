{
 "cells": [
  {
   "cell_type": "code",
   "execution_count": 11,
   "metadata": {},
   "outputs": [
    {
     "name": "stdout",
     "output_type": "stream",
     "text": [
      "5050\n"
     ]
    }
   ],
   "source": [
    "#nn = 0\n",
    "#for n in range(1,101):\n",
    "    #nn = nn + n\n",
    "#print(nn)\n",
    "\n",
    "n = 0\n",
    "for i in range(1,101):\n",
    "    n += i\n",
    "print(n)"
   ]
  },
  {
   "cell_type": "code",
   "execution_count": null,
   "metadata": {},
   "outputs": [],
   "source": [
    "#外部迴圈\n",
    "for i in range(1,10):\n",
    "    print(f'i={i}')\n",
    "    print('j=',end='')\n",
    "    #內部迴圈\n",
    "    for j in range(1,10):\n",
    "        print(f'{j}',end=' ')\n",
    "    print('\\n========')"
   ]
  },
  {
   "cell_type": "code",
   "execution_count": 22,
   "metadata": {},
   "outputs": [
    {
     "name": "stdout",
     "output_type": "stream",
     "text": [
      "1-2-3?\n",
      "a?b?c?\n"
     ]
    }
   ],
   "source": [
    "#沒有限定數量的引數\n",
    "#預設值的參數(sep=' '預設中間自動空白)\n",
    "#end='?\\n' 問號換行 , end='' 不換行\n",
    "print('1','2','3',sep='-',end='?\\n')\n",
    "print('a','b','c',sep='?',end='?\\n')"
   ]
  },
  {
   "cell_type": "code",
   "execution_count": null,
   "metadata": {},
   "outputs": [],
   "source": [
    "for i in range(1,10):\n",
    "    for j in range(1,10):\n",
    "        print(f'{i}*{j}={i * j}',end='')\n",
    "    print()"
   ]
  }
 ],
 "metadata": {
  "kernelspec": {
   "display_name": "Python 3",
   "language": "python",
   "name": "python3"
  },
  "language_info": {
   "codemirror_mode": {
    "name": "ipython",
    "version": 3
   },
   "file_extension": ".py",
   "mimetype": "text/x-python",
   "name": "python",
   "nbconvert_exporter": "python",
   "pygments_lexer": "ipython3",
   "version": "3.10.13"
  }
 },
 "nbformat": 4,
 "nbformat_minor": 2
}
