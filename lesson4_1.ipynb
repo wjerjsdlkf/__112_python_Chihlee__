{
 "cells": [
  {
   "cell_type": "code",
   "execution_count": 11,
   "metadata": {},
   "outputs": [
    {
     "name": "stdout",
     "output_type": "stream",
     "text": [
      "請輸入學生分數(最高幾分):\n",
      "學生分數為 299\n",
      "學生AABBCC分數為299\n"
     ]
    }
   ],
   "source": [
    "import pyinputplus as pyip\n",
    "\n",
    "scores = pyip.inputInt(\"請輸入學生分數(最高幾分):\")\n",
    "name = \"AABBCC\"\n",
    "#字串插補可以成為全新的字串\n",
    "print(\"\\n學生分數為\", scores) #中間,號會有空格\n",
    "if scores <= 300:\n",
    "    print(f\"學生{name}分數為{scores}\") #字串插補可以補進很多變數\n",
    "else:\n",
    "    print(f\"不可以超過300\")\n",
    "\n",
    "\n",
    "\n"
   ]
  },
  {
   "cell_type": "code",
   "execution_count": 14,
   "metadata": {},
   "outputs": [
    {
     "name": "stdout",
     "output_type": "stream",
     "text": [
      "請輸入學生分數(最高幾分):Number must be at maximum 300.\n",
      "請輸入學生分數(最高幾分):學生AABBCC分數為10\n"
     ]
    }
   ],
   "source": [
    "import pyinputplus as pyip\n",
    "\n",
    "scores = pyip.inputInt(\"請輸入學生分數(最高幾分):\",min=0,max=300)\n",
    "name = \"AABBCC\"\n",
    "#字串插補可以成為全新的字串\n",
    "print(f\"學生{name}分數為{scores}\") #字串插補可以補進很多變數\n"
   ]
  },
  {
   "cell_type": "code",
   "execution_count": 45,
   "metadata": {},
   "outputs": [
    {
     "name": "stdout",
     "output_type": "stream",
     "text": [
      "請輸入學生分數(最高幾分):Number must be at minimum 0.\n",
      "請輸入學生分數(最高幾分):5\n",
      "學生是否符合加分條件?(y,n)\n",
      "1. y\n",
      "2. n\n",
      "學生分數為5.25\n"
     ]
    }
   ],
   "source": [
    "import pyinputplus as pyip\n",
    "\n",
    "scores = pyip.inputInt(\"請輸入學生分數(最高幾分):\",min=0,max=300)\n",
    "print(scores)\n",
    "#isYes = pyip.inputBool(\"學生是否符合加分條件?(y,n)\",trueVal=True,falseVal=False)\n",
    "\n",
    "isYes = pyip.inputMenu(['y','n'],prompt=\"學生是否符合加分條件?(y,n)\\n\",numbered=True)\n",
    "\n",
    "#巢狀判斷\n",
    "if isYes == 'y':\n",
    "    scores *= 1.05\n",
    "    if scores > 300:\n",
    "        scores = 300\n",
    "\n",
    "\n",
    "print(f\"學生分數為{scores}\")\n"
   ]
  },
  {
   "cell_type": "code",
   "execution_count": 52,
   "metadata": {},
   "outputs": [
    {
     "name": "stdout",
     "output_type": "stream",
     "text": [
      "請輸入x值:10\n",
      "請輸入y值:4\n",
      "1.7782794100389228\n",
      "不是負數\n",
      "1.7782794100389228\n"
     ]
    }
   ],
   "source": [
    "import pyinputplus as pyip\n",
    "\n",
    "x = pyip.inputInt(\"請輸入x值:\")\n",
    "print(x)\n",
    "y = pyip.inputInt(\"請輸入y值:\")\n",
    "print(y)\n",
    "#x = 2\n",
    "#y = 2\n",
    "\n",
    "if x >= 0:\n",
    "    xx = x ** (1 / y)\n",
    "    print(xx)\n",
    "elif x % 2 == 0:\n",
    "    print(\"虛數\")\n",
    "else:\n",
    "    xx = -(-x) ** (1 / y)\n",
    "    print(xx)\n",
    "\n",
    "if x >= 0:\n",
    "    print(\"不是負數\")\n",
    "    root = x ** (1 / y)\n",
    "else:\n",
    "    if x % 2 == 0:\n",
    "        root = \"虛數\"\n",
    "    else:\n",
    "        root = -(-x) ** (1 / y)\n",
    "print(root)\n"
   ]
  },
  {
   "cell_type": "code",
   "execution_count": 54,
   "metadata": {},
   "outputs": [
    {
     "name": "stdout",
     "output_type": "stream",
     "text": [
      "丙\n"
     ]
    }
   ],
   "source": [
    "#多項選擇\n",
    "scores = 60\n",
    "\n",
    "if scores >= 90:\n",
    "    print('優')\n",
    "elif scores >= 80:\n",
    "    print('甲')\n",
    "elif scores >= 70:\n",
    "    print('乙')\n",
    "elif scores >= 60:\n",
    "    print('丙')\n",
    "else:\n",
    "    print('丁')"
   ]
  },
  {
   "cell_type": "code",
   "execution_count": 60,
   "metadata": {},
   "outputs": [
    {
     "name": "stdout",
     "output_type": "stream",
     "text": [
      "輸入顧客購物金額，若金額在\n",
      "請輸入購買金額：5000\n",
      "實付金額是：5000\n"
     ]
    }
   ],
   "source": [
    "import pyinputplus as pyip\n",
    "print(\"輸入顧客購物金額，若金額在\")\n",
    "x = pyip.inputInt(\"請輸入購買金額：\")\n",
    "print(x)\n",
    "if x >= 100000:\n",
    "    print(\"打八折\")\n",
    "    x *= 0.8\n",
    "    print(f\"實付金額是：{x}\")\n",
    "elif x >= 50000:\n",
    "    print(\"打八五折\")\n",
    "    x *= 0.85\n",
    "    print(f\"實付金額是：{x}\")\n",
    "elif x >= 30000:\n",
    "    print(\"打九折\")\n",
    "    x *= 0.9\n",
    "    print(f\"實付金額是：{x}\")\n",
    "elif x >= 10000:\n",
    "    print(\"打九五折\")\n",
    "    x *= 0.95\n",
    "    print(f\"實付金額是：{x}\")\n",
    "else: \n",
    "    print(f\"實付金額是：{x}\")\n"
   ]
  }
 ],
 "metadata": {
  "kernelspec": {
   "display_name": "Python 3",
   "language": "python",
   "name": "python3"
  },
  "language_info": {
   "codemirror_mode": {
    "name": "ipython",
    "version": 3
   },
   "file_extension": ".py",
   "mimetype": "text/x-python",
   "name": "python",
   "nbconvert_exporter": "python",
   "pygments_lexer": "ipython3",
   "version": "3.10.13"
  }
 },
 "nbformat": 4,
 "nbformat_minor": 2
}
