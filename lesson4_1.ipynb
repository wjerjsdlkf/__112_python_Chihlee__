{
 "cells": [
  {
   "cell_type": "code",
   "execution_count": 11,
   "metadata": {},
   "outputs": [
    {
     "name": "stdout",
     "output_type": "stream",
     "text": [
      "請輸入學生分數(最高幾分):\n",
      "學生分數為 299\n",
      "學生AABBCC分數為299\n"
     ]
    }
   ],
   "source": [
    "import pyinputplus as pyip\n",
    "\n",
    "scores = pyip.inputInt(\"請輸入學生分數(最高幾分):\")\n",
    "name = \"AABBCC\"\n",
    "#字串插補可以成為全新的字串\n",
    "print(\"\\n學生分數為\", scores) #中間,號會有空格\n",
    "if scores <= 300:\n",
    "    print(f\"學生{name}分數為{scores}\") #字串插補可以補進很多變數\n",
    "else:\n",
    "    print(f\"不可以超過300\")\n",
    "\n",
    "\n",
    "\n"
   ]
  },
  {
   "cell_type": "code",
   "execution_count": 14,
   "metadata": {},
   "outputs": [
    {
     "name": "stdout",
     "output_type": "stream",
     "text": [
      "請輸入學生分數(最高幾分):Number must be at maximum 300.\n",
      "請輸入學生分數(最高幾分):學生AABBCC分數為10\n"
     ]
    }
   ],
   "source": [
    "import pyinputplus as pyip\n",
    "\n",
    "scores = pyip.inputInt(\"請輸入學生分數(最高幾分):\",min=0,max=300)\n",
    "name = \"AABBCC\"\n",
    "#字串插補可以成為全新的字串\n",
    "print(f\"學生{name}分數為{scores}\") #字串插補可以補進很多變數\n"
   ]
  },
  {
   "cell_type": "code",
   "execution_count": 21,
   "metadata": {},
   "outputs": [
    {
     "name": "stdout",
     "output_type": "stream",
     "text": [
      "請輸入學生分數(最高幾分):270\n",
      "學生是否符合加分條件?(y,n)\n",
      "1. y\n",
      "2. n\n",
      "學生分數為283.5\n"
     ]
    }
   ],
   "source": [
    "import pyinputplus as pyip\n",
    "\n",
    "scores = pyip.inputInt(\"請輸入學生分數(最高幾分):\",min=0,max=300)\n",
    "print(scores)\n",
    "#isYes = pyip.inputBool(\"學生是否符合加分條件?(y,n)\",trueVal=True,falseVal=False)\n",
    "isYes = pyip.inputMenu(['y','n'],prompt=\"學生是否符合加分條件?(y,n)\\n\",numbered=True)\n",
    "\n",
    "\n",
    "if isYes == 'y':\n",
    "    scores *= 1.05\n",
    "    if scores > 300:\n",
    "        scores = 300\n",
    "\n",
    "\n",
    "print(f\"學生分數為{scores}\")\n"
   ]
  }
 ],
 "metadata": {
  "kernelspec": {
   "display_name": "Python 3",
   "language": "python",
   "name": "python3"
  },
  "language_info": {
   "codemirror_mode": {
    "name": "ipython",
    "version": 3
   },
   "file_extension": ".py",
   "mimetype": "text/x-python",
   "name": "python",
   "nbconvert_exporter": "python",
   "pygments_lexer": "ipython3",
   "version": "3.10.13"
  }
 },
 "nbformat": 4,
 "nbformat_minor": 2
}
