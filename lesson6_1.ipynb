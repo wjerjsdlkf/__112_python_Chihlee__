{
 "cells": [
  {
   "cell_type": "code",
   "execution_count": null,
   "metadata": {},
   "outputs": [],
   "source": [
    "import random\n",
    "n = 1\n",
    "while n <= 100:\n",
    "    print(n)\n",
    "    n += random.randint(1,10) \n",
    "    "
   ]
  },
  {
   "cell_type": "code",
   "execution_count": 2,
   "metadata": {},
   "outputs": [
    {
     "name": "stdout",
     "output_type": "stream",
     "text": [
      "請輸入整數,輸入(q)離開:\n",
      "請輸入整數,輸入(q)離開:\n",
      "請輸入整數,輸入(q)離開:\n",
      "25\n",
      "應用程式結束\n"
     ]
    }
   ],
   "source": [
    "#break直接跳出 / continue中途重新判斷是否為TRUE\n",
    "while True:\n",
    "    value = input(\"請輸入整數,輸入(q)離開:\")\n",
    "    if value == \"q\":\n",
    "        break\n",
    "    else:\n",
    "        try:\n",
    "            value = int(value)\n",
    "            if value % 2 == 1:\n",
    "                print(value ** 2)\n",
    "            else:\n",
    "                print(value)\n",
    "        except:\n",
    "            print(\"請輸入整數,輸入(q)離開:\")\n",
    "print(\"應用程式結束\")"
   ]
  },
  {
   "cell_type": "code",
   "execution_count": 11,
   "metadata": {},
   "outputs": [
    {
     "name": "stdout",
     "output_type": "stream",
     "text": [
      "應用程式結束\n",
      "總共執行0\n",
      "0\n"
     ]
    }
   ],
   "source": [
    "total = 0\n",
    "num = 0\n",
    "while(True):\n",
    "    value = int(input(f\"請輸入第{num}數值:\"))\n",
    "    if value < 0:\n",
    "        break\n",
    "    elif value % 2 == 1:\n",
    "        num += 1\n",
    "        continue\n",
    "    else:\n",
    "        num += 1\n",
    "        total += value\n",
    "print(\"應用程式結束\")\n",
    "print(f'總共執行{num}')\n",
    "print(total)"
   ]
  },
  {
   "cell_type": "code",
   "execution_count": null,
   "metadata": {},
   "outputs": [],
   "source": []
  }
 ],
 "metadata": {
  "kernelspec": {
   "display_name": "Python 3",
   "language": "python",
   "name": "python3"
  },
  "language_info": {
   "codemirror_mode": {
    "name": "ipython",
    "version": 3
   },
   "file_extension": ".py",
   "mimetype": "text/x-python",
   "name": "python",
   "nbconvert_exporter": "python",
   "pygments_lexer": "ipython3",
   "version": "3.10.13"
  }
 },
 "nbformat": 4,
 "nbformat_minor": 2
}
